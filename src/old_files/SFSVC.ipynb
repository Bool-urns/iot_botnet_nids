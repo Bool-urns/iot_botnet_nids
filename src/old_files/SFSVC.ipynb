{
  "nbformat": 4,
  "nbformat_minor": 0,
  "metadata": {
    "colab": {
      "name": "SFSVC.ipynb",
      "version": "0.3.2",
      "provenance": []
    },
    "kernelspec": {
      "name": "python3",
      "display_name": "Python 3"
    }
  },
  "cells": [
    {
      "cell_type": "code",
      "metadata": {
        "id": "yZwbZx9fjoLq",
        "colab_type": "code",
        "colab": {}
      },
      "source": [
        "import numpy as np \n",
        "import time \n",
        "import scipy.io as sio"
      ],
      "execution_count": 0,
      "outputs": []
    },
    {
      "cell_type": "markdown",
      "metadata": {
        "id": "-fGiO4d5akht",
        "colab_type": "text"
      },
      "source": [
        "Model for algorithm created in: Radu Dogaru, Ioana Dogaru, \"Optimized Super Fast Support Vector Classifiers Using Python and Acceleration of RBF Computations\", (2018) ; https://ieeexplore.ieee.org/document/8484742\n",
        "\n",
        "Code taken from: https://github.com/radu-dogaru/Super_Fast_Vector_Classifier\n",
        "\n",
        "and used to test dataset"
      ]
    },
    {
      "cell_type": "markdown",
      "metadata": {
        "id": "mJChjjMApE8Z",
        "colab_type": "text"
      },
      "source": [
        "# Loading Data"
      ]
    },
    {
      "cell_type": "code",
      "metadata": {
        "id": "srNa5Dj_oBOZ",
        "colab_type": "code",
        "outputId": "4489bf77-cad9-4116-c6de-ecfcb4ee02d8",
        "colab": {
          "base_uri": "https://localhost:8080/",
          "height": 124
        }
      },
      "source": [
        "from google.colab import drive\n",
        "drive.mount('/content/drive/')\n",
        "\n",
        "import os\n",
        "os.chdir(\"/content/drive/My Drive/Colab Notebooks/sfsvc\")"
      ],
      "execution_count": 2,
      "outputs": [
        {
          "output_type": "stream",
          "text": [
            "Go to this URL in a browser: https://accounts.google.com/o/oauth2/auth?client_id=947318989803-6bn6qk8qdgf4n4g3pfee6491hc0brc4i.apps.googleusercontent.com&redirect_uri=urn%3Aietf%3Awg%3Aoauth%3A2.0%3Aoob&scope=email%20https%3A%2F%2Fwww.googleapis.com%2Fauth%2Fdocs.test%20https%3A%2F%2Fwww.googleapis.com%2Fauth%2Fdrive%20https%3A%2F%2Fwww.googleapis.com%2Fauth%2Fdrive.photos.readonly%20https%3A%2F%2Fwww.googleapis.com%2Fauth%2Fpeopleapi.readonly&response_type=code\n",
            "\n",
            "Enter your authorization code:\n",
            "··········\n",
            "Mounted at /content/drive/\n"
          ],
          "name": "stdout"
        }
      ]
    },
    {
      "cell_type": "code",
      "metadata": {
        "id": "RdmAojTarYU0",
        "colab_type": "code",
        "outputId": "cedfe856-34fa-45e9-9e65-fa324834848f",
        "colab": {
          "base_uri": "https://localhost:8080/",
          "height": 69
        }
      },
      "source": [
        "ls"
      ],
      "execution_count": 3,
      "outputs": [
        {
          "output_type": "stream",
          "text": [
            "banet11c_test.mat   botnet2_8_test.mat   botnet2_train.mat  last_model.mat\n",
            "banet11c_train.mat  botnet2_8_train.mat  botnet_test.mat    usps_test.mat\n",
            "banet3c_train.mat   botnet2_test.mat     botnet_train.mat   usps_train.mat\n"
          ],
          "name": "stdout"
        }
      ]
    },
    {
      "cell_type": "code",
      "metadata": {
        "id": "0RBLtdHjoFGT",
        "colab_type": "code",
        "colab": {}
      },
      "source": [
        "train = sio.loadmat('usps_train.mat')\n",
        "test = sio.loadmat('usps_test.mat')"
      ],
      "execution_count": 0,
      "outputs": []
    },
    {
      "cell_type": "code",
      "metadata": {
        "id": "kCbP_xb50DzD",
        "colab_type": "code",
        "outputId": "ec09297c-640b-4780-e779-2c044b6a29f8",
        "colab": {
          "base_uri": "https://localhost:8080/",
          "height": 34
        }
      },
      "source": [
        "#sio.whosmat('usps_train.mat')\n",
        "sio.whosmat('botnet_train.mat')"
      ],
      "execution_count": 0,
      "outputs": [
        {
          "output_type": "execute_result",
          "data": {
            "text/plain": [
              "[('Samples', (116, 49438), 'double'), ('Labels', (1, 49438), 'double')]"
            ]
          },
          "metadata": {
            "tags": []
          },
          "execution_count": 33
        }
      ]
    },
    {
      "cell_type": "code",
      "metadata": {
        "id": "MnrnYcupojGj",
        "colab_type": "code",
        "outputId": "6b3404e9-df81-471d-df9a-e644d0234d72",
        "colab": {
          "base_uri": "https://localhost:8080/",
          "height": 34
        }
      },
      "source": [
        "sio.whosmat('banet11c_train.mat')"
      ],
      "execution_count": 0,
      "outputs": [
        {
          "output_type": "execute_result",
          "data": {
            "text/plain": [
              "[('Samples', (116, 49438), 'double'), ('Labels', (1, 49438), 'double')]"
            ]
          },
          "metadata": {
            "tags": []
          },
          "execution_count": 85
        }
      ]
    },
    {
      "cell_type": "markdown",
      "metadata": {
        "id": "iUEF1iJRluqh",
        "colab_type": "text"
      },
      "source": [
        "# Algorithm Parameters"
      ]
    },
    {
      "cell_type": "code",
      "metadata": {
        "id": "jydQ8hFtlot-",
        "colab_type": "code",
        "colab": {}
      },
      "source": [
        "#nume='optd64'  #  Dataset files _train.mat _test.mat \n",
        "#nume='usps'\n",
        "#nume='botnet'\n",
        "#nume='botnet2'\n",
        "#nume='banet3c'\n",
        "#nume='banet11c'\n",
        "nume = 'botnet2_8'\n",
        "\n",
        "# several such pairs are provided here  \n",
        "# http://atm.neuro.pub.ro/radu_d/html/09_10/ici2009/k-lab/date-ici.html\n",
        "\n",
        "\n",
        "raza=25.4; raza=float(raza) # Radius (start with bigger values and decreas until optimal performance)\n",
        "\n",
        "prag=1; prag=float(prag)  # Activation (overlap) threshold - start with 1  \n",
        "typ=1  # RBF function: 2 - Gaussian , # 1- triangular (best suited for HW)\n",
        "alea=0 # if 1 - input samples are radnomized -> will slightly influence performance (like in ELM)\n",
        "first_samples = 0 # 0  all samples are considered  ; n>0  - first n samples are considered (useful for faster radius tuning)"
      ],
      "execution_count": 0,
      "outputs": []
    },
    {
      "cell_type": "markdown",
      "metadata": {
        "id": "9HecOFyvl4rI",
        "colab_type": "text"
      },
      "source": [
        "# Algorithm Functions"
      ]
    },
    {
      "cell_type": "code",
      "metadata": {
        "id": "rHUOry_zlzOB",
        "colab_type": "code",
        "colab": {}
      },
      "source": [
        "# Optimized (Intel MKL based) computation of RBF layers \n",
        "# Best speed obtained for float32 variables \n",
        "def rbf_layer_mkl(Samples,inW,raza,typ):\n",
        "    N=np.size(Samples,0)\n",
        "    n=np.size(Samples,1)\n",
        "    m=np.size(inW,1)\n",
        "    Ocol = np.ones((n,1), dtype = np.float32)\n",
        "    Qlin = Ocol.T\n",
        "    # (a-b)^2 equival with a^2+b^2-2a*b (main computation a*b)\n",
        "    d=np.repeat(np.dot(Samples*Samples,Ocol),m,axis=1)+np.repeat(np.dot(Qlin,inW*inW),N,axis=0)-2*np.dot(Samples,inW)\n",
        "    if typ==1:\n",
        "        d=1-d/(raza*2.5066)\n",
        "        Hrbf=(d+np.abs(d))/2.0\n",
        "    elif typ==2:\n",
        "        kgauss=-1/(2*raza*raza)\n",
        "        Hrbf=np.exp(kgauss*d*d) #  \n",
        "        \n",
        "    return Hrbf"
      ],
      "execution_count": 0,
      "outputs": []
    },
    {
      "cell_type": "code",
      "metadata": {
        "id": "3BMMwnMKl7j_",
        "colab_type": "code",
        "colab": {}
      },
      "source": [
        "def novelty_layer_compute(Sa,r,pra,ty):\n",
        "# With given parameters (radius (r), threshold (pra) and RBF type (ty))\n",
        "# Computes the \"tix\" (indexes) of the \"support vectors\" selected from \n",
        "# the Samples batch (Sa) \n",
        "# Returns the selected support vectors \n",
        "    \n",
        "    N=np.size(Sa,0)\n",
        "    tix=np.array([]).astype(np.int32)\n",
        "    # First support vector is associated with first index \n",
        "    tix=np.append(tix,0)\n",
        "    # Support vector selection loop \n",
        "    for i in range(1,N):\n",
        "        # Compute the RBF layer activity for the actual inW\n",
        "        # when the current sample (only one) is applied \n",
        "        # - using rbf_layer_mkl \n",
        "        Hid=rbf_layer_mkl(Sa[i:(i+1),:],Sa[tix,:].T, r, ty)\n",
        "        Activity=np.sum(Hid)\n",
        "        if Activity<pra:\n",
        "            # A new Support vector is added as the current sample\n",
        "            tix=np.append(tix,i)\n",
        "    return Sa[tix,:].T"
      ],
      "execution_count": 0,
      "outputs": []
    },
    {
      "cell_type": "code",
      "metadata": {
        "id": "JD5bFpmbl-yy",
        "colab_type": "code",
        "colab": {}
      },
      "source": [
        "def sfsvc_train(Sa,La,ra,pra,ty,alea):\n",
        "# Implements the \"supervized\" (class based) training a.k.a SFSVC \n",
        "# For each class a selection of support vectors is found using novelty_layer \n",
        "# and the number of neurons for each class is computed \n",
        "# Returns the input layer matrix (inW) and the list of neurons for each class \n",
        "    \n",
        "    M=np.max(Labels)\n",
        "    N=np.size(Samples,0)  \n",
        "    \n",
        "    if alea==1:\n",
        "        ixpe=np.random.permutation(N)\n",
        "        Sa=Sa[ixpe,:]\n",
        "        La=La[:,ixpe]        \n",
        "        \n",
        "    k=0 # first class - find the support vectors \n",
        "    ixk=np.where(La==(k+1))\n",
        "    Sk=Sa[ixk[1],:] \n",
        "    inW=novelty_layer_compute(Sk,ra,pra,ty)\n",
        "    nk=np.size(inW,1)  # number of neurons in class k \n",
        "    neuroni=np.array([]).astype(np.int32)   \n",
        "    neuroni=np.append(neuroni,nk)\n",
        "    for k in range(1,M):      # next 2-M classes - find support vectors\n",
        "        ixk=np.where(La==(k+1)) # select class k indices\n",
        "        Sk=Sa[ixk[1],:]  # Sk is Samples of class k \n",
        "        rbfk=novelty_layer_compute(Sk,ra,pra,ty) \n",
        "        nk=np.size(rbfk,1)  # number of neurons in class k \n",
        "        neuroni=np.append(neuroni,nk)\n",
        "        inW=np.append(inW,rbfk,axis=1)\n",
        "    return (inW, neuroni)"
      ],
      "execution_count": 0,
      "outputs": []
    },
    {
      "cell_type": "code",
      "metadata": {
        "id": "BvZDsFqemCjt",
        "colab_type": "code",
        "colab": {}
      },
      "source": [
        "def create_outw(inW,neur):\n",
        "# Creates the output layer (outW) composed of bunary weights 0 or 1 \n",
        "# Returns outW \n",
        "    \n",
        "    M=np.size(neur)\n",
        "    m=np.size(inW,1)\n",
        "    outW=np.zeros((m,M)).astype('float32')\n",
        "    l1=0; l2=0; nk=0\n",
        "    for k in range(M):\n",
        "        l1=l1+nk; \n",
        "        nk=neur[k]; \n",
        "        l2=l2+nk; \n",
        "        outW[range(l1,l2),k]=1    \n",
        "    return outW"
      ],
      "execution_count": 0,
      "outputs": []
    },
    {
      "cell_type": "markdown",
      "metadata": {
        "id": "y8eFsXu5mF1O",
        "colab_type": "text"
      },
      "source": [
        "# Main"
      ]
    },
    {
      "cell_type": "code",
      "metadata": {
        "id": "HWqaWXwlmHaB",
        "colab_type": "code",
        "outputId": "00212eae-6bc3-44c3-f1ae-9b0757963676",
        "colab": {
          "base_uri": "https://localhost:8080/",
          "height": 34
        }
      },
      "source": [
        "# Resulting model is given by:  tip , radius, inW, outW \n",
        "#--------------------------------------------------------\n",
        "#  reads the training set \n",
        "timer = time.time()\n",
        "db=sio.loadmat(nume+'_train.mat')\n",
        "Samples=db['Samples'].astype('float32')\n",
        "Samples=Samples.T\n",
        "\n",
        "Labels=db['Labels'].astype('int8')\n",
        "N=np.size(Samples,0)\n",
        "n=np.size(Samples,1)\n",
        "M=np.max(Labels)\n",
        "runtime = time.time() - timer\n",
        "print( \" load train data time: %f s\" % runtime)\n",
        "\n",
        "if first_samples>0:\n",
        "    if first_samples>N: \n",
        "        first_samples=N\n",
        "    N=first_samples\n",
        "    Samples=Samples[0:N,:]\n",
        "Labels=Labels[:,0:N]"
      ],
      "execution_count": 9,
      "outputs": [
        {
          "output_type": "stream",
          "text": [
            " load train data time: 0.524085 s\n"
          ],
          "name": "stdout"
        }
      ]
    },
    {
      "cell_type": "markdown",
      "metadata": {
        "id": "O7flZ521mQr_",
        "colab_type": "text"
      },
      "source": [
        "# Training and Testing"
      ]
    },
    {
      "cell_type": "code",
      "metadata": {
        "id": "RX8FSRgjmKxV",
        "colab_type": "code",
        "outputId": "8edeb478-dd4e-45af-fde8-2d3295121dc4",
        "colab": {
          "base_uri": "https://localhost:8080/",
          "height": 347
        }
      },
      "source": [
        "# ================ TRAIN SFSV =======================\n",
        "# Implements the Super Fast Support Vector Classifiers train \n",
        "# In fact a selection of support vectors form training set \n",
        "\n",
        "timer = time.time()\n",
        "(inW,neur)=sfsvc_train(Samples,Labels,raza,prag,typ,alea)\n",
        "Wad=create_outw(inW,neur)\n",
        "runtime = time.time() - timer\n",
        "print( \" TRAINING time: %f s\" % runtime)\n",
        "\n",
        "#=========LOAD Test Set ================================\n",
        "\n",
        "timer = time.time()\n",
        "db=sio.loadmat(nume+'_test.mat')\n",
        "Samples=db['Samples'].astype('float32')\n",
        "Samples=Samples.T\n",
        "Labels=db['Labels'].astype('int8')\n",
        "N=np.size(Samples,0)\n",
        "n=np.size(Samples,1)\n",
        "M=np.max(Labels)\n",
        "\n",
        "runtime = time.time() - timer\n",
        "print( \" load test data time: %f s\" % runtime)\n",
        "\n",
        "#===================TEST phase (retrieval) ==========================\n",
        "timer = time.time()\n",
        "Hrbfk=rbf_layer_mkl(Samples,inW,1*raza,typ)\n",
        "# Here one can try altered RBF layers (e.g. with typ=1)\n",
        "# to improve implementations \n",
        "# Also radius may change from what was used in training phase \n",
        "# 1.2 coefficnet may help .. \n",
        "\n",
        "Scores=np.dot(Hrbfk,Wad)\n",
        "runtime = time.time() - timer\n",
        "print( \" PREDICTION (test data) time: %f s\" % runtime)\n",
        "\n",
        "#================= Evaluate Accuracy for the Test set  =============================\n",
        "\n",
        "Conf=np.zeros((M,M),dtype='int16')\n",
        "for i in range(N):\n",
        "    # gasire pozitie clasa prezisa \n",
        "    ix=np.where(Scores[i,:]==np.max(Scores[i,:]))\n",
        "    ixx=np.array(ix)\n",
        "    pred=int(ixx[0,0])\n",
        "    actual=Labels[0,i]-1\n",
        "    Conf[actual,pred]+=1\n",
        "accuracy=100.0*np.sum(np.diag(Conf))/np.sum(np.sum(Conf))\n",
        "print(\"Confusion matrix: \")\n",
        "print(Conf)\n",
        "print(\"Accuracy: %f\" %accuracy)\n",
        "print( \"Neurons for each class layer: \", neur)\n",
        "nr_neuroni=np.sum(neur)\n",
        "print( \"Total number of hidden layer: %d\" %nr_neuroni)\n",
        "print( \"RBF type:  (1=Triangular; 2=Gaussian): %d\" %typ)\n",
        "print( \"radius: %f\" %raza)\n",
        "print( \"overlapping factor: %f\" %prag)\n",
        "print( \"alea: %d\" %alea)\n",
        "# ========================================  SAVE THE MODEL ========================\n",
        "# Salvare LAST_MODEL \n",
        "last_model={'inW':inW, 'Wad':Wad, 'tip':typ, 'raza':raza, 'accuracy':accuracy, 'nume':nume}\n",
        "sio.savemat('last_model.mat',last_model)"
      ],
      "execution_count": 10,
      "outputs": [
        {
          "output_type": "stream",
          "text": [
            " TRAINING time: 1.593929 s\n",
            " load test data time: 0.257109 s\n",
            " PREDICTION (test data) time: 0.529371 s\n",
            "Confusion matrix: \n",
            "[[ 382   30    0    0    0    0    0    0]\n",
            " [  82   22    0    0    0    0    0    0]\n",
            " [   3    0 5755    0    0   41    0    0]\n",
            " [   0    0    0 5732    0    0    0    0]\n",
            " [   3    0    0    0    4    0    0    1]\n",
            " [   2    0  370    0    0 3345    0    0]\n",
            " [   0    0    0    0    0    0 6227    0]\n",
            " [  10    0    0    0    0    0    0    2]]\n",
            "Accuracy: 97.537595\n",
            "Neurons for each class layer:  [437 200 145  26  12  93  54  19   7   1]\n",
            "Total number of hidden layer: 994\n",
            "RBF type:  (1=Triangular; 2=Gaussian): 1\n",
            "radius: 25.400000\n",
            "overlapping factor: 1.000000\n",
            "alea: 0\n"
          ],
          "name": "stdout"
        }
      ]
    }
  ]
}