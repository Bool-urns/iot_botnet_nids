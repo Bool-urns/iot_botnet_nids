{
  "nbformat": 4,
  "nbformat_minor": 0,
  "metadata": {
    "colab": {
      "name": "testing_other_models.ipynb",
      "version": "0.3.2",
      "provenance": []
    },
    "kernelspec": {
      "name": "python3",
      "display_name": "Python 3"
    }
  },
  "cells": [
    {
      "cell_type": "code",
      "metadata": {
        "id": "sdDh2WLMinnj",
        "colab_type": "code",
        "outputId": "cf674dba-20e0-445a-aaca-61ad591ba1ae",
        "colab": {
          "base_uri": "https://localhost:8080/",
          "height": 311
        }
      },
      "source": [
        "# data analysis packages\n",
        "import pandas as pd\n",
        "import numpy as np\n",
        "\n",
        "# loading bar\n",
        "!pip install --force https://github.com/chengs/tqdm/archive/colab.zip\n",
        "from tqdm import tqdm_notebook as tqdm"
      ],
      "execution_count": 0,
      "outputs": [
        {
          "output_type": "stream",
          "text": [
            "Collecting https://github.com/chengs/tqdm/archive/colab.zip\n",
            "\u001b[?25l  Downloading https://github.com/chengs/tqdm/archive/colab.zip\n",
            "\u001b[K     - 583kB 5.2MB/s\n",
            "\u001b[?25hBuilding wheels for collected packages: tqdm\n",
            "  Building wheel for tqdm (setup.py) ... \u001b[?25l\u001b[?25hdone\n",
            "  Stored in directory: /tmp/pip-ephem-wheel-cache-dwyggm8l/wheels/41/18/ee/d5dd158441b27965855b1bbae03fa2d8a91fe645c01b419896\n",
            "Successfully built tqdm\n",
            "Installing collected packages: tqdm\n",
            "  Found existing installation: tqdm 4.28.1\n",
            "    Uninstalling tqdm-4.28.1:\n",
            "      Successfully uninstalled tqdm-4.28.1\n",
            "Successfully installed tqdm-4.28.1\n"
          ],
          "name": "stdout"
        },
        {
          "output_type": "display_data",
          "data": {
            "application/vnd.colab-display-data+json": {
              "pip_warning": {
                "packages": [
                  "tqdm"
                ]
              }
            }
          },
          "metadata": {
            "tags": []
          }
        }
      ]
    },
    {
      "cell_type": "code",
      "metadata": {
        "id": "F3nN5Xspiudf",
        "colab_type": "code",
        "outputId": "89ee5a14-80b7-448b-cab5-e11bfa589338",
        "colab": {
          "base_uri": "https://localhost:8080/",
          "height": 124
        }
      },
      "source": [
        "from google.colab import drive\n",
        "drive.mount('/content/drive/')\n",
        "\n",
        "import os\n",
        "os.chdir(\"/content/drive/My Drive/Dataset\")"
      ],
      "execution_count": 0,
      "outputs": [
        {
          "output_type": "stream",
          "text": [
            "Go to this URL in a browser: https://accounts.google.com/o/oauth2/auth?client_id=947318989803-6bn6qk8qdgf4n4g3pfee6491hc0brc4i.apps.googleusercontent.com&redirect_uri=urn%3Aietf%3Awg%3Aoauth%3A2.0%3Aoob&scope=email%20https%3A%2F%2Fwww.googleapis.com%2Fauth%2Fdocs.test%20https%3A%2F%2Fwww.googleapis.com%2Fauth%2Fdrive%20https%3A%2F%2Fwww.googleapis.com%2Fauth%2Fdrive.photos.readonly%20https%3A%2F%2Fwww.googleapis.com%2Fauth%2Fpeopleapi.readonly&response_type=code\n",
            "\n",
            "Enter your authorization code:\n",
            "··········\n",
            "Mounted at /content/drive/\n"
          ],
          "name": "stdout"
        }
      ]
    },
    {
      "cell_type": "markdown",
      "metadata": {
        "id": "D-Q2HCedjOJT",
        "colab_type": "text"
      },
      "source": [
        "# Loading Datasets"
      ]
    },
    {
      "cell_type": "code",
      "metadata": {
        "id": "BRfYZv44jPrM",
        "colab_type": "code",
        "outputId": "cf5d4d9c-e89a-471f-a6c1-42ff29700e3c",
        "colab": {
          "base_uri": "https://localhost:8080/",
          "height": 34
        }
      },
      "source": [
        "full_benign_path = './full_benign_df.csv'\n",
        "\n",
        "full_benign_df = pd.read_csv(full_benign_path)\n",
        "full_benign_df.shape"
      ],
      "execution_count": 0,
      "outputs": [
        {
          "output_type": "execute_result",
          "data": {
            "text/plain": [
              "(555932, 116)"
            ]
          },
          "metadata": {
            "tags": []
          },
          "execution_count": 3
        }
      ]
    },
    {
      "cell_type": "code",
      "metadata": {
        "id": "GZoDuC82jRh9",
        "colab_type": "code",
        "outputId": "dc885877-e519-46f4-d04d-d7d0a85cfb9d",
        "colab": {
          "base_uri": "https://localhost:8080/",
          "height": 34
        }
      },
      "source": [
        "full_mirai_path = './full_mirai_df.csv'\n",
        "\n",
        "full_mirai_df = pd.read_csv(full_mirai_path)\n",
        "full_mirai_df.shape"
      ],
      "execution_count": 0,
      "outputs": [
        {
          "output_type": "execute_result",
          "data": {
            "text/plain": [
              "(3668402, 116)"
            ]
          },
          "metadata": {
            "tags": []
          },
          "execution_count": 4
        }
      ]
    },
    {
      "cell_type": "code",
      "metadata": {
        "id": "FHMJUHrpjToM",
        "colab_type": "code",
        "outputId": "9c361c91-0926-4ffa-d9fa-cf2ebef967f3",
        "colab": {
          "base_uri": "https://localhost:8080/",
          "height": 34
        }
      },
      "source": [
        "full_bashlite_path = './full_bashlite_df.csv'\n",
        "\n",
        "full_bashlite_df = pd.read_csv(full_bashlite_path)\n",
        "full_bashlite_df.shape"
      ],
      "execution_count": 0,
      "outputs": [
        {
          "output_type": "execute_result",
          "data": {
            "text/plain": [
              "(2838272, 116)"
            ]
          },
          "metadata": {
            "tags": []
          },
          "execution_count": 5
        }
      ]
    },
    {
      "cell_type": "markdown",
      "metadata": {
        "id": "xamT9u8olMXF",
        "colab_type": "text"
      },
      "source": [
        "# Sampling it and preprocessing it"
      ]
    },
    {
      "cell_type": "code",
      "metadata": {
        "id": "T6mYWPaXjWtN",
        "colab_type": "code",
        "colab": {}
      },
      "source": [
        "#Sampling 1% of each of the three classes\n",
        "\n",
        "sampled_benign_df = full_benign_df.sample(frac =.01)\n",
        "\n",
        "sampled_mirai_df = full_mirai_df.sample(frac =.01)\n",
        "\n",
        "sampled_bashlite_df = full_bashlite_df.sample(frac =.01)"
      ],
      "execution_count": 0,
      "outputs": []
    },
    {
      "cell_type": "code",
      "metadata": {
        "id": "vkSTGzKslQ17",
        "colab_type": "code",
        "colab": {}
      },
      "source": [
        "s_ben_df = sampled_benign_df\n",
        "\n",
        "s_ben_df['label'] = 0\n",
        "\n",
        "s_mir_df = sampled_mirai_df\n",
        "\n",
        "s_mir_df['label'] = 1\n",
        "\n",
        "s_bash_df = sampled_bashlite_df\n",
        "\n",
        "s_bash_df['label'] = 2\n",
        "\n",
        "s_bash_df = s_bash_df.drop(columns=['Unnamed: 0'])\n",
        "s_mir_df = s_mir_df.drop(columns=['Unnamed: 0'])\n",
        "s_ben_df = s_ben_df.drop(columns=['Unnamed: 0'])\n",
        "\n",
        "frames = [s_bash_df, s_mir_df, s_ben_df]\n",
        "s_combined_df = pd.concat(frames)\n",
        "\n",
        "s_rand_combined_df = s_combined_df.sample(frac=1).reset_index(drop=True)\n",
        "\n",
        "s_rand_combined_df.head(10)"
      ],
      "execution_count": 0,
      "outputs": []
    },
    {
      "cell_type": "markdown",
      "metadata": {
        "id": "PuC9ucgNg0kV",
        "colab_type": "text"
      },
      "source": [
        "# Testing With Less Data"
      ]
    },
    {
      "cell_type": "code",
      "metadata": {
        "id": "7EfMCd0cmGT7",
        "colab_type": "code",
        "colab": {}
      },
      "source": [
        "test_df = s_rand_combined_df.iloc[0:20,:]"
      ],
      "execution_count": 0,
      "outputs": []
    },
    {
      "cell_type": "markdown",
      "metadata": {
        "id": "8VYNWaJBjY-Q",
        "colab_type": "text"
      },
      "source": [
        "# Testing Models"
      ]
    },
    {
      "cell_type": "code",
      "metadata": {
        "id": "oegtAA0sjb-4",
        "colab_type": "code",
        "outputId": "ba42fe97-96ff-472a-b016-b55717ee0487",
        "colab": {
          "base_uri": "https://localhost:8080/",
          "height": 34
        }
      },
      "source": [
        "from sklearn.tree import DecisionTreeClassifier\n",
        "from sklearn.model_selection import train_test_split\n",
        "\n",
        "\n",
        "X = test_df.drop(['label'],axis=1).values\n",
        "\n",
        "#X = s_rand_combined_df.drop(['label'],axis=1).values\n",
        "\n",
        "Y = test_df['label'].values\n",
        "\n",
        "X_train, X_test, Y_train, Y_test = train_test_split(X, Y, test_size=0.3, random_state=1)\n",
        "\n",
        "dt = DecisionTreeClassifier()\n",
        "\n",
        "dt = dt.fit(X_train,Y_train)\n",
        "\n",
        "Y_pred = dt.predict(X_test)\n",
        "\n",
        "dt_acc = dt.score(X_test, Y_test)\n",
        "dt_acc"
      ],
      "execution_count": 0,
      "outputs": [
        {
          "output_type": "execute_result",
          "data": {
            "text/plain": [
              "0.3333333333333333"
            ]
          },
          "metadata": {
            "tags": []
          },
          "execution_count": 9
        }
      ]
    },
    {
      "cell_type": "code",
      "metadata": {
        "id": "EslPAXDaljyG",
        "colab_type": "code",
        "outputId": "ea862e2c-5422-49a1-d048-3195a48a2a94",
        "colab": {
          "base_uri": "https://localhost:8080/",
          "height": 34
        }
      },
      "source": [
        "from sklearn.neighbors import KNeighborsClassifier\n",
        "from sklearn.model_selection import train_test_split\n",
        "\n",
        "X = s_rand_combined_df.drop(['label'],axis=1).values\n",
        "\n",
        "\n",
        "Y = s_rand_combined_df['label'].values\n",
        "\n",
        "X_train, X_test, Y_train, Y_test = train_test_split(X, Y, test_size=0.3, random_state=1)\n",
        "\n",
        "knn = KNeighborsClassifier()\n",
        "\n",
        "knn = knn.fit(X_train,Y_train)\n",
        "\n",
        "Y_pred = knn.predict(X_test)\n",
        "\n",
        "knn_acc = knn.score(X_test, Y_test)\n",
        "knn_acc\n"
      ],
      "execution_count": 0,
      "outputs": [
        {
          "output_type": "execute_result",
          "data": {
            "text/plain": [
              "0.9936756654710214"
            ]
          },
          "metadata": {
            "tags": []
          },
          "execution_count": 10
        }
      ]
    },
    {
      "cell_type": "code",
      "metadata": {
        "id": "RbgWI9iQmuOT",
        "colab_type": "code",
        "outputId": "2e49eea2-e4a3-450a-9d73-d31f362e1702",
        "colab": {
          "base_uri": "https://localhost:8080/",
          "height": 34
        }
      },
      "source": [
        "from sklearn.ensemble import RandomForestClassifier\n",
        "\n",
        "X = s_rand_combined_df.drop(['label'],axis=1).values\n",
        "\n",
        "\n",
        "Y = s_rand_combined_df['label'].values\n",
        "\n",
        "X_train, X_test, Y_train, Y_test = train_test_split(X, Y, test_size=0.3, random_state=1)\n",
        "\n",
        "rf = RandomForestClassifier(n_estimators=100, max_depth=2,random_state=0)\n",
        "\n",
        "rf = rf.fit(X_train,Y_train)\n",
        "\n",
        "Y_pred = rf.predict(X_test)\n",
        "\n",
        "rf_acc = rf.score(X_test, Y_test)\n",
        "rf_acc"
      ],
      "execution_count": 0,
      "outputs": [
        {
          "output_type": "execute_result",
          "data": {
            "text/plain": [
              "0.9797054936756655"
            ]
          },
          "metadata": {
            "tags": []
          },
          "execution_count": 11
        }
      ]
    },
    {
      "cell_type": "code",
      "metadata": {
        "id": "h7KvdFcdoFS1",
        "colab_type": "code",
        "outputId": "0a48e316-c3ed-4b4a-f08f-2171698c9313",
        "colab": {
          "base_uri": "https://localhost:8080/",
          "height": 69
        }
      },
      "source": [
        "from sklearn.linear_model import Ridge\n",
        "\n",
        "X = s_rand_combined_df.drop(['label'],axis=1).values\n",
        "\n",
        "Y = s_rand_combined_df['label'].values\n",
        "\n",
        "X_train, X_test, Y_train, Y_test = train_test_split(X, Y, test_size=0.3, random_state=1)\n",
        "\n",
        "lm_ridge = Ridge()\n",
        "\n",
        "lm_ridge.fit(X_train, Y_train)\n",
        "\n",
        "lm_ridge_predictions = lm_ridge.predict(X_test)\n",
        "\n",
        "lm_acc = lm_ridge.score(X_test, Y_test)\n",
        "lm_acc"
      ],
      "execution_count": 0,
      "outputs": [
        {
          "output_type": "stream",
          "text": [
            "/usr/local/lib/python3.6/dist-packages/sklearn/linear_model/ridge.py:147: LinAlgWarning: Ill-conditioned matrix (rcond=9.79275e-40): result may not be accurate.\n",
            "  overwrite_a=True).T\n"
          ],
          "name": "stderr"
        },
        {
          "output_type": "execute_result",
          "data": {
            "text/plain": [
              "0.849156484401843"
            ]
          },
          "metadata": {
            "tags": []
          },
          "execution_count": 12
        }
      ]
    },
    {
      "cell_type": "code",
      "metadata": {
        "id": "FsCYiesgp2De",
        "colab_type": "code",
        "colab": {}
      },
      "source": [
        "\n",
        "from sklearn.ensemble import GradientBoostingClassifier\n",
        "\n",
        "X = s_rand_combined_df.drop(['label'],axis=1).values\n",
        "\n",
        "Y = s_rand_combined_df['label'].values\n",
        "\n",
        "X_train, X_test, Y_train, Y_test = train_test_split(X, Y, test_size=0.3, random_state=1)\n",
        "\n",
        "gbr = GradientBoostingClassifier(n_estimators=100, learning_rate=0.1, max_depth=4, random_state=42)\n",
        "\n",
        "gbr.fit(X_train, Y_train)\n",
        "\n",
        "gbr_pred = gbr.predict(X_test)\n",
        "\n",
        "gbr_acc = gbr.score(X_test, Y_test)\n",
        "gbr_acc\n"
      ],
      "execution_count": 0,
      "outputs": []
    },
    {
      "cell_type": "code",
      "metadata": {
        "id": "fqduWsefqZdW",
        "colab_type": "code",
        "colab": {}
      },
      "source": [
        "'''\n",
        "\n",
        "from sklearn import svm\n",
        "\n",
        "X = s_rand_combined_df.drop(['label'],axis=1).values\n",
        "\n",
        "Y = s_rand_combined_df['label'].values\n",
        "\n",
        "X_train, X_test, Y_train, Y_test = train_test_split(X, Y, test_size=0.3, random_state=1)\n",
        "\n",
        "svm = svm.SVC(gamma='scale')\n",
        "\n",
        "svm.fit(X_train, Y_train)\n",
        "\n",
        "svm_pred = svm.predict(X_test)\n",
        "\n",
        "svm_acc = svm.score(X_test, Y_test)\n",
        "svm_acc\n",
        "'''"
      ],
      "execution_count": 0,
      "outputs": []
    },
    {
      "cell_type": "code",
      "metadata": {
        "id": "ggSfsz_Wrp5A",
        "colab_type": "code",
        "colab": {}
      },
      "source": [
        "from keras import Sequential\n",
        "from keras import layers\n",
        "from keras import regularizers\n",
        "from tensorflow.keras.layers import Dense, Dropout, LSTM\n",
        "from keras.callbacks import EarlyStopping\n",
        "\n",
        "from sklearn.model_selection import train_test_split\n",
        "\n",
        "X = s_rand_combined_df.drop(['label'],axis=1).values\n",
        "\n",
        "Y = s_rand_combined_df['label'].values\n",
        "\n",
        "\n",
        "cols = X.shape[1]\n",
        "\n",
        "#Stops the model early if five values are the same in a row\n",
        "early_stopping_monitor = EarlyStopping(patience=5)\n",
        "\n",
        "X_train, X_test, Y_train, Y_test = train_test_split(X, Y, test_size=0.2, random_state=42)\n",
        "\n",
        "#The Neural Network model itself\n",
        "model = Sequential()\n",
        "\n",
        "#initial layer\n",
        "model.add(layers.Dense(10,activation='relu',kernel_regularizer=regularizers.l2(0.001),input_shape=(cols,)))\n",
        "#Dropout layers used for regularisation\n",
        "model.add(layers.Dropout(0.6))\n",
        "model.add(layers.Dense(10,activation='relu',kernel_regularizer=regularizers.l2(0.001)))\n",
        "model.add(layers.Dropout(0.5))\n",
        "model.add(layers.Dense(1,activation='sigmoid'))\n",
        "\n",
        "\n",
        "#The model parametrs\n",
        "model.compile(optimizer='adam',loss='mse',metrics=['accuracy'])\n",
        "\n",
        "#training the model\n",
        "history = model.fit(X_train,Y_train,epochs=30,validation_data=(X_test,Y_test), callbacks=[early_stopping_monitor])\n",
        "\n",
        "nn_pred = model.predict(X_test)\n",
        "\n",
        "nn_acc = nn.score(X_test, Y_test)\n",
        "nn_acc"
      ],
      "execution_count": 0,
      "outputs": []
    },
    {
      "cell_type": "code",
      "metadata": {
        "id": "vDKPj1Vz550L",
        "colab_type": "code",
        "colab": {}
      },
      "source": [
        "from sklearn.linear_model import LogisticRegression\n",
        "from sklearn.model_selection import train_test_split\n",
        "\n",
        "X = s_rand_combined_df.drop(['label'],axis=1).values\n",
        "\n",
        "Y = s_rand_combined_df['label'].values\n",
        "\n",
        "X_train, X_test, Y_train, Y_test = train_test_split(X, Y, test_size=0.3, random_state=1)\n",
        "\n",
        "lgr = LogisticRegression()\n",
        "\n",
        "lgr.fit(X_train, Y_train)\n",
        "\n",
        "lgr_pred = lgr.predict(X_test)\n",
        "\n",
        "lgr_acc = lgr.score(X_test, Y_test)\n",
        "lgr_acc"
      ],
      "execution_count": 0,
      "outputs": []
    },
    {
      "cell_type": "code",
      "metadata": {
        "id": "7t_oVv3n6n8w",
        "colab_type": "code",
        "colab": {}
      },
      "source": [
        "from sklearn.naive_bayes import GaussianNB\n",
        "\n",
        "X = s_rand_combined_df.drop(['label'],axis=1).values\n",
        "\n",
        "Y = s_rand_combined_df['label'].values\n",
        "\n",
        "X_train, X_test, Y_train, Y_test = train_test_split(X, Y, test_size=0.3, random_state=1)\n",
        "\n",
        "\n",
        "gnb = GaussianNB()\n",
        "\n",
        "gnb.fit(X_train, Y_train)\n",
        "\n",
        "gnb_pred = gnb.predict(X_test)\n",
        "\n",
        "gnb_acc = gnb.score(X_test, Y_test)\n",
        "gnb_acc"
      ],
      "execution_count": 0,
      "outputs": []
    }
  ]
}