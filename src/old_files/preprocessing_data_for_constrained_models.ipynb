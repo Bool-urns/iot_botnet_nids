{
  "nbformat": 4,
  "nbformat_minor": 0,
  "metadata": {
    "colab": {
      "name": "preprocessing_data_for_constrained_models.ipynb",
      "version": "0.3.2",
      "provenance": [],
      "collapsed_sections": []
    },
    "kernelspec": {
      "name": "python3",
      "display_name": "Python 3"
    },
    "accelerator": "GPU"
  },
  "cells": [
    {
      "cell_type": "markdown",
      "metadata": {
        "colab_type": "text",
        "id": "893DEVS9bBx5"
      },
      "source": [
        "#Allowing C++ Code Execution \n",
        "\n",
        "Following this tutorial: https://www.wikihow.com/Run-CUDA-C-or-C%2B%2B-on-Jupyter-(Google-Colab)"
      ]
    },
    {
      "cell_type": "code",
      "metadata": {
        "id": "X4FKmlP5NhlL",
        "colab_type": "code",
        "colab": {}
      },
      "source": [
        "'''\n",
        "!apt-get --purge remove cuda nvidia* libnvidia-*\n",
        "!dpkg -l | grep cuda- | awk '{print $2}' | xargs -n1 dpkg --purge\n",
        "!apt-get remove cuda-*\n",
        "!apt autoremove\n",
        "!apt-get update\n",
        "'''"
      ],
      "execution_count": 0,
      "outputs": []
    },
    {
      "cell_type": "code",
      "metadata": {
        "id": "0UCBVWEhQciY",
        "colab_type": "code",
        "colab": {}
      },
      "source": [
        "'''\n",
        "!wget https://developer.nvidia.com/compute/cuda/9.2/Prod/local_installers/cuda-repo-ubuntu1604-9-2-local_9.2.88-1_amd64 -O cuda-repo-ubuntu1604-9-2-local_9.2.88-1_amd64.deb\n",
        "!dpkg -i cuda-repo-ubuntu1604-9-2-local_9.2.88-1_amd64.deb\n",
        "!apt-key add /var/cuda-repo-9-2-local/7fa2af80.pub\n",
        "!apt-get update\n",
        "!apt-get install cuda-9.2\n",
        "'''"
      ],
      "execution_count": 0,
      "outputs": []
    },
    {
      "cell_type": "code",
      "metadata": {
        "id": "UvQP3muBQhb8",
        "colab_type": "code",
        "colab": {}
      },
      "source": [
        "#!nvcc --version"
      ],
      "execution_count": 0,
      "outputs": []
    },
    {
      "cell_type": "code",
      "metadata": {
        "id": "8yEDzHs6Sc4L",
        "colab_type": "code",
        "colab": {}
      },
      "source": [
        "#!pip install git+git://github.com/andreinechaev/nvcc4jupyter.git"
      ],
      "execution_count": 0,
      "outputs": []
    },
    {
      "cell_type": "code",
      "metadata": {
        "id": "SHOa16VEQj7v",
        "colab_type": "code",
        "colab": {}
      },
      "source": [
        "#%load_ext nvcc_plugin"
      ],
      "execution_count": 0,
      "outputs": []
    },
    {
      "cell_type": "code",
      "metadata": {
        "id": "d7NqRwRqQmI1",
        "colab_type": "code",
        "outputId": "db0412ec-9d0f-47b3-cc50-9dbe506f8153",
        "colab": {
          "base_uri": "https://localhost:8080/",
          "height": 54
        }
      },
      "source": [
        "'''\n",
        "%%cu\n",
        "#include <stdio.h>\n",
        "#include <stdlib.h>\n",
        "__global__ void add(int *a, int *b, int *c) {\n",
        "*c = *a + *b;\n",
        "}\n",
        "int main() {\n",
        "int a, b, c;\n",
        "// host copies of variables a, b & c\n",
        "int *d_a, *d_b, *d_c;\n",
        "// device copies of variables a, b & c\n",
        "int size = sizeof(int);\n",
        "// Allocate space for device copies of a, b, c\n",
        "cudaMalloc((void **)&d_a, size);\n",
        "cudaMalloc((void **)&d_b, size);\n",
        "cudaMalloc((void **)&d_c, size);\n",
        "// Setup input values  \n",
        "c = 0;\n",
        "a = 3;\n",
        "b = 5;\n",
        "// Copy inputs to device\n",
        "cudaMemcpy(d_a, &a, size, cudaMemcpyHostToDevice);\n",
        "  cudaMemcpy(d_b, &b, size, cudaMemcpyHostToDevice);\n",
        "// Launch add() kernel on GPU\n",
        "add<<<1,1>>>(d_a, d_b, d_c);\n",
        "// Copy result back to host\n",
        "cudaError err = cudaMemcpy(&c, d_c, size, cudaMemcpyDeviceToHost);\n",
        "  if(err!=cudaSuccess) {\n",
        "      printf(\"CUDA error copying to Host: %s\\n\", cudaGetErrorString(err));\n",
        "  }\n",
        "printf(\"result is %d\\n\",c);\n",
        "// Cleanup\n",
        "cudaFree(d_a);\n",
        "cudaFree(d_b);\n",
        "cudaFree(d_c);\n",
        "return 0;\n",
        "}\n",
        "'''"
      ],
      "execution_count": 0,
      "outputs": [
        {
          "output_type": "execute_result",
          "data": {
            "text/plain": [
              "'\\n%%cu\\n#include <stdio.h>\\n#include <stdlib.h>\\n__global__ void add(int *a, int *b, int *c) {\\n*c = *a + *b;\\n}\\nint main() {\\nint a, b, c;\\n// host copies of variables a, b & c\\nint *d_a, *d_b, *d_c;\\n// device copies of variables a, b & c\\nint size = sizeof(int);\\n// Allocate space for device copies of a, b, c\\ncudaMalloc((void **)&d_a, size);\\ncudaMalloc((void **)&d_b, size);\\ncudaMalloc((void **)&d_c, size);\\n// Setup input values  \\nc = 0;\\na = 3;\\nb = 5;\\n// Copy inputs to device\\ncudaMemcpy(d_a, &a, size, cudaMemcpyHostToDevice);\\n  cudaMemcpy(d_b, &b, size, cudaMemcpyHostToDevice);\\n// Launch add() kernel on GPU\\nadd<<<1,1>>>(d_a, d_b, d_c);\\n// Copy result back to host\\ncudaError err = cudaMemcpy(&c, d_c, size, cudaMemcpyDeviceToHost);\\n  if(err!=cudaSuccess) {\\n      printf(\"CUDA error copying to Host: %s\\n\", cudaGetErrorString(err));\\n  }\\nprintf(\"result is %d\\n\",c);\\n// Cleanup\\ncudaFree(d_a);\\ncudaFree(d_b);\\ncudaFree(d_c);\\nreturn 0;\\n}\\n'"
            ]
          },
          "metadata": {
            "tags": []
          },
          "execution_count": 16
        }
      ]
    },
    {
      "cell_type": "markdown",
      "metadata": {
        "id": "v_KkyJEbXHsC",
        "colab_type": "text"
      },
      "source": [
        "# Adding in Dataset"
      ]
    },
    {
      "cell_type": "code",
      "metadata": {
        "id": "aC1Ekcj5XGzm",
        "colab_type": "code",
        "colab": {}
      },
      "source": [
        "# data analysis packages\n",
        "import pandas as pd\n",
        "import numpy as np"
      ],
      "execution_count": 0,
      "outputs": []
    },
    {
      "cell_type": "code",
      "metadata": {
        "id": "kQHTiG0RXYBV",
        "colab_type": "code",
        "outputId": "67b5464a-0080-447a-946a-c9d839759841",
        "colab": {
          "base_uri": "https://localhost:8080/",
          "height": 34
        }
      },
      "source": [
        "from google.colab import drive\n",
        "drive.mount('/content/drive/')\n",
        "\n",
        "import os\n",
        "os.chdir(\"/content/drive/My Drive/Dataset\")"
      ],
      "execution_count": 0,
      "outputs": [
        {
          "output_type": "stream",
          "text": [
            "Drive already mounted at /content/drive/; to attempt to forcibly remount, call drive.mount(\"/content/drive/\", force_remount=True).\n"
          ],
          "name": "stdout"
        }
      ]
    },
    {
      "cell_type": "code",
      "metadata": {
        "id": "b1Y8bFMrXaZQ",
        "colab_type": "code",
        "outputId": "76c3a0e7-57a9-45ce-cd01-eb4e7c51be1e",
        "colab": {
          "base_uri": "https://localhost:8080/",
          "height": 34
        }
      },
      "source": [
        "full_benign_path = './full_benign_df.csv'\n",
        "\n",
        "full_benign_df = pd.read_csv(full_benign_path)\n",
        "full_benign_df.shape"
      ],
      "execution_count": 0,
      "outputs": [
        {
          "output_type": "execute_result",
          "data": {
            "text/plain": [
              "(555932, 117)"
            ]
          },
          "metadata": {
            "tags": []
          },
          "execution_count": 16
        }
      ]
    },
    {
      "cell_type": "code",
      "metadata": {
        "id": "YIHkXk74XcZH",
        "colab_type": "code",
        "colab": {}
      },
      "source": [
        "full_mirai_path = './full_mirai_df.csv'\n",
        "\n",
        "full_mirai_df = pd.read_csv(full_mirai_path)\n",
        "full_mirai_df.shape"
      ],
      "execution_count": 0,
      "outputs": []
    },
    {
      "cell_type": "code",
      "metadata": {
        "id": "V0SdmtI1Xcbw",
        "colab_type": "code",
        "colab": {}
      },
      "source": [
        "full_bashlite_path = './full_bashlite_df.csv'\n",
        "\n",
        "full_bashlite_df = pd.read_csv(full_bashlite_path)\n",
        "full_bashlite_df.shape"
      ],
      "execution_count": 0,
      "outputs": []
    },
    {
      "cell_type": "markdown",
      "metadata": {
        "id": "WGqtnB7YYwa-",
        "colab_type": "text"
      },
      "source": [
        "# Sampling it and preprocessing it"
      ]
    },
    {
      "cell_type": "code",
      "metadata": {
        "id": "a5mXIj7FYxSm",
        "colab_type": "code",
        "colab": {}
      },
      "source": [
        "#Sampling 1% of each of the three classes\n",
        "\n",
        "sampled_benign_df = full_benign_df.sample(frac =.01)\n",
        "\n",
        "sampled_bashlite_df = full_mirai_df.sample(frac =.01)\n",
        "\n",
        "sampled_bashlite_df = full_bashlite_df.sample(frac =.01)"
      ],
      "execution_count": 0,
      "outputs": []
    },
    {
      "cell_type": "code",
      "metadata": {
        "id": "o8S0SsQb_VLX",
        "colab_type": "code",
        "colab": {}
      },
      "source": [
        "s_bash_df = sampled_bashlite_df.drop(columns=['Unnamed: 0'])\n",
        "s_mir_df = sampled_bashlite_df.drop(columns=['Unnamed: 0'])\n",
        "s_ben_df = sampled_benign_df.drop(columns=['Unnamed: 0'])\n",
        "\n",
        "frames = [s_bash_df, s_mir_df, s_ben_df]\n",
        "s_combined_df = pd.concat(frames)"
      ],
      "execution_count": 0,
      "outputs": []
    },
    {
      "cell_type": "code",
      "metadata": {
        "id": "l32Rd6Lk_gPD",
        "colab_type": "code",
        "colab": {}
      },
      "source": [
        "s_rand_combined_df = s_combined_df.sample(frac=1).reset_index(drop=True)"
      ],
      "execution_count": 0,
      "outputs": []
    },
    {
      "cell_type": "code",
      "metadata": {
        "id": "eJIoU3_N9nsF",
        "colab_type": "code",
        "colab": {}
      },
      "source": [
        "s_rand_combined_df.shape"
      ],
      "execution_count": 0,
      "outputs": []
    },
    {
      "cell_type": "markdown",
      "metadata": {
        "id": "1m3GBFtaZBYw",
        "colab_type": "text"
      },
      "source": [
        "## For use with less labels"
      ]
    },
    {
      "cell_type": "code",
      "metadata": {
        "id": "OqFcuZqOYzJn",
        "colab_type": "code",
        "colab": {}
      },
      "source": [
        "s_ben_df = sampled_benign_df\n",
        "\n",
        "\n",
        "s_ben_df.insert(0, 'label', 0)\n",
        "\n",
        "s_mir_df = sampled_mirai_df\n",
        "\n",
        "s_mir_df.insert(0, 'label', 1)\n",
        "\n",
        "s_bash_df = sampled_bashlite_df\n",
        "\n",
        "s_bash_df.insert(0, 'label', 2)\n",
        "\n",
        "s_bash_df = s_bash_df.drop(columns=['Unnamed: 0'])\n",
        "s_mir_df = s_mir_df.drop(columns=['Unnamed: 0'])\n",
        "s_ben_df = s_ben_df.drop(columns=['Unnamed: 0'])\n",
        "\n",
        "frames = [s_bash_df, s_mir_df, s_ben_df]\n",
        "s_combined_df = pd.concat(frames)\n",
        "\n",
        "s_rand_combined_df = s_combined_df.sample(frac=1).reset_index(drop=True)\n",
        "\n",
        "s_rand_combined_df['extra'] = 0\n",
        "\n",
        "s_rand_combined_df.head(10)"
      ],
      "execution_count": 0,
      "outputs": []
    },
    {
      "cell_type": "code",
      "metadata": {
        "id": "DPC6UAfJGZat",
        "colab_type": "code",
        "outputId": "0cf03834-83ab-4568-a4e6-70c6fbf533dd",
        "colab": {
          "base_uri": "https://localhost:8080/",
          "height": 243
        }
      },
      "source": [
        "X_train"
      ],
      "execution_count": 0,
      "outputs": [
        {
          "output_type": "execute_result",
          "data": {
            "text/plain": [
              "array([[1.17817349e+02, 4.44435452e+02, 4.21204966e+04, ...,\n",
              "        0.00000000e+00, 0.00000000e+00, 0.00000000e+00],\n",
              "       [1.65792043e+02, 2.29489487e+02, 5.50011204e+04, ...,\n",
              "        0.00000000e+00, 0.00000000e+00, 0.00000000e+00],\n",
              "       [9.52843044e+01, 5.04776729e+02, 2.18738375e+04, ...,\n",
              "        0.00000000e+00, 0.00000000e+00, 0.00000000e+00],\n",
              "       ...,\n",
              "       [1.00000000e+00, 6.00000000e+01, 0.00000000e+00, ...,\n",
              "        0.00000000e+00, 0.00000000e+00, 0.00000000e+00],\n",
              "       [1.00000000e+00, 6.00000000e+01, 0.00000000e+00, ...,\n",
              "        0.00000000e+00, 0.00000000e+00, 0.00000000e+00],\n",
              "       [1.99983393e+00, 4.49001661e+02, 3.99999997e+02, ...,\n",
              "        0.00000000e+00, 0.00000000e+00, 0.00000000e+00]])"
            ]
          },
          "metadata": {
            "tags": []
          },
          "execution_count": 11
        }
      ]
    },
    {
      "cell_type": "markdown",
      "metadata": {
        "id": "Ek-BI3Hsy_2s",
        "colab_type": "text"
      },
      "source": [
        "## For ProtoNN and Bonsai"
      ]
    },
    {
      "cell_type": "code",
      "metadata": {
        "id": "6UfPAyGV-oaT",
        "colab_type": "code",
        "colab": {}
      },
      "source": [
        "from sklearn.model_selection import train_test_split\n",
        "\n",
        "s_train_combined, s_test_combined = train_test_split(s_rand_combined_df, test_size=0.3)\n"
      ],
      "execution_count": 0,
      "outputs": []
    },
    {
      "cell_type": "code",
      "metadata": {
        "id": "yI_gZKnDEnN1",
        "colab_type": "code",
        "outputId": "fb7e5872-8487-4457-cc13-d416f449b64e",
        "colab": {
          "base_uri": "https://localhost:8080/",
          "height": 34
        }
      },
      "source": [
        "s_train_combined_np = s_train_combined.to_numpy()\n",
        "s_train_combined_np.shape"
      ],
      "execution_count": 0,
      "outputs": [
        {
          "output_type": "execute_result",
          "data": {
            "text/plain": [
              "(49438, 117)"
            ]
          },
          "metadata": {
            "tags": []
          },
          "execution_count": 9
        }
      ]
    },
    {
      "cell_type": "code",
      "metadata": {
        "id": "UA1lfUdm9WtB",
        "colab_type": "code",
        "outputId": "d965f265-e0e5-45d1-df1d-b7d80e4653c7",
        "colab": {
          "base_uri": "https://localhost:8080/",
          "height": 34
        }
      },
      "source": [
        "s_test_combined_np = s_test_combined.to_numpy()\n",
        "s_test_combined_np.shape"
      ],
      "execution_count": 0,
      "outputs": [
        {
          "output_type": "execute_result",
          "data": {
            "text/plain": [
              "(21188, 117)"
            ]
          },
          "metadata": {
            "tags": []
          },
          "execution_count": 10
        }
      ]
    },
    {
      "cell_type": "code",
      "metadata": {
        "id": "v9Gqz-lf-2dE",
        "colab_type": "code",
        "colab": {}
      },
      "source": [
        "np.save('s_train_combined', s_train_combined_np)\n",
        "\n",
        "np.save('s_test_combined', s_test_combined_np)"
      ],
      "execution_count": 0,
      "outputs": []
    },
    {
      "cell_type": "code",
      "metadata": {
        "id": "nh2_w1IMbUN6",
        "colab_type": "code",
        "colab": {}
      },
      "source": [
        "#s_rand_combined_df.to_csv('s_rand_combined_df.csv')\n",
        "'''\n",
        "s_rand_combined_df_path = './s_rand_combined_df.csv'\n",
        "\n",
        "s_rand_combined_df_df = pd.read_csv(s_rand_combined_df_path)\n",
        "\n",
        "s_rand_combined_df_df\n",
        "'''"
      ],
      "execution_count": 0,
      "outputs": []
    },
    {
      "cell_type": "markdown",
      "metadata": {
        "id": "a4gA4NFWzCf9",
        "colab_type": "text"
      },
      "source": [
        "# For SFSVC"
      ]
    },
    {
      "cell_type": "markdown",
      "metadata": {
        "id": "gBHZZCMdCgbb",
        "colab_type": "text"
      },
      "source": [
        "## Training"
      ]
    },
    {
      "cell_type": "code",
      "metadata": {
        "id": "CbYQgswQ5E4c",
        "colab_type": "code",
        "colab": {}
      },
      "source": [
        "#making an array of just the labels for the data\n",
        "\n",
        "training_labels_df = s_train_combined['label'].copy()"
      ],
      "execution_count": 0,
      "outputs": []
    },
    {
      "cell_type": "code",
      "metadata": {
        "id": "01byQGPV6ERH",
        "colab_type": "code",
        "colab": {}
      },
      "source": [
        "training_labels = training_labels_df.to_numpy()"
      ],
      "execution_count": 0,
      "outputs": []
    },
    {
      "cell_type": "code",
      "metadata": {
        "id": "5HlszBeHYu_V",
        "colab_type": "code",
        "colab": {}
      },
      "source": [
        "training_labels.shape"
      ],
      "execution_count": 0,
      "outputs": []
    },
    {
      "cell_type": "code",
      "metadata": {
        "id": "SV_BXgMy6bgf",
        "colab_type": "code",
        "outputId": "fc848e57-facf-4bf8-ee64-0a824d910786",
        "colab": {
          "base_uri": "https://localhost:8080/",
          "height": 34
        }
      },
      "source": [
        "t_labels = training_labels.reshape(1, 49438)\n",
        "t_labels.shape"
      ],
      "execution_count": 0,
      "outputs": [
        {
          "output_type": "execute_result",
          "data": {
            "text/plain": [
              "(1, 49438)"
            ]
          },
          "metadata": {
            "tags": []
          },
          "execution_count": 46
        }
      ]
    },
    {
      "cell_type": "code",
      "metadata": {
        "id": "-l-cYBsrCAF1",
        "colab_type": "code",
        "outputId": "a3b31dec-69b2-45e7-8cce-90a714ca389f",
        "colab": {
          "base_uri": "https://localhost:8080/",
          "height": 34
        }
      },
      "source": [
        "t_labels = t_labels.astype(np.double)\n",
        "t_labels.shape"
      ],
      "execution_count": 0,
      "outputs": [
        {
          "output_type": "execute_result",
          "data": {
            "text/plain": [
              "(1, 49438)"
            ]
          },
          "metadata": {
            "tags": []
          },
          "execution_count": 49
        }
      ]
    },
    {
      "cell_type": "code",
      "metadata": {
        "id": "jeSvUsKp9d-y",
        "colab_type": "code",
        "colab": {}
      },
      "source": [
        "training_samples_df = s_train_combined.drop(columns=['label'])\n",
        "#training_samples_df.head()"
      ],
      "execution_count": 0,
      "outputs": []
    },
    {
      "cell_type": "code",
      "metadata": {
        "id": "4wJRIeWH99OO",
        "colab_type": "code",
        "outputId": "718afb2a-0299-4250-e9a1-59eb4acba611",
        "colab": {
          "base_uri": "https://localhost:8080/",
          "height": 243
        }
      },
      "source": [
        "training_samples = training_samples_df.to_numpy()\n",
        "training_samples.shape"
      ],
      "execution_count": 0,
      "outputs": [
        {
          "output_type": "execute_result",
          "data": {
            "text/plain": [
              "array([[1.00000000e+00, 6.00000000e+01, 0.00000000e+00, ...,\n",
              "        0.00000000e+00, 0.00000000e+00, 0.00000000e+00],\n",
              "       [1.00000000e+00, 6.00000000e+01, 0.00000000e+00, ...,\n",
              "        0.00000000e+00, 0.00000000e+00, 0.00000000e+00],\n",
              "       [1.09111394e+02, 4.98315280e+02, 2.44074638e+04, ...,\n",
              "        0.00000000e+00, 0.00000000e+00, 0.00000000e+00],\n",
              "       ...,\n",
              "       [1.35563697e+02, 4.90941067e+02, 3.23459767e+04, ...,\n",
              "        0.00000000e+00, 0.00000000e+00, 0.00000000e+00],\n",
              "       [1.00000000e+00, 6.00000000e+01, 0.00000000e+00, ...,\n",
              "        0.00000000e+00, 0.00000000e+00, 0.00000000e+00],\n",
              "       [1.82202264e+02, 2.67696587e+02, 5.94157978e+04, ...,\n",
              "        0.00000000e+00, 0.00000000e+00, 0.00000000e+00]])"
            ]
          },
          "metadata": {
            "tags": []
          },
          "execution_count": 42
        }
      ]
    },
    {
      "cell_type": "code",
      "metadata": {
        "id": "lSFt2dXv-QPb",
        "colab_type": "code",
        "outputId": "d4361256-fb4e-4f3b-e034-500bcdeafddf",
        "colab": {
          "base_uri": "https://localhost:8080/",
          "height": 34
        }
      },
      "source": [
        "t_samples = np.swapaxes(training_samples,0,1)\n",
        "t_samples.shape"
      ],
      "execution_count": 0,
      "outputs": [
        {
          "output_type": "execute_result",
          "data": {
            "text/plain": [
              "(116, 49438)"
            ]
          },
          "metadata": {
            "tags": []
          },
          "execution_count": 44
        }
      ]
    },
    {
      "cell_type": "code",
      "metadata": {
        "id": "F1kqYuyYzGxx",
        "colab_type": "code",
        "colab": {}
      },
      "source": [
        "import scipy.io as sio\n",
        "\n",
        "#Format for training: [('Samples', (256, 7291), 'double'), ('Labels', (1, 7291), 'double')]\n",
        "\n",
        "#Format for training: [('Samples', (n, ntr), 'double'), ('Labels', (1, ntr), 'double')]\n",
        "'''\n",
        "Where\n",
        "n = input vector size\n",
        "m = num classes\n",
        "ntr = num vectors in training\n",
        "nts = num vectors in testing\n",
        "'''\n",
        "\n",
        "sio.savemat('botnet_train.mat', {'Samples':t_samples, 'Labels':t_labels})"
      ],
      "execution_count": 0,
      "outputs": []
    },
    {
      "cell_type": "markdown",
      "metadata": {
        "id": "OCcIORcxCjri",
        "colab_type": "text"
      },
      "source": [
        "## Testing"
      ]
    },
    {
      "cell_type": "code",
      "metadata": {
        "id": "fK-Rbkv0A652",
        "colab_type": "code",
        "colab": {}
      },
      "source": [
        "#making an array of just the labels for the data\n",
        "\n",
        "test_labels_df = s_test_combined['label'].copy()"
      ],
      "execution_count": 0,
      "outputs": []
    },
    {
      "cell_type": "code",
      "metadata": {
        "id": "gP-L_L1qDjNq",
        "colab_type": "code",
        "colab": {}
      },
      "source": [
        "test_labels = test_labels_df.to_numpy()"
      ],
      "execution_count": 0,
      "outputs": []
    },
    {
      "cell_type": "code",
      "metadata": {
        "id": "MPe9W8ynDqKq",
        "colab_type": "code",
        "outputId": "70922810-d604-4755-9f2b-adec03c963ca",
        "colab": {
          "base_uri": "https://localhost:8080/",
          "height": 34
        }
      },
      "source": [
        "te_labels = test_labels.reshape(1, 21188)\n",
        "te_labels.shape"
      ],
      "execution_count": 0,
      "outputs": [
        {
          "output_type": "execute_result",
          "data": {
            "text/plain": [
              "(1, 21188)"
            ]
          },
          "metadata": {
            "tags": []
          },
          "execution_count": 55
        }
      ]
    },
    {
      "cell_type": "code",
      "metadata": {
        "id": "mNj7W9HzEla7",
        "colab_type": "code",
        "outputId": "10c18c14-50e2-4020-c172-4e06c5399637",
        "colab": {
          "base_uri": "https://localhost:8080/",
          "height": 34
        }
      },
      "source": [
        "te_labels = te_labels.astype(np.double)\n",
        "te_labels.shape"
      ],
      "execution_count": 0,
      "outputs": [
        {
          "output_type": "execute_result",
          "data": {
            "text/plain": [
              "(1, 21188)"
            ]
          },
          "metadata": {
            "tags": []
          },
          "execution_count": 59
        }
      ]
    },
    {
      "cell_type": "code",
      "metadata": {
        "id": "byW9wyt4D5Ge",
        "colab_type": "code",
        "colab": {}
      },
      "source": [
        "test_samples_df = s_test_combined.drop(columns=['label'])"
      ],
      "execution_count": 0,
      "outputs": []
    },
    {
      "cell_type": "code",
      "metadata": {
        "id": "-Xjw4gS0EP6l",
        "colab_type": "code",
        "outputId": "693981eb-6bc1-48c0-f5bd-e4c36291aef6",
        "colab": {
          "base_uri": "https://localhost:8080/",
          "height": 34
        }
      },
      "source": [
        "test_samples = test_samples_df.to_numpy()\n",
        "test_samples.shape"
      ],
      "execution_count": 0,
      "outputs": [
        {
          "output_type": "execute_result",
          "data": {
            "text/plain": [
              "(21188, 116)"
            ]
          },
          "metadata": {
            "tags": []
          },
          "execution_count": 57
        }
      ]
    },
    {
      "cell_type": "code",
      "metadata": {
        "id": "MMlPWxcZEY7L",
        "colab_type": "code",
        "outputId": "ebd7a3c0-0148-4ef0-c5ae-de0c008dace2",
        "colab": {
          "base_uri": "https://localhost:8080/",
          "height": 34
        }
      },
      "source": [
        "te_samples = np.swapaxes(test_samples,0,1)\n",
        "te_samples.shape"
      ],
      "execution_count": 0,
      "outputs": [
        {
          "output_type": "execute_result",
          "data": {
            "text/plain": [
              "(116, 21188)"
            ]
          },
          "metadata": {
            "tags": []
          },
          "execution_count": 58
        }
      ]
    },
    {
      "cell_type": "code",
      "metadata": {
        "id": "rROiLBzJEfcI",
        "colab_type": "code",
        "colab": {}
      },
      "source": [
        "sio.savemat('botnet_test.mat', {'Samples':te_samples, 'Labels':te_labels})"
      ],
      "execution_count": 0,
      "outputs": []
    }
  ]
}