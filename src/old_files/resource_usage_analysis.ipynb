{
  "nbformat": 4,
  "nbformat_minor": 0,
  "metadata": {
    "colab": {
      "name": "resource_usage_analysis.ipynb",
      "version": "0.3.2",
      "provenance": []
    },
    "kernelspec": {
      "name": "python3",
      "display_name": "Python 3"
    }
  },
  "cells": [
    {
      "cell_type": "code",
      "metadata": {
        "id": "SBNmQMfi0TU4",
        "colab_type": "code",
        "colab": {}
      },
      "source": [
        "# data analysis packages\n",
        "import pandas as pd\n",
        "import numpy as np"
      ],
      "execution_count": 0,
      "outputs": []
    },
    {
      "cell_type": "code",
      "metadata": {
        "id": "CbqUrSYj0ng0",
        "colab_type": "code",
        "colab": {
          "base_uri": "https://localhost:8080/",
          "height": 124
        },
        "outputId": "75b68bb7-550b-409c-e3e8-914033dbeb1a"
      },
      "source": [
        "from google.colab import drive\n",
        "drive.mount('/content/drive/')\n",
        "\n",
        "import os\n",
        "os.chdir(\"/content/drive/My Drive/Colab Notebooks\")"
      ],
      "execution_count": 3,
      "outputs": [
        {
          "output_type": "stream",
          "text": [
            "Go to this URL in a browser: https://accounts.google.com/o/oauth2/auth?client_id=947318989803-6bn6qk8qdgf4n4g3pfee6491hc0brc4i.apps.googleusercontent.com&redirect_uri=urn%3Aietf%3Awg%3Aoauth%3A2.0%3Aoob&scope=email%20https%3A%2F%2Fwww.googleapis.com%2Fauth%2Fdocs.test%20https%3A%2F%2Fwww.googleapis.com%2Fauth%2Fdrive%20https%3A%2F%2Fwww.googleapis.com%2Fauth%2Fdrive.photos.readonly%20https%3A%2F%2Fwww.googleapis.com%2Fauth%2Fpeopleapi.readonly&response_type=code\n",
            "\n",
            "Enter your authorization code:\n",
            "··········\n",
            "Mounted at /content/drive/\n"
          ],
          "name": "stdout"
        }
      ]
    },
    {
      "cell_type": "code",
      "metadata": {
        "id": "pjm9S6Sd0_JF",
        "colab_type": "code",
        "colab": {
          "base_uri": "https://localhost:8080/",
          "height": 34
        },
        "outputId": "f473b851-dc4e-4793-8b09-583626551490"
      },
      "source": [
        "full_path = './07_25_1915_44_28_system_resouces.csv'\n",
        "\n",
        "df = pd.read_csv(full_path)\n",
        "df.shape"
      ],
      "execution_count": 30,
      "outputs": [
        {
          "output_type": "execute_result",
          "data": {
            "text/plain": [
              "(419, 5)"
            ]
          },
          "metadata": {
            "tags": []
          },
          "execution_count": 30
        }
      ]
    },
    {
      "cell_type": "code",
      "metadata": {
        "id": "4FfPUf691S_e",
        "colab_type": "code",
        "colab": {
          "base_uri": "https://localhost:8080/",
          "height": 206
        },
        "outputId": "1f60e91c-865a-47a9-95ee-062a86d1a27a"
      },
      "source": [
        "df.columns = ['PID', 'START TIME', 'CPU%', 'MEM%', 'CMD']\n",
        "df.head()"
      ],
      "execution_count": 31,
      "outputs": [
        {
          "output_type": "execute_result",
          "data": {
            "text/html": [
              "<div>\n",
              "<style scoped>\n",
              "    .dataframe tbody tr th:only-of-type {\n",
              "        vertical-align: middle;\n",
              "    }\n",
              "\n",
              "    .dataframe tbody tr th {\n",
              "        vertical-align: top;\n",
              "    }\n",
              "\n",
              "    .dataframe thead th {\n",
              "        text-align: right;\n",
              "    }\n",
              "</style>\n",
              "<table border=\"1\" class=\"dataframe\">\n",
              "  <thead>\n",
              "    <tr style=\"text-align: right;\">\n",
              "      <th></th>\n",
              "      <th>PID</th>\n",
              "      <th>START TIME</th>\n",
              "      <th>CPU%</th>\n",
              "      <th>MEM%</th>\n",
              "      <th>CMD</th>\n",
              "    </tr>\n",
              "  </thead>\n",
              "  <tbody>\n",
              "    <tr>\n",
              "      <th>0</th>\n",
              "      <td>1211</td>\n",
              "      <td>Thu Jul 25 11:29:15 2019</td>\n",
              "      <td>0.0</td>\n",
              "      <td>0.3</td>\n",
              "      <td>gvfsd-trash</td>\n",
              "    </tr>\n",
              "    <tr>\n",
              "      <th>1</th>\n",
              "      <td>4796</td>\n",
              "      <td>Thu Jul 25 15:39:59 2019</td>\n",
              "      <td>0.1</td>\n",
              "      <td>0.4</td>\n",
              "      <td>bash</td>\n",
              "    </tr>\n",
              "    <tr>\n",
              "      <th>2</th>\n",
              "      <td>1014</td>\n",
              "      <td>Thu Jul 25 11:29:13 2019</td>\n",
              "      <td>0.0</td>\n",
              "      <td>0.6</td>\n",
              "      <td>openbox</td>\n",
              "    </tr>\n",
              "    <tr>\n",
              "      <th>3</th>\n",
              "      <td>497</td>\n",
              "      <td>Thu Jul 25 11:29:05 2019</td>\n",
              "      <td>0.0</td>\n",
              "      <td>1.1</td>\n",
              "      <td>containerd</td>\n",
              "    </tr>\n",
              "    <tr>\n",
              "      <th>4</th>\n",
              "      <td>1634</td>\n",
              "      <td>Thu Jul 25 11:34:13 2019</td>\n",
              "      <td>0.2</td>\n",
              "      <td>1.3</td>\n",
              "      <td>lxterminal</td>\n",
              "    </tr>\n",
              "  </tbody>\n",
              "</table>\n",
              "</div>"
            ],
            "text/plain": [
              "    PID                START TIME  CPU%  MEM%          CMD\n",
              "0  1211  Thu Jul 25 11:29:15 2019   0.0   0.3  gvfsd-trash\n",
              "1  4796  Thu Jul 25 15:39:59 2019   0.1   0.4         bash\n",
              "2  1014  Thu Jul 25 11:29:13 2019   0.0   0.6      openbox\n",
              "3   497  Thu Jul 25 11:29:05 2019   0.0   1.1   containerd\n",
              "4  1634  Thu Jul 25 11:34:13 2019   0.2   1.3   lxterminal"
            ]
          },
          "metadata": {
            "tags": []
          },
          "execution_count": 31
        }
      ]
    },
    {
      "cell_type": "code",
      "metadata": {
        "id": "qn9nDRML2yP_",
        "colab_type": "code",
        "colab": {
          "base_uri": "https://localhost:8080/",
          "height": 69
        },
        "outputId": "729ea98f-c7ba-4111-dd57-d68a4db58a02"
      },
      "source": [
        "#All the different processes\n",
        "df['CMD'].unique()\n",
        "\n",
        "#We're interested in python, tshark, dumpcap, tshark and argus\n",
        "#potentially gvfsd-trash too because of the remove_files() method in NIDS\n",
        "#and also bash - this signifies the process running that was recording the resource usage - want to ignore this"
      ],
      "execution_count": 32,
      "outputs": [
        {
          "output_type": "execute_result",
          "data": {
            "text/plain": [
              "array(['gvfsd-trash', 'bash', 'openbox', 'containerd', 'lxterminal',\n",
              "       'lxpanel', 'pcmanfm', 'dockerd', 'Xorg', 'udisksd', 'python',\n",
              "       'tshark', 'dumpcap', 'argus'], dtype=object)"
            ]
          },
          "metadata": {
            "tags": []
          },
          "execution_count": 32
        }
      ]
    },
    {
      "cell_type": "code",
      "metadata": {
        "id": "sbnNcEym2S6H",
        "colab_type": "code",
        "colab": {
          "base_uri": "https://localhost:8080/",
          "height": 486
        },
        "outputId": "d6f11d34-65ea-442b-ae1b-80fd64b26399"
      },
      "source": [
        "py = df[df['CMD'] == 'python']\n",
        "tsh = df[df['CMD'] == 'tshark']\n",
        "dc = df[df['CMD'] == 'dumpcap']\n",
        "arg = df[df['CMD'] == 'argus']\n",
        "tr = df[df['CMD'] == 'gvfsd-trash']\n",
        "frames = [py, tsh, dc, arg, tr]\n",
        "combined = pd.concat(frames)\n",
        "\n",
        "df_no_bash = df[df['CMD'] != 'bash']\n",
        "\n",
        "\n",
        "print(\"Python\")\n",
        "average_cpu = py['CPU%'].mean()\n",
        "average_mem = py['MEM%'].mean()\n",
        "print(\"Average CPU utilisation: %s%%\" % average_cpu)\n",
        "print(\"Average Memory utilisation: %s%%\" % average_mem)\n",
        "\n",
        "print(\"\\nTshark\")\n",
        "average_cpu = tsh['CPU%'].mean()\n",
        "average_mem = tsh['MEM%'].mean()\n",
        "print(\"Average CPU utilisation: %s%%\" % average_cpu)\n",
        "print(\"Average Memory utilisation: %s%%\" % average_mem)\n",
        "\n",
        "print(\"\\nDumpcap\")\n",
        "average_cpu = dc['CPU%'].mean()\n",
        "average_mem = dc['MEM%'].mean()\n",
        "print(\"Average CPU utilisation: %s%%\" % average_cpu)\n",
        "print(\"Average Memory utilisation: %s%%\" % average_mem)\n",
        "\n",
        "print(\"\\nArgus\")\n",
        "average_cpu = arg['CPU%'].mean()\n",
        "average_mem = arg['MEM%'].mean()\n",
        "print(\"Average CPU utilisation: %s%%\" % average_cpu)\n",
        "print(\"Average Memory utilisation: %s%%\" % average_mem)\n",
        "\n",
        "print(\"\\nGvfsd-trash\")\n",
        "average_cpu = tr['CPU%'].mean()\n",
        "average_mem = tr['MEM%'].mean()\n",
        "print(\"Average CPU utilisation: %s%%\" % average_cpu)\n",
        "print(\"Average Memory utilisation: %s%%\" % average_mem)\n",
        "\n",
        "print(\"\\nPercieved Total\")\n",
        "average_cpu = combined['CPU%'].mean()\n",
        "average_mem = combined['MEM%'].mean()\n",
        "print(\"Average CPU utilisation: %s%%\" % average_cpu)\n",
        "print(\"Average Memory utilisation: %s%%\" % average_mem)\n",
        "\n",
        "#not sure about one before this but this one is definitely averaging out too many smaller processes too and getting wrong value\n",
        "\n",
        "print(\"\\nAll but Bash Process\")\n",
        "average_cpu = df_no_bash['CPU%'].mean()\n",
        "average_mem = df_no_bash['MEM%'].mean()\n",
        "print(\"Average CPU utilisation: %s%%\" % average_cpu)\n",
        "print(\"Average Memory utilisation: %s%%\" % average_mem)"
      ],
      "execution_count": 33,
      "outputs": [
        {
          "output_type": "stream",
          "text": [
            "Python\n",
            "Average CPU utilisation: 33.735135135135145%\n",
            "Average Memory utilisation: 5.645945945945949%\n",
            "\n",
            "Tshark\n",
            "Average CPU utilisation: 13.096774193548391%\n",
            "Average Memory utilisation: 8.261290322580647%\n",
            "\n",
            "Dumpcap\n",
            "Average CPU utilisation: 0.0%\n",
            "Average Memory utilisation: 0.4%\n",
            "\n",
            "Argus\n",
            "Average CPU utilisation: 2.0%\n",
            "Average Memory utilisation: 0.7%\n",
            "\n",
            "Gvfsd-trash\n",
            "Average CPU utilisation: 0.0%\n",
            "Average Memory utilisation: 0.29999999999999993%\n",
            "\n",
            "Percieved Total\n",
            "Average CPU utilisation: 20.702499999999997%\n",
            "Average Memory utilisation: 5.863749999999996%\n",
            "\n",
            "All but Bash Process\n",
            "Average CPU utilisation: 4.625925925925912%\n",
            "Average Memory utilisation: 2.521428571428568%\n"
          ],
          "name": "stdout"
        }
      ]
    }
  ]
}