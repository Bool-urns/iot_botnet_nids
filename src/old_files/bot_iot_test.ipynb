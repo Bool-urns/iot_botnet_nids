{
  "nbformat": 4,
  "nbformat_minor": 0,
  "metadata": {
    "colab": {
      "name": "bot_iot_test.ipynb",
      "version": "0.3.2",
      "provenance": []
    },
    "kernelspec": {
      "name": "python3",
      "display_name": "Python 3"
    }
  },
  "cells": [
    {
      "cell_type": "code",
      "metadata": {
        "id": "B-I4d1HQGcv7",
        "colab_type": "code",
        "colab": {}
      },
      "source": [
        "# data analysis packages\n",
        "import pandas as pd\n",
        "import numpy as np"
      ],
      "execution_count": 0,
      "outputs": []
    },
    {
      "cell_type": "code",
      "metadata": {
        "id": "V25HiJFtGkZ5",
        "colab_type": "code",
        "colab": {}
      },
      "source": [
        "from google.colab import drive\n",
        "drive.mount('/content/drive/')\n",
        "\n",
        "import os\n",
        "os.chdir(\"/content/drive/My Drive/Colab Notebooks/unsw_2018_IoT_botnet_all_feat\") #/EdgeML/tf/sampled_dataset - Colab Notebooks/unsw_2018_IoT_botnet_all_feat"
      ],
      "execution_count": 0,
      "outputs": []
    },
    {
      "cell_type": "code",
      "metadata": {
        "id": "5puqX_vgGzAX",
        "colab_type": "code",
        "outputId": "968ce5bf-0b91-4a66-f64d-781907ae359e",
        "colab": {
          "base_uri": "https://localhost:8080/",
          "height": 69
        }
      },
      "source": [
        "full_path1 = './UNSW_2018_IoT_Botnet_Full5pc_1.csv'\n",
        "\n",
        "full_df1 = pd.read_csv(full_path1)\n",
        "full_df1.shape"
      ],
      "execution_count": 0,
      "outputs": [
        {
          "output_type": "stream",
          "text": [
            "/usr/local/lib/python3.6/dist-packages/IPython/core/interactiveshell.py:2718: DtypeWarning: Columns (7,9) have mixed types. Specify dtype option on import or set low_memory=False.\n",
            "  interactivity=interactivity, compiler=compiler, result=result)\n"
          ],
          "name": "stderr"
        },
        {
          "output_type": "execute_result",
          "data": {
            "text/plain": [
              "(1000000, 46)"
            ]
          },
          "metadata": {
            "tags": []
          },
          "execution_count": 3
        }
      ]
    },
    {
      "cell_type": "code",
      "metadata": {
        "id": "fQMaWABVG0fy",
        "colab_type": "code",
        "outputId": "637e0e83-46b8-4e9c-dd3c-7c32f09047ae",
        "colab": {
          "base_uri": "https://localhost:8080/",
          "height": 69
        }
      },
      "source": [
        "full_path2 = './UNSW_2018_IoT_Botnet_Full5pc_2.csv'\n",
        "\n",
        "full_df2 = pd.read_csv(full_path2)\n",
        "full_df2.shape"
      ],
      "execution_count": 0,
      "outputs": [
        {
          "output_type": "stream",
          "text": [
            "/usr/local/lib/python3.6/dist-packages/IPython/core/interactiveshell.py:2718: DtypeWarning: Columns (7,9) have mixed types. Specify dtype option on import or set low_memory=False.\n",
            "  interactivity=interactivity, compiler=compiler, result=result)\n"
          ],
          "name": "stderr"
        },
        {
          "output_type": "execute_result",
          "data": {
            "text/plain": [
              "(1000000, 46)"
            ]
          },
          "metadata": {
            "tags": []
          },
          "execution_count": 4
        }
      ]
    },
    {
      "cell_type": "code",
      "metadata": {
        "id": "e02TL_2PG1FA",
        "colab_type": "code",
        "outputId": "5d7361d3-e8d4-4414-f93c-b945fed1b0ef",
        "colab": {
          "base_uri": "https://localhost:8080/",
          "height": 69
        }
      },
      "source": [
        "full_path3 = './UNSW_2018_IoT_Botnet_Full5pc_3.csv'\n",
        "\n",
        "full_df3 = pd.read_csv(full_path3)\n",
        "full_df3.shape"
      ],
      "execution_count": 0,
      "outputs": [
        {
          "output_type": "stream",
          "text": [
            "/usr/local/lib/python3.6/dist-packages/IPython/core/interactiveshell.py:2718: DtypeWarning: Columns (7,9) have mixed types. Specify dtype option on import or set low_memory=False.\n",
            "  interactivity=interactivity, compiler=compiler, result=result)\n"
          ],
          "name": "stderr"
        },
        {
          "output_type": "execute_result",
          "data": {
            "text/plain": [
              "(1000000, 46)"
            ]
          },
          "metadata": {
            "tags": []
          },
          "execution_count": 5
        }
      ]
    },
    {
      "cell_type": "code",
      "metadata": {
        "id": "YosAtzCiG2uD",
        "colab_type": "code",
        "outputId": "b3510f96-f60b-4988-e9cd-ab50c9d4a7b9",
        "colab": {
          "base_uri": "https://localhost:8080/",
          "height": 69
        }
      },
      "source": [
        "full_path4 = './UNSW_2018_IoT_Botnet_Full5pc_4.csv'\n",
        "\n",
        "full_df4 = pd.read_csv(full_path4)\n",
        "full_df4.shape"
      ],
      "execution_count": 0,
      "outputs": [
        {
          "output_type": "stream",
          "text": [
            "/usr/local/lib/python3.6/dist-packages/IPython/core/interactiveshell.py:2718: DtypeWarning: Columns (7,9) have mixed types. Specify dtype option on import or set low_memory=False.\n",
            "  interactivity=interactivity, compiler=compiler, result=result)\n"
          ],
          "name": "stderr"
        },
        {
          "output_type": "execute_result",
          "data": {
            "text/plain": [
              "(668522, 46)"
            ]
          },
          "metadata": {
            "tags": []
          },
          "execution_count": 6
        }
      ]
    },
    {
      "cell_type": "code",
      "metadata": {
        "id": "eHAELWUoG5C0",
        "colab_type": "code",
        "colab": {}
      },
      "source": [
        "frames = [full_df1, full_df2, full_df3, full_df4]\n",
        "combined_df = pd.concat(frames)\n",
        "\n",
        "combined_df = combined_df.sample(frac =.50)"
      ],
      "execution_count": 0,
      "outputs": []
    },
    {
      "cell_type": "code",
      "metadata": {
        "id": "BSY57lHtG7pb",
        "colab_type": "code",
        "outputId": "4f5a66a1-5b9c-48bf-9901-f7ac260a526e",
        "colab": {
          "base_uri": "https://localhost:8080/",
          "height": 34
        }
      },
      "source": [
        "combined_df['category'].unique()"
      ],
      "execution_count": 0,
      "outputs": [
        {
          "output_type": "execute_result",
          "data": {
            "text/plain": [
              "array(['DDoS', 'DoS', 'Reconnaissance', 'Normal', 'Theft'], dtype=object)"
            ]
          },
          "metadata": {
            "tags": []
          },
          "execution_count": 8
        }
      ]
    },
    {
      "cell_type": "code",
      "metadata": {
        "id": "DcMEhMSLHyWI",
        "colab_type": "code",
        "outputId": "35eae6c6-b963-4d4f-ec77-dc51db4225d3",
        "colab": {
          "base_uri": "https://localhost:8080/",
          "height": 52
        }
      },
      "source": [
        "combined_df['subcategory'].unique()"
      ],
      "execution_count": 0,
      "outputs": [
        {
          "output_type": "execute_result",
          "data": {
            "text/plain": [
              "array(['UDP', 'TCP', 'Service_Scan', 'OS_Fingerprint', 'HTTP', 'Normal',\n",
              "       'Keylogging', 'Data_Exfiltration'], dtype=object)"
            ]
          },
          "metadata": {
            "tags": []
          },
          "execution_count": 9
        }
      ]
    },
    {
      "cell_type": "code",
      "metadata": {
        "id": "vxbCwsPQH6Bp",
        "colab_type": "code",
        "outputId": "8585d242-17b5-420a-e40b-5fa136b36df4",
        "colab": {
          "base_uri": "https://localhost:8080/",
          "height": 121
        }
      },
      "source": [
        "rec = combined_df[combined_df['category'] == 'Reconnaissance']\n",
        "\n",
        "rec_ss_df = rec[rec['subcategory'] == 'Service_Scan']\n",
        "\n",
        "rec_ss_df['subcategory_number'] = 1"
      ],
      "execution_count": 0,
      "outputs": [
        {
          "output_type": "stream",
          "text": [
            "/usr/local/lib/python3.6/dist-packages/ipykernel_launcher.py:5: SettingWithCopyWarning: \n",
            "A value is trying to be set on a copy of a slice from a DataFrame.\n",
            "Try using .loc[row_indexer,col_indexer] = value instead\n",
            "\n",
            "See the caveats in the documentation: http://pandas.pydata.org/pandas-docs/stable/indexing.html#indexing-view-versus-copy\n",
            "  \"\"\"\n"
          ],
          "name": "stderr"
        }
      ]
    },
    {
      "cell_type": "code",
      "metadata": {
        "id": "AWJxRFzOH8CX",
        "colab_type": "code",
        "outputId": "6381d10b-7a75-498b-a6c3-4bcd8c2d6a84",
        "colab": {
          "base_uri": "https://localhost:8080/",
          "height": 121
        }
      },
      "source": [
        "rec_osf_df = rec[rec['subcategory'] == 'OS_Fingerprint']\n",
        "\n",
        "rec_osf_df['subcategory_number'] = 2"
      ],
      "execution_count": 0,
      "outputs": [
        {
          "output_type": "stream",
          "text": [
            "/usr/local/lib/python3.6/dist-packages/ipykernel_launcher.py:3: SettingWithCopyWarning: \n",
            "A value is trying to be set on a copy of a slice from a DataFrame.\n",
            "Try using .loc[row_indexer,col_indexer] = value instead\n",
            "\n",
            "See the caveats in the documentation: http://pandas.pydata.org/pandas-docs/stable/indexing.html#indexing-view-versus-copy\n",
            "  This is separate from the ipykernel package so we can avoid doing imports until\n"
          ],
          "name": "stderr"
        }
      ]
    },
    {
      "cell_type": "code",
      "metadata": {
        "id": "SAbWp5t3ItQt",
        "colab_type": "code",
        "outputId": "f871d6c9-f872-4d9e-9f07-ca61f3a0eb27",
        "colab": {
          "base_uri": "https://localhost:8080/",
          "height": 121
        }
      },
      "source": [
        "ddos = combined_df[combined_df['category'] == 'DDoS']\n",
        "\n",
        "ddos_tcp_df = ddos[ddos['subcategory'] == 'TCP']\n",
        "\n",
        "ddos_tcp_df['subcategory_number'] = 3"
      ],
      "execution_count": 0,
      "outputs": [
        {
          "output_type": "stream",
          "text": [
            "/usr/local/lib/python3.6/dist-packages/ipykernel_launcher.py:5: SettingWithCopyWarning: \n",
            "A value is trying to be set on a copy of a slice from a DataFrame.\n",
            "Try using .loc[row_indexer,col_indexer] = value instead\n",
            "\n",
            "See the caveats in the documentation: http://pandas.pydata.org/pandas-docs/stable/indexing.html#indexing-view-versus-copy\n",
            "  \"\"\"\n"
          ],
          "name": "stderr"
        }
      ]
    },
    {
      "cell_type": "code",
      "metadata": {
        "id": "RfmmtvXPIvfN",
        "colab_type": "code",
        "outputId": "0b2790db-bae2-4e3b-f23f-320b7c27089b",
        "colab": {
          "base_uri": "https://localhost:8080/",
          "height": 121
        }
      },
      "source": [
        "ddos_udp_df = ddos[ddos['subcategory'] == 'UDP']\n",
        "\n",
        "ddos_udp_df['subcategory_number'] = 4"
      ],
      "execution_count": 0,
      "outputs": [
        {
          "output_type": "stream",
          "text": [
            "/usr/local/lib/python3.6/dist-packages/ipykernel_launcher.py:3: SettingWithCopyWarning: \n",
            "A value is trying to be set on a copy of a slice from a DataFrame.\n",
            "Try using .loc[row_indexer,col_indexer] = value instead\n",
            "\n",
            "See the caveats in the documentation: http://pandas.pydata.org/pandas-docs/stable/indexing.html#indexing-view-versus-copy\n",
            "  This is separate from the ipykernel package so we can avoid doing imports until\n"
          ],
          "name": "stderr"
        }
      ]
    },
    {
      "cell_type": "code",
      "metadata": {
        "id": "4M1vc9-6I3fv",
        "colab_type": "code",
        "outputId": "5f764ee0-e22d-4541-c0d1-d45219f7c8d9",
        "colab": {
          "base_uri": "https://localhost:8080/",
          "height": 121
        }
      },
      "source": [
        "ddos_http_df = ddos[ddos['subcategory'] == 'HTTP']\n",
        "\n",
        "ddos_http_df['subcategory_number'] = 5"
      ],
      "execution_count": 0,
      "outputs": [
        {
          "output_type": "stream",
          "text": [
            "/usr/local/lib/python3.6/dist-packages/ipykernel_launcher.py:3: SettingWithCopyWarning: \n",
            "A value is trying to be set on a copy of a slice from a DataFrame.\n",
            "Try using .loc[row_indexer,col_indexer] = value instead\n",
            "\n",
            "See the caveats in the documentation: http://pandas.pydata.org/pandas-docs/stable/indexing.html#indexing-view-versus-copy\n",
            "  This is separate from the ipykernel package so we can avoid doing imports until\n"
          ],
          "name": "stderr"
        }
      ]
    },
    {
      "cell_type": "code",
      "metadata": {
        "id": "JHCz_q4kI4Ln",
        "colab_type": "code",
        "outputId": "a17e8ac0-d7ec-4e3c-a359-abda63cfcf72",
        "colab": {
          "base_uri": "https://localhost:8080/",
          "height": 121
        }
      },
      "source": [
        "dos = combined_df[combined_df['category'] == 'DoS']\n",
        "\n",
        "dos_tcp_df = dos[dos['subcategory'] == 'TCP']\n",
        "\n",
        "dos_tcp_df['subcategory_number'] = 6\n"
      ],
      "execution_count": 0,
      "outputs": [
        {
          "output_type": "stream",
          "text": [
            "/usr/local/lib/python3.6/dist-packages/ipykernel_launcher.py:5: SettingWithCopyWarning: \n",
            "A value is trying to be set on a copy of a slice from a DataFrame.\n",
            "Try using .loc[row_indexer,col_indexer] = value instead\n",
            "\n",
            "See the caveats in the documentation: http://pandas.pydata.org/pandas-docs/stable/indexing.html#indexing-view-versus-copy\n",
            "  \"\"\"\n"
          ],
          "name": "stderr"
        }
      ]
    },
    {
      "cell_type": "code",
      "metadata": {
        "id": "c2ExRyJfI9WP",
        "colab_type": "code",
        "outputId": "68dc0950-41c1-4f28-efe9-cbf3300fa894",
        "colab": {
          "base_uri": "https://localhost:8080/",
          "height": 121
        }
      },
      "source": [
        "dos_udp_df = dos[dos['subcategory'] == 'UDP']\n",
        "\n",
        "dos_udp_df['subcategory_number'] = 7"
      ],
      "execution_count": 0,
      "outputs": [
        {
          "output_type": "stream",
          "text": [
            "/usr/local/lib/python3.6/dist-packages/ipykernel_launcher.py:3: SettingWithCopyWarning: \n",
            "A value is trying to be set on a copy of a slice from a DataFrame.\n",
            "Try using .loc[row_indexer,col_indexer] = value instead\n",
            "\n",
            "See the caveats in the documentation: http://pandas.pydata.org/pandas-docs/stable/indexing.html#indexing-view-versus-copy\n",
            "  This is separate from the ipykernel package so we can avoid doing imports until\n"
          ],
          "name": "stderr"
        }
      ]
    },
    {
      "cell_type": "code",
      "metadata": {
        "id": "UxLcqKd9I_En",
        "colab_type": "code",
        "outputId": "efdce6b6-04a7-49b0-c1fd-365a7221fb69",
        "colab": {
          "base_uri": "https://localhost:8080/",
          "height": 121
        }
      },
      "source": [
        "dos_http_df = dos[dos['subcategory'] == 'HTTP']\n",
        "\n",
        "dos_http_df['subcategory_number'] = 8"
      ],
      "execution_count": 0,
      "outputs": [
        {
          "output_type": "stream",
          "text": [
            "/usr/local/lib/python3.6/dist-packages/ipykernel_launcher.py:3: SettingWithCopyWarning: \n",
            "A value is trying to be set on a copy of a slice from a DataFrame.\n",
            "Try using .loc[row_indexer,col_indexer] = value instead\n",
            "\n",
            "See the caveats in the documentation: http://pandas.pydata.org/pandas-docs/stable/indexing.html#indexing-view-versus-copy\n",
            "  This is separate from the ipykernel package so we can avoid doing imports until\n"
          ],
          "name": "stderr"
        }
      ]
    },
    {
      "cell_type": "code",
      "metadata": {
        "id": "JXbjsf6YJA8N",
        "colab_type": "code",
        "outputId": "b1e0bd00-cead-4db0-e2c7-b327e6afb4c2",
        "colab": {
          "base_uri": "https://localhost:8080/",
          "height": 121
        }
      },
      "source": [
        "norm = combined_df[combined_df['subcategory'] == 'Normal']\n",
        "norm['subcategory_number'] = 9"
      ],
      "execution_count": 0,
      "outputs": [
        {
          "output_type": "stream",
          "text": [
            "/usr/local/lib/python3.6/dist-packages/ipykernel_launcher.py:2: SettingWithCopyWarning: \n",
            "A value is trying to be set on a copy of a slice from a DataFrame.\n",
            "Try using .loc[row_indexer,col_indexer] = value instead\n",
            "\n",
            "See the caveats in the documentation: http://pandas.pydata.org/pandas-docs/stable/indexing.html#indexing-view-versus-copy\n",
            "  \n"
          ],
          "name": "stderr"
        }
      ]
    },
    {
      "cell_type": "code",
      "metadata": {
        "id": "PfsMiRfWJDcQ",
        "colab_type": "code",
        "outputId": "2f49f940-faf5-42d7-b9bc-59c05d0ecb87",
        "colab": {
          "base_uri": "https://localhost:8080/",
          "height": 121
        }
      },
      "source": [
        "theft = combined_df[combined_df['category'] == 'Theft']\n",
        "\n",
        "theft_key_df = theft[theft['subcategory'] == 'Keylogging']\n",
        "\n",
        "theft_key_df['subcategory_number'] = 10"
      ],
      "execution_count": 0,
      "outputs": [
        {
          "output_type": "stream",
          "text": [
            "/usr/local/lib/python3.6/dist-packages/ipykernel_launcher.py:5: SettingWithCopyWarning: \n",
            "A value is trying to be set on a copy of a slice from a DataFrame.\n",
            "Try using .loc[row_indexer,col_indexer] = value instead\n",
            "\n",
            "See the caveats in the documentation: http://pandas.pydata.org/pandas-docs/stable/indexing.html#indexing-view-versus-copy\n",
            "  \"\"\"\n"
          ],
          "name": "stderr"
        }
      ]
    },
    {
      "cell_type": "code",
      "metadata": {
        "id": "4o4kE7ajJGh3",
        "colab_type": "code",
        "outputId": "a587cbf5-97cc-449b-df60-5cd9a2485095",
        "colab": {
          "base_uri": "https://localhost:8080/",
          "height": 121
        }
      },
      "source": [
        "theft_de_df = theft[theft['subcategory'] == 'Data_Exfiltration']\n",
        "\n",
        "theft_de_df['subcategory_number'] = 11"
      ],
      "execution_count": 0,
      "outputs": [
        {
          "output_type": "stream",
          "text": [
            "/usr/local/lib/python3.6/dist-packages/ipykernel_launcher.py:3: SettingWithCopyWarning: \n",
            "A value is trying to be set on a copy of a slice from a DataFrame.\n",
            "Try using .loc[row_indexer,col_indexer] = value instead\n",
            "\n",
            "See the caveats in the documentation: http://pandas.pydata.org/pandas-docs/stable/indexing.html#indexing-view-versus-copy\n",
            "  This is separate from the ipykernel package so we can avoid doing imports until\n"
          ],
          "name": "stderr"
        }
      ]
    },
    {
      "cell_type": "code",
      "metadata": {
        "id": "GARfHHpWJIrh",
        "colab_type": "code",
        "colab": {}
      },
      "source": [
        "frames3 = [rec_ss_df, rec_osf_df, ddos_tcp_df, ddos_udp_df, ddos_http_df, dos_tcp_df, dos_udp_df, dos_http_df, norm, theft_key_df, theft_de_df]\n",
        "real_df = pd.concat(frames3)"
      ],
      "execution_count": 0,
      "outputs": []
    },
    {
      "cell_type": "code",
      "metadata": {
        "id": "FMexGdysHhMX",
        "colab_type": "code",
        "outputId": "885b974a-8c5d-4203-eab7-38dbc235a72d",
        "colab": {
          "base_uri": "https://localhost:8080/",
          "height": 226
        }
      },
      "source": [
        "real_df.head()"
      ],
      "execution_count": 0,
      "outputs": [
        {
          "output_type": "execute_result",
          "data": {
            "text/html": [
              "<div>\n",
              "<style scoped>\n",
              "    .dataframe tbody tr th:only-of-type {\n",
              "        vertical-align: middle;\n",
              "    }\n",
              "\n",
              "    .dataframe tbody tr th {\n",
              "        vertical-align: top;\n",
              "    }\n",
              "\n",
              "    .dataframe thead th {\n",
              "        text-align: right;\n",
              "    }\n",
              "</style>\n",
              "<table border=\"1\" class=\"dataframe\">\n",
              "  <thead>\n",
              "    <tr style=\"text-align: right;\">\n",
              "      <th></th>\n",
              "      <th>pkSeqID</th>\n",
              "      <th>stime</th>\n",
              "      <th>flgs</th>\n",
              "      <th>flgs_number</th>\n",
              "      <th>proto</th>\n",
              "      <th>proto_number</th>\n",
              "      <th>saddr</th>\n",
              "      <th>sport</th>\n",
              "      <th>daddr</th>\n",
              "      <th>dport</th>\n",
              "      <th>pkts</th>\n",
              "      <th>bytes</th>\n",
              "      <th>state</th>\n",
              "      <th>state_number</th>\n",
              "      <th>ltime</th>\n",
              "      <th>seq</th>\n",
              "      <th>dur</th>\n",
              "      <th>mean</th>\n",
              "      <th>stddev</th>\n",
              "      <th>sum</th>\n",
              "      <th>min</th>\n",
              "      <th>max</th>\n",
              "      <th>spkts</th>\n",
              "      <th>dpkts</th>\n",
              "      <th>sbytes</th>\n",
              "      <th>dbytes</th>\n",
              "      <th>rate</th>\n",
              "      <th>srate</th>\n",
              "      <th>drate</th>\n",
              "      <th>TnBPSrcIP</th>\n",
              "      <th>TnBPDstIP</th>\n",
              "      <th>TnP_PSrcIP</th>\n",
              "      <th>TnP_PDstIP</th>\n",
              "      <th>TnP_PerProto</th>\n",
              "      <th>TnP_Per_Dport</th>\n",
              "      <th>AR_P_Proto_P_SrcIP</th>\n",
              "      <th>AR_P_Proto_P_DstIP</th>\n",
              "      <th>N_IN_Conn_P_DstIP</th>\n",
              "      <th>N_IN_Conn_P_SrcIP</th>\n",
              "      <th>AR_P_Proto_P_Sport</th>\n",
              "      <th>AR_P_Proto_P_Dport</th>\n",
              "      <th>Pkts_P_State_P_Protocol_P_DestIP</th>\n",
              "      <th>Pkts_P_State_P_Protocol_P_SrcIP</th>\n",
              "      <th>attack</th>\n",
              "      <th>category</th>\n",
              "      <th>subcategory</th>\n",
              "      <th>subcategory_number</th>\n",
              "    </tr>\n",
              "  </thead>\n",
              "  <tbody>\n",
              "    <tr>\n",
              "      <th>643238</th>\n",
              "      <td>3643239</td>\n",
              "      <td>1.526349e+09</td>\n",
              "      <td>e</td>\n",
              "      <td>1</td>\n",
              "      <td>tcp</td>\n",
              "      <td>1</td>\n",
              "      <td>192.168.100.150</td>\n",
              "      <td>34468</td>\n",
              "      <td>192.168.100.3</td>\n",
              "      <td>7070</td>\n",
              "      <td>2</td>\n",
              "      <td>134</td>\n",
              "      <td>RST</td>\n",
              "      <td>1</td>\n",
              "      <td>1.526349e+09</td>\n",
              "      <td>19925</td>\n",
              "      <td>0.000003</td>\n",
              "      <td>0.000003</td>\n",
              "      <td>0.0</td>\n",
              "      <td>0.000003</td>\n",
              "      <td>0.000003</td>\n",
              "      <td>0.000003</td>\n",
              "      <td>1</td>\n",
              "      <td>1</td>\n",
              "      <td>74</td>\n",
              "      <td>60</td>\n",
              "      <td>333333.312500</td>\n",
              "      <td>0.000000</td>\n",
              "      <td>0.000000</td>\n",
              "      <td>13400</td>\n",
              "      <td>13400</td>\n",
              "      <td>200</td>\n",
              "      <td>200</td>\n",
              "      <td>200</td>\n",
              "      <td>2</td>\n",
              "      <td>119048.0000</td>\n",
              "      <td>119048.0000</td>\n",
              "      <td>100</td>\n",
              "      <td>100</td>\n",
              "      <td>666667.0000</td>\n",
              "      <td>666667.0000</td>\n",
              "      <td>200</td>\n",
              "      <td>200</td>\n",
              "      <td>1</td>\n",
              "      <td>Reconnaissance</td>\n",
              "      <td>Service_Scan</td>\n",
              "      <td>1</td>\n",
              "    </tr>\n",
              "    <tr>\n",
              "      <th>650799</th>\n",
              "      <td>3650800</td>\n",
              "      <td>1.526349e+09</td>\n",
              "      <td>e</td>\n",
              "      <td>1</td>\n",
              "      <td>tcp</td>\n",
              "      <td>1</td>\n",
              "      <td>192.168.100.147</td>\n",
              "      <td>47804</td>\n",
              "      <td>192.168.100.5</td>\n",
              "      <td>4224</td>\n",
              "      <td>2</td>\n",
              "      <td>134</td>\n",
              "      <td>RST</td>\n",
              "      <td>1</td>\n",
              "      <td>1.526349e+09</td>\n",
              "      <td>27523</td>\n",
              "      <td>0.000827</td>\n",
              "      <td>0.000827</td>\n",
              "      <td>0.0</td>\n",
              "      <td>0.000827</td>\n",
              "      <td>0.000827</td>\n",
              "      <td>0.000827</td>\n",
              "      <td>1</td>\n",
              "      <td>1</td>\n",
              "      <td>74</td>\n",
              "      <td>60</td>\n",
              "      <td>1209.189819</td>\n",
              "      <td>0.000000</td>\n",
              "      <td>0.000000</td>\n",
              "      <td>13548</td>\n",
              "      <td>13548</td>\n",
              "      <td>202</td>\n",
              "      <td>202</td>\n",
              "      <td>202</td>\n",
              "      <td>2</td>\n",
              "      <td>96.0502</td>\n",
              "      <td>96.0502</td>\n",
              "      <td>100</td>\n",
              "      <td>100</td>\n",
              "      <td>2418.3800</td>\n",
              "      <td>2418.3800</td>\n",
              "      <td>202</td>\n",
              "      <td>202</td>\n",
              "      <td>1</td>\n",
              "      <td>Reconnaissance</td>\n",
              "      <td>Service_Scan</td>\n",
              "      <td>1</td>\n",
              "    </tr>\n",
              "    <tr>\n",
              "      <th>655039</th>\n",
              "      <td>3655040</td>\n",
              "      <td>1.526349e+09</td>\n",
              "      <td>eU</td>\n",
              "      <td>6</td>\n",
              "      <td>udp</td>\n",
              "      <td>3</td>\n",
              "      <td>192.168.100.148</td>\n",
              "      <td>44350</td>\n",
              "      <td>192.168.100.5</td>\n",
              "      <td>34579</td>\n",
              "      <td>1</td>\n",
              "      <td>60</td>\n",
              "      <td>INT</td>\n",
              "      <td>4</td>\n",
              "      <td>1.526349e+09</td>\n",
              "      <td>31806</td>\n",
              "      <td>0.000132</td>\n",
              "      <td>0.000132</td>\n",
              "      <td>0.0</td>\n",
              "      <td>0.000132</td>\n",
              "      <td>0.000132</td>\n",
              "      <td>0.000132</td>\n",
              "      <td>1</td>\n",
              "      <td>0</td>\n",
              "      <td>60</td>\n",
              "      <td>0</td>\n",
              "      <td>0.000000</td>\n",
              "      <td>0.000000</td>\n",
              "      <td>0.000000</td>\n",
              "      <td>2520</td>\n",
              "      <td>5760</td>\n",
              "      <td>42</td>\n",
              "      <td>96</td>\n",
              "      <td>96</td>\n",
              "      <td>1</td>\n",
              "      <td>31111.1000</td>\n",
              "      <td>30739.7000</td>\n",
              "      <td>96</td>\n",
              "      <td>42</td>\n",
              "      <td>25316.5000</td>\n",
              "      <td>7575.7600</td>\n",
              "      <td>96</td>\n",
              "      <td>42</td>\n",
              "      <td>1</td>\n",
              "      <td>Reconnaissance</td>\n",
              "      <td>Service_Scan</td>\n",
              "      <td>1</td>\n",
              "    </tr>\n",
              "    <tr>\n",
              "      <th>617309</th>\n",
              "      <td>3617310</td>\n",
              "      <td>1.526346e+09</td>\n",
              "      <td>e</td>\n",
              "      <td>1</td>\n",
              "      <td>tcp</td>\n",
              "      <td>1</td>\n",
              "      <td>192.168.100.147</td>\n",
              "      <td>47478</td>\n",
              "      <td>192.168.100.3</td>\n",
              "      <td>3306</td>\n",
              "      <td>13</td>\n",
              "      <td>1113</td>\n",
              "      <td>FIN</td>\n",
              "      <td>6</td>\n",
              "      <td>1.526346e+09</td>\n",
              "      <td>22741</td>\n",
              "      <td>0.199228</td>\n",
              "      <td>0.199228</td>\n",
              "      <td>0.0</td>\n",
              "      <td>0.199228</td>\n",
              "      <td>0.199228</td>\n",
              "      <td>0.199228</td>\n",
              "      <td>7</td>\n",
              "      <td>6</td>\n",
              "      <td>532</td>\n",
              "      <td>581</td>\n",
              "      <td>60.232498</td>\n",
              "      <td>30.116249</td>\n",
              "      <td>25.096874</td>\n",
              "      <td>27825</td>\n",
              "      <td>111300</td>\n",
              "      <td>325</td>\n",
              "      <td>1300</td>\n",
              "      <td>1300</td>\n",
              "      <td>1300</td>\n",
              "      <td>65.5183</td>\n",
              "      <td>65.5602</td>\n",
              "      <td>100</td>\n",
              "      <td>25</td>\n",
              "      <td>65.2519</td>\n",
              "      <td>65.5602</td>\n",
              "      <td>1300</td>\n",
              "      <td>325</td>\n",
              "      <td>1</td>\n",
              "      <td>Reconnaissance</td>\n",
              "      <td>Service_Scan</td>\n",
              "      <td>1</td>\n",
              "    </tr>\n",
              "    <tr>\n",
              "      <th>627089</th>\n",
              "      <td>3627090</td>\n",
              "      <td>1.526348e+09</td>\n",
              "      <td>e</td>\n",
              "      <td>1</td>\n",
              "      <td>tcp</td>\n",
              "      <td>1</td>\n",
              "      <td>192.168.100.147</td>\n",
              "      <td>1312</td>\n",
              "      <td>192.168.100.3</td>\n",
              "      <td>1</td>\n",
              "      <td>1</td>\n",
              "      <td>60</td>\n",
              "      <td>RST</td>\n",
              "      <td>1</td>\n",
              "      <td>1.526348e+09</td>\n",
              "      <td>3300</td>\n",
              "      <td>0.000000</td>\n",
              "      <td>0.000000</td>\n",
              "      <td>0.0</td>\n",
              "      <td>0.000000</td>\n",
              "      <td>0.000000</td>\n",
              "      <td>0.000000</td>\n",
              "      <td>1</td>\n",
              "      <td>0</td>\n",
              "      <td>60</td>\n",
              "      <td>0</td>\n",
              "      <td>0.000000</td>\n",
              "      <td>0.000000</td>\n",
              "      <td>0.000000</td>\n",
              "      <td>1980</td>\n",
              "      <td>6000</td>\n",
              "      <td>33</td>\n",
              "      <td>100</td>\n",
              "      <td>100</td>\n",
              "      <td>100</td>\n",
              "      <td>0.0000</td>\n",
              "      <td>0.0000</td>\n",
              "      <td>100</td>\n",
              "      <td>33</td>\n",
              "      <td>0.0000</td>\n",
              "      <td>0.0000</td>\n",
              "      <td>100</td>\n",
              "      <td>33</td>\n",
              "      <td>1</td>\n",
              "      <td>Reconnaissance</td>\n",
              "      <td>Service_Scan</td>\n",
              "      <td>1</td>\n",
              "    </tr>\n",
              "  </tbody>\n",
              "</table>\n",
              "</div>"
            ],
            "text/plain": [
              "        pkSeqID         stime  ...   subcategory  subcategory_number\n",
              "643238  3643239  1.526349e+09  ...  Service_Scan                   1\n",
              "650799  3650800  1.526349e+09  ...  Service_Scan                   1\n",
              "655039  3655040  1.526349e+09  ...  Service_Scan                   1\n",
              "617309  3617310  1.526346e+09  ...  Service_Scan                   1\n",
              "627089  3627090  1.526348e+09  ...  Service_Scan                   1\n",
              "\n",
              "[5 rows x 47 columns]"
            ]
          },
          "metadata": {
            "tags": []
          },
          "execution_count": 22
        }
      ]
    },
    {
      "cell_type": "code",
      "metadata": {
        "id": "YIPChD436Fg0",
        "colab_type": "code",
        "colab": {}
      },
      "source": [
        "real_df.to_csv('botiot_12c.csv')"
      ],
      "execution_count": 0,
      "outputs": []
    },
    {
      "cell_type": "markdown",
      "metadata": {
        "id": "2s8M5vVZd7zF",
        "colab_type": "text"
      },
      "source": [
        "# Quick feature selection"
      ]
    },
    {
      "cell_type": "code",
      "metadata": {
        "id": "cQNQ_W5mJPsA",
        "colab_type": "code",
        "outputId": "e46034a8-417e-4746-91ae-a347678e0b44",
        "colab": {
          "base_uri": "https://localhost:8080/",
          "height": 226
        }
      },
      "source": [
        "#test_df =  real_df[['subcategory_number', 'dur', 'flgs_number', 'proto_number', 'pkts', 'bytes', 'state_number']] #'dur' 'ltime' 'stime'\n",
        "test_df = real_df.drop(['flgs', 'proto', 'saddr', 'daddr', 'sport', 'dport', 'state', 'category', 'subcategory', 'attack'],axis=1)\n",
        "test_df = test_df.drop(['TnBPSrcIP', 'TnBPDstIP', 'TnP_PSrcIP', 'TnP_PDstIP', 'TnP_PerProto', 'TnP_Per_Dport', 'AR_P_Proto_P_SrcIP', 'AR_P_Proto_P_DstIP', 'N_IN_Conn_P_DstIP', 'N_IN_Conn_P_SrcIP', 'AR_P_Proto_P_Sport', 'AR_P_Proto_P_Dport', 'Pkts_P_State_P_Protocol_P_DestIP', 'Pkts_P_State_P_Protocol_P_SrcIP'],axis=1)\n",
        "                     \n",
        "test_df = test_df.sample(frac =.05)\n",
        "test_df.head()"
      ],
      "execution_count": 0,
      "outputs": [
        {
          "output_type": "execute_result",
          "data": {
            "text/html": [
              "<div>\n",
              "<style scoped>\n",
              "    .dataframe tbody tr th:only-of-type {\n",
              "        vertical-align: middle;\n",
              "    }\n",
              "\n",
              "    .dataframe tbody tr th {\n",
              "        vertical-align: top;\n",
              "    }\n",
              "\n",
              "    .dataframe thead th {\n",
              "        text-align: right;\n",
              "    }\n",
              "</style>\n",
              "<table border=\"1\" class=\"dataframe\">\n",
              "  <thead>\n",
              "    <tr style=\"text-align: right;\">\n",
              "      <th></th>\n",
              "      <th>pkSeqID</th>\n",
              "      <th>stime</th>\n",
              "      <th>flgs_number</th>\n",
              "      <th>proto_number</th>\n",
              "      <th>pkts</th>\n",
              "      <th>bytes</th>\n",
              "      <th>state_number</th>\n",
              "      <th>ltime</th>\n",
              "      <th>seq</th>\n",
              "      <th>dur</th>\n",
              "      <th>mean</th>\n",
              "      <th>stddev</th>\n",
              "      <th>sum</th>\n",
              "      <th>min</th>\n",
              "      <th>max</th>\n",
              "      <th>spkts</th>\n",
              "      <th>dpkts</th>\n",
              "      <th>sbytes</th>\n",
              "      <th>dbytes</th>\n",
              "      <th>rate</th>\n",
              "      <th>srate</th>\n",
              "      <th>drate</th>\n",
              "      <th>subcategory_number</th>\n",
              "    </tr>\n",
              "  </thead>\n",
              "  <tbody>\n",
              "    <tr>\n",
              "      <th>282189</th>\n",
              "      <td>2282190</td>\n",
              "      <td>1.528096e+09</td>\n",
              "      <td>2</td>\n",
              "      <td>1</td>\n",
              "      <td>6</td>\n",
              "      <td>736</td>\n",
              "      <td>1</td>\n",
              "      <td>1.528096e+09</td>\n",
              "      <td>106650</td>\n",
              "      <td>11.116894</td>\n",
              "      <td>2.488026</td>\n",
              "      <td>1.760663</td>\n",
              "      <td>7.464077</td>\n",
              "      <td>0.000000</td>\n",
              "      <td>3.816878</td>\n",
              "      <td>5</td>\n",
              "      <td>1</td>\n",
              "      <td>676</td>\n",
              "      <td>60</td>\n",
              "      <td>0.449766</td>\n",
              "      <td>0.359813</td>\n",
              "      <td>0.0</td>\n",
              "      <td>3</td>\n",
              "    </tr>\n",
              "    <tr>\n",
              "      <th>555854</th>\n",
              "      <td>1555855</td>\n",
              "      <td>1.528085e+09</td>\n",
              "      <td>1</td>\n",
              "      <td>3</td>\n",
              "      <td>7</td>\n",
              "      <td>420</td>\n",
              "      <td>4</td>\n",
              "      <td>1.528085e+09</td>\n",
              "      <td>152112</td>\n",
              "      <td>25.038790</td>\n",
              "      <td>3.017092</td>\n",
              "      <td>1.742039</td>\n",
              "      <td>12.068369</td>\n",
              "      <td>0.000000</td>\n",
              "      <td>4.044603</td>\n",
              "      <td>7</td>\n",
              "      <td>0</td>\n",
              "      <td>420</td>\n",
              "      <td>0</td>\n",
              "      <td>0.239628</td>\n",
              "      <td>0.239628</td>\n",
              "      <td>0.0</td>\n",
              "      <td>7</td>\n",
              "    </tr>\n",
              "    <tr>\n",
              "      <th>318428</th>\n",
              "      <td>3318429</td>\n",
              "      <td>1.528099e+09</td>\n",
              "      <td>1</td>\n",
              "      <td>3</td>\n",
              "      <td>7</td>\n",
              "      <td>420</td>\n",
              "      <td>4</td>\n",
              "      <td>1.528099e+09</td>\n",
              "      <td>165501</td>\n",
              "      <td>12.225158</td>\n",
              "      <td>2.725373</td>\n",
              "      <td>1.927207</td>\n",
              "      <td>8.176120</td>\n",
              "      <td>0.000000</td>\n",
              "      <td>4.109223</td>\n",
              "      <td>7</td>\n",
              "      <td>0</td>\n",
              "      <td>420</td>\n",
              "      <td>0</td>\n",
              "      <td>0.490791</td>\n",
              "      <td>0.490791</td>\n",
              "      <td>0.0</td>\n",
              "      <td>4</td>\n",
              "    </tr>\n",
              "    <tr>\n",
              "      <th>180779</th>\n",
              "      <td>1180780</td>\n",
              "      <td>1.528085e+09</td>\n",
              "      <td>1</td>\n",
              "      <td>3</td>\n",
              "      <td>7</td>\n",
              "      <td>420</td>\n",
              "      <td>4</td>\n",
              "      <td>1.528085e+09</td>\n",
              "      <td>39191</td>\n",
              "      <td>31.483644</td>\n",
              "      <td>1.675230</td>\n",
              "      <td>2.053394</td>\n",
              "      <td>8.376150</td>\n",
              "      <td>0.000000</td>\n",
              "      <td>4.318780</td>\n",
              "      <td>7</td>\n",
              "      <td>0</td>\n",
              "      <td>420</td>\n",
              "      <td>0</td>\n",
              "      <td>0.190575</td>\n",
              "      <td>0.190575</td>\n",
              "      <td>0.0</td>\n",
              "      <td>7</td>\n",
              "    </tr>\n",
              "    <tr>\n",
              "      <th>666482</th>\n",
              "      <td>3666483</td>\n",
              "      <td>1.526350e+09</td>\n",
              "      <td>1</td>\n",
              "      <td>1</td>\n",
              "      <td>2</td>\n",
              "      <td>120</td>\n",
              "      <td>1</td>\n",
              "      <td>1.526350e+09</td>\n",
              "      <td>7222</td>\n",
              "      <td>0.003289</td>\n",
              "      <td>0.003289</td>\n",
              "      <td>0.000000</td>\n",
              "      <td>0.003289</td>\n",
              "      <td>0.003289</td>\n",
              "      <td>0.003289</td>\n",
              "      <td>1</td>\n",
              "      <td>1</td>\n",
              "      <td>60</td>\n",
              "      <td>60</td>\n",
              "      <td>304.043793</td>\n",
              "      <td>0.000000</td>\n",
              "      <td>0.0</td>\n",
              "      <td>1</td>\n",
              "    </tr>\n",
              "  </tbody>\n",
              "</table>\n",
              "</div>"
            ],
            "text/plain": [
              "        pkSeqID         stime  flgs_number  ...     srate  drate  subcategory_number\n",
              "282189  2282190  1.528096e+09            2  ...  0.359813    0.0                   3\n",
              "555854  1555855  1.528085e+09            1  ...  0.239628    0.0                   7\n",
              "318428  3318429  1.528099e+09            1  ...  0.490791    0.0                   4\n",
              "180779  1180780  1.528085e+09            1  ...  0.190575    0.0                   7\n",
              "666482  3666483  1.526350e+09            1  ...  0.000000    0.0                   1\n",
              "\n",
              "[5 rows x 23 columns]"
            ]
          },
          "metadata": {
            "tags": []
          },
          "execution_count": 119
        }
      ]
    },
    {
      "cell_type": "code",
      "metadata": {
        "id": "ZBwEgIqxEazD",
        "colab_type": "code",
        "colab": {}
      },
      "source": [
        "test_df = real_df[['proto_number', 'flgs_number', 'pkts', 'bytes', 'dur', 'mean', 'rate', 'sum', 'subcategory_number']]\n",
        "test_df = test_df.sample(frac =.04)"
      ],
      "execution_count": 0,
      "outputs": []
    },
    {
      "cell_type": "code",
      "metadata": {
        "id": "ock6hwyqNDSa",
        "colab_type": "code",
        "colab": {}
      },
      "source": [
        "#putting labels in first index\n",
        "cols = test_df.columns.tolist()\n",
        "cols = cols[-1:] + cols[:-1]"
      ],
      "execution_count": 0,
      "outputs": []
    },
    {
      "cell_type": "code",
      "metadata": {
        "id": "7iXEuOHDNvrs",
        "colab_type": "code",
        "outputId": "027097a1-924f-42a8-9c5e-26bce67a56ef",
        "colab": {
          "base_uri": "https://localhost:8080/",
          "height": 206
        }
      },
      "source": [
        "test_df = test_df[cols]\n",
        "test_df.head()"
      ],
      "execution_count": 0,
      "outputs": [
        {
          "output_type": "execute_result",
          "data": {
            "text/html": [
              "<div>\n",
              "<style scoped>\n",
              "    .dataframe tbody tr th:only-of-type {\n",
              "        vertical-align: middle;\n",
              "    }\n",
              "\n",
              "    .dataframe tbody tr th {\n",
              "        vertical-align: top;\n",
              "    }\n",
              "\n",
              "    .dataframe thead th {\n",
              "        text-align: right;\n",
              "    }\n",
              "</style>\n",
              "<table border=\"1\" class=\"dataframe\">\n",
              "  <thead>\n",
              "    <tr style=\"text-align: right;\">\n",
              "      <th></th>\n",
              "      <th>subcategory_number</th>\n",
              "      <th>proto_number</th>\n",
              "      <th>flgs_number</th>\n",
              "      <th>pkts</th>\n",
              "      <th>bytes</th>\n",
              "      <th>dur</th>\n",
              "      <th>mean</th>\n",
              "      <th>rate</th>\n",
              "      <th>sum</th>\n",
              "    </tr>\n",
              "  </thead>\n",
              "  <tbody>\n",
              "    <tr>\n",
              "      <th>714274</th>\n",
              "      <td>7</td>\n",
              "      <td>3</td>\n",
              "      <td>1</td>\n",
              "      <td>10</td>\n",
              "      <td>600</td>\n",
              "      <td>26.121122</td>\n",
              "      <td>1.722479</td>\n",
              "      <td>0.344549</td>\n",
              "      <td>10.334875</td>\n",
              "    </tr>\n",
              "    <tr>\n",
              "      <th>250503</th>\n",
              "      <td>7</td>\n",
              "      <td>3</td>\n",
              "      <td>1</td>\n",
              "      <td>8</td>\n",
              "      <td>480</td>\n",
              "      <td>32.912247</td>\n",
              "      <td>2.224280</td>\n",
              "      <td>0.212687</td>\n",
              "      <td>11.121402</td>\n",
              "    </tr>\n",
              "    <tr>\n",
              "      <th>80568</th>\n",
              "      <td>4</td>\n",
              "      <td>3</td>\n",
              "      <td>1</td>\n",
              "      <td>11</td>\n",
              "      <td>660</td>\n",
              "      <td>13.706424</td>\n",
              "      <td>3.655020</td>\n",
              "      <td>0.729585</td>\n",
              "      <td>10.965061</td>\n",
              "    </tr>\n",
              "    <tr>\n",
              "      <th>9800</th>\n",
              "      <td>6</td>\n",
              "      <td>1</td>\n",
              "      <td>2</td>\n",
              "      <td>5</td>\n",
              "      <td>770</td>\n",
              "      <td>30.709261</td>\n",
              "      <td>0.000000</td>\n",
              "      <td>0.130254</td>\n",
              "      <td>0.000000</td>\n",
              "    </tr>\n",
              "    <tr>\n",
              "      <th>718985</th>\n",
              "      <td>3</td>\n",
              "      <td>1</td>\n",
              "      <td>5</td>\n",
              "      <td>6</td>\n",
              "      <td>548</td>\n",
              "      <td>14.659638</td>\n",
              "      <td>2.429756</td>\n",
              "      <td>0.341073</td>\n",
              "      <td>4.859512</td>\n",
              "    </tr>\n",
              "  </tbody>\n",
              "</table>\n",
              "</div>"
            ],
            "text/plain": [
              "        subcategory_number  proto_number  ...      rate        sum\n",
              "714274                   7             3  ...  0.344549  10.334875\n",
              "250503                   7             3  ...  0.212687  11.121402\n",
              "80568                    4             3  ...  0.729585  10.965061\n",
              "9800                     6             1  ...  0.130254   0.000000\n",
              "718985                   3             1  ...  0.341073   4.859512\n",
              "\n",
              "[5 rows x 9 columns]"
            ]
          },
          "metadata": {
            "tags": []
          },
          "execution_count": 30
        }
      ]
    },
    {
      "cell_type": "code",
      "metadata": {
        "id": "Llizw4UjpBIf",
        "colab_type": "code",
        "outputId": "b3e9bc71-d915-4708-fb53-dabad05b4778",
        "colab": {
          "base_uri": "https://localhost:8080/",
          "height": 34
        }
      },
      "source": [
        "from sklearn.neighbors import KNeighborsClassifier\n",
        "from sklearn.model_selection import train_test_split\n",
        "\n",
        "X = test_df.drop(['subcategory_number'],axis=1).values\n",
        "\n",
        "Y = test_df['subcategory_number'].values\n",
        "\n",
        "X_train, X_test, Y_train, Y_test = train_test_split(X, Y, test_size=0.3, random_state=1)\n",
        "\n",
        "knn = KNeighborsClassifier(n_neighbors=2)\n",
        "\n",
        "knn = knn.fit(X_train,Y_train)\n",
        "\n",
        "Y_pred = knn.predict(X_test)\n",
        "\n",
        "knn_acc = knn.score(X_test, Y_test)\n",
        "knn_acc"
      ],
      "execution_count": 0,
      "outputs": [
        {
          "output_type": "execute_result",
          "data": {
            "text/plain": [
              "0.9905501794557267"
            ]
          },
          "metadata": {
            "tags": []
          },
          "execution_count": 27
        }
      ]
    },
    {
      "cell_type": "markdown",
      "metadata": {
        "id": "pVR86AzaeCCd",
        "colab_type": "text"
      },
      "source": [
        "# Creating Features"
      ]
    },
    {
      "cell_type": "code",
      "metadata": {
        "id": "HvxS4fjdeAXr",
        "colab_type": "code",
        "outputId": "6224d0bd-dc6e-41bf-f489-acf4c26f72ef",
        "colab": {
          "base_uri": "https://localhost:8080/",
          "height": 34
        }
      },
      "source": [
        "real_df['stime'].nunique()"
      ],
      "execution_count": 0,
      "outputs": [
        {
          "output_type": "execute_result",
          "data": {
            "text/plain": [
              "357167"
            ]
          },
          "metadata": {
            "tags": []
          },
          "execution_count": 64
        }
      ]
    },
    {
      "cell_type": "code",
      "metadata": {
        "id": "sn9HCVCtz3O1",
        "colab_type": "code",
        "outputId": "f2f8ae30-f7ca-4ee6-88af-cf277d088eb3",
        "colab": {
          "base_uri": "https://localhost:8080/",
          "height": 69
        }
      },
      "source": [
        "print(real_df['stime'].max())\n",
        "print(real_df['stime'].min())\n",
        "\n",
        "print(real_df['stime'].max() - real_df['stime'].min())"
      ],
      "execution_count": 0,
      "outputs": [
        {
          "output_type": "stream",
          "text": [
            "1529380790.94896\n",
            "1526344031.6651402\n",
            "3036759.283819914\n"
          ],
          "name": "stdout"
        }
      ]
    },
    {
      "cell_type": "code",
      "metadata": {
        "id": "XCE-pJa00M_C",
        "colab_type": "code",
        "outputId": "7fafe7f9-7bc5-4b0a-bf88-be8233ab75be",
        "colab": {
          "base_uri": "https://localhost:8080/",
          "height": 34
        }
      },
      "source": [
        "mins = 3036759/60\n",
        "mins/60"
      ],
      "execution_count": 0,
      "outputs": [
        {
          "output_type": "execute_result",
          "data": {
            "text/plain": [
              "843.5441666666667"
            ]
          },
          "metadata": {
            "tags": []
          },
          "execution_count": 71
        }
      ]
    },
    {
      "cell_type": "code",
      "metadata": {
        "id": "ETebb_mHnuny",
        "colab_type": "code",
        "outputId": "5dd32b38-0822-44d7-f591-dab23457e2b9",
        "colab": {
          "base_uri": "https://localhost:8080/",
          "height": 34
        }
      },
      "source": [
        "real_df['dur'].max()"
      ],
      "execution_count": 0,
      "outputs": [
        {
          "output_type": "execute_result",
          "data": {
            "text/plain": [
              "2771.485107"
            ]
          },
          "metadata": {
            "tags": []
          },
          "execution_count": 115
        }
      ]
    },
    {
      "cell_type": "markdown",
      "metadata": {
        "id": "HDNgrWEzObZ4",
        "colab_type": "text"
      },
      "source": [
        "# Preprocessing For ProtoNN and Bonsai"
      ]
    },
    {
      "cell_type": "code",
      "metadata": {
        "id": "mDu45lwLPICO",
        "colab_type": "code",
        "colab": {}
      },
      "source": [
        "test_df['extra'] = 0"
      ],
      "execution_count": 0,
      "outputs": []
    },
    {
      "cell_type": "code",
      "metadata": {
        "id": "WanfskWHOBNr",
        "colab_type": "code",
        "colab": {}
      },
      "source": [
        "from sklearn.model_selection import train_test_split\n",
        "\n",
        "s_train_combined, s_test_combined = train_test_split(test_df, test_size=0.3)"
      ],
      "execution_count": 0,
      "outputs": []
    },
    {
      "cell_type": "code",
      "metadata": {
        "id": "HWuUgLeSOju6",
        "colab_type": "code",
        "outputId": "a7ce6201-dac2-4909-c463-406d32f2503d",
        "colab": {
          "base_uri": "https://localhost:8080/",
          "height": 34
        }
      },
      "source": [
        "s_train_combined_np = s_train_combined.to_numpy()\n",
        "s_train_combined_np.shape"
      ],
      "execution_count": 0,
      "outputs": [
        {
          "output_type": "execute_result",
          "data": {
            "text/plain": [
              "(51359, 10)"
            ]
          },
          "metadata": {
            "tags": []
          },
          "execution_count": 33
        }
      ]
    },
    {
      "cell_type": "code",
      "metadata": {
        "id": "prR75tUvOlcA",
        "colab_type": "code",
        "outputId": "e8b6f07c-ddf0-4f82-84d4-1894ffc71db3",
        "colab": {
          "base_uri": "https://localhost:8080/",
          "height": 34
        }
      },
      "source": [
        "s_test_combined_np = s_test_combined.to_numpy()\n",
        "s_test_combined_np.shape"
      ],
      "execution_count": 0,
      "outputs": [
        {
          "output_type": "execute_result",
          "data": {
            "text/plain": [
              "(22011, 10)"
            ]
          },
          "metadata": {
            "tags": []
          },
          "execution_count": 34
        }
      ]
    },
    {
      "cell_type": "code",
      "metadata": {
        "id": "9AUlVBAYOnP7",
        "colab_type": "code",
        "colab": {}
      },
      "source": [
        "np.save('bot_iot_train_10', s_train_combined_np)\n",
        "\n",
        "np.save('bot_iot_test_10', s_test_combined_np)"
      ],
      "execution_count": 0,
      "outputs": []
    },
    {
      "cell_type": "markdown",
      "metadata": {
        "id": "6MQgIMg5SXa4",
        "colab_type": "text"
      },
      "source": [
        "# For SFSVC"
      ]
    },
    {
      "cell_type": "markdown",
      "metadata": {
        "id": "h3Us15QNSZ_q",
        "colab_type": "text"
      },
      "source": [
        "## Training"
      ]
    },
    {
      "cell_type": "code",
      "metadata": {
        "id": "jv907AvuSZSE",
        "colab_type": "code",
        "colab": {}
      },
      "source": [
        "s_train_combined = s_train_combined.drop(columns=['extra'])\n",
        "#making an array of just the labels for the data\n",
        "\n",
        "training_labels_df = s_train_combined['subcategory_number'].copy()"
      ],
      "execution_count": 0,
      "outputs": []
    },
    {
      "cell_type": "code",
      "metadata": {
        "id": "IzKAJlS3SWDF",
        "colab_type": "code",
        "colab": {}
      },
      "source": [
        "training_labels = training_labels_df.to_numpy()"
      ],
      "execution_count": 0,
      "outputs": []
    },
    {
      "cell_type": "code",
      "metadata": {
        "id": "yDp8tfUFShco",
        "colab_type": "code",
        "outputId": "f039715b-b979-49ab-9b14-9226ca3be5eb",
        "colab": {
          "base_uri": "https://localhost:8080/",
          "height": 34
        }
      },
      "source": [
        "t_labels = training_labels.reshape(1, training_labels_df.shape[0])\n",
        "t_labels.shape"
      ],
      "execution_count": 0,
      "outputs": [
        {
          "output_type": "execute_result",
          "data": {
            "text/plain": [
              "(1, 51359)"
            ]
          },
          "metadata": {
            "tags": []
          },
          "execution_count": 39
        }
      ]
    },
    {
      "cell_type": "code",
      "metadata": {
        "id": "Wq3qF37wSjhD",
        "colab_type": "code",
        "outputId": "70934f7f-4f43-42c7-b796-2d4d4b9c7aab",
        "colab": {
          "base_uri": "https://localhost:8080/",
          "height": 34
        }
      },
      "source": [
        "t_labels = t_labels.astype(np.double)\n",
        "t_labels.shape"
      ],
      "execution_count": 0,
      "outputs": [
        {
          "output_type": "execute_result",
          "data": {
            "text/plain": [
              "(1, 51359)"
            ]
          },
          "metadata": {
            "tags": []
          },
          "execution_count": 40
        }
      ]
    },
    {
      "cell_type": "code",
      "metadata": {
        "id": "X7uNkTfxSkA1",
        "colab_type": "code",
        "colab": {}
      },
      "source": [
        "training_samples_df = s_train_combined.drop(columns=['subcategory_number'])\n",
        "#training_samples_df.head()"
      ],
      "execution_count": 0,
      "outputs": []
    },
    {
      "cell_type": "code",
      "metadata": {
        "id": "a7QvmAPkSld0",
        "colab_type": "code",
        "outputId": "af53a099-07fc-4f22-91fd-c85ae1597f90",
        "colab": {
          "base_uri": "https://localhost:8080/",
          "height": 34
        }
      },
      "source": [
        "training_samples = training_samples_df.to_numpy()\n",
        "training_samples.shape"
      ],
      "execution_count": 0,
      "outputs": [
        {
          "output_type": "execute_result",
          "data": {
            "text/plain": [
              "(51359, 8)"
            ]
          },
          "metadata": {
            "tags": []
          },
          "execution_count": 42
        }
      ]
    },
    {
      "cell_type": "code",
      "metadata": {
        "id": "6CuulesBSm-f",
        "colab_type": "code",
        "outputId": "2135baef-b686-4a6a-ec9c-f1075df7bee4",
        "colab": {
          "base_uri": "https://localhost:8080/",
          "height": 34
        }
      },
      "source": [
        "t_samples = np.swapaxes(training_samples,0,1)\n",
        "t_samples.shape"
      ],
      "execution_count": 0,
      "outputs": [
        {
          "output_type": "execute_result",
          "data": {
            "text/plain": [
              "(8, 51359)"
            ]
          },
          "metadata": {
            "tags": []
          },
          "execution_count": 43
        }
      ]
    },
    {
      "cell_type": "code",
      "metadata": {
        "id": "DS7tMT6BS9x9",
        "colab_type": "code",
        "colab": {}
      },
      "source": [
        ""
      ],
      "execution_count": 0,
      "outputs": []
    },
    {
      "cell_type": "code",
      "metadata": {
        "id": "JxyUsPMhSod9",
        "colab_type": "code",
        "colab": {}
      },
      "source": [
        "import scipy.io as sio\n",
        "\n",
        "#Format for training: [('Samples', (256, 7291), 'double'), ('Labels', (1, 7291), 'double')]\n",
        "\n",
        "#Format for training: [('Samples', (n, ntr), 'double'), ('Labels', (1, ntr), 'double')]\n",
        "'''\n",
        "Where\n",
        "n = input vector size\n",
        "m = num classes\n",
        "ntr = num vectors in training\n",
        "nts = num vectors in testing\n",
        "'''\n",
        "\n",
        "sio.savemat('botnet2_8_train.mat', {'Samples':t_samples, 'Labels':t_labels})"
      ],
      "execution_count": 0,
      "outputs": []
    },
    {
      "cell_type": "markdown",
      "metadata": {
        "id": "ZKe7e8tcSuCu",
        "colab_type": "text"
      },
      "source": [
        "## Testing"
      ]
    },
    {
      "cell_type": "code",
      "metadata": {
        "id": "CUUpNs1pSsC9",
        "colab_type": "code",
        "colab": {}
      },
      "source": [
        "s_test_combined = s_test_combined.drop(columns=['extra'])\n",
        "#making an array of just the labels for the data\n",
        "\n",
        "test_labels_df = s_test_combined['subcategory_number'].copy()"
      ],
      "execution_count": 0,
      "outputs": []
    },
    {
      "cell_type": "code",
      "metadata": {
        "id": "6gGVIR4bSwcE",
        "colab_type": "code",
        "colab": {}
      },
      "source": [
        "test_labels = test_labels_df.to_numpy()"
      ],
      "execution_count": 0,
      "outputs": []
    },
    {
      "cell_type": "code",
      "metadata": {
        "id": "OkzREX5DSxzX",
        "colab_type": "code",
        "outputId": "627309d5-5430-4eb3-ae67-738b8beefd7a",
        "colab": {
          "base_uri": "https://localhost:8080/",
          "height": 34
        }
      },
      "source": [
        "te_labels = test_labels.reshape(1, test_labels_df.shape[0])\n",
        "te_labels.shape"
      ],
      "execution_count": 0,
      "outputs": [
        {
          "output_type": "execute_result",
          "data": {
            "text/plain": [
              "(1, 22011)"
            ]
          },
          "metadata": {
            "tags": []
          },
          "execution_count": 47
        }
      ]
    },
    {
      "cell_type": "code",
      "metadata": {
        "id": "PRkkAjY7SzFG",
        "colab_type": "code",
        "outputId": "79be12eb-a2db-4662-e8a5-9f75f57fe22a",
        "colab": {
          "base_uri": "https://localhost:8080/",
          "height": 34
        }
      },
      "source": [
        "te_labels = te_labels.astype(np.double)\n",
        "te_labels.shape"
      ],
      "execution_count": 0,
      "outputs": [
        {
          "output_type": "execute_result",
          "data": {
            "text/plain": [
              "(1, 22011)"
            ]
          },
          "metadata": {
            "tags": []
          },
          "execution_count": 48
        }
      ]
    },
    {
      "cell_type": "code",
      "metadata": {
        "id": "64RWrEwvS0am",
        "colab_type": "code",
        "colab": {}
      },
      "source": [
        "test_samples_df = s_test_combined.drop(columns=['subcategory_number'])"
      ],
      "execution_count": 0,
      "outputs": []
    },
    {
      "cell_type": "code",
      "metadata": {
        "id": "vzAuq7qAS9Jz",
        "colab_type": "code",
        "outputId": "6e291fa7-ce33-4dbc-8028-d5527d856b4f",
        "colab": {
          "base_uri": "https://localhost:8080/",
          "height": 34
        }
      },
      "source": [
        "test_samples = test_samples_df.to_numpy()\n",
        "test_samples.shape"
      ],
      "execution_count": 0,
      "outputs": [
        {
          "output_type": "execute_result",
          "data": {
            "text/plain": [
              "(22011, 8)"
            ]
          },
          "metadata": {
            "tags": []
          },
          "execution_count": 50
        }
      ]
    },
    {
      "cell_type": "code",
      "metadata": {
        "id": "bPzX9w1IS_VJ",
        "colab_type": "code",
        "outputId": "99d93d2b-68a6-4806-8249-bfa5d6e02f2e",
        "colab": {
          "base_uri": "https://localhost:8080/",
          "height": 34
        }
      },
      "source": [
        "te_samples = np.swapaxes(test_samples,0,1)\n",
        "te_samples.shape"
      ],
      "execution_count": 0,
      "outputs": [
        {
          "output_type": "execute_result",
          "data": {
            "text/plain": [
              "(8, 22011)"
            ]
          },
          "metadata": {
            "tags": []
          },
          "execution_count": 51
        }
      ]
    },
    {
      "cell_type": "code",
      "metadata": {
        "id": "nWoPMk5JTBE8",
        "colab_type": "code",
        "colab": {}
      },
      "source": [
        "sio.savemat('botnet2_8_test.mat', {'Samples':te_samples, 'Labels':te_labels})"
      ],
      "execution_count": 0,
      "outputs": []
    }
  ]
}