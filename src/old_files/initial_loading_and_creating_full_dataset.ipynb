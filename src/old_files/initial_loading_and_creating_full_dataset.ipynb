{
  "nbformat": 4,
  "nbformat_minor": 0,
  "metadata": {
    "colab": {
      "name": "initial_loading_and_creating_full_dataset.ipynb",
      "version": "0.3.2",
      "provenance": [],
      "collapsed_sections": []
    },
    "kernelspec": {
      "name": "python3",
      "display_name": "Python 3"
    },
    "accelerator": "GPU"
  },
  "cells": [
    {
      "cell_type": "code",
      "metadata": {
        "id": "YZatu3PYzy5T",
        "colab_type": "code",
        "outputId": "d6fcb267-2626-4a84-e575-7b72ce05050b",
        "colab": {
          "base_uri": "https://localhost:8080/",
          "height": 55
        }
      },
      "source": [
        "#Preprocessing for test model\n",
        "\"\"\"\n",
        "benign_df = benign_dataset\n",
        "\n",
        "benign_df['label'] = 0\n",
        "\n",
        "malicious_df = mirai_syn_dataset\n",
        "\n",
        "malicious_df['label'] = 1\n",
        "\n",
        "frames = [benign_df, malicious_df]\n",
        "combined_df = pd.concat(frames)\n",
        "\n",
        "rand_combined_df = combined_df.sample(frac=1).reset_index(drop=True)\n",
        "\n",
        "rand_combined_df.head(10)\n",
        "\"\"\""
      ],
      "execution_count": 0,
      "outputs": [
        {
          "output_type": "execute_result",
          "data": {
            "text/plain": [
              "\"\\nbenign_df = benign_dataset\\n\\nbenign_df['label'] = 0\\n\\nmalicious_df = mirai_syn_dataset\\n\\nmalicious_df['label'] = 1\\n\\nframes = [benign_df, malicious_df]\\ncombined_df = pd.concat(frames)\\n\\nrand_combined_df = combined_df.sample(frac=1).reset_index(drop=True)\\n\\nrand_combined_df.head(10)\\n\""
            ]
          },
          "metadata": {
            "tags": []
          },
          "execution_count": 1
        }
      ]
    },
    {
      "cell_type": "code",
      "metadata": {
        "id": "SC4UZoWJ1dqz",
        "colab_type": "code",
        "outputId": "699ac1b0-8563-4907-bdbe-6f5145516004",
        "colab": {
          "base_uri": "https://localhost:8080/",
          "height": 55
        }
      },
      "source": [
        "#basic model\n",
        "\n",
        "\"\"\"\n",
        "from sklearn.model_selection import train_test_split\n",
        "from sklearn.ensemble import RandomForestClassifier\n",
        "\n",
        "from sklearn.metrics import confusion_matrix\n",
        "from sklearn.metrics import precision_score\n",
        "from sklearn.metrics import recall_score\n",
        "from sklearn.metrics import f1_score\n",
        "from sklearn.metrics import roc_curve\n",
        "\n",
        "X = rand_combined_df.drop(['label'],axis=1).values\n",
        "\n",
        "Y = rand_combined_df['label'].values\n",
        "\n",
        "rfc = RandomForestClassifier(n_estimators=100)\n",
        "\n",
        "X_train, X_test, Y_train, Y_test = train_test_split(X, Y, test_size=0.2, random_state=42)\n",
        "\n",
        "rfc.fit(X_train, Y_train)\n",
        "\n",
        "rfc_pred = rfc.predict(X_test)\n",
        "\n",
        "#Classification Metrics\n",
        "\n",
        "rfc_acc = rfc.score(X_test, Y_test)\n",
        "\n",
        "rfc_mt = confusion_matrix(Y_test, rfc_pred)\n",
        "rfc_fpr = ((rfc_mt[0][1] / float(sum(rfc_mt[0])))*100)\n",
        "rfc_fnr = (rfc_mt[1][0] / float(sum(rfc_mt[1]))*100)\n",
        "\n",
        "rfc_ps = precision_score(Y_test, rfc_pred, average='macro') \n",
        "\n",
        "rfc_rs = recall_score(Y_test, rfc_pred, average='macro')\n",
        "\n",
        "rfc_f1 = f1_score(Y_test, rfc_pred, average='macro')\n",
        "\n",
        "\n",
        "#getting the false and true positive rate for each threshold\n",
        "rfc_tfpr, rfc_ttpr, rtc_thresholds = roc_curve(Y_test, rfc_pred)\n",
        "\n",
        "\n",
        "print(\"Accuracy:\", rfc_acc*100)\n",
        "print(\" \")\n",
        "print(\"False Positive Rate:\", rfc_fpr)\n",
        "print(\" \")\n",
        "print(\"False Negative Rate:\", rfc_fnr)\n",
        "print(\" \")\n",
        "print(\"Precision:\", rfc_ps)\n",
        "print(\" \")\n",
        "print(\"Recall:\", rfc_rs)\n",
        "print(\" \")\n",
        "print(\"F1-Score:\", rfc_f1)\n",
        "\n",
        "\"\"\""
      ],
      "execution_count": 0,
      "outputs": [
        {
          "output_type": "execute_result",
          "data": {
            "text/plain": [
              "'\\nfrom sklearn.model_selection import train_test_split\\nfrom sklearn.ensemble import RandomForestClassifier\\n\\nfrom sklearn.metrics import confusion_matrix\\nfrom sklearn.metrics import precision_score\\nfrom sklearn.metrics import recall_score\\nfrom sklearn.metrics import f1_score\\nfrom sklearn.metrics import roc_curve\\n\\nX = rand_combined_df.drop([\\'label\\'],axis=1).values\\n\\nY = rand_combined_df[\\'label\\'].values\\n\\nrfc = RandomForestClassifier(n_estimators=100)\\n\\nX_train, X_test, Y_train, Y_test = train_test_split(X, Y, test_size=0.2, random_state=42)\\n\\nrfc.fit(X_train, Y_train)\\n\\nrfc_pred = rfc.predict(X_test)\\n\\n#Classification Metrics\\n\\nrfc_acc = rfc.score(X_test, Y_test)\\n\\nrfc_mt = confusion_matrix(Y_test, rfc_pred)\\nrfc_fpr = ((rfc_mt[0][1] / float(sum(rfc_mt[0])))*100)\\nrfc_fnr = (rfc_mt[1][0] / float(sum(rfc_mt[1]))*100)\\n\\nrfc_ps = precision_score(Y_test, rfc_pred, average=\\'macro\\') \\n\\nrfc_rs = recall_score(Y_test, rfc_pred, average=\\'macro\\')\\n\\nrfc_f1 = f1_score(Y_test, rfc_pred, average=\\'macro\\')\\n\\n\\n#getting the false and true positive rate for each threshold\\nrfc_tfpr, rfc_ttpr, rtc_thresholds = roc_curve(Y_test, rfc_pred)\\n\\n\\nprint(\"Accuracy:\", rfc_acc*100)\\nprint(\" \")\\nprint(\"False Positive Rate:\", rfc_fpr)\\nprint(\" \")\\nprint(\"False Negative Rate:\", rfc_fnr)\\nprint(\" \")\\nprint(\"Precision:\", rfc_ps)\\nprint(\" \")\\nprint(\"Recall:\", rfc_rs)\\nprint(\" \")\\nprint(\"F1-Score:\", rfc_f1)\\n\\n'"
            ]
          },
          "metadata": {
            "tags": []
          },
          "execution_count": 2
        }
      ]
    },
    {
      "cell_type": "code",
      "metadata": {
        "id": "aftqAqozn6Ta",
        "colab_type": "code",
        "outputId": "7faa0c66-24ef-429f-f3a1-d544e8482035",
        "colab": {
          "base_uri": "https://localhost:8080/",
          "height": 231
        }
      },
      "source": [
        "# data analysis packages\n",
        "import pandas as pd\n",
        "import numpy as np\n",
        "\n",
        "# loading bar\n",
        "!pip install --force https://github.com/chengs/tqdm/archive/colab.zip\n",
        "from tqdm import tqdm_notebook as tqdm"
      ],
      "execution_count": 0,
      "outputs": [
        {
          "output_type": "stream",
          "text": [
            "Collecting https://github.com/chengs/tqdm/archive/colab.zip\n",
            "\u001b[?25l  Downloading https://github.com/chengs/tqdm/archive/colab.zip\n",
            "\u001b[K     | 399kB 18.1MB/s\n",
            "\u001b[?25hBuilding wheels for collected packages: tqdm\n",
            "  Building wheel for tqdm (setup.py) ... \u001b[?25l\u001b[?25hdone\n",
            "  Stored in directory: /tmp/pip-ephem-wheel-cache-c968751z/wheels/41/18/ee/d5dd158441b27965855b1bbae03fa2d8a91fe645c01b419896\n",
            "Successfully built tqdm\n",
            "Installing collected packages: tqdm\n",
            "  Found existing installation: tqdm 4.28.1\n",
            "    Uninstalling tqdm-4.28.1:\n",
            "      Successfully uninstalled tqdm-4.28.1\n",
            "Successfully installed tqdm-4.28.1\n"
          ],
          "name": "stdout"
        }
      ]
    },
    {
      "cell_type": "code",
      "metadata": {
        "id": "NLPHpQt8kLFQ",
        "colab_type": "code",
        "outputId": "f6e22a01-988a-415e-a70f-51b80261d90b",
        "colab": {
          "base_uri": "https://localhost:8080/",
          "height": 126
        }
      },
      "source": [
        "from google.colab import drive\n",
        "drive.mount('/content/drive/')\n",
        "\n",
        "import os\n",
        "os.chdir(\"/content/drive/My Drive/Dataset\")"
      ],
      "execution_count": 0,
      "outputs": [
        {
          "output_type": "stream",
          "text": [
            "Go to this URL in a browser: https://accounts.google.com/o/oauth2/auth?client_id=947318989803-6bn6qk8qdgf4n4g3pfee6491hc0brc4i.apps.googleusercontent.com&redirect_uri=urn%3Aietf%3Awg%3Aoauth%3A2.0%3Aoob&scope=email%20https%3A%2F%2Fwww.googleapis.com%2Fauth%2Fdocs.test%20https%3A%2F%2Fwww.googleapis.com%2Fauth%2Fdrive%20https%3A%2F%2Fwww.googleapis.com%2Fauth%2Fdrive.photos.readonly%20https%3A%2F%2Fwww.googleapis.com%2Fauth%2Fpeopleapi.readonly&response_type=code\n",
            "\n",
            "Enter your authorization code:\n",
            "··········\n",
            "Mounted at /content/drive/\n"
          ],
          "name": "stdout"
        }
      ]
    },
    {
      "cell_type": "markdown",
      "metadata": {
        "id": "ZrGt2glNvVEY",
        "colab_type": "text"
      },
      "source": [
        "# Danmini_Doorbell"
      ]
    },
    {
      "cell_type": "markdown",
      "metadata": {
        "id": "p2um_WjLQBoi",
        "colab_type": "text"
      },
      "source": [
        "## Benign"
      ]
    },
    {
      "cell_type": "code",
      "metadata": {
        "id": "-F7fmE7cleTH",
        "colab_type": "code",
        "outputId": "9ac8f54b-b362-4fca-f720-688c655aff09",
        "colab": {
          "base_uri": "https://localhost:8080/",
          "height": 35
        }
      },
      "source": [
        "#Danmini_Doorbell benign\n",
        "\n",
        "\n",
        "dd_benign_path = './Danmini_Doorbell/benign_traffic.csv'\n",
        "\n",
        "dd_benign_dataset = pd.read_csv(dd_benign_path)\n",
        "dd_benign_dataset.shape"
      ],
      "execution_count": 0,
      "outputs": [
        {
          "output_type": "execute_result",
          "data": {
            "text/plain": [
              "(13113, 115)"
            ]
          },
          "metadata": {
            "tags": []
          },
          "execution_count": 5
        }
      ]
    },
    {
      "cell_type": "markdown",
      "metadata": {
        "id": "YZ8tUiS-QEDK",
        "colab_type": "text"
      },
      "source": [
        "## Mirai"
      ]
    },
    {
      "cell_type": "code",
      "metadata": {
        "id": "oxC2BxSFr7PE",
        "colab_type": "code",
        "outputId": "b8cfe1e0-7c0c-4159-fc53-ece98172908e",
        "colab": {
          "base_uri": "https://localhost:8080/",
          "height": 35
        }
      },
      "source": [
        "#Danmini_Doorbell mirai #1: ack\n",
        "\n",
        "dd_mirai_ack_path = './Danmini_Doorbell/mirai_attacks/ack.csv'\n",
        "\n",
        "dd_mirai_ack_dataset = pd.read_csv(dd_mirai_ack_path)\n",
        "dd_mirai_ack_dataset.shape"
      ],
      "execution_count": 0,
      "outputs": [
        {
          "output_type": "execute_result",
          "data": {
            "text/plain": [
              "(113285, 115)"
            ]
          },
          "metadata": {
            "tags": []
          },
          "execution_count": 6
        }
      ]
    },
    {
      "cell_type": "code",
      "metadata": {
        "id": "39HPKDEntXWy",
        "colab_type": "code",
        "outputId": "16489083-2fc3-4996-e1ad-3933a4bf099c",
        "colab": {
          "base_uri": "https://localhost:8080/",
          "height": 35
        }
      },
      "source": [
        "#Danmini_Doorbell mirai #2: scan\n",
        "\n",
        "dd_mirai_scan_path = './Danmini_Doorbell/mirai_attacks/scan.csv'\n",
        "\n",
        "dd_mirai_scan_dataset = pd.read_csv(dd_mirai_scan_path)\n",
        "dd_mirai_scan_dataset.shape"
      ],
      "execution_count": 0,
      "outputs": [
        {
          "output_type": "execute_result",
          "data": {
            "text/plain": [
              "(43192, 115)"
            ]
          },
          "metadata": {
            "tags": []
          },
          "execution_count": 7
        }
      ]
    },
    {
      "cell_type": "code",
      "metadata": {
        "id": "ExCZnYGPuWKs",
        "colab_type": "code",
        "outputId": "194a8679-7dc8-4105-fc0a-e07f055f9635",
        "colab": {
          "base_uri": "https://localhost:8080/",
          "height": 35
        }
      },
      "source": [
        "#Danmini_Doorbell mirai #3: syn\n",
        "\n",
        "dd_mirai_syn_path = './Danmini_Doorbell/mirai_attacks/syn.csv'\n",
        "\n",
        "dd_mirai_syn_dataset = pd.read_csv(dd_mirai_syn_path)\n",
        "dd_mirai_syn_dataset.shape"
      ],
      "execution_count": 0,
      "outputs": [
        {
          "output_type": "execute_result",
          "data": {
            "text/plain": [
              "(116807, 115)"
            ]
          },
          "metadata": {
            "tags": []
          },
          "execution_count": 8
        }
      ]
    },
    {
      "cell_type": "code",
      "metadata": {
        "id": "QkEiexkLuqjN",
        "colab_type": "code",
        "outputId": "fef1ed11-882c-448b-8167-4f07bf9499de",
        "colab": {
          "base_uri": "https://localhost:8080/",
          "height": 35
        }
      },
      "source": [
        "#Danmini_Doorbell mirai #4: udp\n",
        "\n",
        "dd_mirai_udp_path = './Danmini_Doorbell/mirai_attacks/udp.csv'\n",
        "\n",
        "dd_mirai_udp_dataset = pd.read_csv(dd_mirai_udp_path)\n",
        "dd_mirai_udp_dataset.shape"
      ],
      "execution_count": 0,
      "outputs": [
        {
          "output_type": "execute_result",
          "data": {
            "text/plain": [
              "(151481, 115)"
            ]
          },
          "metadata": {
            "tags": []
          },
          "execution_count": 9
        }
      ]
    },
    {
      "cell_type": "code",
      "metadata": {
        "id": "Wq9Fnz22vUMd",
        "colab_type": "code",
        "outputId": "1952030f-e856-4ce9-ab1f-201eadb09b0b",
        "colab": {
          "base_uri": "https://localhost:8080/",
          "height": 35
        }
      },
      "source": [
        "#Danmini_Doorbell mirai #5: udp plain\n",
        "\n",
        "dd_mirai_udpplain_path = './Danmini_Doorbell/mirai_attacks/udpplain.csv'\n",
        "\n",
        "dd_mirai_udpplain_dataset = pd.read_csv(dd_mirai_udpplain_path)\n",
        "dd_mirai_udpplain_dataset.shape"
      ],
      "execution_count": 0,
      "outputs": [
        {
          "output_type": "execute_result",
          "data": {
            "text/plain": [
              "(87368, 115)"
            ]
          },
          "metadata": {
            "tags": []
          },
          "execution_count": 10
        }
      ]
    },
    {
      "cell_type": "code",
      "metadata": {
        "id": "tBmwDoFkQMW6",
        "colab_type": "code",
        "outputId": "1966ecf8-7576-4ffe-c45a-a12b6cc6382b",
        "colab": {
          "base_uri": "https://localhost:8080/",
          "height": 35
        }
      },
      "source": [
        "#Combining all Danmini_Doorbell mirai data\n",
        "dd_mirai_frames = [dd_mirai_ack_dataset, dd_mirai_scan_dataset, dd_mirai_syn_dataset, dd_mirai_udp_dataset, dd_mirai_udpplain_dataset]\n",
        "dd_mirai_df = pd.concat(dd_mirai_frames)\n",
        "dd_mirai_df.shape"
      ],
      "execution_count": 0,
      "outputs": [
        {
          "output_type": "execute_result",
          "data": {
            "text/plain": [
              "(512133, 115)"
            ]
          },
          "metadata": {
            "tags": []
          },
          "execution_count": 11
        }
      ]
    },
    {
      "cell_type": "markdown",
      "metadata": {
        "id": "-yRDp6iDQHcg",
        "colab_type": "text"
      },
      "source": [
        "## Bashlite"
      ]
    },
    {
      "cell_type": "code",
      "metadata": {
        "id": "Gy_CmJ-dtuoz",
        "colab_type": "code",
        "outputId": "4d4feae7-9acc-4025-9fc4-82fc3883b893",
        "colab": {
          "base_uri": "https://localhost:8080/",
          "height": 35
        }
      },
      "source": [
        "#Danmini_Doorbell bashlite #1: scan\n",
        "\n",
        "dd_bashlite_scan_path = './Danmini_Doorbell/gafgyt_attacks/scan.csv'\n",
        "\n",
        "dd_bashlite_scan_dataset = pd.read_csv(dd_bashlite_scan_path)\n",
        "dd_bashlite_scan_dataset.shape"
      ],
      "execution_count": 0,
      "outputs": [
        {
          "output_type": "execute_result",
          "data": {
            "text/plain": [
              "(27494, 115)"
            ]
          },
          "metadata": {
            "tags": []
          },
          "execution_count": 12
        }
      ]
    },
    {
      "cell_type": "code",
      "metadata": {
        "id": "94SONtdvtCoW",
        "colab_type": "code",
        "outputId": "834062a3-7100-4a2e-a7ab-2f76345f33bc",
        "colab": {
          "base_uri": "https://localhost:8080/",
          "height": 35
        }
      },
      "source": [
        "#Danmini_Doorbell bashlite #2: junk\n",
        "\n",
        "dd_bashlite_junk_path = './Danmini_Doorbell/gafgyt_attacks/junk.csv'\n",
        "\n",
        "dd_bashlite_junk_dataset = pd.read_csv(dd_bashlite_junk_path)\n",
        "dd_bashlite_junk_dataset.shape"
      ],
      "execution_count": 0,
      "outputs": [
        {
          "output_type": "execute_result",
          "data": {
            "text/plain": [
              "(30312, 115)"
            ]
          },
          "metadata": {
            "tags": []
          },
          "execution_count": 13
        }
      ]
    },
    {
      "cell_type": "code",
      "metadata": {
        "id": "JierXtFDuJSt",
        "colab_type": "code",
        "outputId": "612f87e7-22f7-4221-a6b8-f67ac1c349fd",
        "colab": {
          "base_uri": "https://localhost:8080/",
          "height": 35
        }
      },
      "source": [
        "#Danmini_Doorbell bashlite #3: udp\n",
        "\n",
        "dd_bashlite_udp_path = './Danmini_Doorbell/gafgyt_attacks/udp.csv'\n",
        "\n",
        "dd_bashlite_udp_dataset = pd.read_csv(dd_bashlite_udp_path)\n",
        "dd_bashlite_udp_dataset.shape"
      ],
      "execution_count": 0,
      "outputs": [
        {
          "output_type": "execute_result",
          "data": {
            "text/plain": [
              "(104791, 115)"
            ]
          },
          "metadata": {
            "tags": []
          },
          "execution_count": 14
        }
      ]
    },
    {
      "cell_type": "code",
      "metadata": {
        "id": "dXIhQtedukPU",
        "colab_type": "code",
        "outputId": "85bc67c3-e948-4cb9-cde9-eb44c984d789",
        "colab": {
          "base_uri": "https://localhost:8080/",
          "height": 35
        }
      },
      "source": [
        "#Danmini_Doorbell bashlite #4: tcp\n",
        "\n",
        "dd_bashlite_tcp_path = './Danmini_Doorbell/gafgyt_attacks/tcp.csv'\n",
        "\n",
        "dd_bashlite_tcp_dataset = pd.read_csv(dd_bashlite_tcp_path)\n",
        "dd_bashlite_tcp_dataset.shape"
      ],
      "execution_count": 0,
      "outputs": [
        {
          "output_type": "execute_result",
          "data": {
            "text/plain": [
              "(95021, 115)"
            ]
          },
          "metadata": {
            "tags": []
          },
          "execution_count": 15
        }
      ]
    },
    {
      "cell_type": "code",
      "metadata": {
        "id": "Bv7fggIeqtAB",
        "colab_type": "code",
        "outputId": "432c7eaa-a450-477f-e215-0678dba25e8e",
        "colab": {
          "base_uri": "https://localhost:8080/",
          "height": 35
        }
      },
      "source": [
        "#Danmini_Doorbell bashlite #5: combo\n",
        "\n",
        "dd_bashlite_combo_path = './Danmini_Doorbell/gafgyt_attacks/combo.csv'\n",
        "\n",
        "dd_bashlite_combo_dataset = pd.read_csv(dd_bashlite_combo_path)\n",
        "dd_bashlite_combo_dataset.shape"
      ],
      "execution_count": 0,
      "outputs": [
        {
          "output_type": "execute_result",
          "data": {
            "text/plain": [
              "(53012, 115)"
            ]
          },
          "metadata": {
            "tags": []
          },
          "execution_count": 16
        }
      ]
    },
    {
      "cell_type": "code",
      "metadata": {
        "id": "CESXf25IRlTz",
        "colab_type": "code",
        "colab": {}
      },
      "source": [
        "#Combining all Danmini_Doorbell bashlite data\n",
        "dd_bashlite_frames = [dd_bashlite_scan_dataset, dd_bashlite_junk_dataset, dd_bashlite_udp_dataset, dd_bashlite_tcp_dataset, dd_bashlite_combo_dataset]\n",
        "dd_bashlite_df = pd.concat(dd_bashlite_frames)"
      ],
      "execution_count": 0,
      "outputs": []
    },
    {
      "cell_type": "markdown",
      "metadata": {
        "id": "sSjGrHx1vPzT",
        "colab_type": "text"
      },
      "source": [
        "# Ecobee_Thermostat"
      ]
    },
    {
      "cell_type": "code",
      "metadata": {
        "id": "t7Py0UGrqgeZ",
        "colab_type": "code",
        "colab": {}
      },
      "source": [
        "#Ecobee_Thermostat: benign\n",
        "\n",
        "\n",
        "et_benign_path = './Ecobee_Thermostat/benign_traffic.csv'\n",
        "\n",
        "et_benign_dataset = pd.read_csv(et_benign_path)\n",
        "#et_benign_dataset.shape"
      ],
      "execution_count": 0,
      "outputs": []
    },
    {
      "cell_type": "markdown",
      "metadata": {
        "id": "G7pRtNdECqL7",
        "colab_type": "text"
      },
      "source": [
        "## Mirai"
      ]
    },
    {
      "cell_type": "code",
      "metadata": {
        "id": "iyZkUG3bvq13",
        "colab_type": "code",
        "colab": {}
      },
      "source": [
        "#Ecobee_Thermostat mirai #1: ack\n",
        "\n",
        "et_mirai_ack_path = './Ecobee_Thermostat/mirai_attacks/ack.csv'\n",
        "\n",
        "et_mirai_ack_dataset = pd.read_csv(et_mirai_ack_path)\n",
        "#et_mirai_ack_dataset.shape"
      ],
      "execution_count": 0,
      "outputs": []
    },
    {
      "cell_type": "code",
      "metadata": {
        "id": "xwsHVjWkvr0V",
        "colab_type": "code",
        "colab": {}
      },
      "source": [
        "#Ecobee_Thermostat mirai #2: scan\n",
        "\n",
        "et_mirai_scan_path = './Ecobee_Thermostat/mirai_attacks/scan.csv'\n",
        "\n",
        "et_mirai_scan_dataset = pd.read_csv(et_mirai_scan_path)\n",
        "#et_mirai_scan_dataset.shape"
      ],
      "execution_count": 0,
      "outputs": []
    },
    {
      "cell_type": "code",
      "metadata": {
        "id": "E__C1jaSvsHm",
        "colab_type": "code",
        "colab": {}
      },
      "source": [
        "#Ecobee_Thermostat mirai #3: syn\n",
        "\n",
        "et_mirai_syn_path = './Ecobee_Thermostat/mirai_attacks/syn.csv'\n",
        "\n",
        "et_mirai_syn_dataset = pd.read_csv(et_mirai_syn_path)\n",
        "#et_mirai_syn_dataset.shape"
      ],
      "execution_count": 0,
      "outputs": []
    },
    {
      "cell_type": "code",
      "metadata": {
        "id": "_Uz_gpR_vs33",
        "colab_type": "code",
        "colab": {}
      },
      "source": [
        "#Ecobee_Thermostat mirai #4: udp\n",
        "\n",
        "et_mirai_udp_path = './Ecobee_Thermostat/mirai_attacks/udp.csv'\n",
        "\n",
        "et_mirai_udp_dataset = pd.read_csv(et_mirai_udp_path)\n",
        "#et_mirai_udp_dataset.shape"
      ],
      "execution_count": 0,
      "outputs": []
    },
    {
      "cell_type": "code",
      "metadata": {
        "id": "f6d-2brAvtDq",
        "colab_type": "code",
        "colab": {}
      },
      "source": [
        "#Ecobee_Thermostat mirai #5: udp plain\n",
        "\n",
        "et_mirai_udpplain_path = './Ecobee_Thermostat/mirai_attacks/udpplain.csv'\n",
        "\n",
        "et_mirai_udpplain_dataset = pd.read_csv(et_mirai_udpplain_path)\n",
        "#et_mirai_udpplain_dataset.shape"
      ],
      "execution_count": 0,
      "outputs": []
    },
    {
      "cell_type": "code",
      "metadata": {
        "id": "GnyJk_LKCxF2",
        "colab_type": "code",
        "outputId": "ead6c8b7-699e-4919-a3a7-ad5b8e793ba9",
        "colab": {
          "base_uri": "https://localhost:8080/",
          "height": 35
        }
      },
      "source": [
        "#Combining all Ecobee_Thermostat mirai data\n",
        "et_mirai_frames = [et_mirai_ack_dataset, et_mirai_scan_dataset, et_mirai_syn_dataset, et_mirai_udp_dataset, et_mirai_udpplain_dataset]\n",
        "et_mirai_df = pd.concat(et_mirai_frames)\n",
        "et_mirai_df.shape"
      ],
      "execution_count": 0,
      "outputs": [
        {
          "output_type": "execute_result",
          "data": {
            "text/plain": [
              "(652100, 115)"
            ]
          },
          "metadata": {
            "tags": []
          },
          "execution_count": 24
        }
      ]
    },
    {
      "cell_type": "markdown",
      "metadata": {
        "id": "EN2_kejVCu5Q",
        "colab_type": "text"
      },
      "source": [
        "## Bashlite"
      ]
    },
    {
      "cell_type": "code",
      "metadata": {
        "id": "Xh6eYOXexpEz",
        "colab_type": "code",
        "outputId": "6be949e4-2e8d-4de6-830a-7e278cc33bdf",
        "colab": {
          "base_uri": "https://localhost:8080/",
          "height": 35
        }
      },
      "source": [
        "#Ecobee_Thermostat bashlite #1: scan\n",
        "\n",
        "et_bashlite_scan_path = './Ecobee_Thermostat/gafgyt_attacks/scan.csv'\n",
        "\n",
        "et_bashlite_scan_dataset = pd.read_csv(et_bashlite_scan_path)\n",
        "et_bashlite_scan_dataset.shape"
      ],
      "execution_count": 0,
      "outputs": [
        {
          "output_type": "execute_result",
          "data": {
            "text/plain": [
              "(28120, 115)"
            ]
          },
          "metadata": {
            "tags": []
          },
          "execution_count": 25
        }
      ]
    },
    {
      "cell_type": "code",
      "metadata": {
        "id": "L9uzgsJcxpRU",
        "colab_type": "code",
        "outputId": "038bf043-3713-429c-ab95-3f758cb419e7",
        "colab": {
          "base_uri": "https://localhost:8080/",
          "height": 35
        }
      },
      "source": [
        "#Ecobee_Thermostat bashlite #2: junk\n",
        "\n",
        "et_bashlite_junk_path = './Ecobee_Thermostat/gafgyt_attacks/junk.csv'\n",
        "\n",
        "et_bashlite_junk_dataset = pd.read_csv(et_bashlite_junk_path)\n",
        "et_bashlite_junk_dataset.shape"
      ],
      "execution_count": 0,
      "outputs": [
        {
          "output_type": "execute_result",
          "data": {
            "text/plain": [
              "(29797, 115)"
            ]
          },
          "metadata": {
            "tags": []
          },
          "execution_count": 26
        }
      ]
    },
    {
      "cell_type": "code",
      "metadata": {
        "id": "wLFppGMGxpaI",
        "colab_type": "code",
        "outputId": "a13cf10a-1af7-4fdf-baad-490df712c672",
        "colab": {
          "base_uri": "https://localhost:8080/",
          "height": 35
        }
      },
      "source": [
        "#Ecobee_Thermostat bashlite #3: udp\n",
        "\n",
        "et_bashlite_udp_path = './Ecobee_Thermostat/gafgyt_attacks/udp.csv'\n",
        "\n",
        "et_bashlite_udp_dataset = pd.read_csv(et_bashlite_udp_path)\n",
        "et_bashlite_udp_dataset.shape"
      ],
      "execution_count": 0,
      "outputs": [
        {
          "output_type": "execute_result",
          "data": {
            "text/plain": [
              "(103933, 115)"
            ]
          },
          "metadata": {
            "tags": []
          },
          "execution_count": 27
        }
      ]
    },
    {
      "cell_type": "code",
      "metadata": {
        "id": "ODFJCsnkxpjM",
        "colab_type": "code",
        "outputId": "99323499-ac9a-4487-e794-66f123e87ea8",
        "colab": {
          "base_uri": "https://localhost:8080/",
          "height": 35
        }
      },
      "source": [
        "#Ecobee_Thermostat bashlite #4: tcp\n",
        "\n",
        "et_bashlite_tcp_path = './Ecobee_Thermostat/gafgyt_attacks/tcp.csv'\n",
        "\n",
        "et_bashlite_tcp_dataset = pd.read_csv(et_bashlite_tcp_path)\n",
        "et_bashlite_tcp_dataset.shape"
      ],
      "execution_count": 0,
      "outputs": [
        {
          "output_type": "execute_result",
          "data": {
            "text/plain": [
              "(101536, 115)"
            ]
          },
          "metadata": {
            "tags": []
          },
          "execution_count": 28
        }
      ]
    },
    {
      "cell_type": "code",
      "metadata": {
        "id": "GK3nyXPOxp4G",
        "colab_type": "code",
        "outputId": "e588514b-dc71-4373-c509-2776f4ec6b97",
        "colab": {
          "base_uri": "https://localhost:8080/",
          "height": 35
        }
      },
      "source": [
        "#Ecobee_Thermostat bashlite #5: combo\n",
        "\n",
        "et_bashlite_combo_path = './Ecobee_Thermostat/gafgyt_attacks/combo.csv'\n",
        "\n",
        "et_bashlite_combo_dataset = pd.read_csv(et_bashlite_combo_path)\n",
        "et_bashlite_combo_dataset.shape"
      ],
      "execution_count": 0,
      "outputs": [
        {
          "output_type": "execute_result",
          "data": {
            "text/plain": [
              "(53014, 115)"
            ]
          },
          "metadata": {
            "tags": []
          },
          "execution_count": 29
        }
      ]
    },
    {
      "cell_type": "code",
      "metadata": {
        "id": "hY_f10HSDZcC",
        "colab_type": "code",
        "colab": {}
      },
      "source": [
        "#Combining all Ecobee_Thermostat bashlite data\n",
        "et_bashlite_frames = [et_bashlite_scan_dataset, et_bashlite_junk_dataset, et_bashlite_udp_dataset, et_bashlite_tcp_dataset, et_bashlite_combo_dataset]\n",
        "et_bashlite_df = pd.concat(et_bashlite_frames)"
      ],
      "execution_count": 0,
      "outputs": []
    },
    {
      "cell_type": "markdown",
      "metadata": {
        "id": "q1iWbyed0fCV",
        "colab_type": "text"
      },
      "source": [
        "# Ennio Doorbell"
      ]
    },
    {
      "cell_type": "code",
      "metadata": {
        "id": "78CdJusX0nxP",
        "colab_type": "code",
        "colab": {}
      },
      "source": [
        "#Ennio_Doorbell: benign\n",
        "\n",
        "\n",
        "ed_benign_path = './Ennio_Doorbell/benign_traffic.csv'\n",
        "\n",
        "ed_benign_dataset = pd.read_csv(ed_benign_path)\n",
        "#ed_benign_dataset.head()"
      ],
      "execution_count": 0,
      "outputs": []
    },
    {
      "cell_type": "markdown",
      "metadata": {
        "id": "-e771Y9uD9_X",
        "colab_type": "text"
      },
      "source": [
        "## Bashlite"
      ]
    },
    {
      "cell_type": "code",
      "metadata": {
        "id": "IPumo6vB0oVA",
        "colab_type": "code",
        "colab": {}
      },
      "source": [
        "#Ennio_Doorbell bashlite #1: scan\n",
        "\n",
        "ed_bashlite_scan_path = './Ennio_Doorbell/gafgyt_attacks/scan.csv'\n",
        "\n",
        "ed_bashlite_scan_dataset = pd.read_csv(ed_bashlite_scan_path)\n",
        "#ed_bashlite_scan_dataset.head()"
      ],
      "execution_count": 0,
      "outputs": []
    },
    {
      "cell_type": "code",
      "metadata": {
        "id": "ESGLEppg0ok7",
        "colab_type": "code",
        "colab": {}
      },
      "source": [
        "#Ennio_Doorbell bashlite #2: junk\n",
        "\n",
        "ed_bashlite_junk_path = './Ennio_Doorbell/gafgyt_attacks/junk.csv'\n",
        "\n",
        "ed_bashlite_junk_dataset = pd.read_csv(ed_bashlite_junk_path)\n",
        "#ed_bashlite_junk_dataset.head()"
      ],
      "execution_count": 0,
      "outputs": []
    },
    {
      "cell_type": "code",
      "metadata": {
        "id": "0GmKGyv30o4z",
        "colab_type": "code",
        "colab": {}
      },
      "source": [
        "#Ennio_Doorbell bashlite #3: udp\n",
        "\n",
        "ed_bashlite_udp_path = './Ennio_Doorbell/gafgyt_attacks/udp.csv'\n",
        "\n",
        "ed_bashlite_udp_dataset = pd.read_csv(ed_bashlite_udp_path)\n",
        "#ed_bashlite_udp_dataset.head()"
      ],
      "execution_count": 0,
      "outputs": []
    },
    {
      "cell_type": "code",
      "metadata": {
        "id": "OT0rPByZ0pC5",
        "colab_type": "code",
        "colab": {}
      },
      "source": [
        "#Ennio_Doorbell bashlite #4: tcp\n",
        "\n",
        "ed_bashlite_tcp_path = './Ennio_Doorbell/gafgyt_attacks/tcp.csv'\n",
        "\n",
        "ed_bashlite_tcp_dataset = pd.read_csv(ed_bashlite_tcp_path)\n",
        "#ed_bashlite_tcp_dataset.head()"
      ],
      "execution_count": 0,
      "outputs": []
    },
    {
      "cell_type": "code",
      "metadata": {
        "id": "90PJDdXZ0pM9",
        "colab_type": "code",
        "colab": {}
      },
      "source": [
        "#Ennio_Doorbell bashlite #5: combo\n",
        "\n",
        "ed_bashlite_combo_path = './Ennio_Doorbell/gafgyt_attacks/combo.csv'\n",
        "\n",
        "ed_bashlite_combo_dataset = pd.read_csv(ed_bashlite_combo_path)\n",
        "#ed_bashlite_combo_dataset.head()"
      ],
      "execution_count": 0,
      "outputs": []
    },
    {
      "cell_type": "code",
      "metadata": {
        "id": "7d0C2v50ERh5",
        "colab_type": "code",
        "colab": {}
      },
      "source": [
        "#Combining all Ennio_Doorbell bashlite data\n",
        "ed_bashlite_frames = [ed_bashlite_scan_dataset, ed_bashlite_junk_dataset, ed_bashlite_udp_dataset, ed_bashlite_tcp_dataset, ed_bashlite_combo_dataset]\n",
        "ed_bashlite_df = pd.concat(ed_bashlite_frames)"
      ],
      "execution_count": 0,
      "outputs": []
    },
    {
      "cell_type": "markdown",
      "metadata": {
        "id": "ieFqVyVO2Im7",
        "colab_type": "text"
      },
      "source": [
        "# Philips B120N10 Baby Monitor"
      ]
    },
    {
      "cell_type": "code",
      "metadata": {
        "id": "p24Sreik2gmm",
        "colab_type": "code",
        "colab": {}
      },
      "source": [
        "#Philips_B120N10_Baby_Monitor: benign\n",
        "\n",
        "\n",
        "bm_benign_path = './Philips_B120N10_Baby_Monitor/benign_traffic.csv'\n",
        "\n",
        "bm_benign_dataset = pd.read_csv(bm_benign_path)\n",
        "#bm_benign_dataset.head()"
      ],
      "execution_count": 0,
      "outputs": []
    },
    {
      "cell_type": "markdown",
      "metadata": {
        "id": "I7yJzd1oExMw",
        "colab_type": "text"
      },
      "source": [
        "## Mirai"
      ]
    },
    {
      "cell_type": "code",
      "metadata": {
        "id": "B8TS2Id72g7d",
        "colab_type": "code",
        "colab": {}
      },
      "source": [
        "#Philips_B120N10_Baby_Monitor mirai #1: ack\n",
        "\n",
        "bm_mirai_ack_path = './Philips_B120N10_Baby_Monitor/mirai_attacks/ack.csv'\n",
        "\n",
        "bm_mirai_ack_dataset = pd.read_csv(bm_mirai_ack_path)\n",
        "#bm_mirai_ack_dataset.head()"
      ],
      "execution_count": 0,
      "outputs": []
    },
    {
      "cell_type": "code",
      "metadata": {
        "id": "m5NpieWH2hH6",
        "colab_type": "code",
        "colab": {}
      },
      "source": [
        "#Philips_B120N10_Baby_Monitor mirai #2: scan\n",
        "\n",
        "bm_mirai_scan_path = './Philips_B120N10_Baby_Monitor/mirai_attacks/scan.csv'\n",
        "\n",
        "bm_mirai_scan_dataset = pd.read_csv(bm_mirai_scan_path)\n",
        "#bm_mirai_scan_dataset.head()"
      ],
      "execution_count": 0,
      "outputs": []
    },
    {
      "cell_type": "code",
      "metadata": {
        "id": "hKsEMIMy2hi_",
        "colab_type": "code",
        "colab": {}
      },
      "source": [
        "#Philips_B120N10_Baby_Monitor mirai #3: syn\n",
        "\n",
        "bm_mirai_syn_path = './Philips_B120N10_Baby_Monitor/mirai_attacks/syn.csv'\n",
        "\n",
        "bm_mirai_syn_dataset = pd.read_csv(bm_mirai_syn_path)\n",
        "#bm_mirai_syn_dataset.head()"
      ],
      "execution_count": 0,
      "outputs": []
    },
    {
      "cell_type": "code",
      "metadata": {
        "id": "pvboExMH2hZq",
        "colab_type": "code",
        "colab": {}
      },
      "source": [
        "#Philips_B120N10_Baby_Monitor mirai #4: udp\n",
        "\n",
        "bm_mirai_udp_path = './Philips_B120N10_Baby_Monitor/mirai_attacks/udp.csv'\n",
        "\n",
        "bm_mirai_udp_dataset = pd.read_csv(bm_mirai_udp_path)\n",
        "#bm_mirai_udp_dataset.head()"
      ],
      "execution_count": 0,
      "outputs": []
    },
    {
      "cell_type": "code",
      "metadata": {
        "id": "exKXhLC42hrQ",
        "colab_type": "code",
        "colab": {}
      },
      "source": [
        "#Philips_B120N10_Baby_Monitor mirai #5: udp plain\n",
        "\n",
        "bm_mirai_udpplain_path = './Philips_B120N10_Baby_Monitor/mirai_attacks/udpplain.csv'\n",
        "\n",
        "bm_mirai_udpplain_dataset = pd.read_csv(bm_mirai_udpplain_path)\n",
        "#bm_mirai_udpplain_dataset.head()"
      ],
      "execution_count": 0,
      "outputs": []
    },
    {
      "cell_type": "code",
      "metadata": {
        "id": "2oolNAJ-E4LU",
        "colab_type": "code",
        "colab": {}
      },
      "source": [
        "#Combining all Philips_B120N10_Baby_Monitor mirai data\n",
        "bm_mirai_frames = [bm_mirai_ack_dataset, bm_mirai_scan_dataset, bm_mirai_syn_dataset, bm_mirai_udp_dataset, bm_mirai_udpplain_dataset]\n",
        "bm_mirai_df = pd.concat(bm_mirai_frames)"
      ],
      "execution_count": 0,
      "outputs": []
    },
    {
      "cell_type": "markdown",
      "metadata": {
        "id": "bWZ6RNioE2W8",
        "colab_type": "text"
      },
      "source": [
        "## Bashlite"
      ]
    },
    {
      "cell_type": "code",
      "metadata": {
        "id": "ExlEXhnp45k9",
        "colab_type": "code",
        "colab": {}
      },
      "source": [
        "#Philips_B120N10_Baby_Monitor bashlite #1: scan\n",
        "\n",
        "bm_bashlite_scan_path = './Philips_B120N10_Baby_Monitor/gafgyt_attacks/scan.csv'\n",
        "\n",
        "bm_bashlite_scan_dataset = pd.read_csv(bm_bashlite_scan_path)\n",
        "#bm_bashlite_scan_dataset.head()"
      ],
      "execution_count": 0,
      "outputs": []
    },
    {
      "cell_type": "code",
      "metadata": {
        "id": "S4JWOFIE45yr",
        "colab_type": "code",
        "colab": {}
      },
      "source": [
        "#Philips_B120N10_Baby_Monitor bashlite #2: junk\n",
        "\n",
        "bm_bashlite_junk_path = './Philips_B120N10_Baby_Monitor/gafgyt_attacks/junk.csv'\n",
        "\n",
        "bm_bashlite_junk_dataset = pd.read_csv(bm_bashlite_junk_path)\n",
        "#bm_bashlite_junk_dataset.head()"
      ],
      "execution_count": 0,
      "outputs": []
    },
    {
      "cell_type": "code",
      "metadata": {
        "id": "BPZxIVBx45_3",
        "colab_type": "code",
        "colab": {}
      },
      "source": [
        "#Philips_B120N10_Baby_Monitor bashlite #3: udp\n",
        "\n",
        "bm_bashlite_udp_path = './Philips_B120N10_Baby_Monitor/gafgyt_attacks/udp.csv'\n",
        "\n",
        "bm_bashlite_udp_dataset = pd.read_csv(bm_bashlite_udp_path)\n",
        "#bm_bashlite_udp_dataset.head()"
      ],
      "execution_count": 0,
      "outputs": []
    },
    {
      "cell_type": "code",
      "metadata": {
        "id": "l0SfBpJ446Jx",
        "colab_type": "code",
        "colab": {}
      },
      "source": [
        "#Philips_B120N10_Baby_Monitor bashlite #4: tcp\n",
        "\n",
        "bm_bashlite_tcp_path = './Philips_B120N10_Baby_Monitor/gafgyt_attacks/tcp.csv'\n",
        "\n",
        "bm_bashlite_tcp_dataset = pd.read_csv(bm_bashlite_tcp_path)\n",
        "#bm_bashlite_tcp_dataset.head()"
      ],
      "execution_count": 0,
      "outputs": []
    },
    {
      "cell_type": "code",
      "metadata": {
        "id": "_hf4zcum46VU",
        "colab_type": "code",
        "colab": {}
      },
      "source": [
        "#Philips_B120N10_Baby_Monitor bashlite #5: combo\n",
        "\n",
        "bm_bashlite_combo_path = './Philips_B120N10_Baby_Monitor/gafgyt_attacks/combo.csv'\n",
        "\n",
        "bm_bashlite_combo_dataset = pd.read_csv(bm_bashlite_combo_path)\n",
        "#bm_bashlite_combo_dataset.head()"
      ],
      "execution_count": 0,
      "outputs": []
    },
    {
      "cell_type": "code",
      "metadata": {
        "id": "GqQqWZu9F78E",
        "colab_type": "code",
        "colab": {}
      },
      "source": [
        "#Combining all Philips_B120N10_Baby_Monitor bashlite data\n",
        "bm_bashlite_frames = [bm_bashlite_scan_dataset, bm_bashlite_junk_dataset, bm_bashlite_udp_dataset, bm_bashlite_tcp_dataset, bm_bashlite_combo_dataset]\n",
        "bm_bashlite_df = pd.concat(bm_bashlite_frames)"
      ],
      "execution_count": 0,
      "outputs": []
    },
    {
      "cell_type": "markdown",
      "metadata": {
        "id": "NF5dq8o-6D13",
        "colab_type": "text"
      },
      "source": [
        "# Provision PT 737E Security Camera"
      ]
    },
    {
      "cell_type": "code",
      "metadata": {
        "id": "jlnNssDqNSq4",
        "colab_type": "code",
        "colab": {}
      },
      "source": [
        "#Provision_PT_737E_Security_Camera: benign\n",
        "\n",
        "\n",
        "psc_benign_path = './Provision_PT_737E_Security_Camera/benign_traffic.csv'\n",
        "\n",
        "psc_benign_dataset = pd.read_csv(psc_benign_path)\n",
        "#psc_benign_dataset.head()"
      ],
      "execution_count": 0,
      "outputs": []
    },
    {
      "cell_type": "markdown",
      "metadata": {
        "id": "09uhKtgXGNat",
        "colab_type": "text"
      },
      "source": [
        "## Mirai"
      ]
    },
    {
      "cell_type": "code",
      "metadata": {
        "id": "MYFD11cqNTMZ",
        "colab_type": "code",
        "colab": {}
      },
      "source": [
        "#Provision_PT_737E_Security_Camera mirai #1: ack\n",
        "\n",
        "psc_mirai_ack_path = './Provision_PT_737E_Security_Camera/mirai_attacks/ack.csv'\n",
        "\n",
        "psc_mirai_ack_dataset = pd.read_csv(psc_mirai_ack_path)\n",
        "#psc_mirai_ack_dataset.head()"
      ],
      "execution_count": 0,
      "outputs": []
    },
    {
      "cell_type": "code",
      "metadata": {
        "id": "b8YIZK9qNTcs",
        "colab_type": "code",
        "colab": {}
      },
      "source": [
        "#Provision_PT_737E_Security_Camera mirai #2: scan\n",
        "\n",
        "psc_mirai_scan_path = './Provision_PT_737E_Security_Camera/mirai_attacks/scan.csv'\n",
        "\n",
        "psc_mirai_scan_dataset = pd.read_csv(psc_mirai_scan_path)\n",
        "#psc_mirai_scan_dataset.head()"
      ],
      "execution_count": 0,
      "outputs": []
    },
    {
      "cell_type": "code",
      "metadata": {
        "id": "SXfPKWXDNTue",
        "colab_type": "code",
        "colab": {}
      },
      "source": [
        "#Provision_PT_737E_Security_Camera mirai #3: syn\n",
        "\n",
        "psc_mirai_syn_path = './Provision_PT_737E_Security_Camera/mirai_attacks/syn.csv'\n",
        "\n",
        "psc_mirai_syn_dataset = pd.read_csv(psc_mirai_syn_path)\n",
        "#psc_mirai_syn_dataset.head()"
      ],
      "execution_count": 0,
      "outputs": []
    },
    {
      "cell_type": "code",
      "metadata": {
        "id": "0mCoJncvNUjm",
        "colab_type": "code",
        "colab": {}
      },
      "source": [
        "#Provision_PT_737E_Security_Camera mirai #4: udp\n",
        "\n",
        "psc_mirai_udp_path = './Provision_PT_737E_Security_Camera/mirai_attacks/udp.csv'\n",
        "\n",
        "psc_mirai_udp_dataset = pd.read_csv(psc_mirai_udp_path)\n",
        "#psc_mirai_udp_dataset.head()"
      ],
      "execution_count": 0,
      "outputs": []
    },
    {
      "cell_type": "code",
      "metadata": {
        "id": "CfHHIVhpNUpY",
        "colab_type": "code",
        "colab": {}
      },
      "source": [
        "#Provision_PT_737E_Security_Camera mirai #5: udp plain\n",
        "\n",
        "psc_mirai_udpplain_path = './Provision_PT_737E_Security_Camera/mirai_attacks/udpplain.csv'\n",
        "\n",
        "psc_mirai_udpplain_dataset = pd.read_csv(psc_mirai_udpplain_path)\n",
        "#psc_mirai_udpplain_dataset.head()"
      ],
      "execution_count": 0,
      "outputs": []
    },
    {
      "cell_type": "code",
      "metadata": {
        "id": "E7uQ6To6GXsB",
        "colab_type": "code",
        "colab": {}
      },
      "source": [
        "#Combining all Provision_PT_737E_Security_Camera mirai data\n",
        "psc_mirai_frames = [psc_mirai_ack_dataset, psc_mirai_scan_dataset, psc_mirai_syn_dataset, psc_mirai_udp_dataset, psc_mirai_udpplain_dataset]\n",
        "psc_mirai_df = pd.concat(psc_mirai_frames)"
      ],
      "execution_count": 0,
      "outputs": []
    },
    {
      "cell_type": "markdown",
      "metadata": {
        "id": "i9f1srARGUza",
        "colab_type": "text"
      },
      "source": [
        "## Bashlite"
      ]
    },
    {
      "cell_type": "code",
      "metadata": {
        "id": "dFKvBcX2O9yt",
        "colab_type": "code",
        "colab": {}
      },
      "source": [
        "#Provision_PT_737E_Security_Camera bashlite #1: scan\n",
        "\n",
        "psc_bashlite_scan_path = './Provision_PT_737E_Security_Camera/gafgyt_attacks/scan.csv'\n",
        "\n",
        "psc_bashlite_scan_dataset = pd.read_csv(psc_bashlite_scan_path)\n",
        "#psc_bashlite_scan_dataset.head()"
      ],
      "execution_count": 0,
      "outputs": []
    },
    {
      "cell_type": "code",
      "metadata": {
        "id": "a3GjAEyTO-BC",
        "colab_type": "code",
        "colab": {}
      },
      "source": [
        "#Provision_PT_737E_Security_Camera bashlite #2: junk\n",
        "\n",
        "psc_bashlite_junk_path = './Provision_PT_737E_Security_Camera/gafgyt_attacks/junk.csv'\n",
        "\n",
        "psc_bashlite_junk_dataset = pd.read_csv(psc_bashlite_junk_path)\n",
        "#psc_bashlite_junk_dataset.head()"
      ],
      "execution_count": 0,
      "outputs": []
    },
    {
      "cell_type": "code",
      "metadata": {
        "id": "s0B3C6IQO-MQ",
        "colab_type": "code",
        "colab": {}
      },
      "source": [
        "#Provision_PT_737E_Security_Camera bashlite #3: udp\n",
        "\n",
        "psc_bashlite_udp_path = './Provision_PT_737E_Security_Camera/gafgyt_attacks/udp.csv'\n",
        "\n",
        "psc_bashlite_udp_dataset = pd.read_csv(psc_bashlite_udp_path)\n",
        "#psc_bashlite_udp_dataset.head()"
      ],
      "execution_count": 0,
      "outputs": []
    },
    {
      "cell_type": "code",
      "metadata": {
        "id": "KIjXMfEyO-W9",
        "colab_type": "code",
        "colab": {}
      },
      "source": [
        "#Provision_PT_737E_Security_Camera bashlite #4: tcp\n",
        "\n",
        "psc_bashlite_tcp_path = './Provision_PT_737E_Security_Camera/gafgyt_attacks/tcp.csv'\n",
        "\n",
        "psc_bashlite_tcp_dataset = pd.read_csv(psc_bashlite_tcp_path)\n",
        "#psc_bashlite_tcp_dataset.head()"
      ],
      "execution_count": 0,
      "outputs": []
    },
    {
      "cell_type": "code",
      "metadata": {
        "id": "rmPso0g-O-id",
        "colab_type": "code",
        "colab": {}
      },
      "source": [
        "#Provision_PT_737E_Security_Camera bashlite #5: combo\n",
        "\n",
        "psc_bashlite_combo_path = './Provision_PT_737E_Security_Camera/gafgyt_attacks/combo.csv'\n",
        "\n",
        "psc_bashlite_combo_dataset = pd.read_csv(psc_bashlite_combo_path)\n",
        "#psc_bashlite_combo_dataset.head()"
      ],
      "execution_count": 0,
      "outputs": []
    },
    {
      "cell_type": "code",
      "metadata": {
        "id": "GOuoEgkUG00m",
        "colab_type": "code",
        "colab": {}
      },
      "source": [
        "#Combining all Philips_B120N10_Baby_Monitor bashlite data\n",
        "psc_bashlite_frames = [psc_bashlite_scan_dataset, psc_bashlite_junk_dataset, psc_bashlite_udp_dataset, psc_bashlite_tcp_dataset, psc_bashlite_combo_dataset]\n",
        "psc_bashlite_df = pd.concat(psc_bashlite_frames)"
      ],
      "execution_count": 0,
      "outputs": []
    },
    {
      "cell_type": "markdown",
      "metadata": {
        "id": "RKjVWtiXP3Hh",
        "colab_type": "text"
      },
      "source": [
        "# Provision PT 838 Security Camera"
      ]
    },
    {
      "cell_type": "code",
      "metadata": {
        "id": "AGWgag75QG9v",
        "colab_type": "code",
        "colab": {}
      },
      "source": [
        "#Provision_PT_838_Security_Camera: benign\n",
        "\n",
        "\n",
        "psc8_benign_path = './Provision_PT_838_Security_Camera/benign_traffic.csv'\n",
        "\n",
        "psc8_benign_dataset = pd.read_csv(psc8_benign_path)\n",
        "#psc8_benign_dataset.head()"
      ],
      "execution_count": 0,
      "outputs": []
    },
    {
      "cell_type": "markdown",
      "metadata": {
        "id": "0o6IhPL-IKKy",
        "colab_type": "text"
      },
      "source": [
        "## Mirai"
      ]
    },
    {
      "cell_type": "code",
      "metadata": {
        "id": "c37rddY0QXHn",
        "colab_type": "code",
        "colab": {}
      },
      "source": [
        "#Provision_PT_838_Security_Camera mirai #1: ack\n",
        "\n",
        "psc8_mirai_ack_path = './Provision_PT_838_Security_Camera/mirai_attacks/ack.csv'\n",
        "\n",
        "psc8_mirai_ack_dataset = pd.read_csv(psc8_mirai_ack_path)\n",
        "#psc8_mirai_ack_dataset.head()"
      ],
      "execution_count": 0,
      "outputs": []
    },
    {
      "cell_type": "code",
      "metadata": {
        "id": "UVpkvoJeQXR1",
        "colab_type": "code",
        "colab": {}
      },
      "source": [
        "#Provision_PT_838_Security_Camera mirai #2: scan\n",
        "\n",
        "psc8_mirai_scan_path = './Provision_PT_838_Security_Camera/mirai_attacks/scan.csv'\n",
        "\n",
        "psc8_mirai_scan_dataset = pd.read_csv(psc8_mirai_scan_path)\n",
        "#psc8_mirai_scan_dataset.head()"
      ],
      "execution_count": 0,
      "outputs": []
    },
    {
      "cell_type": "code",
      "metadata": {
        "id": "6gddentTQXfL",
        "colab_type": "code",
        "colab": {}
      },
      "source": [
        "#Provision_PT_838_Security_Camera mirai #3: syn\n",
        "\n",
        "psc8_mirai_syn_path = './Provision_PT_838_Security_Camera/mirai_attacks/syn.csv'\n",
        "\n",
        "psc8_mirai_syn_dataset = pd.read_csv(psc8_mirai_syn_path)\n",
        "#psc8_mirai_syn_dataset.head()"
      ],
      "execution_count": 0,
      "outputs": []
    },
    {
      "cell_type": "code",
      "metadata": {
        "id": "ZtIpgVadQXtQ",
        "colab_type": "code",
        "colab": {}
      },
      "source": [
        "#Provision_PT_838_Security_Camera mirai #4: udp\n",
        "\n",
        "psc8_mirai_udp_path = './Provision_PT_838_Security_Camera/mirai_attacks/udp.csv'\n",
        "\n",
        "psc8_mirai_udp_dataset = pd.read_csv(psc8_mirai_udp_path)\n",
        "#psc8_mirai_udp_dataset.head()"
      ],
      "execution_count": 0,
      "outputs": []
    },
    {
      "cell_type": "code",
      "metadata": {
        "id": "Wtm8Cx4UQX2c",
        "colab_type": "code",
        "colab": {}
      },
      "source": [
        "#Provision_PT_838_Security_Camera mirai #5: udp plain\n",
        "\n",
        "psc8_mirai_udpplain_path = './Provision_PT_838_Security_Camera/mirai_attacks/udpplain.csv'\n",
        "\n",
        "psc8_mirai_udpplain_dataset = pd.read_csv(psc8_mirai_udpplain_path)\n",
        "#psc8_mirai_udpplain_dataset.head()"
      ],
      "execution_count": 0,
      "outputs": []
    },
    {
      "cell_type": "code",
      "metadata": {
        "id": "-mRrDZDJITcT",
        "colab_type": "code",
        "colab": {}
      },
      "source": [
        "#Combining all Provision_PT_838_Security_Camera mirai data\n",
        "psc8_mirai_frames = [psc8_mirai_ack_dataset, psc8_mirai_scan_dataset, psc8_mirai_syn_dataset, psc8_mirai_udp_dataset, psc8_mirai_udpplain_dataset]\n",
        "psc8_mirai_df = pd.concat(psc8_mirai_frames)"
      ],
      "execution_count": 0,
      "outputs": []
    },
    {
      "cell_type": "markdown",
      "metadata": {
        "id": "wWfkvodEIQu3",
        "colab_type": "text"
      },
      "source": [
        "## Bashlite"
      ]
    },
    {
      "cell_type": "code",
      "metadata": {
        "id": "-oofZhhtRTXw",
        "colab_type": "code",
        "colab": {}
      },
      "source": [
        "#Provision_PT_838_Security_Camera bashlite #1: scan\n",
        "\n",
        "psc8_bashlite_scan_path = './Provision_PT_838_Security_Camera/gafgyt_attacks/scan.csv'\n",
        "\n",
        "psc8_bashlite_scan_dataset = pd.read_csv(psc8_bashlite_scan_path)\n",
        "#psc8_bashlite_scan_dataset.head()"
      ],
      "execution_count": 0,
      "outputs": []
    },
    {
      "cell_type": "code",
      "metadata": {
        "id": "-xcd1l40RTjC",
        "colab_type": "code",
        "colab": {}
      },
      "source": [
        "#Provision_PT_838_Security_Camera bashlite #2: junk\n",
        "\n",
        "psc8_bashlite_junk_path = './Provision_PT_838_Security_Camera/gafgyt_attacks/junk.csv'\n",
        "\n",
        "psc8_bashlite_junk_dataset = pd.read_csv(psc8_bashlite_junk_path)\n",
        "#psc8_bashlite_junk_dataset.head()"
      ],
      "execution_count": 0,
      "outputs": []
    },
    {
      "cell_type": "code",
      "metadata": {
        "id": "axVMfR_oRTrX",
        "colab_type": "code",
        "colab": {}
      },
      "source": [
        "#Provision_PT_838_Security_Camera bashlite #3: udp\n",
        "\n",
        "psc8_bashlite_udp_path = './Provision_PT_838_Security_Camera/gafgyt_attacks/udp.csv'\n",
        "\n",
        "psc8_bashlite_udp_dataset = pd.read_csv(psc8_bashlite_udp_path)\n",
        "#psc8_bashlite_udp_dataset.head()"
      ],
      "execution_count": 0,
      "outputs": []
    },
    {
      "cell_type": "code",
      "metadata": {
        "id": "FDHOXnXjRT5B",
        "colab_type": "code",
        "colab": {}
      },
      "source": [
        "#Provision_PT_838_Security_Camera bashlite #4: tcp\n",
        "\n",
        "psc8_bashlite_tcp_path = './Provision_PT_838_Security_Camera/gafgyt_attacks/tcp.csv'\n",
        "\n",
        "psc8_bashlite_tcp_dataset = pd.read_csv(psc8_bashlite_tcp_path)\n",
        "#psc8_bashlite_tcp_dataset.head()"
      ],
      "execution_count": 0,
      "outputs": []
    },
    {
      "cell_type": "code",
      "metadata": {
        "id": "Dj9FqpZURUBD",
        "colab_type": "code",
        "colab": {}
      },
      "source": [
        "#Provision_PT_838_Security_Camera bashlite #5: combo\n",
        "\n",
        "psc8_bashlite_combo_path = './Provision_PT_838_Security_Camera/gafgyt_attacks/combo.csv'\n",
        "\n",
        "psc8_bashlite_combo_dataset = pd.read_csv(psc8_bashlite_combo_path)\n",
        "#psc8_bashlite_combo_dataset.head()"
      ],
      "execution_count": 0,
      "outputs": []
    },
    {
      "cell_type": "code",
      "metadata": {
        "id": "E1Asdx6QIqZc",
        "colab_type": "code",
        "colab": {}
      },
      "source": [
        "#Combining all Provision_PT_838_Security_Camera bashlite data\n",
        "psc8_bashlite_frames = [psc8_bashlite_scan_dataset, psc8_bashlite_junk_dataset, psc8_bashlite_udp_dataset, psc8_bashlite_tcp_dataset, psc8_bashlite_combo_dataset]\n",
        "psc8_bashlite_df = pd.concat(psc8_bashlite_frames)"
      ],
      "execution_count": 0,
      "outputs": []
    },
    {
      "cell_type": "markdown",
      "metadata": {
        "id": "2kvdQVvySLQD",
        "colab_type": "text"
      },
      "source": [
        "# Samsung SNH 1011 N Webcam"
      ]
    },
    {
      "cell_type": "code",
      "metadata": {
        "id": "XQAucX-aSVnk",
        "colab_type": "code",
        "colab": {}
      },
      "source": [
        "#Samsung_SNH_1011_N_Webcam: benign\n",
        "\n",
        "\n",
        "wc_benign_path = './Samsung_SNH_1011_N_Webcam/benign_traffic.csv'\n",
        "\n",
        "wc_benign_dataset = pd.read_csv(wc_benign_path)\n",
        "#wc_benign_dataset.head()"
      ],
      "execution_count": 0,
      "outputs": []
    },
    {
      "cell_type": "markdown",
      "metadata": {
        "id": "pafMZSB-I-gD",
        "colab_type": "text"
      },
      "source": [
        "## Bashlite"
      ]
    },
    {
      "cell_type": "code",
      "metadata": {
        "id": "fs-qv7QvSWMz",
        "colab_type": "code",
        "colab": {}
      },
      "source": [
        "#Samsung_SNH_1011_N_Webcam bashlite #1: scan\n",
        "\n",
        "wc_bashlite_scan_path = './Samsung_SNH_1011_N_Webcam/gafgyt_attacks/scan.csv'\n",
        "\n",
        "wc_bashlite_scan_dataset = pd.read_csv(wc_bashlite_scan_path)\n",
        "#wc_bashlite_scan_dataset.head()"
      ],
      "execution_count": 0,
      "outputs": []
    },
    {
      "cell_type": "code",
      "metadata": {
        "id": "w6ndWJqMSWce",
        "colab_type": "code",
        "colab": {}
      },
      "source": [
        "#Samsung_SNH_1011_N_Webcam bashlite #2: junk\n",
        "\n",
        "wc_bashlite_junk_path = './Samsung_SNH_1011_N_Webcam/gafgyt_attacks/junk.csv'\n",
        "\n",
        "wc_bashlite_junk_dataset = pd.read_csv(wc_bashlite_junk_path)\n",
        "#wc_bashlite_junk_dataset.head()"
      ],
      "execution_count": 0,
      "outputs": []
    },
    {
      "cell_type": "code",
      "metadata": {
        "id": "OL9U8ISlSWqU",
        "colab_type": "code",
        "colab": {}
      },
      "source": [
        "#Samsung_SNH_1011_N_Webcam bashlite #3: udp\n",
        "\n",
        "wc_bashlite_udp_path = './Samsung_SNH_1011_N_Webcam/gafgyt_attacks/udp.csv'\n",
        "\n",
        "wc_bashlite_udp_dataset = pd.read_csv(wc_bashlite_udp_path)\n",
        "#wc_bashlite_udp_dataset.head()"
      ],
      "execution_count": 0,
      "outputs": []
    },
    {
      "cell_type": "code",
      "metadata": {
        "id": "S28bzEPISW0A",
        "colab_type": "code",
        "colab": {}
      },
      "source": [
        "#Samsung_SNH_1011_N_Webcam bashlite #4: tcp\n",
        "\n",
        "wc_bashlite_tcp_path = './Samsung_SNH_1011_N_Webcam/gafgyt_attacks/tcp.csv'\n",
        "\n",
        "wc_bashlite_tcp_dataset = pd.read_csv(wc_bashlite_tcp_path)\n",
        "#wc_bashlite_tcp_dataset.head()"
      ],
      "execution_count": 0,
      "outputs": []
    },
    {
      "cell_type": "code",
      "metadata": {
        "id": "rC__akclSW9h",
        "colab_type": "code",
        "colab": {}
      },
      "source": [
        "#Samsung_SNH_1011_N_Webcam bashlite #5: combo\n",
        "\n",
        "wc_bashlite_combo_path = './Samsung_SNH_1011_N_Webcam/gafgyt_attacks/combo.csv'\n",
        "\n",
        "wc_bashlite_combo_dataset = pd.read_csv(wc_bashlite_combo_path)\n",
        "#wc_bashlite_combo_dataset.head()"
      ],
      "execution_count": 0,
      "outputs": []
    },
    {
      "cell_type": "code",
      "metadata": {
        "id": "hY2JN4S0JHva",
        "colab_type": "code",
        "colab": {}
      },
      "source": [
        "#Combining all Samsung_SNH_1011_N_Webcam bashlite data\n",
        "wc_bashlite_frames = [wc_bashlite_scan_dataset, wc_bashlite_junk_dataset, wc_bashlite_udp_dataset, wc_bashlite_tcp_dataset, wc_bashlite_combo_dataset]\n",
        "wc_bashlite_df = pd.concat(wc_bashlite_frames)"
      ],
      "execution_count": 0,
      "outputs": []
    },
    {
      "cell_type": "markdown",
      "metadata": {
        "id": "SHQRZ0AYT8qq",
        "colab_type": "text"
      },
      "source": [
        "# Simple Home XCS7  1002 WHT Security Camera "
      ]
    },
    {
      "cell_type": "code",
      "metadata": {
        "id": "eFI_Md-kUQP7",
        "colab_type": "code",
        "colab": {}
      },
      "source": [
        "#SimpleHome_XCS7_1002_WHT_Security_Camera: benign\n",
        "\n",
        "\n",
        "sh2_benign_path = './SimpleHome_XCS7_1002_WHT_Security_Camera/benign_traffic.csv'\n",
        "\n",
        "sh2_benign_dataset = pd.read_csv(sh2_benign_path)\n",
        "#sh2_benign_dataset.head()"
      ],
      "execution_count": 0,
      "outputs": []
    },
    {
      "cell_type": "markdown",
      "metadata": {
        "id": "IT5ozEpsJpvo",
        "colab_type": "text"
      },
      "source": [
        "## Mirai"
      ]
    },
    {
      "cell_type": "code",
      "metadata": {
        "id": "f4wqBib9U8C4",
        "colab_type": "code",
        "colab": {}
      },
      "source": [
        "#SimpleHome_XCS7_1002_WHT_Security_Camera mirai #1: ack\n",
        "\n",
        "sh2_mirai_ack_path = './SimpleHome_XCS7_1002_WHT_Security_Camera/mirai_attacks/ack.csv'\n",
        "\n",
        "sh2_mirai_ack_dataset = pd.read_csv(sh2_mirai_ack_path)\n",
        "#sh2_mirai_ack_dataset.head()"
      ],
      "execution_count": 0,
      "outputs": []
    },
    {
      "cell_type": "code",
      "metadata": {
        "id": "z9lLPs1uU8O0",
        "colab_type": "code",
        "colab": {}
      },
      "source": [
        "#SimpleHome_XCS7_1002_WHT_Security_Camera mirai #2: scan\n",
        "\n",
        "sh2_mirai_scan_path = './SimpleHome_XCS7_1002_WHT_Security_Camera/mirai_attacks/scan.csv'\n",
        "\n",
        "sh2_mirai_scan_dataset = pd.read_csv(sh2_mirai_scan_path)\n",
        "#sh2_mirai_scan_dataset.head()"
      ],
      "execution_count": 0,
      "outputs": []
    },
    {
      "cell_type": "code",
      "metadata": {
        "id": "koOQX6vnU8aM",
        "colab_type": "code",
        "colab": {}
      },
      "source": [
        "#SimpleHome_XCS7_1002_WHT_Security_Camera mirai #3: syn\n",
        "\n",
        "sh2_mirai_syn_path = './SimpleHome_XCS7_1002_WHT_Security_Camera/mirai_attacks/syn.csv'\n",
        "\n",
        "sh2_mirai_syn_dataset = pd.read_csv(sh2_mirai_syn_path)\n",
        "#sh2_mirai_syn_dataset.head()"
      ],
      "execution_count": 0,
      "outputs": []
    },
    {
      "cell_type": "code",
      "metadata": {
        "id": "93iLM1COU8mb",
        "colab_type": "code",
        "colab": {}
      },
      "source": [
        "#SimpleHome_XCS7_1002_WHT_Security_Camera mirai #4: udp\n",
        "\n",
        "sh2_mirai_udp_path = './SimpleHome_XCS7_1002_WHT_Security_Camera/mirai_attacks/udp.csv'\n",
        "\n",
        "sh2_mirai_udp_dataset = pd.read_csv(sh2_mirai_udp_path)\n",
        "#sh2_mirai_udp_dataset.head()"
      ],
      "execution_count": 0,
      "outputs": []
    },
    {
      "cell_type": "code",
      "metadata": {
        "id": "-yOqboQkU8w6",
        "colab_type": "code",
        "colab": {}
      },
      "source": [
        "#SimpleHome_XCS7_1002_WHT_Security_Camera mirai #5: udp plain\n",
        "\n",
        "sh2_mirai_udpplain_path = './SimpleHome_XCS7_1002_WHT_Security_Camera/mirai_attacks/udpplain.csv'\n",
        "\n",
        "sh2_mirai_udpplain_dataset = pd.read_csv(sh2_mirai_udpplain_path)\n",
        "#sh2_mirai_udpplain_dataset.head()"
      ],
      "execution_count": 0,
      "outputs": []
    },
    {
      "cell_type": "code",
      "metadata": {
        "id": "7RfhGhFLJ0vU",
        "colab_type": "code",
        "colab": {}
      },
      "source": [
        "#Combining all SimpleHome_XCS7_1002_WHT_Security_Camera mirai data\n",
        "sh2_mirai_frames = [sh2_mirai_ack_dataset, sh2_mirai_scan_dataset, sh2_mirai_syn_dataset, sh2_mirai_udp_dataset, sh2_mirai_udpplain_dataset]\n",
        "sh2_mirai_df = pd.concat(sh2_mirai_frames)"
      ],
      "execution_count": 0,
      "outputs": []
    },
    {
      "cell_type": "markdown",
      "metadata": {
        "id": "coq6Jqy3Jy0k",
        "colab_type": "text"
      },
      "source": [
        "## Bashlite"
      ]
    },
    {
      "cell_type": "code",
      "metadata": {
        "id": "v3MqjUteWG09",
        "colab_type": "code",
        "colab": {}
      },
      "source": [
        "#SimpleHome_XCS7_1002_WHT_Security_Camera bashlite #1: scan\n",
        "\n",
        "sh2_bashlite_scan_path = './SimpleHome_XCS7_1002_WHT_Security_Camera/gafgyt_attacks/scan.csv'\n",
        "\n",
        "sh2_bashlite_scan_dataset = pd.read_csv(sh2_bashlite_scan_path)\n",
        "#sh2_bashlite_scan_dataset.head()"
      ],
      "execution_count": 0,
      "outputs": []
    },
    {
      "cell_type": "code",
      "metadata": {
        "id": "L03v4nVDWUox",
        "colab_type": "code",
        "colab": {}
      },
      "source": [
        "#SimpleHome_XCS7_1002_WHT_Security_Camera bashlite #2: junk\n",
        "\n",
        "sh2_bashlite_junk_path = './SimpleHome_XCS7_1002_WHT_Security_Camera/gafgyt_attacks/junk.csv'\n",
        "\n",
        "sh2_bashlite_junk_dataset = pd.read_csv(sh2_bashlite_junk_path)\n",
        "#sh2_bashlite_junk_dataset.head()"
      ],
      "execution_count": 0,
      "outputs": []
    },
    {
      "cell_type": "code",
      "metadata": {
        "id": "kBdUxTK2WU0M",
        "colab_type": "code",
        "colab": {}
      },
      "source": [
        "#SimpleHome_XCS7_1002_WHT_Security_Camera bashlite #3: udp\n",
        "\n",
        "sh2_bashlite_udp_path = './SimpleHome_XCS7_1002_WHT_Security_Camera/gafgyt_attacks/udp.csv'\n",
        "\n",
        "sh2_bashlite_udp_dataset = pd.read_csv(sh2_bashlite_udp_path)\n",
        "#sh2_bashlite_udp_dataset.head()"
      ],
      "execution_count": 0,
      "outputs": []
    },
    {
      "cell_type": "code",
      "metadata": {
        "id": "2ri6RJxMWV50",
        "colab_type": "code",
        "colab": {}
      },
      "source": [
        "#SimpleHome_XCS7_1002_WHT_Security_Camera bashlite #4: tcp\n",
        "\n",
        "sh2_bashlite_tcp_path = './SimpleHome_XCS7_1002_WHT_Security_Camera/gafgyt_attacks/tcp.csv'\n",
        "\n",
        "sh2_bashlite_tcp_dataset = pd.read_csv(sh2_bashlite_tcp_path)\n",
        "#sh2_bashlite_tcp_dataset.head()"
      ],
      "execution_count": 0,
      "outputs": []
    },
    {
      "cell_type": "code",
      "metadata": {
        "id": "T3HtkGqAWWFO",
        "colab_type": "code",
        "colab": {}
      },
      "source": [
        "#SimpleHome_XCS7_1002_WHT_Security_Camera bashlite #5: combo\n",
        "\n",
        "sh2_bashlite_combo_path = './SimpleHome_XCS7_1002_WHT_Security_Camera/gafgyt_attacks/combo.csv'\n",
        "\n",
        "sh2_bashlite_combo_dataset = pd.read_csv(sh2_bashlite_combo_path)\n",
        "#sh2_bashlite_combo_dataset.head()"
      ],
      "execution_count": 0,
      "outputs": []
    },
    {
      "cell_type": "code",
      "metadata": {
        "id": "zrnxtf5CKL8F",
        "colab_type": "code",
        "colab": {}
      },
      "source": [
        "#Combining all SimpleHome_XCS7_1002_WHT_Security_Camera bashlite data\n",
        "sh2_bashlite_frames = [sh2_bashlite_scan_dataset, sh2_bashlite_junk_dataset, sh2_bashlite_udp_dataset, sh2_bashlite_tcp_dataset, sh2_bashlite_combo_dataset]\n",
        "sh2_bashlite_df = pd.concat(sh2_bashlite_frames)"
      ],
      "execution_count": 0,
      "outputs": []
    },
    {
      "cell_type": "markdown",
      "metadata": {
        "id": "TpC0gJsTXB1E",
        "colab_type": "text"
      },
      "source": [
        "# Simple Home XCS7 1003 WHT Security Camera"
      ]
    },
    {
      "cell_type": "code",
      "metadata": {
        "id": "93ONvLxxXMnW",
        "colab_type": "code",
        "colab": {}
      },
      "source": [
        "#SimpleHome_XCS7_1003_WHT_Security_Camera: benign\n",
        "\n",
        "\n",
        "sh3_benign_path = './SimpleHome_XCS7_1003_WHT_Security_Camera/benign_traffic.csv'\n",
        "\n",
        "sh3_benign_dataset = pd.read_csv(sh3_benign_path)\n",
        "#sh3_benign_dataset.head()"
      ],
      "execution_count": 0,
      "outputs": []
    },
    {
      "cell_type": "markdown",
      "metadata": {
        "id": "nYnf2nUOKod6",
        "colab_type": "text"
      },
      "source": [
        "## Mirai"
      ]
    },
    {
      "cell_type": "code",
      "metadata": {
        "id": "3hdxdMVZXM3u",
        "colab_type": "code",
        "colab": {}
      },
      "source": [
        "#SimpleHome_XCS7_1003_WHT_Security_Camera mirai #1: ack\n",
        "\n",
        "sh3_mirai_ack_path = './SimpleHome_XCS7_1003_WHT_Security_Camera/mirai_attacks/ack.csv'\n",
        "\n",
        "sh3_mirai_ack_dataset = pd.read_csv(sh3_mirai_ack_path)\n",
        "#sh3_mirai_ack_dataset.head()"
      ],
      "execution_count": 0,
      "outputs": []
    },
    {
      "cell_type": "code",
      "metadata": {
        "id": "6uXprP79XNGN",
        "colab_type": "code",
        "colab": {}
      },
      "source": [
        "#SimpleHome_XCS7_1003_WHT_Security_Camera mirai #2: scan\n",
        "\n",
        "sh3_mirai_scan_path = './SimpleHome_XCS7_1003_WHT_Security_Camera/mirai_attacks/scan.csv'\n",
        "\n",
        "sh3_mirai_scan_dataset = pd.read_csv(sh3_mirai_scan_path)\n",
        "#sh3_mirai_scan_dataset.head()"
      ],
      "execution_count": 0,
      "outputs": []
    },
    {
      "cell_type": "code",
      "metadata": {
        "id": "qzX8jtMtXNWn",
        "colab_type": "code",
        "colab": {}
      },
      "source": [
        "#SimpleHome_XCS7_1003_WHT_Security_Camera mirai #3: syn\n",
        "\n",
        "sh3_mirai_syn_path = './SimpleHome_XCS7_1003_WHT_Security_Camera/mirai_attacks/syn.csv'\n",
        "\n",
        "sh3_mirai_syn_dataset = pd.read_csv(sh3_mirai_syn_path)\n",
        "#sh3_mirai_syn_dataset.head()"
      ],
      "execution_count": 0,
      "outputs": []
    },
    {
      "cell_type": "code",
      "metadata": {
        "id": "y2GpMxREXNj7",
        "colab_type": "code",
        "colab": {}
      },
      "source": [
        "#SimpleHome_XCS7_1003_WHT_Security_Camera mirai #4: udp\n",
        "\n",
        "sh3_mirai_udp_path = './SimpleHome_XCS7_1003_WHT_Security_Camera/mirai_attacks/udp.csv'\n",
        "\n",
        "sh3_mirai_udp_dataset = pd.read_csv(sh3_mirai_udp_path)\n",
        "#sh3_mirai_udp_dataset.head()"
      ],
      "execution_count": 0,
      "outputs": []
    },
    {
      "cell_type": "code",
      "metadata": {
        "id": "uzrYCKWgXNus",
        "colab_type": "code",
        "colab": {}
      },
      "source": [
        "#SimpleHome_XCS7_1003_WHT_Security_Camera mirai #5: udp plain\n",
        "\n",
        "sh3_mirai_udpplain_path = './SimpleHome_XCS7_1003_WHT_Security_Camera/mirai_attacks/udpplain.csv'\n",
        "\n",
        "sh3_mirai_udpplain_dataset = pd.read_csv(sh3_mirai_udpplain_path)\n",
        "#sh3_mirai_udpplain_dataset.head()"
      ],
      "execution_count": 0,
      "outputs": []
    },
    {
      "cell_type": "code",
      "metadata": {
        "id": "bJkK4XXsKtwL",
        "colab_type": "code",
        "colab": {}
      },
      "source": [
        "#Combining all SimpleHome_XCS7_1003_WHT_Security_Camera mirai data\n",
        "sh3_mirai_frames = [sh3_mirai_ack_dataset, sh3_mirai_scan_dataset, sh3_mirai_syn_dataset, sh3_mirai_udp_dataset, sh3_mirai_udpplain_dataset]\n",
        "sh3_mirai_df = pd.concat(sh3_mirai_frames)"
      ],
      "execution_count": 0,
      "outputs": []
    },
    {
      "cell_type": "markdown",
      "metadata": {
        "id": "z7Z1anHyKq5E",
        "colab_type": "text"
      },
      "source": [
        "## Bashlite"
      ]
    },
    {
      "cell_type": "code",
      "metadata": {
        "id": "673W_QnrYGz-",
        "colab_type": "code",
        "colab": {}
      },
      "source": [
        "#SimpleHome_XCS7_1003_WHT_Security_Camera bashlite #1: scan\n",
        "\n",
        "sh3_bashlite_scan_path = './SimpleHome_XCS7_1003_WHT_Security_Camera/gafgyt_attacks/scan.csv'\n",
        "\n",
        "sh3_bashlite_scan_dataset = pd.read_csv(sh3_bashlite_scan_path)\n",
        "#sh3_bashlite_scan_dataset.head()"
      ],
      "execution_count": 0,
      "outputs": []
    },
    {
      "cell_type": "code",
      "metadata": {
        "id": "5ceEEwA9YG-5",
        "colab_type": "code",
        "colab": {}
      },
      "source": [
        "#SimpleHome_XCS7_1003_WHT_Security_Camera bashlite #2: junk\n",
        "\n",
        "sh3_bashlite_junk_path = './SimpleHome_XCS7_1003_WHT_Security_Camera/gafgyt_attacks/junk.csv'\n",
        "\n",
        "sh3_bashlite_junk_dataset = pd.read_csv(sh3_bashlite_junk_path)\n",
        "#sh3_bashlite_junk_dataset.head()"
      ],
      "execution_count": 0,
      "outputs": []
    },
    {
      "cell_type": "code",
      "metadata": {
        "id": "_iev1BZaYHKX",
        "colab_type": "code",
        "colab": {}
      },
      "source": [
        "#SimpleHome_XCS7_1003_WHT_Security_Camera bashlite #3: udp\n",
        "\n",
        "sh3_bashlite_udp_path = './SimpleHome_XCS7_1003_WHT_Security_Camera/gafgyt_attacks/udp.csv'\n",
        "\n",
        "sh3_bashlite_udp_dataset = pd.read_csv(sh3_bashlite_udp_path)\n",
        "#sh3_bashlite_udp_dataset.head()"
      ],
      "execution_count": 0,
      "outputs": []
    },
    {
      "cell_type": "code",
      "metadata": {
        "id": "Pbu5wORGYHUi",
        "colab_type": "code",
        "colab": {}
      },
      "source": [
        "#SimpleHome_XCS7_1003_WHT_Security_Camera bashlite #4: tcp\n",
        "\n",
        "sh3_bashlite_tcp_path = './SimpleHome_XCS7_1003_WHT_Security_Camera/gafgyt_attacks/tcp.csv'\n",
        "\n",
        "sh3_bashlite_tcp_dataset = pd.read_csv(sh3_bashlite_tcp_path)\n",
        "#sh3_bashlite_tcp_dataset.head()"
      ],
      "execution_count": 0,
      "outputs": []
    },
    {
      "cell_type": "code",
      "metadata": {
        "id": "abu9S-deYHdv",
        "colab_type": "code",
        "colab": {}
      },
      "source": [
        "#SimpleHome_XCS7_1003_WHT_Security_Camera bashlite #5: combo\n",
        "\n",
        "sh3_bashlite_combo_path = './SimpleHome_XCS7_1003_WHT_Security_Camera/gafgyt_attacks/combo.csv'\n",
        "\n",
        "sh3_bashlite_combo_dataset = pd.read_csv(sh3_bashlite_combo_path)\n",
        "#sh3_bashlite_combo_dataset.head()"
      ],
      "execution_count": 0,
      "outputs": []
    },
    {
      "cell_type": "code",
      "metadata": {
        "id": "7V7FkII0LT6o",
        "colab_type": "code",
        "colab": {}
      },
      "source": [
        "#Combining all SimpleHome_XCS7_1003_WHT_Security_Camera bashlite data\n",
        "sh3_bashlite_frames = [sh3_bashlite_scan_dataset, sh3_bashlite_junk_dataset, sh3_bashlite_udp_dataset, sh3_bashlite_tcp_dataset, sh3_bashlite_combo_dataset]\n",
        "sh3_bashlite_df = pd.concat(sh3_bashlite_frames)"
      ],
      "execution_count": 0,
      "outputs": []
    },
    {
      "cell_type": "markdown",
      "metadata": {
        "id": "J8Ro1qKudfNu",
        "colab_type": "text"
      },
      "source": [
        "#Dimensionality Reduction paper -  device specific model section"
      ]
    },
    {
      "cell_type": "markdown",
      "metadata": {
        "id": "o_Vb_PAheEXI",
        "colab_type": "text"
      },
      "source": [
        "## Security Camera PT-838"
      ]
    },
    {
      "cell_type": "markdown",
      "metadata": {
        "id": "FgLQZCJYe_Te",
        "colab_type": "text"
      },
      "source": [
        "### Fisher **Score**"
      ]
    },
    {
      "cell_type": "code",
      "metadata": {
        "id": "-VDRwNuCdeWL",
        "colab_type": "code",
        "colab": {}
      },
      "source": [
        "frames = [psc8_bashlite_df"
      ],
      "execution_count": 0,
      "outputs": []
    },
    {
      "cell_type": "markdown",
      "metadata": {
        "id": "oIx2GNZAf5x5",
        "colab_type": "text"
      },
      "source": [
        "# Creating Full Datasets"
      ]
    },
    {
      "cell_type": "code",
      "metadata": {
        "id": "zwjpdEq5Qd2n",
        "colab_type": "code",
        "colab": {}
      },
      "source": [
        "#Full Benign dataframe from all nine devices\n",
        "'''\n",
        "benign_frames = [dd_benign_dataset, et_benign_dataset, ed_benign_dataset, bm_benign_dataset, psc_benign_dataset, psc8_benign_dataset, wc_benign_dataset, sh2_benign_dataset, sh3_benign_dataset]\n",
        "full_benign_df = pd.concat(benign_frames)\n",
        "full_benign_df.to_csv('full_benign_df.csv')\n",
        "'''"
      ],
      "execution_count": 0,
      "outputs": []
    },
    {
      "cell_type": "code",
      "metadata": {
        "id": "dvmc121Jf-sO",
        "colab_type": "code",
        "colab": {}
      },
      "source": [
        "#Full Mirai dataframe from all seven devices\n",
        "'''\n",
        "mirai_frames = [dd_mirai_df, et_mirai_df, bm_mirai_df, psc_mirai_df, psc8_mirai_df, sh2_mirai_df, sh3_mirai_df]\n",
        "full_mirai_df = pd.concat(mirai_frames)\n",
        "full_mirai_df.to_csv('full_mirai_df.csv')\n",
        "'''"
      ],
      "execution_count": 0,
      "outputs": []
    },
    {
      "cell_type": "code",
      "metadata": {
        "id": "2ckdqUb4QGk6",
        "colab_type": "code",
        "colab": {}
      },
      "source": [
        "#Full Bashlite dataframe from all nine devices\n",
        "'''\n",
        "bashlite_frames = [dd_bashlite_df, et_bashlite_df, ed_bashlite_df, bm_bashlite_df, psc_bashlite_df, psc8_bashlite_df, wc_bashlite_df, sh2_bashlite_df, sh3_bashlite_df]\n",
        "full_bashlite_df = pd.concat(bashlite_frames)\n",
        "full_bashlite_df.to_csv('full_bashlite_df.csv')\n",
        "'''"
      ],
      "execution_count": 0,
      "outputs": []
    },
    {
      "cell_type": "markdown",
      "metadata": {
        "id": "_KnJ6bFAT0X5",
        "colab_type": "text"
      },
      "source": [
        "## Testing Loading Them"
      ]
    },
    {
      "cell_type": "code",
      "metadata": {
        "id": "ijwncji2T4oy",
        "colab_type": "code",
        "colab": {}
      },
      "source": [
        "'''\n",
        "full_mirai_path = './full_mirai_df.csv'\n",
        "\n",
        "full_mirai_df = pd.read_csv(full_mirai_path)\n",
        "full_mirai_df.head()\n",
        "'''"
      ],
      "execution_count": 0,
      "outputs": []
    },
    {
      "cell_type": "code",
      "metadata": {
        "id": "8PFZ5MO2V51p",
        "colab_type": "code",
        "colab": {}
      },
      "source": [
        "'''\n",
        "full_bashlite_path = './full_bashlite_df.csv'\n",
        "\n",
        "full_bashlite_df = pd.read_csv(full_bashlite_path)\n",
        "full_bashlite_df.shape\n",
        "'''"
      ],
      "execution_count": 0,
      "outputs": []
    },
    {
      "cell_type": "code",
      "metadata": {
        "id": "3Teqo2pPWs_K",
        "colab_type": "code",
        "colab": {}
      },
      "source": [
        "'''\n",
        "full_benign_path = './full_benign_df.csv'\n",
        "\n",
        "full_benign_df = pd.read_csv(full_benign_path)\n",
        "full_benign_df.shape\n",
        "'''"
      ],
      "execution_count": 0,
      "outputs": []
    }
  ]
}