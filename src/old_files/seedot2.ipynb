{
  "nbformat": 4,
  "nbformat_minor": 0,
  "metadata": {
    "colab": {
      "name": "seedot2.ipynb",
      "version": "0.3.2",
      "provenance": []
    },
    "kernelspec": {
      "name": "python3",
      "display_name": "Python 3"
    }
  },
  "cells": [
    {
      "cell_type": "code",
      "metadata": {
        "id": "D4pH5d6nOc0m",
        "colab_type": "code",
        "colab": {
          "base_uri": "https://localhost:8080/",
          "height": 34
        },
        "outputId": "93d39075-645d-4967-df0a-131a12e17bd6"
      },
      "source": [
        "from google.colab import drive\n",
        "drive.mount('/content/drive/')\n",
        "\n",
        "import os\n",
        "os.chdir(\"/content/drive/My Drive/Dataset/EdgeML/Tools/SeeDot\") #/Colab Notebooks/EdgeML/Tools/SeeDot #/EdgeML/Tools/SeeDot"
      ],
      "execution_count": 148,
      "outputs": [
        {
          "output_type": "stream",
          "text": [
            "Drive already mounted at /content/drive/; to attempt to forcibly remount, call drive.mount(\"/content/drive/\", force_remount=True).\n"
          ],
          "name": "stdout"
        }
      ]
    },
    {
      "cell_type": "code",
      "metadata": {
        "id": "7R7M7JdBOlbf",
        "colab_type": "code",
        "colab": {
          "base_uri": "https://localhost:8080/",
          "height": 34
        },
        "outputId": "bbe1de9d-7205-4f8b-c899-9a518c165faa"
      },
      "source": [
        "cd seedot/compiler/antlr"
      ],
      "execution_count": 108,
      "outputs": [
        {
          "output_type": "stream",
          "text": [
            "/content/drive/My Drive/Dataset/EdgeML/Tools/SeeDot/seedot/compiler/antlr\n"
          ],
          "name": "stdout"
        }
      ]
    },
    {
      "cell_type": "code",
      "metadata": {
        "id": "-B7_kTMbQfjB",
        "colab_type": "code",
        "colab": {
          "base_uri": "https://localhost:8080/",
          "height": 34
        },
        "outputId": "70d7966b-cc55-4dc3-8876-a425fcf2bede"
      },
      "source": [
        "ls"
      ],
      "execution_count": 146,
      "outputs": [
        {
          "output_type": "stream",
          "text": [
            "Mean  Sigma  Std  T  V  W  Z\n"
          ],
          "name": "stdout"
        }
      ]
    },
    {
      "cell_type": "code",
      "metadata": {
        "id": "H4Yr3EPSghS5",
        "colab_type": "code",
        "colab": {
          "base_uri": "https://localhost:8080/",
          "height": 34
        },
        "outputId": "552ce5e6-e0a7-40bf-9589-3e6067e2f57d"
      },
      "source": [
        "cd ../../tf/bot_iot_dataset/TFBonsaiResults/15_41_21_16_07_19/SeeDot"
      ],
      "execution_count": 145,
      "outputs": [
        {
          "output_type": "stream",
          "text": [
            "/content/drive/My Drive/Dataset/EdgeML/tf/bot_iot_dataset/TFBonsaiResults/15_41_21_16_07_19/SeeDot\n"
          ],
          "name": "stdout"
        }
      ]
    },
    {
      "cell_type": "code",
      "metadata": {
        "id": "QJr1Y_96RslL",
        "colab_type": "code",
        "colab": {
          "base_uri": "https://localhost:8080/",
          "height": 1000
        },
        "outputId": "32e697d9-c90b-4b6e-817d-ccfdb8e57b6c"
      },
      "source": [
        "!python SeeDot.py -a bonsai --train ./bot_iot_train_10.npy --test ./bot_iot_test_10.npy --model ../../tf/bot_iot_dataset/TFBonsaiResults/15_41_21_16_07_19/SeeDot -o bonsai"
      ],
      "execution_count": 149,
      "outputs": [
        {
          "output_type": "stream",
          "text": [
            "\n",
            "================================\n",
            "Executing on bonsai for Arduino\n",
            "--------------------------------\n",
            "Train file: ./bot_iot_train_10.npy\n",
            "Test file: ./bot_iot_test_10.npy\n",
            "Model directory: ../../tf/bot_iot_dataset/TFBonsaiResults/15_41_21_16_07_19/SeeDot\n",
            "================================\n",
            "\n",
            "-------------------------------------------------\n",
            "Performing search to find the best scaling factor\n",
            "-------------------------------------------------\n",
            "\n",
            "Generating input files for fixed training dataset...done\n",
            "\n",
            "Testing with max scale factor of 0\n",
            "Generating code...completed\n",
            "Build...success\n",
            "Execution...success\n",
            "Accuracy is 2.048%\n",
            "\n",
            "Testing with max scale factor of -1\n",
            "Generating code...completed\n",
            "Build...success\n",
            "Execution...success\n",
            "Accuracy is 2.048%\n",
            "\n",
            "Testing with max scale factor of -2\n",
            "Generating code...completed\n",
            "Build...success\n",
            "Execution...success\n",
            "Accuracy is 2.048%\n",
            "\n",
            "Testing with max scale factor of -3\n",
            "Generating code...completed\n",
            "Build...success\n",
            "Execution...success\n",
            "Accuracy is 2.048%\n",
            "\n",
            "Testing with max scale factor of -4\n",
            "Generating code...completed\n",
            "Build...success\n",
            "Execution...success\n",
            "Accuracy is 2.048%\n",
            "\n",
            "Testing with max scale factor of -5\n",
            "Generating code...completed\n",
            "Build...success\n",
            "Execution...success\n",
            "Accuracy is 2.048%\n",
            "\n",
            "Testing with max scale factor of -6\n",
            "Generating code...completed\n",
            "Build...success\n",
            "Execution...success\n",
            "Accuracy is 3.793%\n",
            "\n",
            "Testing with max scale factor of -7\n",
            "Generating code...completed\n",
            "Build...success\n",
            "Execution...success\n",
            "Accuracy is 11.342%\n",
            "\n",
            "Testing with max scale factor of -8\n",
            "Generating code...completed\n",
            "Build...success\n",
            "Execution...success\n",
            "Accuracy is 30.040%\n",
            "\n",
            "Testing with max scale factor of -9\n",
            "Generating code...completed\n",
            "Build...success\n",
            "Execution...success\n",
            "Accuracy is 47.343%\n",
            "\n",
            "Testing with max scale factor of -10\n",
            "Generating code...completed\n",
            "Build...success\n",
            "Execution...success\n",
            "Accuracy is 90.023%\n",
            "\n",
            "Testing with max scale factor of -11\n",
            "Generating code...completed\n",
            "Build...success\n",
            "Execution...success\n",
            "Accuracy is 92.451%\n",
            "\n",
            "Testing with max scale factor of -12\n",
            "Generating code...completed\n",
            "Build...success\n",
            "Execution...success\n",
            "Accuracy is 91.378%\n",
            "\n",
            "Testing with max scale factor of -13\n",
            "Generating code...completed\n",
            "Build...success\n",
            "Execution...success\n",
            "Accuracy is 83.382%\n",
            "\n",
            "Testing with max scale factor of -14\n",
            "Generating code...completed\n",
            "Build...success\n",
            "Execution...success\n",
            "Accuracy is 47.199%\n",
            "\n",
            "Testing with max scale factor of -15\n",
            "Generating code...failed!\n",
            "\n",
            "\n",
            "Search completed\n",
            "\n",
            "----------------------------------------------\n",
            "Best performing scaling factors with accuracy:\n",
            "{-11: 92.451, -12: 91.378, -10: 90.023, -13: 83.382, -9: 47.343}\n",
            "Best scaling factor = -11\n",
            "\n",
            "-------------------------------\n",
            "Prediction on testing dataset\n",
            "-------------------------------\n",
            "\n",
            "Setting max scaling factor to -11\n",
            "\n",
            "Generating input files for fixed testing dataset...done\n",
            "\n",
            "Generating code...completed\n",
            "Build...success\n",
            "Execution...success\n",
            "Accuracy is 92.908%\n",
            "\n",
            "------------------------------\n",
            "Generating code for arduino...\n",
            "------------------------------\n",
            "\n",
            "Generating input files for fixed testing dataset...done\n",
            "\n",
            "Generating code...completed\n",
            "\n",
            "Arduino sketch dumped in the folder bonsai\n",
            "\n"
          ],
          "name": "stdout"
        }
      ]
    },
    {
      "cell_type": "code",
      "metadata": {
        "id": "f635gflo8gcw",
        "colab_type": "code",
        "colab": {
          "base_uri": "https://localhost:8080/",
          "height": 1000
        },
        "outputId": "0b89abf7-abf7-4b0e-b2bd-647e16a1b4a5"
      },
      "source": [
        "!python SeeDot.py -a protonn --train ./bot_iot_train_10.npy --test ./bot_iot_test_10.npy --model ../../tf/bot_iot_dataset/ProtoNN_output -o protonn"
      ],
      "execution_count": 135,
      "outputs": [
        {
          "output_type": "stream",
          "text": [
            "\n",
            "================================\n",
            "Executing on protonn for Arduino\n",
            "--------------------------------\n",
            "Train file: ./bot_iot_train_10.npy\n",
            "Test file: ./bot_iot_test_10.npy\n",
            "Model directory: ../../tf/bot_iot_dataset/ProtoNN_output\n",
            "================================\n",
            "\n",
            "-----------------------\n",
            "Collecting profile data\n",
            "-----------------------\n",
            "Generating input files for float training dataset...done\n",
            "\n",
            "Build...success\n",
            "Execution...success\n",
            "Accuracy is 28.023%\n",
            "\n",
            "-------------------------------------------------\n",
            "Performing search to find the best scaling factor\n",
            "-------------------------------------------------\n",
            "\n",
            "Generating input files for fixed training dataset...done\n",
            "\n",
            "Testing with max scale factor of 0\n",
            "Generating code...failed!\n",
            "\n",
            "Testing with max scale factor of -1\n",
            "Generating code...failed!\n",
            "\n",
            "Testing with max scale factor of -2\n",
            "Generating code...failed!\n",
            "\n",
            "Testing with max scale factor of -3\n",
            "Generating code...failed!\n",
            "\n",
            "Testing with max scale factor of -4\n",
            "Generating code...failed!\n",
            "\n",
            "Testing with max scale factor of -5\n",
            "Generating code...failed!\n",
            "\n",
            "Testing with max scale factor of -6\n",
            "Generating code...failed!\n",
            "\n",
            "Testing with max scale factor of -7\n",
            "Generating code...failed!\n",
            "\n",
            "Testing with max scale factor of -8\n",
            "Generating code...failed!\n",
            "\n",
            "Testing with max scale factor of -9\n",
            "Generating code...failed!\n",
            "\n",
            "Testing with max scale factor of -10\n",
            "Generating code...failed!\n",
            "\n",
            "Testing with max scale factor of -11\n",
            "Generating code...failed!\n",
            "\n",
            "Testing with max scale factor of -12\n",
            "Generating code...failed!\n",
            "\n",
            "Testing with max scale factor of -13\n",
            "Generating code...failed!\n",
            "\n",
            "Testing with max scale factor of -14\n",
            "Generating code...failed!\n",
            "\n",
            "Testing with max scale factor of -15\n",
            "Generating code...failed!\n",
            "\n"
          ],
          "name": "stdout"
        }
      ]
    }
  ]
}