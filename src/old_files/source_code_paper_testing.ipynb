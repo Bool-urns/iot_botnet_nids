{
  "nbformat": 4,
  "nbformat_minor": 0,
  "metadata": {
    "colab": {
      "name": "source_code_paper_testing.ipynb",
      "version": "0.3.2",
      "provenance": []
    },
    "kernelspec": {
      "name": "python3",
      "display_name": "Python 3"
    }
  },
  "cells": [
    {
      "cell_type": "code",
      "metadata": {
        "id": "Wn4zdGVs7r8R",
        "colab_type": "code",
        "colab": {}
      },
      "source": [
        "# data analysis packages\n",
        "import pandas as pd\n",
        "import numpy as np"
      ],
      "execution_count": 0,
      "outputs": []
    },
    {
      "cell_type": "code",
      "metadata": {
        "id": "GBB9l91p75vk",
        "colab_type": "code",
        "colab": {
          "base_uri": "https://localhost:8080/",
          "height": 34
        },
        "outputId": "39e746a2-01dd-47b4-800f-b5e6d0a5c485"
      },
      "source": [
        "from google.colab import drive\n",
        "drive.mount('/content/drive/')\n",
        "\n",
        "import os\n",
        "os.chdir(\"/content/drive/My Drive/Colab Notebooks/FogML\")"
      ],
      "execution_count": 52,
      "outputs": [
        {
          "output_type": "stream",
          "text": [
            "Drive already mounted at /content/drive/; to attempt to forcibly remount, call drive.mount(\"/content/drive/\", force_remount=True).\n"
          ],
          "name": "stdout"
        }
      ]
    },
    {
      "cell_type": "code",
      "metadata": {
        "id": "sNAElYSK7-16",
        "colab_type": "code",
        "colab": {
          "base_uri": "https://localhost:8080/",
          "height": 86
        },
        "outputId": "192203c8-d5aa-406a-8f0b-a18bcfc8db35"
      },
      "source": [
        "#!git clone https://github.com/tszydlo/FogML.git"
      ],
      "execution_count": 3,
      "outputs": [
        {
          "output_type": "stream",
          "text": [
            "Cloning into 'FogML'...\n",
            "remote: Enumerating objects: 54, done.\u001b[K\n",
            "remote: Total 54 (delta 0), reused 0 (delta 0), pack-reused 54\u001b[K\n",
            "Unpacking objects: 100% (54/54), done.\n"
          ],
          "name": "stdout"
        }
      ]
    },
    {
      "cell_type": "code",
      "metadata": {
        "id": "EnyvYxDY8e_V",
        "colab_type": "code",
        "colab": {
          "base_uri": "https://localhost:8080/",
          "height": 34
        },
        "outputId": "67e6c7c0-46d9-4b49-caf6-175f2dbf063c"
      },
      "source": [
        "cd .."
      ],
      "execution_count": 17,
      "outputs": [
        {
          "output_type": "stream",
          "text": [
            "/content/drive/My Drive/Colab Notebooks/FogML\n"
          ],
          "name": "stdout"
        }
      ]
    },
    {
      "cell_type": "code",
      "metadata": {
        "id": "7PCvZJco81Gv",
        "colab_type": "code",
        "colab": {
          "base_uri": "https://localhost:8080/",
          "height": 52
        },
        "outputId": "5044ea0c-8d9d-49ba-982d-2e7d0edc3bd5"
      },
      "source": [
        "ls"
      ],
      "execution_count": 53,
      "outputs": [
        {
          "output_type": "stream",
          "text": [
            "botiot_12c_8f.csv  bot_iot.py  \u001b[0m\u001b[01;34mgenerators\u001b[0m/  README.md\n",
            "botiot_12c.csv     \u001b[01;34mdemos\u001b[0m/      \u001b[01;34mmodels\u001b[0m/\n"
          ],
          "name": "stdout"
        }
      ]
    },
    {
      "cell_type": "code",
      "metadata": {
        "id": "QJrntSfy9rn1",
        "colab_type": "code",
        "colab": {
          "base_uri": "https://localhost:8080/",
          "height": 34
        },
        "outputId": "495d4674-73e5-4299-b9f5-dda729f3f10f"
      },
      "source": [
        "cd examples"
      ],
      "execution_count": 14,
      "outputs": [
        {
          "output_type": "stream",
          "text": [
            "/content/drive/My Drive/Colab Notebooks/FogML/generators/examples\n"
          ],
          "name": "stdout"
        }
      ]
    },
    {
      "cell_type": "markdown",
      "metadata": {
        "id": "vBYXYbJOFVe9",
        "colab_type": "text"
      },
      "source": [
        "## Making Smaller version of dataset with only lightweight features"
      ]
    },
    {
      "cell_type": "code",
      "metadata": {
        "id": "Z7Zpp6ozFUng",
        "colab_type": "code",
        "colab": {
          "base_uri": "https://localhost:8080/",
          "height": 52
        },
        "outputId": "883ee3c8-97c8-4334-f68e-33de44cdef0f"
      },
      "source": [
        "#path = './botiot_12c.csv'\n",
        "\n",
        "#df = pd.read_csv(path)"
      ],
      "execution_count": 41,
      "outputs": [
        {
          "output_type": "stream",
          "text": [
            "/usr/local/lib/python3.6/dist-packages/IPython/core/interactiveshell.py:2718: DtypeWarning: Columns (8,10) have mixed types. Specify dtype option on import or set low_memory=False.\n",
            "  interactivity=interactivity, compiler=compiler, result=result)\n"
          ],
          "name": "stderr"
        }
      ]
    },
    {
      "cell_type": "code",
      "metadata": {
        "id": "1Y-MSFS0Fz5u",
        "colab_type": "code",
        "colab": {}
      },
      "source": [
        "#test_df = df[['proto_number', 'flgs_number', 'pkts', 'bytes', 'dur', 'mean', 'rate', 'sum', 'subcategory_number']]\n",
        "#test_df = test_df.sample(frac =.04)"
      ],
      "execution_count": 0,
      "outputs": []
    },
    {
      "cell_type": "code",
      "metadata": {
        "id": "G7WnNRnhFkxw",
        "colab_type": "code",
        "colab": {}
      },
      "source": [
        "#test_df.to_csv('botiot_12c_8f.csv')"
      ],
      "execution_count": 0,
      "outputs": []
    },
    {
      "cell_type": "markdown",
      "metadata": {
        "id": "YAuH5-RuGafl",
        "colab_type": "text"
      },
      "source": [
        "## Creating Generator"
      ]
    },
    {
      "cell_type": "code",
      "metadata": {
        "id": "TEBxRA-082g_",
        "colab_type": "code",
        "colab": {
          "base_uri": "https://localhost:8080/",
          "height": 52
        },
        "outputId": "045fd278-0d12-4baa-b295-b0a5584de3ce"
      },
      "source": [
        "!python bot_iot.py"
      ],
      "execution_count": 54,
      "outputs": [
        {
          "output_type": "stream",
          "text": [
            "SIZE: 2301\n",
            "0.9834173822179819\n"
          ],
          "name": "stdout"
        }
      ]
    },
    {
      "cell_type": "code",
      "metadata": {
        "id": "M95kCJ_BLx90",
        "colab_type": "code",
        "colab": {
          "base_uri": "https://localhost:8080/",
          "height": 34
        },
        "outputId": "922ac59a-2742-4931-b05b-8fe7db82474d"
      },
      "source": [
        "cd models"
      ],
      "execution_count": 55,
      "outputs": [
        {
          "output_type": "stream",
          "text": [
            "/content/drive/My Drive/Colab Notebooks/FogML/models\n"
          ],
          "name": "stdout"
        }
      ]
    },
    {
      "cell_type": "code",
      "metadata": {
        "id": "fIJLXFTYL1Qm",
        "colab_type": "code",
        "colab": {
          "base_uri": "https://localhost:8080/",
          "height": 69
        },
        "outputId": "1d0348a4-0eb2-4668-844a-cf4dcc9471e5"
      },
      "source": [
        "ls"
      ],
      "execution_count": 56,
      "outputs": [
        {
          "output_type": "stream",
          "text": [
            "bayes_model.c       iris_network_model.c  mnist_network_model.c\n",
            "__init__.py         iris_tree_model.c     mnist_tree_model.c\n",
            "iris_bayes_model.c  mnist_bayes_model.c   mnist_tree_model_int.c\n"
          ],
          "name": "stdout"
        }
      ]
    },
    {
      "cell_type": "code",
      "metadata": {
        "id": "BeuIJuR1L3bO",
        "colab_type": "code",
        "colab": {
          "base_uri": "https://localhost:8080/",
          "height": 1000
        },
        "outputId": "b2530f76-4103-49d2-a1b4-331ee140e454"
      },
      "source": [
        "cat bayes_model.c "
      ],
      "execution_count": 57,
      "outputs": [
        {
          "output_type": "stream",
          "text": [
            "int evaluate_bayes(double* x){\n",
            "\n",
            "    double sigma[10][9] = {\n",
            "{108097657.011503, 282.743873, 284.668182, 297.715917, 267881.581536, 15497.952615, 281.468486, 1286369751.540447, 281.482071, },\n",
            "{6605232.796578, 281.558633, 281.626072, 285.514330, 64278.601630, 32390.914614, 281.474625, 426792364.596686, 281.573606, },\n",
            "{19831744023.531319, 281.441709, 281.772954, 286.225053, 63741.860618, 425.531503, 283.429144, 284.020561, 295.309615, },\n",
            "{18847037566.619720, 281.441712, 281.449247, 291.828625, 37699.271715, 282.907418, 281.751049, 281.486477, 284.080917, },\n",
            "{28337.875229, 281.441636, 281.593979, 285.062729, 781209.551011, 416.234260, 281.653567, 281.487435, 284.042830, },\n",
            "{7887141381.179141, 281.441752, 282.656772, 283.315465, 33124.713773, 486.250934, 281.671297, 296.131952, 284.375607, },\n",
            "{22393690733.791599, 281.441704, 281.995975, 292.318199, 39437.070819, 293.713154, 282.114032, 281.471080, 294.365954, },\n",
            "{58193.106566, 281.441636, 281.551011, 284.018025, 974813.606566, 388.326604, 282.928597, 282.168487, 284.120269, },\n",
            "{4880.774969, 282.024969, 281.441636, 19113664.913858, 1674816156802.997314, 523336.932880, 284.549307, 6135589.111737, 488622.929784, },\n",
            "{391.691636, 281.441636, 281.441636, 506.441636, 7301085.441636, 284.381990, 284.381990, 11383204.299840, 284.381990, },\n",
            "};\n",
            "    double theta[10][9] = {\n",
            "{18097.012733, 1.764936, 1.788443, 2.923604, 246.479922, 17.781051, 0.036374, 7069.892474, 0.039847, },\n",
            "{40793.421456, 1.042146, 1.057471, 2.467433, 170.402299, 20.536336, 0.020880, 9575.161448, 0.040878, },\n",
            "{289723.730171, 1.000073, 1.871507, 4.869537, 637.115505, 16.116580, 1.668869, 0.579316, 4.390969, },\n",
            "{771767.549676, 3.000076, 1.001523, 9.891054, 593.479254, 13.368037, 3.466861, 0.657606, 10.178403, },\n",
            "{1008466.937500, 1.000000, 1.187500, 10.562500, 1910.875000, 21.895693, 0.408401, 0.536416, 1.329217, },\n",
            "{1160664.289884, 1.000116, 2.274884, 5.058140, 664.098605, 28.507538, 0.217375, 1.469906, 0.735783, },\n",
            "{1574557.787511, 2.999931, 1.113442, 9.352115, 561.126876, 26.567615, 3.031202, 0.314785, 13.414735, },\n",
            "{1833604.458333, 1.000000, 1.125000, 9.583333, 2119.208333, 16.411794, 0.920752, 0.869916, 1.644449, },\n",
            "{1834104.000000, 2.500000, 1.000000, 1957.166667, 579167.666667, 323.574420, 0.924723, 1128.370556, 312.657305, },\n",
            "{1834240.500000, 1.000000, 1.000000, 17.000000, 2836.000000, 1.714894, 1.714894, 3382.897599, 1.714894, },\n",
            "};\n",
            "    double log_sigma[10][9] = {\n",
            "{20.336423, 7.482419, 7.489201, 7.534017, 14.336177, 11.486340, 7.477898, 22.812967, 7.477946, },\n",
            "{17.541250, 7.478218, 7.478457, 7.492169, 12.908859, 12.223510, 7.477919, 21.709685, 7.478271, },\n",
            "{25.548427, 7.477802, 7.478979, 7.494655, 12.900474, 7.891216, 7.484839, 7.486924, 7.525901, },\n",
            "{25.497499, 7.477802, 7.477829, 7.514044, 12.375273, 7.482997, 7.478901, 7.477961, 7.487136, },\n",
            "{12.089832, 7.477802, 7.478343, 7.490586, 15.406476, 7.869125, 7.478555, 7.477965, 7.487002, },\n",
            "{24.626377, 7.477803, 7.482110, 7.484438, 12.245912, 8.024602, 7.478618, 7.528682, 7.488173, },\n",
            "{25.669922, 7.477802, 7.479770, 7.515720, 12.420339, 7.520481, 7.480188, 7.477907, 7.522701, },\n",
            "{12.809399, 7.477802, 7.478191, 7.486915, 15.627879, 7.799724, 7.483072, 7.480381, 7.487275, },\n",
            "{10.330936, 7.479873, 7.477802, 18.603791, 29.984602, 15.005858, 7.488784, 17.467494, 14.937223, },\n",
            "{7.808352, 7.477802, 7.477802, 8.065286, 17.641411, 7.488195, 7.488195, 18.085527, 7.488195, },\n",
            "};\n",
            "\n",
            "    double prior[10] = {-3.918058, -5.282075, -1.321079, -1.363560, -8.074007, -1.787078, -1.258572, -7.668542, -9.054836, -10.153448, };\n",
            "\n",
            "    double n_ij;\n",
            "    double temp_sum;\n",
            "    double joint_log_likelihood[10];\n",
            "\n",
            "    for (int i = 0; i < 10; i++){\n",
            "        temp_sum = 0;\n",
            "        for (int j = 0; j < 9; j++){\n",
            "            temp_sum += log_sigma[i][j];\n",
            "        }\n",
            "        n_ij = -0.5 * temp_sum;\n",
            "\n",
            "        temp_sum = 0;\n",
            "        for (int j = 0; j < 9; j++){\n",
            "            temp_sum += ((x[j] - theta[i][j]) * (x[j] - theta[i][j])) / (sigma[i][j]);\n",
            "        }\n",
            "        n_ij -= 0.5 * temp_sum;\n",
            "        joint_log_likelihood[i] = prior[i] + n_ij;\n",
            "    }\n",
            "\n",
            "    int max_index = 0;\n",
            "    for (int i = 0; i < 10; i++){\n",
            "        printf(\"%lf\\n\", joint_log_likelihood[i]);\n",
            "        if (joint_log_likelihood[i] > joint_log_likelihood[max_index]){\n",
            "            max_index = i;\n",
            "        }\n",
            "    }\n",
            "    return max_index;\n",
            "}"
          ],
          "name": "stdout"
        }
      ]
    },
    {
      "cell_type": "markdown",
      "metadata": {
        "id": "_ci3iguCtQXr",
        "colab_type": "text"
      },
      "source": [
        "# SeeDot"
      ]
    },
    {
      "cell_type": "code",
      "metadata": {
        "id": "Cx4yA-7xtWPq",
        "colab_type": "code",
        "colab": {
          "base_uri": "https://localhost:8080/",
          "height": 34
        },
        "outputId": "69108be1-a76f-4651-d5fc-63620ffc7788"
      },
      "source": [
        "from google.colab import drive\n",
        "drive.mount('/content/drive/')\n",
        "\n",
        "import os\n",
        "os.chdir(\"/content/drive/My Drive/Colab Notebooks/EdgeML/Tools/SeeDot/\")"
      ],
      "execution_count": 251,
      "outputs": [
        {
          "output_type": "stream",
          "text": [
            "Drive already mounted at /content/drive/; to attempt to forcibly remount, call drive.mount(\"/content/drive/\", force_remount=True).\n"
          ],
          "name": "stdout"
        }
      ]
    },
    {
      "cell_type": "code",
      "metadata": {
        "id": "I0Mc6yBev8uw",
        "colab_type": "code",
        "colab": {
          "base_uri": "https://localhost:8080/",
          "height": 34
        },
        "outputId": "744ff442-ac1b-4751-d640-38837ca3ca77"
      },
      "source": [
        "cd seedot/compiler/antlr"
      ],
      "execution_count": 248,
      "outputs": [
        {
          "output_type": "stream",
          "text": [
            "/content/drive/My Drive/Colab Notebooks/EdgeML/Tools/SeeDot/seedot/compiler/antlr\n"
          ],
          "name": "stdout"
        }
      ]
    },
    {
      "cell_type": "code",
      "metadata": {
        "id": "nMswebJy54Li",
        "colab_type": "code",
        "colab": {
          "base_uri": "https://localhost:8080/",
          "height": 52
        },
        "outputId": "b383d516-1595-4457-d195-f4d1a708b8fa"
      },
      "source": [
        "ls"
      ],
      "execution_count": 249,
      "outputs": [
        {
          "output_type": "stream",
          "text": [
            "__init__.py   seedot.g4       seedotLexer.tokens  seedot.tokens\n",
            "\u001b[0m\u001b[01;34m__pycache__\u001b[0m/  seedotLexer.py  seedotParser.py     seedotVisitor.py\n"
          ],
          "name": "stdout"
        }
      ]
    },
    {
      "cell_type": "code",
      "metadata": {
        "id": "-G_QV6dhuFkE",
        "colab_type": "code",
        "colab": {}
      },
      "source": [
        "!python SeeDot.py -a --train bonsai bot_iot_train_10.npy --test bot_iot_test_10.npy EdgeML/tf/examples/Bonsai"
      ],
      "execution_count": 0,
      "outputs": []
    }
  ]
}