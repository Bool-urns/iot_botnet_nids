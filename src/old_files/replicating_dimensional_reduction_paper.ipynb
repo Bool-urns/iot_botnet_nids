{
  "nbformat": 4,
  "nbformat_minor": 0,
  "metadata": {
    "colab": {
      "name": "replicating_dimensional_reduction_paper.ipynb",
      "version": "0.3.2",
      "provenance": [],
      "collapsed_sections": []
    },
    "kernelspec": {
      "name": "python3",
      "display_name": "Python 3"
    }
  },
  "cells": [
    {
      "cell_type": "code",
      "metadata": {
        "id": "ZDvWdF_1iSM3",
        "colab_type": "code",
        "outputId": "12e1968d-9479-4ee7-85da-1b1feacc94a8",
        "colab": {
          "base_uri": "https://localhost:8080/",
          "height": 225
        }
      },
      "source": [
        "# data analysis packages\n",
        "import pandas as pd\n",
        "import numpy as np\n",
        "\n",
        "# loading bar\n",
        "!pip install --force https://github.com/chengs/tqdm/archive/colab.zip\n",
        "from tqdm import tqdm_notebook as tqdm"
      ],
      "execution_count": 0,
      "outputs": [
        {
          "output_type": "stream",
          "text": [
            "Collecting https://github.com/chengs/tqdm/archive/colab.zip\n",
            "\u001b[?25l  Downloading https://github.com/chengs/tqdm/archive/colab.zip\n",
            "\u001b[K     - 706kB 1.6MB/s\n",
            "\u001b[?25hBuilding wheels for collected packages: tqdm\n",
            "  Building wheel for tqdm (setup.py) ... \u001b[?25l\u001b[?25hdone\n",
            "  Stored in directory: /tmp/pip-ephem-wheel-cache-cxgwz8su/wheels/41/18/ee/d5dd158441b27965855b1bbae03fa2d8a91fe645c01b419896\n",
            "Successfully built tqdm\n",
            "Installing collected packages: tqdm\n",
            "  Found existing installation: tqdm 4.28.1\n",
            "    Uninstalling tqdm-4.28.1:\n",
            "      Successfully uninstalled tqdm-4.28.1\n",
            "Successfully installed tqdm-4.28.1\n"
          ],
          "name": "stdout"
        }
      ]
    },
    {
      "cell_type": "code",
      "metadata": {
        "id": "JRX_6KRriZGC",
        "colab_type": "code",
        "outputId": "3b4e50c8-d218-44c5-d20c-9587e5b48364",
        "colab": {
          "base_uri": "https://localhost:8080/",
          "height": 34
        }
      },
      "source": [
        "from google.colab import drive\n",
        "drive.mount('/content/drive/')\n",
        "\n",
        "import os\n",
        "os.chdir(\"/content/drive/My Drive/Dataset\")"
      ],
      "execution_count": 0,
      "outputs": [
        {
          "output_type": "stream",
          "text": [
            "Drive already mounted at /content/drive/; to attempt to forcibly remount, call drive.mount(\"/content/drive/\", force_remount=True).\n"
          ],
          "name": "stdout"
        }
      ]
    },
    {
      "cell_type": "markdown",
      "metadata": {
        "id": "eDbmsXTdinkE",
        "colab_type": "text"
      },
      "source": [
        "## Loading Datasets"
      ]
    },
    {
      "cell_type": "code",
      "metadata": {
        "id": "8ADliWjcifEX",
        "colab_type": "code",
        "outputId": "0ce399c6-7200-4dab-80a9-1028d4309dda",
        "colab": {
          "base_uri": "https://localhost:8080/",
          "height": 34
        }
      },
      "source": [
        "full_benign_path = './full_benign_df.csv'\n",
        "\n",
        "full_benign_df = pd.read_csv(full_benign_path)\n",
        "full_benign_df.shape"
      ],
      "execution_count": 0,
      "outputs": [
        {
          "output_type": "execute_result",
          "data": {
            "text/plain": [
              "(555932, 116)"
            ]
          },
          "metadata": {
            "tags": []
          },
          "execution_count": 3
        }
      ]
    },
    {
      "cell_type": "code",
      "metadata": {
        "id": "UtfSPiZFibuG",
        "colab_type": "code",
        "outputId": "07442d7c-6657-41a2-bc35-2e5050421f2d",
        "colab": {
          "base_uri": "https://localhost:8080/",
          "height": 34
        }
      },
      "source": [
        "full_mirai_path = './full_mirai_df.csv'\n",
        "\n",
        "full_mirai_df = pd.read_csv(full_mirai_path)\n",
        "full_mirai_df.shape"
      ],
      "execution_count": 0,
      "outputs": [
        {
          "output_type": "execute_result",
          "data": {
            "text/plain": [
              "(3668402, 116)"
            ]
          },
          "metadata": {
            "tags": []
          },
          "execution_count": 4
        }
      ]
    },
    {
      "cell_type": "code",
      "metadata": {
        "id": "Ayc7uEeZifOE",
        "colab_type": "code",
        "outputId": "acb617b9-db28-44a7-d80f-1277abfeeed9",
        "colab": {
          "base_uri": "https://localhost:8080/",
          "height": 34
        }
      },
      "source": [
        "full_bashlite_path = './full_bashlite_df.csv'\n",
        "\n",
        "full_bashlite_df = pd.read_csv(full_bashlite_path)\n",
        "full_bashlite_df.shape"
      ],
      "execution_count": 0,
      "outputs": [
        {
          "output_type": "execute_result",
          "data": {
            "text/plain": [
              "(2838272, 116)"
            ]
          },
          "metadata": {
            "tags": []
          },
          "execution_count": 5
        }
      ]
    },
    {
      "cell_type": "code",
      "metadata": {
        "id": "Av9yULNLGwrp",
        "colab_type": "code",
        "colab": {}
      },
      "source": [
        "#Sampling 1% of each of the three classes\n",
        "\n",
        "sampled_benign_df = full_benign_df.sample(frac =.01)\n",
        "\n",
        "sampled_mirai_df = full_mirai_df.sample(frac =.01)\n",
        "\n",
        "sampled_bashlite_df = full_bashlite_df.sample(frac =.01)"
      ],
      "execution_count": 0,
      "outputs": []
    },
    {
      "cell_type": "markdown",
      "metadata": {
        "id": "Vc-X51vHisoG",
        "colab_type": "text"
      },
      "source": [
        "## Fishers Score"
      ]
    },
    {
      "cell_type": "code",
      "metadata": {
        "id": "3Zh3SCVwixZ3",
        "colab_type": "code",
        "outputId": "0eb812b9-66e8-4563-b813-eb1605688ad5",
        "colab": {
          "base_uri": "https://localhost:8080/",
          "height": 296
        }
      },
      "source": [
        "dataframes = [full_benign_df, full_mirai_df, full_bashlite_df]\n",
        "\n",
        "sampled_dfs = [sampled_benign_df, sampled_mirai_df, sampled_bashlite_df]\n",
        "\n",
        "#have to create a list with feature name and fisher score from it\n",
        "\n",
        "total_points = (len(full_benign_df.index) + len(full_mirai_df.index) + len(full_bashlite_df.index))\n",
        "\n",
        "feature_fisher_scores = pd.DataFrame(columns=['feature', 'fisher_score'])\n",
        "\n",
        "features = []\n",
        "fs = []\n",
        "k = 0\n",
        "\n",
        "for j in tqdm(full_benign_df.columns):\n",
        "  numerator = 0\n",
        "  denom = 0\n",
        "  #for i in dataframes:\n",
        "  for i in sampled_dfs:\n",
        "    #pi = len(i.index)  / total_points\n",
        "    pi = len(i.index)\n",
        "    #i_frames = [full_benign_df.iloc[:,k], full_mirai_df.iloc[:,k], full_bashlite_df.iloc[:,k]]\n",
        "    i_frames = [sampled_benign_df.iloc[:,k], sampled_mirai_df.iloc[:,k], sampled_bashlite_df.iloc[:,k]]\n",
        "    \n",
        "    full_df = pd.concat(i_frames)\n",
        "\n",
        "    total_mean = np.mean(full_df)\n",
        "    i_mean = np.mean((i.iloc[:,k]))\n",
        "\n",
        "    mean_terms = ((total_mean - i_mean)**2)\n",
        "    #mean_terms = (abs(total_mean - i_mean))\n",
        "    \n",
        "    numerator = (pi*mean_terms) + numerator\n",
        "    \n",
        "    sd = np.std((i.iloc[:,k]))\n",
        "    denom = (pi*((sd)**2)) + denom\n",
        "    #denom = (pi*(abs(sd))) + denom\n",
        "  \n",
        "  k = k + 1\n",
        "  fisher_score = numerator/denom\n",
        "  features.append(j)\n",
        "  fs.append(fisher_score)\n",
        "\n",
        "feature_fisher_scores['feature'] = features\n",
        "feature_fisher_scores['fisher_score'] = fs\n",
        "\n",
        "feature_fisher_scores.head()"
      ],
      "execution_count": 0,
      "outputs": [
        {
          "output_type": "stream",
          "text": [
            "/usr/local/lib/python3.6/dist-packages/tqdm/_tqdm_notebook.py:88: TqdmExperimentalWarning: Detect Google Colab 0.0.1a2 and thus load dummy ipywidgets package. Note that UI is different from that in Jupyter. See https://github.com/tqdm/tqdm/pull/640\n",
            "  \" See https://github.com/tqdm/tqdm/pull/640\".format(colab.__version__), TqdmExperimentalWarning)\n"
          ],
          "name": "stderr"
        },
        {
          "output_type": "display_data",
          "data": {
            "text/html": [
              "<div style=\"display:flex;flex-direction:row;\"><span></span><progress style='margin:2px 4px;' max='116' value='116'></progress>100% 116/116 [00:00&lt;00:00, 195.14it/s]</div>"
            ],
            "text/plain": [
              "<tqdm._fake_ipywidgets.HBox object>"
            ]
          },
          "metadata": {
            "tags": []
          }
        },
        {
          "output_type": "stream",
          "text": [
            "\n"
          ],
          "name": "stdout"
        },
        {
          "output_type": "execute_result",
          "data": {
            "text/html": [
              "<div>\n",
              "<style scoped>\n",
              "    .dataframe tbody tr th:only-of-type {\n",
              "        vertical-align: middle;\n",
              "    }\n",
              "\n",
              "    .dataframe tbody tr th {\n",
              "        vertical-align: top;\n",
              "    }\n",
              "\n",
              "    .dataframe thead th {\n",
              "        text-align: right;\n",
              "    }\n",
              "</style>\n",
              "<table border=\"1\" class=\"dataframe\">\n",
              "  <thead>\n",
              "    <tr style=\"text-align: right;\">\n",
              "      <th></th>\n",
              "      <th>feature</th>\n",
              "      <th>fisher_score</th>\n",
              "    </tr>\n",
              "  </thead>\n",
              "  <tbody>\n",
              "    <tr>\n",
              "      <th>0</th>\n",
              "      <td>Unnamed: 0</td>\n",
              "      <td>0.069945</td>\n",
              "    </tr>\n",
              "    <tr>\n",
              "      <th>1</th>\n",
              "      <td>MI_dir_L5_weight</td>\n",
              "      <td>0.492729</td>\n",
              "    </tr>\n",
              "    <tr>\n",
              "      <th>2</th>\n",
              "      <td>MI_dir_L5_mean</td>\n",
              "      <td>0.591789</td>\n",
              "    </tr>\n",
              "    <tr>\n",
              "      <th>3</th>\n",
              "      <td>MI_dir_L5_variance</td>\n",
              "      <td>0.506156</td>\n",
              "    </tr>\n",
              "    <tr>\n",
              "      <th>4</th>\n",
              "      <td>MI_dir_L3_weight</td>\n",
              "      <td>0.475006</td>\n",
              "    </tr>\n",
              "  </tbody>\n",
              "</table>\n",
              "</div>"
            ],
            "text/plain": [
              "              feature  fisher_score\n",
              "0          Unnamed: 0      0.069945\n",
              "1    MI_dir_L5_weight      0.492729\n",
              "2      MI_dir_L5_mean      0.591789\n",
              "3  MI_dir_L5_variance      0.506156\n",
              "4    MI_dir_L3_weight      0.475006"
            ]
          },
          "metadata": {
            "tags": []
          },
          "execution_count": 7
        }
      ]
    },
    {
      "cell_type": "code",
      "metadata": {
        "id": "kHg6M_8735il",
        "colab_type": "code",
        "outputId": "93d03ab1-ae16-4896-ab2b-d9b6d25f2d74",
        "colab": {
          "base_uri": "https://localhost:8080/",
          "height": 363
        }
      },
      "source": [
        "feature_fisher_scores.sort_values(['fisher_score'], ascending=False).head(10)"
      ],
      "execution_count": 0,
      "outputs": [
        {
          "output_type": "execute_result",
          "data": {
            "text/html": [
              "<div>\n",
              "<style scoped>\n",
              "    .dataframe tbody tr th:only-of-type {\n",
              "        vertical-align: middle;\n",
              "    }\n",
              "\n",
              "    .dataframe tbody tr th {\n",
              "        vertical-align: top;\n",
              "    }\n",
              "\n",
              "    .dataframe thead th {\n",
              "        text-align: right;\n",
              "    }\n",
              "</style>\n",
              "<table border=\"1\" class=\"dataframe\">\n",
              "  <thead>\n",
              "    <tr style=\"text-align: right;\">\n",
              "      <th></th>\n",
              "      <th>feature</th>\n",
              "      <th>fisher_score</th>\n",
              "    </tr>\n",
              "  </thead>\n",
              "  <tbody>\n",
              "    <tr>\n",
              "      <th>13</th>\n",
              "      <td>MI_dir_L0.01_weight</td>\n",
              "      <td>1.084794</td>\n",
              "    </tr>\n",
              "    <tr>\n",
              "      <th>28</th>\n",
              "      <td>H_L0.01_weight</td>\n",
              "      <td>1.084794</td>\n",
              "    </tr>\n",
              "    <tr>\n",
              "      <th>14</th>\n",
              "      <td>MI_dir_L0.01_mean</td>\n",
              "      <td>0.766793</td>\n",
              "    </tr>\n",
              "    <tr>\n",
              "      <th>29</th>\n",
              "      <td>H_L0.01_mean</td>\n",
              "      <td>0.766779</td>\n",
              "    </tr>\n",
              "    <tr>\n",
              "      <th>11</th>\n",
              "      <td>MI_dir_L0.1_mean</td>\n",
              "      <td>0.757560</td>\n",
              "    </tr>\n",
              "    <tr>\n",
              "      <th>26</th>\n",
              "      <td>H_L0.1_mean</td>\n",
              "      <td>0.757559</td>\n",
              "    </tr>\n",
              "    <tr>\n",
              "      <th>8</th>\n",
              "      <td>MI_dir_L1_mean</td>\n",
              "      <td>0.726792</td>\n",
              "    </tr>\n",
              "    <tr>\n",
              "      <th>23</th>\n",
              "      <td>H_L1_mean</td>\n",
              "      <td>0.726792</td>\n",
              "    </tr>\n",
              "    <tr>\n",
              "      <th>30</th>\n",
              "      <td>H_L0.01_variance</td>\n",
              "      <td>0.701236</td>\n",
              "    </tr>\n",
              "    <tr>\n",
              "      <th>15</th>\n",
              "      <td>MI_dir_L0.01_variance</td>\n",
              "      <td>0.701235</td>\n",
              "    </tr>\n",
              "  </tbody>\n",
              "</table>\n",
              "</div>"
            ],
            "text/plain": [
              "                  feature  fisher_score\n",
              "13    MI_dir_L0.01_weight      1.084794\n",
              "28         H_L0.01_weight      1.084794\n",
              "14      MI_dir_L0.01_mean      0.766793\n",
              "29           H_L0.01_mean      0.766779\n",
              "11       MI_dir_L0.1_mean      0.757560\n",
              "26            H_L0.1_mean      0.757559\n",
              "8          MI_dir_L1_mean      0.726792\n",
              "23              H_L1_mean      0.726792\n",
              "30       H_L0.01_variance      0.701236\n",
              "15  MI_dir_L0.01_variance      0.701235"
            ]
          },
          "metadata": {
            "tags": []
          },
          "execution_count": 8
        }
      ]
    },
    {
      "cell_type": "markdown",
      "metadata": {
        "id": "JUWUZvYLXp-Y",
        "colab_type": "text"
      },
      "source": [
        "# Models From Reduced Feature Sets"
      ]
    },
    {
      "cell_type": "markdown",
      "metadata": {
        "id": "ScPIxff0lgOM",
        "colab_type": "text"
      },
      "source": [
        "## Preprocessing the data"
      ]
    },
    {
      "cell_type": "code",
      "metadata": {
        "id": "YTC8TRAyjbSK",
        "colab_type": "code",
        "outputId": "32e22f1d-ebe2-4598-86f7-9c169c9c9c03",
        "colab": {
          "base_uri": "https://localhost:8080/",
          "height": 412
        }
      },
      "source": [
        "s_ben_df = sampled_benign_df\n",
        "\n",
        "s_ben_df['label'] = 0\n",
        "\n",
        "s_mir_df = sampled_mirai_df\n",
        "\n",
        "s_mir_df['label'] = 1\n",
        "\n",
        "s_bash_df = sampled_bashlite_df\n",
        "\n",
        "s_bash_df['label'] = 2\n",
        "\n",
        "s_bash_df = s_bash_df.drop(columns=['Unnamed: 0'])\n",
        "s_mir_df = s_mir_df.drop(columns=['Unnamed: 0'])\n",
        "s_ben_df = s_ben_df.drop(columns=['Unnamed: 0'])\n",
        "\n",
        "frames = [s_bash_df, s_mir_df, s_ben_df]\n",
        "s_combined_df = pd.concat(frames)\n",
        "\n",
        "s_rand_combined_df = s_combined_df.sample(frac=1).reset_index(drop=True)\n",
        "\n",
        "s_rand_combined_df.head(10)"
      ],
      "execution_count": 0,
      "outputs": [
        {
          "output_type": "execute_result",
          "data": {
            "text/html": [
              "<div>\n",
              "<style scoped>\n",
              "    .dataframe tbody tr th:only-of-type {\n",
              "        vertical-align: middle;\n",
              "    }\n",
              "\n",
              "    .dataframe tbody tr th {\n",
              "        vertical-align: top;\n",
              "    }\n",
              "\n",
              "    .dataframe thead th {\n",
              "        text-align: right;\n",
              "    }\n",
              "</style>\n",
              "<table border=\"1\" class=\"dataframe\">\n",
              "  <thead>\n",
              "    <tr style=\"text-align: right;\">\n",
              "      <th></th>\n",
              "      <th>MI_dir_L5_weight</th>\n",
              "      <th>MI_dir_L5_mean</th>\n",
              "      <th>MI_dir_L5_variance</th>\n",
              "      <th>MI_dir_L3_weight</th>\n",
              "      <th>MI_dir_L3_mean</th>\n",
              "      <th>MI_dir_L3_variance</th>\n",
              "      <th>MI_dir_L1_weight</th>\n",
              "      <th>MI_dir_L1_mean</th>\n",
              "      <th>MI_dir_L1_variance</th>\n",
              "      <th>MI_dir_L0.1_weight</th>\n",
              "      <th>MI_dir_L0.1_mean</th>\n",
              "      <th>MI_dir_L0.1_variance</th>\n",
              "      <th>MI_dir_L0.01_weight</th>\n",
              "      <th>MI_dir_L0.01_mean</th>\n",
              "      <th>MI_dir_L0.01_variance</th>\n",
              "      <th>H_L5_weight</th>\n",
              "      <th>H_L5_mean</th>\n",
              "      <th>H_L5_variance</th>\n",
              "      <th>H_L3_weight</th>\n",
              "      <th>H_L3_mean</th>\n",
              "      <th>H_L3_variance</th>\n",
              "      <th>H_L1_weight</th>\n",
              "      <th>H_L1_mean</th>\n",
              "      <th>H_L1_variance</th>\n",
              "      <th>H_L0.1_weight</th>\n",
              "      <th>H_L0.1_mean</th>\n",
              "      <th>H_L0.1_variance</th>\n",
              "      <th>H_L0.01_weight</th>\n",
              "      <th>H_L0.01_mean</th>\n",
              "      <th>H_L0.01_variance</th>\n",
              "      <th>HH_L5_weight</th>\n",
              "      <th>HH_L5_mean</th>\n",
              "      <th>HH_L5_std</th>\n",
              "      <th>HH_L5_magnitude</th>\n",
              "      <th>HH_L5_radius</th>\n",
              "      <th>HH_L5_covariance</th>\n",
              "      <th>HH_L5_pcc</th>\n",
              "      <th>HH_L3_weight</th>\n",
              "      <th>HH_L3_mean</th>\n",
              "      <th>HH_L3_std</th>\n",
              "      <th>...</th>\n",
              "      <th>HH_jit_L0.1_variance</th>\n",
              "      <th>HH_jit_L0.01_weight</th>\n",
              "      <th>HH_jit_L0.01_mean</th>\n",
              "      <th>HH_jit_L0.01_variance</th>\n",
              "      <th>HpHp_L5_weight</th>\n",
              "      <th>HpHp_L5_mean</th>\n",
              "      <th>HpHp_L5_std</th>\n",
              "      <th>HpHp_L5_magnitude</th>\n",
              "      <th>HpHp_L5_radius</th>\n",
              "      <th>HpHp_L5_covariance</th>\n",
              "      <th>HpHp_L5_pcc</th>\n",
              "      <th>HpHp_L3_weight</th>\n",
              "      <th>HpHp_L3_mean</th>\n",
              "      <th>HpHp_L3_std</th>\n",
              "      <th>HpHp_L3_magnitude</th>\n",
              "      <th>HpHp_L3_radius</th>\n",
              "      <th>HpHp_L3_covariance</th>\n",
              "      <th>HpHp_L3_pcc</th>\n",
              "      <th>HpHp_L1_weight</th>\n",
              "      <th>HpHp_L1_mean</th>\n",
              "      <th>HpHp_L1_std</th>\n",
              "      <th>HpHp_L1_magnitude</th>\n",
              "      <th>HpHp_L1_radius</th>\n",
              "      <th>HpHp_L1_covariance</th>\n",
              "      <th>HpHp_L1_pcc</th>\n",
              "      <th>HpHp_L0.1_weight</th>\n",
              "      <th>HpHp_L0.1_mean</th>\n",
              "      <th>HpHp_L0.1_std</th>\n",
              "      <th>HpHp_L0.1_magnitude</th>\n",
              "      <th>HpHp_L0.1_radius</th>\n",
              "      <th>HpHp_L0.1_covariance</th>\n",
              "      <th>HpHp_L0.1_pcc</th>\n",
              "      <th>HpHp_L0.01_weight</th>\n",
              "      <th>HpHp_L0.01_mean</th>\n",
              "      <th>HpHp_L0.01_std</th>\n",
              "      <th>HpHp_L0.01_magnitude</th>\n",
              "      <th>HpHp_L0.01_radius</th>\n",
              "      <th>HpHp_L0.01_covariance</th>\n",
              "      <th>HpHp_L0.01_pcc</th>\n",
              "      <th>label</th>\n",
              "    </tr>\n",
              "  </thead>\n",
              "  <tbody>\n",
              "    <tr>\n",
              "      <th>0</th>\n",
              "      <td>146.055453</td>\n",
              "      <td>352.575175</td>\n",
              "      <td>58931.903411</td>\n",
              "      <td>232.135309</td>\n",
              "      <td>348.518825</td>\n",
              "      <td>59285.180744</td>\n",
              "      <td>650.351728</td>\n",
              "      <td>364.839501</td>\n",
              "      <td>57662.916172</td>\n",
              "      <td>6415.320351</td>\n",
              "      <td>381.100014</td>\n",
              "      <td>55515.473715</td>\n",
              "      <td>59471.354403</td>\n",
              "      <td>383.817678</td>\n",
              "      <td>55104.838944</td>\n",
              "      <td>146.055453</td>\n",
              "      <td>352.575175</td>\n",
              "      <td>58931.903411</td>\n",
              "      <td>232.135309</td>\n",
              "      <td>348.518825</td>\n",
              "      <td>59285.180744</td>\n",
              "      <td>650.351728</td>\n",
              "      <td>364.839501</td>\n",
              "      <td>57662.916172</td>\n",
              "      <td>6415.320351</td>\n",
              "      <td>381.100014</td>\n",
              "      <td>55515.473715</td>\n",
              "      <td>59471.354403</td>\n",
              "      <td>383.817678</td>\n",
              "      <td>55104.838944</td>\n",
              "      <td>86.502428</td>\n",
              "      <td>554.0</td>\n",
              "      <td>0.000000</td>\n",
              "      <td>554.000000</td>\n",
              "      <td>0.000000e+00</td>\n",
              "      <td>0.000000e+00</td>\n",
              "      <td>0.000000e+00</td>\n",
              "      <td>135.577740</td>\n",
              "      <td>554.0</td>\n",
              "      <td>0.000015</td>\n",
              "      <td>...</td>\n",
              "      <td>3.747075e+03</td>\n",
              "      <td>38985.832563</td>\n",
              "      <td>2.958823e+03</td>\n",
              "      <td>4.460872e+12</td>\n",
              "      <td>1.000000</td>\n",
              "      <td>554.0</td>\n",
              "      <td>0.000000</td>\n",
              "      <td>554.000000</td>\n",
              "      <td>0.000000e+00</td>\n",
              "      <td>0.0</td>\n",
              "      <td>0.0</td>\n",
              "      <td>1.000000</td>\n",
              "      <td>554.0</td>\n",
              "      <td>0.000000</td>\n",
              "      <td>554.000000</td>\n",
              "      <td>0.000000e+00</td>\n",
              "      <td>0.0</td>\n",
              "      <td>0.0</td>\n",
              "      <td>1.000000</td>\n",
              "      <td>554.0</td>\n",
              "      <td>0.000000</td>\n",
              "      <td>554.000000</td>\n",
              "      <td>0.000000e+00</td>\n",
              "      <td>0.0</td>\n",
              "      <td>0.0</td>\n",
              "      <td>1.000000</td>\n",
              "      <td>554.0</td>\n",
              "      <td>0.000000</td>\n",
              "      <td>554.000000</td>\n",
              "      <td>0.000000e+00</td>\n",
              "      <td>0.0</td>\n",
              "      <td>0.0</td>\n",
              "      <td>1.000000</td>\n",
              "      <td>554.0</td>\n",
              "      <td>0.000000</td>\n",
              "      <td>554.000000</td>\n",
              "      <td>0.000000e+00</td>\n",
              "      <td>0.0</td>\n",
              "      <td>0.0</td>\n",
              "      <td>1</td>\n",
              "    </tr>\n",
              "    <tr>\n",
              "      <th>1</th>\n",
              "      <td>1.000000</td>\n",
              "      <td>60.000000</td>\n",
              "      <td>0.000000</td>\n",
              "      <td>1.000000</td>\n",
              "      <td>60.000000</td>\n",
              "      <td>0.000000</td>\n",
              "      <td>1.000000</td>\n",
              "      <td>60.000000</td>\n",
              "      <td>0.000000</td>\n",
              "      <td>1.000000</td>\n",
              "      <td>60.000000</td>\n",
              "      <td>0.000000</td>\n",
              "      <td>1.000000</td>\n",
              "      <td>60.000000</td>\n",
              "      <td>0.000000</td>\n",
              "      <td>1.000000</td>\n",
              "      <td>60.000000</td>\n",
              "      <td>0.000000</td>\n",
              "      <td>1.000000</td>\n",
              "      <td>60.000000</td>\n",
              "      <td>0.000000</td>\n",
              "      <td>1.000000</td>\n",
              "      <td>60.000000</td>\n",
              "      <td>0.000000</td>\n",
              "      <td>1.000000</td>\n",
              "      <td>60.000000</td>\n",
              "      <td>0.000000</td>\n",
              "      <td>1.000000</td>\n",
              "      <td>60.000000</td>\n",
              "      <td>0.000000</td>\n",
              "      <td>1.000000</td>\n",
              "      <td>60.0</td>\n",
              "      <td>0.000000</td>\n",
              "      <td>60.000000</td>\n",
              "      <td>0.000000e+00</td>\n",
              "      <td>0.000000e+00</td>\n",
              "      <td>0.000000e+00</td>\n",
              "      <td>1.000000</td>\n",
              "      <td>60.0</td>\n",
              "      <td>0.000000</td>\n",
              "      <td>...</td>\n",
              "      <td>0.000000e+00</td>\n",
              "      <td>1.000000</td>\n",
              "      <td>1.505914e+09</td>\n",
              "      <td>0.000000e+00</td>\n",
              "      <td>1.000000</td>\n",
              "      <td>60.0</td>\n",
              "      <td>0.000000</td>\n",
              "      <td>60.000000</td>\n",
              "      <td>0.000000e+00</td>\n",
              "      <td>0.0</td>\n",
              "      <td>0.0</td>\n",
              "      <td>1.000000</td>\n",
              "      <td>60.0</td>\n",
              "      <td>0.000000</td>\n",
              "      <td>60.000000</td>\n",
              "      <td>0.000000e+00</td>\n",
              "      <td>0.0</td>\n",
              "      <td>0.0</td>\n",
              "      <td>1.000000</td>\n",
              "      <td>60.0</td>\n",
              "      <td>0.000000</td>\n",
              "      <td>60.000000</td>\n",
              "      <td>0.000000e+00</td>\n",
              "      <td>0.0</td>\n",
              "      <td>0.0</td>\n",
              "      <td>1.000000</td>\n",
              "      <td>60.0</td>\n",
              "      <td>0.000000</td>\n",
              "      <td>60.000000</td>\n",
              "      <td>0.000000e+00</td>\n",
              "      <td>0.0</td>\n",
              "      <td>0.0</td>\n",
              "      <td>1.000000</td>\n",
              "      <td>60.0</td>\n",
              "      <td>0.000000</td>\n",
              "      <td>60.000000</td>\n",
              "      <td>0.000000e+00</td>\n",
              "      <td>0.0</td>\n",
              "      <td>0.0</td>\n",
              "      <td>2</td>\n",
              "    </tr>\n",
              "    <tr>\n",
              "      <th>2</th>\n",
              "      <td>175.348580</td>\n",
              "      <td>74.007747</td>\n",
              "      <td>0.185880</td>\n",
              "      <td>281.171798</td>\n",
              "      <td>74.016984</td>\n",
              "      <td>0.407329</td>\n",
              "      <td>809.265693</td>\n",
              "      <td>74.032642</td>\n",
              "      <td>0.786749</td>\n",
              "      <td>7333.704106</td>\n",
              "      <td>74.086616</td>\n",
              "      <td>20.064436</td>\n",
              "      <td>36414.069953</td>\n",
              "      <td>74.263424</td>\n",
              "      <td>158.190163</td>\n",
              "      <td>175.348580</td>\n",
              "      <td>74.007747</td>\n",
              "      <td>0.185880</td>\n",
              "      <td>281.171798</td>\n",
              "      <td>74.016984</td>\n",
              "      <td>0.407329</td>\n",
              "      <td>809.265693</td>\n",
              "      <td>74.032642</td>\n",
              "      <td>0.786749</td>\n",
              "      <td>7333.704106</td>\n",
              "      <td>74.086616</td>\n",
              "      <td>20.064436</td>\n",
              "      <td>36414.069953</td>\n",
              "      <td>74.263424</td>\n",
              "      <td>158.190163</td>\n",
              "      <td>175.291975</td>\n",
              "      <td>74.0</td>\n",
              "      <td>0.000002</td>\n",
              "      <td>95.268043</td>\n",
              "      <td>4.897779e-12</td>\n",
              "      <td>-1.078901e-28</td>\n",
              "      <td>-3.751296e-17</td>\n",
              "      <td>280.972821</td>\n",
              "      <td>74.0</td>\n",
              "      <td>0.000023</td>\n",
              "      <td>...</td>\n",
              "      <td>3.663085e+11</td>\n",
              "      <td>36307.262557</td>\n",
              "      <td>2.113774e+04</td>\n",
              "      <td>3.183117e+13</td>\n",
              "      <td>1.000000</td>\n",
              "      <td>74.0</td>\n",
              "      <td>0.000000</td>\n",
              "      <td>95.268043</td>\n",
              "      <td>0.000000e+00</td>\n",
              "      <td>0.0</td>\n",
              "      <td>0.0</td>\n",
              "      <td>1.000000</td>\n",
              "      <td>74.0</td>\n",
              "      <td>0.000000</td>\n",
              "      <td>95.268043</td>\n",
              "      <td>0.000000e+00</td>\n",
              "      <td>0.0</td>\n",
              "      <td>0.0</td>\n",
              "      <td>1.000000</td>\n",
              "      <td>74.0</td>\n",
              "      <td>0.000000</td>\n",
              "      <td>95.268043</td>\n",
              "      <td>0.000000e+00</td>\n",
              "      <td>0.0</td>\n",
              "      <td>0.0</td>\n",
              "      <td>1.020403</td>\n",
              "      <td>74.0</td>\n",
              "      <td>0.000000</td>\n",
              "      <td>95.268043</td>\n",
              "      <td>0.000000e+00</td>\n",
              "      <td>0.0</td>\n",
              "      <td>0.0</td>\n",
              "      <td>1.677593</td>\n",
              "      <td>74.0</td>\n",
              "      <td>0.000000</td>\n",
              "      <td>95.268043</td>\n",
              "      <td>0.000000e+00</td>\n",
              "      <td>0.0</td>\n",
              "      <td>0.0</td>\n",
              "      <td>2</td>\n",
              "    </tr>\n",
              "    <tr>\n",
              "      <th>3</th>\n",
              "      <td>33.587863</td>\n",
              "      <td>74.087364</td>\n",
              "      <td>2.093366</td>\n",
              "      <td>64.452935</td>\n",
              "      <td>74.119794</td>\n",
              "      <td>3.378410</td>\n",
              "      <td>159.182945</td>\n",
              "      <td>74.404193</td>\n",
              "      <td>58.408251</td>\n",
              "      <td>808.503099</td>\n",
              "      <td>75.184467</td>\n",
              "      <td>239.672595</td>\n",
              "      <td>2569.864737</td>\n",
              "      <td>75.088108</td>\n",
              "      <td>253.391223</td>\n",
              "      <td>33.587863</td>\n",
              "      <td>74.087364</td>\n",
              "      <td>2.093366</td>\n",
              "      <td>64.452935</td>\n",
              "      <td>74.119794</td>\n",
              "      <td>3.378410</td>\n",
              "      <td>159.182945</td>\n",
              "      <td>74.404193</td>\n",
              "      <td>58.408251</td>\n",
              "      <td>808.503099</td>\n",
              "      <td>75.184467</td>\n",
              "      <td>239.672595</td>\n",
              "      <td>2569.864737</td>\n",
              "      <td>75.088108</td>\n",
              "      <td>253.391223</td>\n",
              "      <td>1.000000</td>\n",
              "      <td>74.0</td>\n",
              "      <td>0.000000</td>\n",
              "      <td>74.000000</td>\n",
              "      <td>0.000000e+00</td>\n",
              "      <td>0.000000e+00</td>\n",
              "      <td>0.000000e+00</td>\n",
              "      <td>1.000000</td>\n",
              "      <td>74.0</td>\n",
              "      <td>0.000000</td>\n",
              "      <td>...</td>\n",
              "      <td>0.000000e+00</td>\n",
              "      <td>1.000000</td>\n",
              "      <td>1.505913e+09</td>\n",
              "      <td>0.000000e+00</td>\n",
              "      <td>1.000000</td>\n",
              "      <td>74.0</td>\n",
              "      <td>0.000000</td>\n",
              "      <td>74.000000</td>\n",
              "      <td>0.000000e+00</td>\n",
              "      <td>0.0</td>\n",
              "      <td>0.0</td>\n",
              "      <td>1.000000</td>\n",
              "      <td>74.0</td>\n",
              "      <td>0.000000</td>\n",
              "      <td>74.000000</td>\n",
              "      <td>0.000000e+00</td>\n",
              "      <td>0.0</td>\n",
              "      <td>0.0</td>\n",
              "      <td>1.000000</td>\n",
              "      <td>74.0</td>\n",
              "      <td>0.000000</td>\n",
              "      <td>74.000000</td>\n",
              "      <td>0.000000e+00</td>\n",
              "      <td>0.0</td>\n",
              "      <td>0.0</td>\n",
              "      <td>1.000000</td>\n",
              "      <td>74.0</td>\n",
              "      <td>0.000000</td>\n",
              "      <td>74.000000</td>\n",
              "      <td>0.000000e+00</td>\n",
              "      <td>0.0</td>\n",
              "      <td>0.0</td>\n",
              "      <td>1.000000</td>\n",
              "      <td>74.0</td>\n",
              "      <td>0.000000</td>\n",
              "      <td>74.000000</td>\n",
              "      <td>0.000000e+00</td>\n",
              "      <td>0.0</td>\n",
              "      <td>0.0</td>\n",
              "      <td>2</td>\n",
              "    </tr>\n",
              "    <tr>\n",
              "      <th>4</th>\n",
              "      <td>111.590034</td>\n",
              "      <td>547.290335</td>\n",
              "      <td>9117.034019</td>\n",
              "      <td>190.203964</td>\n",
              "      <td>516.685384</td>\n",
              "      <td>22521.099828</td>\n",
              "      <td>600.858552</td>\n",
              "      <td>463.198428</td>\n",
              "      <td>41446.404958</td>\n",
              "      <td>6160.585395</td>\n",
              "      <td>439.486741</td>\n",
              "      <td>48002.663049</td>\n",
              "      <td>47697.331151</td>\n",
              "      <td>437.246988</td>\n",
              "      <td>48552.728344</td>\n",
              "      <td>111.590034</td>\n",
              "      <td>547.290335</td>\n",
              "      <td>9117.034019</td>\n",
              "      <td>190.203964</td>\n",
              "      <td>516.685384</td>\n",
              "      <td>22521.099828</td>\n",
              "      <td>600.858552</td>\n",
              "      <td>463.198428</td>\n",
              "      <td>41446.404958</td>\n",
              "      <td>6160.585395</td>\n",
              "      <td>439.486741</td>\n",
              "      <td>48002.663049</td>\n",
              "      <td>47697.331151</td>\n",
              "      <td>437.246988</td>\n",
              "      <td>48552.728344</td>\n",
              "      <td>107.463921</td>\n",
              "      <td>566.0</td>\n",
              "      <td>0.000013</td>\n",
              "      <td>566.000000</td>\n",
              "      <td>1.746230e-10</td>\n",
              "      <td>0.000000e+00</td>\n",
              "      <td>0.000000e+00</td>\n",
              "      <td>171.666614</td>\n",
              "      <td>566.0</td>\n",
              "      <td>0.003396</td>\n",
              "      <td>...</td>\n",
              "      <td>2.233024e+08</td>\n",
              "      <td>35564.814337</td>\n",
              "      <td>9.839788e+03</td>\n",
              "      <td>1.483494e+13</td>\n",
              "      <td>1.000000</td>\n",
              "      <td>566.0</td>\n",
              "      <td>0.000000</td>\n",
              "      <td>566.000000</td>\n",
              "      <td>0.000000e+00</td>\n",
              "      <td>0.0</td>\n",
              "      <td>0.0</td>\n",
              "      <td>1.000000</td>\n",
              "      <td>566.0</td>\n",
              "      <td>0.000000</td>\n",
              "      <td>566.000000</td>\n",
              "      <td>0.000000e+00</td>\n",
              "      <td>0.0</td>\n",
              "      <td>0.0</td>\n",
              "      <td>1.000000</td>\n",
              "      <td>566.0</td>\n",
              "      <td>0.000000</td>\n",
              "      <td>566.000000</td>\n",
              "      <td>0.000000e+00</td>\n",
              "      <td>0.0</td>\n",
              "      <td>0.0</td>\n",
              "      <td>1.000000</td>\n",
              "      <td>566.0</td>\n",
              "      <td>0.000000</td>\n",
              "      <td>566.000000</td>\n",
              "      <td>0.000000e+00</td>\n",
              "      <td>0.0</td>\n",
              "      <td>0.0</td>\n",
              "      <td>1.000000</td>\n",
              "      <td>566.0</td>\n",
              "      <td>0.000000</td>\n",
              "      <td>566.000000</td>\n",
              "      <td>0.000000e+00</td>\n",
              "      <td>0.0</td>\n",
              "      <td>0.0</td>\n",
              "      <td>1</td>\n",
              "    </tr>\n",
              "    <tr>\n",
              "      <th>5</th>\n",
              "      <td>30.760928</td>\n",
              "      <td>60.000493</td>\n",
              "      <td>0.005472</td>\n",
              "      <td>42.314090</td>\n",
              "      <td>60.006632</td>\n",
              "      <td>0.073970</td>\n",
              "      <td>143.624242</td>\n",
              "      <td>60.045958</td>\n",
              "      <td>0.611988</td>\n",
              "      <td>1913.853148</td>\n",
              "      <td>60.088903</td>\n",
              "      <td>1.581607</td>\n",
              "      <td>18604.200918</td>\n",
              "      <td>60.098333</td>\n",
              "      <td>1.693650</td>\n",
              "      <td>30.760928</td>\n",
              "      <td>60.000493</td>\n",
              "      <td>0.005472</td>\n",
              "      <td>42.314090</td>\n",
              "      <td>60.006632</td>\n",
              "      <td>0.073970</td>\n",
              "      <td>143.624242</td>\n",
              "      <td>60.045958</td>\n",
              "      <td>0.611988</td>\n",
              "      <td>1913.853148</td>\n",
              "      <td>60.088903</td>\n",
              "      <td>1.581607</td>\n",
              "      <td>18604.200918</td>\n",
              "      <td>60.098333</td>\n",
              "      <td>1.693650</td>\n",
              "      <td>1.000000</td>\n",
              "      <td>60.0</td>\n",
              "      <td>0.000000</td>\n",
              "      <td>60.000000</td>\n",
              "      <td>0.000000e+00</td>\n",
              "      <td>0.000000e+00</td>\n",
              "      <td>0.000000e+00</td>\n",
              "      <td>1.000000</td>\n",
              "      <td>60.0</td>\n",
              "      <td>0.000000</td>\n",
              "      <td>...</td>\n",
              "      <td>0.000000e+00</td>\n",
              "      <td>1.000000</td>\n",
              "      <td>1.507653e+09</td>\n",
              "      <td>0.000000e+00</td>\n",
              "      <td>1.000000</td>\n",
              "      <td>60.0</td>\n",
              "      <td>0.000000</td>\n",
              "      <td>60.000000</td>\n",
              "      <td>0.000000e+00</td>\n",
              "      <td>0.0</td>\n",
              "      <td>0.0</td>\n",
              "      <td>1.000000</td>\n",
              "      <td>60.0</td>\n",
              "      <td>0.000000</td>\n",
              "      <td>60.000000</td>\n",
              "      <td>0.000000e+00</td>\n",
              "      <td>0.0</td>\n",
              "      <td>0.0</td>\n",
              "      <td>1.000000</td>\n",
              "      <td>60.0</td>\n",
              "      <td>0.000000</td>\n",
              "      <td>60.000000</td>\n",
              "      <td>0.000000e+00</td>\n",
              "      <td>0.0</td>\n",
              "      <td>0.0</td>\n",
              "      <td>1.000000</td>\n",
              "      <td>60.0</td>\n",
              "      <td>0.000000</td>\n",
              "      <td>60.000000</td>\n",
              "      <td>0.000000e+00</td>\n",
              "      <td>0.0</td>\n",
              "      <td>0.0</td>\n",
              "      <td>1.000000</td>\n",
              "      <td>60.0</td>\n",
              "      <td>0.000000</td>\n",
              "      <td>60.000000</td>\n",
              "      <td>0.000000e+00</td>\n",
              "      <td>0.0</td>\n",
              "      <td>0.0</td>\n",
              "      <td>1</td>\n",
              "    </tr>\n",
              "    <tr>\n",
              "      <th>6</th>\n",
              "      <td>1.000000</td>\n",
              "      <td>60.000000</td>\n",
              "      <td>0.000000</td>\n",
              "      <td>1.000000</td>\n",
              "      <td>60.000000</td>\n",
              "      <td>0.000000</td>\n",
              "      <td>1.000000</td>\n",
              "      <td>60.000000</td>\n",
              "      <td>0.000000</td>\n",
              "      <td>1.000000</td>\n",
              "      <td>60.000000</td>\n",
              "      <td>0.000000</td>\n",
              "      <td>1.000000</td>\n",
              "      <td>60.000000</td>\n",
              "      <td>0.000000</td>\n",
              "      <td>1.000000</td>\n",
              "      <td>60.000000</td>\n",
              "      <td>0.000000</td>\n",
              "      <td>1.000000</td>\n",
              "      <td>60.000000</td>\n",
              "      <td>0.000000</td>\n",
              "      <td>1.000000</td>\n",
              "      <td>60.000000</td>\n",
              "      <td>0.000000</td>\n",
              "      <td>1.000000</td>\n",
              "      <td>60.000000</td>\n",
              "      <td>0.000000</td>\n",
              "      <td>1.000000</td>\n",
              "      <td>60.000000</td>\n",
              "      <td>0.000000</td>\n",
              "      <td>1.000000</td>\n",
              "      <td>60.0</td>\n",
              "      <td>0.000000</td>\n",
              "      <td>60.000000</td>\n",
              "      <td>0.000000e+00</td>\n",
              "      <td>0.000000e+00</td>\n",
              "      <td>0.000000e+00</td>\n",
              "      <td>1.000000</td>\n",
              "      <td>60.0</td>\n",
              "      <td>0.000000</td>\n",
              "      <td>...</td>\n",
              "      <td>0.000000e+00</td>\n",
              "      <td>1.000000</td>\n",
              "      <td>1.505914e+09</td>\n",
              "      <td>0.000000e+00</td>\n",
              "      <td>1.000000</td>\n",
              "      <td>60.0</td>\n",
              "      <td>0.000000</td>\n",
              "      <td>60.000000</td>\n",
              "      <td>0.000000e+00</td>\n",
              "      <td>0.0</td>\n",
              "      <td>0.0</td>\n",
              "      <td>1.000000</td>\n",
              "      <td>60.0</td>\n",
              "      <td>0.000000</td>\n",
              "      <td>60.000000</td>\n",
              "      <td>0.000000e+00</td>\n",
              "      <td>0.0</td>\n",
              "      <td>0.0</td>\n",
              "      <td>1.000000</td>\n",
              "      <td>60.0</td>\n",
              "      <td>0.000000</td>\n",
              "      <td>60.000000</td>\n",
              "      <td>0.000000e+00</td>\n",
              "      <td>0.0</td>\n",
              "      <td>0.0</td>\n",
              "      <td>1.000000</td>\n",
              "      <td>60.0</td>\n",
              "      <td>0.000000</td>\n",
              "      <td>60.000000</td>\n",
              "      <td>0.000000e+00</td>\n",
              "      <td>0.0</td>\n",
              "      <td>0.0</td>\n",
              "      <td>1.000000</td>\n",
              "      <td>60.0</td>\n",
              "      <td>0.000000</td>\n",
              "      <td>60.000000</td>\n",
              "      <td>0.000000e+00</td>\n",
              "      <td>0.0</td>\n",
              "      <td>0.0</td>\n",
              "      <td>2</td>\n",
              "    </tr>\n",
              "    <tr>\n",
              "      <th>7</th>\n",
              "      <td>1.000000</td>\n",
              "      <td>60.000000</td>\n",
              "      <td>0.000000</td>\n",
              "      <td>1.000000</td>\n",
              "      <td>60.000000</td>\n",
              "      <td>0.000000</td>\n",
              "      <td>1.000000</td>\n",
              "      <td>60.000000</td>\n",
              "      <td>0.000000</td>\n",
              "      <td>1.000000</td>\n",
              "      <td>60.000000</td>\n",
              "      <td>0.000000</td>\n",
              "      <td>1.000000</td>\n",
              "      <td>60.000000</td>\n",
              "      <td>0.000000</td>\n",
              "      <td>1.000000</td>\n",
              "      <td>60.000000</td>\n",
              "      <td>0.000000</td>\n",
              "      <td>1.000000</td>\n",
              "      <td>60.000000</td>\n",
              "      <td>0.000000</td>\n",
              "      <td>1.000000</td>\n",
              "      <td>60.000000</td>\n",
              "      <td>0.000000</td>\n",
              "      <td>1.000000</td>\n",
              "      <td>60.000000</td>\n",
              "      <td>0.000000</td>\n",
              "      <td>1.000000</td>\n",
              "      <td>60.000000</td>\n",
              "      <td>0.000000</td>\n",
              "      <td>1.000000</td>\n",
              "      <td>60.0</td>\n",
              "      <td>0.000000</td>\n",
              "      <td>60.000000</td>\n",
              "      <td>0.000000e+00</td>\n",
              "      <td>0.000000e+00</td>\n",
              "      <td>0.000000e+00</td>\n",
              "      <td>1.000000</td>\n",
              "      <td>60.0</td>\n",
              "      <td>0.000000</td>\n",
              "      <td>...</td>\n",
              "      <td>0.000000e+00</td>\n",
              "      <td>1.000000</td>\n",
              "      <td>1.505914e+09</td>\n",
              "      <td>0.000000e+00</td>\n",
              "      <td>1.000000</td>\n",
              "      <td>60.0</td>\n",
              "      <td>0.000000</td>\n",
              "      <td>60.000000</td>\n",
              "      <td>0.000000e+00</td>\n",
              "      <td>0.0</td>\n",
              "      <td>0.0</td>\n",
              "      <td>1.000000</td>\n",
              "      <td>60.0</td>\n",
              "      <td>0.000000</td>\n",
              "      <td>60.000000</td>\n",
              "      <td>0.000000e+00</td>\n",
              "      <td>0.0</td>\n",
              "      <td>0.0</td>\n",
              "      <td>1.000000</td>\n",
              "      <td>60.0</td>\n",
              "      <td>0.000000</td>\n",
              "      <td>60.000000</td>\n",
              "      <td>0.000000e+00</td>\n",
              "      <td>0.0</td>\n",
              "      <td>0.0</td>\n",
              "      <td>1.000000</td>\n",
              "      <td>60.0</td>\n",
              "      <td>0.000000</td>\n",
              "      <td>60.000000</td>\n",
              "      <td>0.000000e+00</td>\n",
              "      <td>0.0</td>\n",
              "      <td>0.0</td>\n",
              "      <td>1.000000</td>\n",
              "      <td>60.0</td>\n",
              "      <td>0.000000</td>\n",
              "      <td>60.000000</td>\n",
              "      <td>0.000000e+00</td>\n",
              "      <td>0.0</td>\n",
              "      <td>0.0</td>\n",
              "      <td>2</td>\n",
              "    </tr>\n",
              "    <tr>\n",
              "      <th>8</th>\n",
              "      <td>70.525120</td>\n",
              "      <td>473.703985</td>\n",
              "      <td>38183.192784</td>\n",
              "      <td>146.019579</td>\n",
              "      <td>445.928334</td>\n",
              "      <td>46338.635228</td>\n",
              "      <td>553.088909</td>\n",
              "      <td>441.974084</td>\n",
              "      <td>47369.604048</td>\n",
              "      <td>5748.712855</td>\n",
              "      <td>428.870906</td>\n",
              "      <td>50533.813861</td>\n",
              "      <td>51040.671019</td>\n",
              "      <td>435.648524</td>\n",
              "      <td>48933.794422</td>\n",
              "      <td>70.525120</td>\n",
              "      <td>473.703985</td>\n",
              "      <td>38183.192784</td>\n",
              "      <td>146.019579</td>\n",
              "      <td>445.928334</td>\n",
              "      <td>46338.635228</td>\n",
              "      <td>553.088909</td>\n",
              "      <td>441.974084</td>\n",
              "      <td>47369.604048</td>\n",
              "      <td>5748.712855</td>\n",
              "      <td>428.870906</td>\n",
              "      <td>50533.813861</td>\n",
              "      <td>51040.671019</td>\n",
              "      <td>435.648524</td>\n",
              "      <td>48933.794422</td>\n",
              "      <td>57.661103</td>\n",
              "      <td>566.0</td>\n",
              "      <td>0.000015</td>\n",
              "      <td>566.000000</td>\n",
              "      <td>2.328306e-10</td>\n",
              "      <td>0.000000e+00</td>\n",
              "      <td>0.000000e+00</td>\n",
              "      <td>111.369501</td>\n",
              "      <td>566.0</td>\n",
              "      <td>0.000000</td>\n",
              "      <td>...</td>\n",
              "      <td>1.124961e+07</td>\n",
              "      <td>37892.746403</td>\n",
              "      <td>6.783018e+03</td>\n",
              "      <td>1.022642e+13</td>\n",
              "      <td>1.000000</td>\n",
              "      <td>566.0</td>\n",
              "      <td>0.000000</td>\n",
              "      <td>566.000000</td>\n",
              "      <td>0.000000e+00</td>\n",
              "      <td>0.0</td>\n",
              "      <td>0.0</td>\n",
              "      <td>1.000000</td>\n",
              "      <td>566.0</td>\n",
              "      <td>0.000000</td>\n",
              "      <td>566.000000</td>\n",
              "      <td>0.000000e+00</td>\n",
              "      <td>0.0</td>\n",
              "      <td>0.0</td>\n",
              "      <td>1.000000</td>\n",
              "      <td>566.0</td>\n",
              "      <td>0.000000</td>\n",
              "      <td>566.000000</td>\n",
              "      <td>0.000000e+00</td>\n",
              "      <td>0.0</td>\n",
              "      <td>0.0</td>\n",
              "      <td>1.000000</td>\n",
              "      <td>566.0</td>\n",
              "      <td>0.000000</td>\n",
              "      <td>566.000000</td>\n",
              "      <td>0.000000e+00</td>\n",
              "      <td>0.0</td>\n",
              "      <td>0.0</td>\n",
              "      <td>1.000000</td>\n",
              "      <td>566.0</td>\n",
              "      <td>0.000000</td>\n",
              "      <td>566.000000</td>\n",
              "      <td>0.000000e+00</td>\n",
              "      <td>0.0</td>\n",
              "      <td>0.0</td>\n",
              "      <td>1</td>\n",
              "    </tr>\n",
              "    <tr>\n",
              "      <th>9</th>\n",
              "      <td>96.831874</td>\n",
              "      <td>529.187391</td>\n",
              "      <td>11640.484325</td>\n",
              "      <td>160.423513</td>\n",
              "      <td>489.842460</td>\n",
              "      <td>27570.867003</td>\n",
              "      <td>499.872958</td>\n",
              "      <td>423.854652</td>\n",
              "      <td>47328.214088</td>\n",
              "      <td>5429.129438</td>\n",
              "      <td>406.945049</td>\n",
              "      <td>51005.687536</td>\n",
              "      <td>34229.413989</td>\n",
              "      <td>401.622985</td>\n",
              "      <td>52031.432271</td>\n",
              "      <td>96.831874</td>\n",
              "      <td>529.187391</td>\n",
              "      <td>11640.484325</td>\n",
              "      <td>160.423513</td>\n",
              "      <td>489.842460</td>\n",
              "      <td>27570.867003</td>\n",
              "      <td>499.872958</td>\n",
              "      <td>423.854652</td>\n",
              "      <td>47328.214088</td>\n",
              "      <td>5429.129438</td>\n",
              "      <td>406.945049</td>\n",
              "      <td>51005.687536</td>\n",
              "      <td>34229.413989</td>\n",
              "      <td>401.622985</td>\n",
              "      <td>52031.432271</td>\n",
              "      <td>91.967685</td>\n",
              "      <td>554.0</td>\n",
              "      <td>0.000013</td>\n",
              "      <td>554.000000</td>\n",
              "      <td>1.746230e-10</td>\n",
              "      <td>0.000000e+00</td>\n",
              "      <td>0.000000e+00</td>\n",
              "      <td>139.584161</td>\n",
              "      <td>554.0</td>\n",
              "      <td>0.000011</td>\n",
              "      <td>...</td>\n",
              "      <td>9.948577e+09</td>\n",
              "      <td>23673.229716</td>\n",
              "      <td>2.119777e+04</td>\n",
              "      <td>3.195856e+13</td>\n",
              "      <td>91.967685</td>\n",
              "      <td>554.0</td>\n",
              "      <td>0.000013</td>\n",
              "      <td>554.000000</td>\n",
              "      <td>1.746230e-10</td>\n",
              "      <td>0.0</td>\n",
              "      <td>0.0</td>\n",
              "      <td>139.584161</td>\n",
              "      <td>554.0</td>\n",
              "      <td>0.000011</td>\n",
              "      <td>554.000000</td>\n",
              "      <td>1.164153e-10</td>\n",
              "      <td>0.0</td>\n",
              "      <td>0.0</td>\n",
              "      <td>368.126046</td>\n",
              "      <td>554.0</td>\n",
              "      <td>0.000011</td>\n",
              "      <td>554.000000</td>\n",
              "      <td>1.164153e-10</td>\n",
              "      <td>0.0</td>\n",
              "      <td>0.0</td>\n",
              "      <td>3812.647144</td>\n",
              "      <td>554.0</td>\n",
              "      <td>0.000049</td>\n",
              "      <td>554.000000</td>\n",
              "      <td>2.444722e-09</td>\n",
              "      <td>0.0</td>\n",
              "      <td>0.0</td>\n",
              "      <td>23667.636060</td>\n",
              "      <td>554.0</td>\n",
              "      <td>0.000019</td>\n",
              "      <td>554.000000</td>\n",
              "      <td>3.492460e-10</td>\n",
              "      <td>0.0</td>\n",
              "      <td>0.0</td>\n",
              "      <td>1</td>\n",
              "    </tr>\n",
              "  </tbody>\n",
              "</table>\n",
              "<p>10 rows × 116 columns</p>\n",
              "</div>"
            ],
            "text/plain": [
              "   MI_dir_L5_weight  MI_dir_L5_mean  ...  HpHp_L0.01_pcc  label\n",
              "0        146.055453      352.575175  ...             0.0      1\n",
              "1          1.000000       60.000000  ...             0.0      2\n",
              "2        175.348580       74.007747  ...             0.0      2\n",
              "3         33.587863       74.087364  ...             0.0      2\n",
              "4        111.590034      547.290335  ...             0.0      1\n",
              "5         30.760928       60.000493  ...             0.0      1\n",
              "6          1.000000       60.000000  ...             0.0      2\n",
              "7          1.000000       60.000000  ...             0.0      2\n",
              "8         70.525120      473.703985  ...             0.0      1\n",
              "9         96.831874      529.187391  ...             0.0      1\n",
              "\n",
              "[10 rows x 116 columns]"
            ]
          },
          "metadata": {
            "tags": []
          },
          "execution_count": 9
        }
      ]
    },
    {
      "cell_type": "markdown",
      "metadata": {
        "id": "o2Oa3-3LX2cX",
        "colab_type": "text"
      },
      "source": [
        "## Two Features\n",
        "\n",
        "\n",
        "*   Two highest scoring features from the paper:\n",
        "** Host_MAC&IP-10sec-Variance\n",
        "** Host_IP-10sec-Variance\n",
        "\n",
        "*   Two highest scoring features from this implementation:\n",
        "** Host_MAC&IP-100ms-Packet Count\n",
        "** Host_IP-100ms-Packet Count\n",
        "\n"
      ]
    },
    {
      "cell_type": "markdown",
      "metadata": {
        "id": "NRjaKZ9vqIbM",
        "colab_type": "text"
      },
      "source": [
        "### Decision Trees"
      ]
    },
    {
      "cell_type": "code",
      "metadata": {
        "id": "N1yJiTIGXpuC",
        "colab_type": "code",
        "outputId": "af39190b-8c10-463f-fc08-00353d2327ff",
        "colab": {
          "base_uri": "https://localhost:8080/",
          "height": 34
        }
      },
      "source": [
        "from sklearn.tree import DecisionTreeClassifier\n",
        "from sklearn.model_selection import train_test_split\n",
        "\n",
        "\n",
        "X = s_rand_combined_df[['H_L5_mean', 'MI_dir_L5_mean']].copy()\n",
        "\n",
        "#X = s_rand_combined_df.drop(['label'],axis=1).values\n",
        "\n",
        "Y = s_rand_combined_df['label'].values\n",
        "\n",
        "X_train, X_test, Y_train, Y_test = train_test_split(X, Y, test_size=0.3, random_state=1)\n",
        "\n",
        "dt = DecisionTreeClassifier()\n",
        "\n",
        "dt = dt.fit(X_train,Y_train)\n",
        "\n",
        "Y_pred = dt.predict(X_test)\n",
        "\n",
        "dt_acc = dt.score(X_test, Y_test)\n",
        "dt_acc"
      ],
      "execution_count": 0,
      "outputs": [
        {
          "output_type": "execute_result",
          "data": {
            "text/plain": [
              "0.9227392863885218"
            ]
          },
          "metadata": {
            "tags": []
          },
          "execution_count": 10
        }
      ]
    },
    {
      "cell_type": "markdown",
      "metadata": {
        "id": "si2EmiufqM-e",
        "colab_type": "text"
      },
      "source": [
        "### K-Nearest Neighbour"
      ]
    },
    {
      "cell_type": "code",
      "metadata": {
        "id": "lA2a2GhtqG5D",
        "colab_type": "code",
        "outputId": "f3261ce9-9b2c-494f-a537-c5d3f45bff68",
        "colab": {
          "base_uri": "https://localhost:8080/",
          "height": 34
        }
      },
      "source": [
        "from sklearn.neighbors import KNeighborsClassifier\n",
        "from sklearn.model_selection import train_test_split\n",
        "\n",
        "X = s_rand_combined_df[['H_L5_mean', 'MI_dir_L5_mean']].copy()\n",
        "\n",
        "#X = s_rand_combined_df.drop(['label'],axis=1).values\n",
        "\n",
        "Y = s_rand_combined_df['label'].values\n",
        "\n",
        "X_train, X_test, Y_train, Y_test = train_test_split(X, Y, test_size=0.3, random_state=1)\n",
        "\n",
        "nn = KNeighborsClassifier()\n",
        "\n",
        "nn = nn.fit(X_train,Y_train)\n",
        "\n",
        "Y_pred = nn.predict(X_test)\n",
        "\n",
        "nn_acc = nn.score(X_test, Y_test)\n",
        "nn_acc\n"
      ],
      "execution_count": 0,
      "outputs": [
        {
          "output_type": "execute_result",
          "data": {
            "text/plain": [
              "0.9601189352463658"
            ]
          },
          "metadata": {
            "tags": []
          },
          "execution_count": 11
        }
      ]
    },
    {
      "cell_type": "markdown",
      "metadata": {
        "id": "2hVvhLygEtSa",
        "colab_type": "text"
      },
      "source": [
        "## Three Features\n"
      ]
    },
    {
      "cell_type": "markdown",
      "metadata": {
        "id": "yGLosEkCNnjj",
        "colab_type": "text"
      },
      "source": [
        "### Decision Tree"
      ]
    },
    {
      "cell_type": "code",
      "metadata": {
        "id": "1ECClnxHEom-",
        "colab_type": "code",
        "outputId": "ffc32aef-8f3a-4e46-9a6a-554ee137a891",
        "colab": {
          "base_uri": "https://localhost:8080/",
          "height": 34
        }
      },
      "source": [
        "\n",
        "\n",
        "X = s_rand_combined_df[['H_L5_mean', 'MI_dir_L5_mean', 'MI_dir_L3_mean']].copy()\n",
        "\n",
        "Y = s_rand_combined_df['label'].values\n",
        "\n",
        "X_train, X_test, Y_train, Y_test = train_test_split(X, Y, test_size=0.3, random_state=1)\n",
        "\n",
        "dt = DecisionTreeClassifier()\n",
        "\n",
        "dt = dt.fit(X_train,Y_train)\n",
        "\n",
        "Y_pred = dt.predict(X_test)\n",
        "\n",
        "dt_acc = dt.score(X_test, Y_test)\n",
        "dt_acc\n",
        "\n"
      ],
      "execution_count": 0,
      "outputs": [
        {
          "output_type": "execute_result",
          "data": {
            "text/plain": [
              "0.9599773456673589"
            ]
          },
          "metadata": {
            "tags": []
          },
          "execution_count": 12
        }
      ]
    },
    {
      "cell_type": "markdown",
      "metadata": {
        "id": "KyP0OGehNqAf",
        "colab_type": "text"
      },
      "source": [
        "### K-Nearest Neighbour"
      ]
    },
    {
      "cell_type": "code",
      "metadata": {
        "id": "-6OJUS9zKc6o",
        "colab_type": "code",
        "outputId": "16cd1bbb-49b3-4b04-84dd-b7f07ceda6c6",
        "colab": {
          "base_uri": "https://localhost:8080/",
          "height": 34
        }
      },
      "source": [
        "X = s_rand_combined_df[['H_L5_mean', 'MI_dir_L5_mean', 'MI_dir_L3_mean']].copy()\n",
        "\n",
        "Y = s_rand_combined_df['label'].values\n",
        "\n",
        "X_train, X_test, Y_train, Y_test = train_test_split(X, Y, test_size=0.3, random_state=1)\n",
        "\n",
        "nn = KNeighborsClassifier()\n",
        "\n",
        "nn = nn.fit(X_train,Y_train)\n",
        "\n",
        "Y_pred = nn.predict(X_test)\n",
        "\n",
        "nn_acc = nn.score(X_test, Y_test)\n",
        "nn_acc"
      ],
      "execution_count": 0,
      "outputs": [
        {
          "output_type": "execute_result",
          "data": {
            "text/plain": [
              "0.98074381725505"
            ]
          },
          "metadata": {
            "tags": []
          },
          "execution_count": 13
        }
      ]
    },
    {
      "cell_type": "markdown",
      "metadata": {
        "id": "5lcBrNCXKnWx",
        "colab_type": "text"
      },
      "source": [
        "## Ten Features"
      ]
    },
    {
      "cell_type": "markdown",
      "metadata": {
        "id": "yvNEO4iKNwtj",
        "colab_type": "text"
      },
      "source": [
        "### Decision Tree"
      ]
    },
    {
      "cell_type": "code",
      "metadata": {
        "id": "3CZXACdWKprm",
        "colab_type": "code",
        "outputId": "cade894c-520d-4b21-deda-e4f5457c7862",
        "colab": {
          "base_uri": "https://localhost:8080/",
          "height": 34
        }
      },
      "source": [
        "X = s_rand_combined_df[['H_L5_mean', 'MI_dir_L5_mean', 'MI_dir_L3_mean' ,'H_L3_mean', 'H_L5_variance', \n",
        "                        'MI_dir_L5_variance', 'MI_dir_L1_variance', 'H_L1_variance', 'H_L3_variance', 'MI_dir_L3_variance']].copy()\n",
        "\n",
        "Y = s_rand_combined_df['label'].values\n",
        "\n",
        "X_train, X_test, Y_train, Y_test = train_test_split(X, Y, test_size=0.3, random_state=1)\n",
        "\n",
        "dt = DecisionTreeClassifier(random_state=42)\n",
        "\n",
        "dt = dt.fit(X_train,Y_train)\n",
        "\n",
        "Y_pred = dt.predict(X_test)\n",
        "\n",
        "dt_acc = dt.score(X_test, Y_test)\n",
        "dt_acc"
      ],
      "execution_count": 0,
      "outputs": [
        {
          "output_type": "execute_result",
          "data": {
            "text/plain": [
              "0.9885784406267699"
            ]
          },
          "metadata": {
            "tags": []
          },
          "execution_count": 14
        }
      ]
    },
    {
      "cell_type": "markdown",
      "metadata": {
        "id": "fU1rxVvjNzV4",
        "colab_type": "text"
      },
      "source": [
        "### K-Nearest Neighbour"
      ]
    },
    {
      "cell_type": "code",
      "metadata": {
        "id": "0ZuCvDRKN2Dp",
        "colab_type": "code",
        "outputId": "162c7838-093a-4475-a392-60c1d17cbb15",
        "colab": {
          "base_uri": "https://localhost:8080/",
          "height": 34
        }
      },
      "source": [
        "X = s_rand_combined_df[['H_L5_mean', 'MI_dir_L5_mean', 'MI_dir_L3_mean' ,'H_L3_mean', 'H_L5_variance', \n",
        "                        'MI_dir_L5_variance', 'MI_dir_L1_variance', 'H_L1_variance', 'H_L3_variance', 'MI_dir_L3_variance']].copy()\n",
        "\n",
        "Y = s_rand_combined_df['label'].values\n",
        "\n",
        "X_train, X_test, Y_train, Y_test = train_test_split(X, Y, test_size=0.3, random_state=1)\n",
        "\n",
        "nn = KNeighborsClassifier(n_neighbors=3)\n",
        "\n",
        "nn = nn.fit(X_train,Y_train)\n",
        "\n",
        "Y_pred = nn.predict(X_test)\n",
        "\n",
        "nn_acc = nn.score(X_test, Y_test)\n",
        "nn_acc\n"
      ],
      "execution_count": 0,
      "outputs": [
        {
          "output_type": "execute_result",
          "data": {
            "text/plain": [
              "0.9815461582027563"
            ]
          },
          "metadata": {
            "tags": []
          },
          "execution_count": 15
        }
      ]
    },
    {
      "cell_type": "markdown",
      "metadata": {
        "id": "0i-Q3nL7Oo9V",
        "colab_type": "text"
      },
      "source": [
        "# Feature Category Results"
      ]
    },
    {
      "cell_type": "markdown",
      "metadata": {
        "id": "cx0zKXRMOu1J",
        "colab_type": "text"
      },
      "source": [
        "## Host-IP"
      ]
    },
    {
      "cell_type": "code",
      "metadata": {
        "id": "LeHbcTX3OxiK",
        "colab_type": "code",
        "outputId": "21887c65-2f18-447a-99cb-8dc4bfeea097",
        "colab": {
          "base_uri": "https://localhost:8080/",
          "height": 34
        }
      },
      "source": [
        "X = s_rand_combined_df.iloc[:,16:30]\n",
        "\n",
        "Y = s_rand_combined_df['label'].values\n",
        "\n",
        "X_train, X_test, Y_train, Y_test = train_test_split(X, Y, test_size=0.3, random_state=1)\n",
        "\n",
        "dt = DecisionTreeClassifier()\n",
        "\n",
        "dt = dt.fit(X_train,Y_train)\n",
        "\n",
        "Y_pred = dt.predict(X_test)\n",
        "\n",
        "dt_acc = dt.score(X_test, Y_test)\n",
        "dt_acc\n"
      ],
      "execution_count": 0,
      "outputs": [
        {
          "output_type": "execute_result",
          "data": {
            "text/plain": [
              "0.999716820841986"
            ]
          },
          "metadata": {
            "tags": []
          },
          "execution_count": 16
        }
      ]
    },
    {
      "cell_type": "markdown",
      "metadata": {
        "id": "mGxzl8P3Ox1U",
        "colab_type": "text"
      },
      "source": [
        "## Host-MAC&IP"
      ]
    },
    {
      "cell_type": "code",
      "metadata": {
        "id": "U0YwKQOQO1TO",
        "colab_type": "code",
        "outputId": "0a310c0b-cc06-46c8-8eaa-27fe18e96370",
        "colab": {
          "base_uri": "https://localhost:8080/",
          "height": 34
        }
      },
      "source": [
        "\n",
        "X = s_rand_combined_df.iloc[:,0:15]\n",
        "\n",
        "Y = s_rand_combined_df['label'].values\n",
        "\n",
        "X_train, X_test, Y_train, Y_test = train_test_split(X, Y, test_size=0.3, random_state=1)\n",
        "\n",
        "dt = DecisionTreeClassifier()\n",
        "\n",
        "dt = dt.fit(X_train,Y_train)\n",
        "\n",
        "Y_pred = dt.predict(X_test)\n",
        "\n",
        "dt_acc = dt.score(X_test, Y_test)\n",
        "dt_acc\n"
      ],
      "execution_count": 0,
      "outputs": [
        {
          "output_type": "execute_result",
          "data": {
            "text/plain": [
              "0.9996696243156503"
            ]
          },
          "metadata": {
            "tags": []
          },
          "execution_count": 17
        }
      ]
    },
    {
      "cell_type": "markdown",
      "metadata": {
        "id": "Jbmnlhg6O1p3",
        "colab_type": "text"
      },
      "source": [
        "## Channel"
      ]
    },
    {
      "cell_type": "code",
      "metadata": {
        "id": "d2Ay9WShPB6t",
        "colab_type": "code",
        "outputId": "3158d34f-14a6-4d2c-d203-152572e293e2",
        "colab": {
          "base_uri": "https://localhost:8080/",
          "height": 34
        }
      },
      "source": [
        "\n",
        "\n",
        "X = s_rand_combined_df.iloc[:,30:65]\n",
        "\n",
        "Y = s_rand_combined_df['label'].values\n",
        "\n",
        "X_train, X_test, Y_train, Y_test = train_test_split(X, Y, test_size=0.3, random_state=1)\n",
        "\n",
        "dt = DecisionTreeClassifier()\n",
        "\n",
        "dt = dt.fit(X_train,Y_train)\n",
        "\n",
        "Y_pred = dt.predict(X_test)\n",
        "\n",
        "dt_acc = dt.score(X_test, Y_test)\n",
        "dt_acc\n"
      ],
      "execution_count": 0,
      "outputs": [
        {
          "output_type": "execute_result",
          "data": {
            "text/plain": [
              "0.7754861242212573"
            ]
          },
          "metadata": {
            "tags": []
          },
          "execution_count": 18
        }
      ]
    },
    {
      "cell_type": "markdown",
      "metadata": {
        "id": "1dPfuAoUPCoS",
        "colab_type": "text"
      },
      "source": [
        "## Network Jitter"
      ]
    },
    {
      "cell_type": "code",
      "metadata": {
        "id": "SdWiycf1PGoj",
        "colab_type": "code",
        "outputId": "b24d2fc9-a57e-4aca-a5c0-e451b17d72cf",
        "colab": {
          "base_uri": "https://localhost:8080/",
          "height": 34
        }
      },
      "source": [
        "X = s_rand_combined_df.iloc[:,65:80]\n",
        "\n",
        "Y = s_rand_combined_df['label'].values\n",
        "\n",
        "X_train, X_test, Y_train, Y_test = train_test_split(X, Y, test_size=0.3, random_state=1)\n",
        "\n",
        "dt = DecisionTreeClassifier()\n",
        "\n",
        "dt = dt.fit(X_train,Y_train)\n",
        "\n",
        "Y_pred = dt.predict(X_test)\n",
        "\n",
        "dt_acc = dt.score(X_test, Y_test)\n",
        "dt_acc"
      ],
      "execution_count": 0,
      "outputs": [
        {
          "output_type": "execute_result",
          "data": {
            "text/plain": [
              "0.9982065319992448"
            ]
          },
          "metadata": {
            "tags": []
          },
          "execution_count": 19
        }
      ]
    },
    {
      "cell_type": "markdown",
      "metadata": {
        "id": "ZAodLPhkPHFy",
        "colab_type": "text"
      },
      "source": [
        "## Socket"
      ]
    },
    {
      "cell_type": "code",
      "metadata": {
        "id": "alaLAAtzPKOw",
        "colab_type": "code",
        "outputId": "5f7c0ba4-576b-4dfd-8f00-4b1af4713d39",
        "colab": {
          "base_uri": "https://localhost:8080/",
          "height": 34
        }
      },
      "source": [
        "X = s_rand_combined_df.iloc[:,80:115]\n",
        "\n",
        "Y = s_rand_combined_df['label'].values\n",
        "\n",
        "X_train, X_test, Y_train, Y_test = train_test_split(X, Y, test_size=0.3, random_state=1)\n",
        "\n",
        "dt = DecisionTreeClassifier()\n",
        "\n",
        "dt = dt.fit(X_train,Y_train)\n",
        "\n",
        "Y_pred = dt.predict(X_test)\n",
        "\n",
        "dt_acc = dt.score(X_test, Y_test)\n",
        "dt_acc"
      ],
      "execution_count": 0,
      "outputs": [
        {
          "output_type": "execute_result",
          "data": {
            "text/plain": [
              "0.6983198036624504"
            ]
          },
          "metadata": {
            "tags": []
          },
          "execution_count": 20
        }
      ]
    },
    {
      "cell_type": "markdown",
      "metadata": {
        "id": "kG97erRPPcSg",
        "colab_type": "text"
      },
      "source": [
        "# Time Interval Results"
      ]
    },
    {
      "cell_type": "markdown",
      "metadata": {
        "id": "va40kI76PoeX",
        "colab_type": "text"
      },
      "source": [
        "## 100 ms"
      ]
    },
    {
      "cell_type": "code",
      "metadata": {
        "id": "2RA5uJ7jPqmX",
        "colab_type": "code",
        "outputId": "63d06114-39c6-4dc0-b3e1-bea175f67a37",
        "colab": {
          "base_uri": "https://localhost:8080/",
          "height": 34
        }
      },
      "source": [
        "\n",
        "x1 = s_rand_combined_df.iloc[:,12:15]\n",
        "x2 = s_rand_combined_df.iloc[:,27:30]\n",
        "x3 = s_rand_combined_df.iloc[:,58:65]\n",
        "x4 = s_rand_combined_df.iloc[:,77:80]\n",
        "x5 = s_rand_combined_df.iloc[:,108:115]\n",
        "\n",
        "x_100_frames = [x1, x2, x3, x4, x5]\n",
        "\n",
        "X = pd.concat(x_100_frames, axis=1)\n",
        "\n",
        "Y = s_rand_combined_df['label'].values\n",
        "\n",
        "X_train, X_test, Y_train, Y_test = train_test_split(X, Y, test_size=0.3, random_state=1)\n",
        "\n",
        "dt = DecisionTreeClassifier()\n",
        "\n",
        "dt = dt.fit(X_train,Y_train)\n",
        "\n",
        "Y_pred = dt.predict(X_test)\n",
        "\n",
        "dt_acc = dt.score(X_test, Y_test)\n",
        "dt_acc"
      ],
      "execution_count": 0,
      "outputs": [
        {
          "output_type": "execute_result",
          "data": {
            "text/plain": [
              "0.9996696243156503"
            ]
          },
          "metadata": {
            "tags": []
          },
          "execution_count": 21
        }
      ]
    },
    {
      "cell_type": "markdown",
      "metadata": {
        "id": "0BIUi-7tPq3j",
        "colab_type": "text"
      },
      "source": [
        "## 500 ms"
      ]
    },
    {
      "cell_type": "code",
      "metadata": {
        "id": "ce64t9o5Ps2I",
        "colab_type": "code",
        "outputId": "8c67a993-f705-442d-9de3-58ad81353195",
        "colab": {
          "base_uri": "https://localhost:8080/",
          "height": 34
        }
      },
      "source": [
        "x1 = s_rand_combined_df.iloc[:,9:12]\n",
        "x2 = s_rand_combined_df.iloc[:,24:27]\n",
        "x3 = s_rand_combined_df.iloc[:,51:58]\n",
        "x4 = s_rand_combined_df.iloc[:,74:77]\n",
        "x5 = s_rand_combined_df.iloc[:,101:108]\n",
        "\n",
        "x_500_frames = [x1, x2, x3, x4, x5]\n",
        "\n",
        "X = pd.concat(x_100_frames, axis=1)\n",
        "\n",
        "Y = s_rand_combined_df['label'].values\n",
        "\n",
        "X_train, X_test, Y_train, Y_test = train_test_split(X, Y, test_size=0.3, random_state=1)\n",
        "\n",
        "dt = DecisionTreeClassifier()\n",
        "\n",
        "dt = dt.fit(X_train,Y_train)\n",
        "\n",
        "Y_pred = dt.predict(X_test)\n",
        "\n",
        "dt_acc = dt.score(X_test, Y_test)\n",
        "dt_acc"
      ],
      "execution_count": 0,
      "outputs": [
        {
          "output_type": "execute_result",
          "data": {
            "text/plain": [
              "0.9996224277893148"
            ]
          },
          "metadata": {
            "tags": []
          },
          "execution_count": 22
        }
      ]
    },
    {
      "cell_type": "markdown",
      "metadata": {
        "id": "E9wZh1ifPtOl",
        "colab_type": "text"
      },
      "source": [
        "## 1.5 sec"
      ]
    },
    {
      "cell_type": "code",
      "metadata": {
        "id": "Da2W8aJqPu5o",
        "colab_type": "code",
        "outputId": "f5d5b3ba-d520-48d2-dce3-8240388a11c4",
        "colab": {
          "base_uri": "https://localhost:8080/",
          "height": 34
        }
      },
      "source": [
        "x1 = s_rand_combined_df.iloc[:,6:9]\n",
        "x2 = s_rand_combined_df.iloc[:,21:24]\n",
        "x3 = s_rand_combined_df.iloc[:,44:51]\n",
        "x4 = s_rand_combined_df.iloc[:,71:74]\n",
        "x5 = s_rand_combined_df.iloc[:,94:101]\n",
        "\n",
        "x_15_frames = [x1, x2, x3, x4, x5]\n",
        "\n",
        "X = pd.concat(x_100_frames, axis=1)\n",
        "\n",
        "Y = s_rand_combined_df['label'].values\n",
        "\n",
        "X_train, X_test, Y_train, Y_test = train_test_split(X, Y, test_size=0.3, random_state=1)\n",
        "\n",
        "dt = DecisionTreeClassifier()\n",
        "\n",
        "dt = dt.fit(X_train,Y_train)\n",
        "\n",
        "Y_pred = dt.predict(X_test)\n",
        "\n",
        "dt_acc = dt.score(X_test, Y_test)\n",
        "dt_acc"
      ],
      "execution_count": 0,
      "outputs": [
        {
          "output_type": "execute_result",
          "data": {
            "text/plain": [
              "0.9996696243156503"
            ]
          },
          "metadata": {
            "tags": []
          },
          "execution_count": 23
        }
      ]
    },
    {
      "cell_type": "markdown",
      "metadata": {
        "id": "2LyozZJkPvPR",
        "colab_type": "text"
      },
      "source": [
        "## 10 sec"
      ]
    },
    {
      "cell_type": "code",
      "metadata": {
        "id": "RR9gK1S5PxPb",
        "colab_type": "code",
        "outputId": "e57285e4-2f8c-42d5-c021-ad474e61c66b",
        "colab": {
          "base_uri": "https://localhost:8080/",
          "height": 34
        }
      },
      "source": [
        "x1 = s_rand_combined_df.iloc[:,3:6]\n",
        "x2 = s_rand_combined_df.iloc[:,18:21]\n",
        "x3 = s_rand_combined_df.iloc[:,37:44]\n",
        "x4 = s_rand_combined_df.iloc[:,68:71]\n",
        "x5 = s_rand_combined_df.iloc[:,87:94]\n",
        "\n",
        "x_10_frames = [x1, x2, x3, x4, x5]\n",
        "\n",
        "X = pd.concat(x_100_frames, axis=1)\n",
        "\n",
        "Y = s_rand_combined_df['label'].values\n",
        "\n",
        "X_train, X_test, Y_train, Y_test = train_test_split(X, Y, test_size=0.3, random_state=1)\n",
        "\n",
        "dt = DecisionTreeClassifier()\n",
        "\n",
        "dt = dt.fit(X_train,Y_train)\n",
        "\n",
        "Y_pred = dt.predict(X_test)\n",
        "\n",
        "dt_acc = dt.score(X_test, Y_test)\n",
        "dt_acc"
      ],
      "execution_count": 0,
      "outputs": [
        {
          "output_type": "execute_result",
          "data": {
            "text/plain": [
              "0.9996224277893148"
            ]
          },
          "metadata": {
            "tags": []
          },
          "execution_count": 24
        }
      ]
    },
    {
      "cell_type": "markdown",
      "metadata": {
        "id": "-HD7VyNYPxuI",
        "colab_type": "text"
      },
      "source": [
        "## 1 min"
      ]
    },
    {
      "cell_type": "code",
      "metadata": {
        "id": "XOgiQPZDP06C",
        "colab_type": "code",
        "outputId": "5f818886-4b34-41cc-839e-0298b9e5536c",
        "colab": {
          "base_uri": "https://localhost:8080/",
          "height": 34
        }
      },
      "source": [
        "x1 = s_rand_combined_df.columns[0:3]\n",
        "x2 = s_rand_combined_df.columns[15:18]\n",
        "x3 = s_rand_combined_df.columns[30:37]\n",
        "x4 = s_rand_combined_df.columns[65:68]\n",
        "x5 = s_rand_combined_df.columns[80:87]\n",
        "\n",
        "x_1_frames = [x1, x2, x3, x4, x5]\n",
        "\n",
        "X = pd.concat(x_100_frames, axis=1)\n",
        "\n",
        "Y = s_rand_combined_df['label'].values\n",
        "\n",
        "X_train, X_test, Y_train, Y_test = train_test_split(X, Y, test_size=0.3, random_state=1)\n",
        "\n",
        "dt = DecisionTreeClassifier()\n",
        "\n",
        "dt = dt.fit(X_train,Y_train)\n",
        "\n",
        "Y_pred = dt.predict(X_test)\n",
        "\n",
        "dt_acc = dt.score(X_test, Y_test)\n",
        "dt_acc"
      ],
      "execution_count": 0,
      "outputs": [
        {
          "output_type": "execute_result",
          "data": {
            "text/plain": [
              "0.9996224277893148"
            ]
          },
          "metadata": {
            "tags": []
          },
          "execution_count": 25
        }
      ]
    },
    {
      "cell_type": "markdown",
      "metadata": {
        "id": "OgN5tHqLP4X3",
        "colab_type": "text"
      },
      "source": [
        "# Device-Based Modeling"
      ]
    },
    {
      "cell_type": "code",
      "metadata": {
        "id": "izqHzEh5QDqF",
        "colab_type": "code",
        "colab": {}
      },
      "source": [
        ""
      ],
      "execution_count": 0,
      "outputs": []
    },
    {
      "cell_type": "markdown",
      "metadata": {
        "id": "VD79QDlVQETA",
        "colab_type": "text"
      },
      "source": [
        "# Balanced Vs Skewed"
      ]
    },
    {
      "cell_type": "markdown",
      "metadata": {
        "id": "VKXZEkAil6_G",
        "colab_type": "text"
      },
      "source": [
        "## Unbalanced: Skewed to Normal"
      ]
    },
    {
      "cell_type": "code",
      "metadata": {
        "id": "dte7_B6Zl3Ad",
        "colab_type": "code",
        "colab": {}
      },
      "source": [
        "#Numbers taken from the specificatioons in the paper\n",
        "\n",
        "unb_benign_df = full_benign_df.sample(n=49683)\n",
        "unb_mirai_df = full_mirai_df.sample(n=2870)\n",
        "unb_bashlite_df = full_bashlite_df.sample(n=2798)\n",
        "\n",
        "unb_benign_df = unb_benign_df.drop(columns=['Unnamed: 0'])\n",
        "unb_mirai_df = unb_mirai_df.drop(columns=['Unnamed: 0'])\n",
        "unb_bashlite_df = unb_bashlite_df.drop(columns=['Unnamed: 0'])\n",
        "\n",
        "unb_benign_df['label'] = 0\n",
        "\n",
        "unb_mirai_df['label'] = 1\n",
        "\n",
        "unb_bashlite_df['label'] = 2\n",
        "\n",
        "frames = [unb_benign_df, unb_mirai_df, unb_bashlite_df]\n",
        "unb_combined_df = pd.concat(frames)\n",
        "\n",
        "unb1_rand_combined_df = unb_combined_df.sample(frac=1).reset_index(drop=True)\n"
      ],
      "execution_count": 0,
      "outputs": []
    },
    {
      "cell_type": "code",
      "metadata": {
        "id": "QBRGx94QqWJ6",
        "colab_type": "code",
        "outputId": "2f765e18-f472-474d-d571-6f2814079e9d",
        "colab": {
          "base_uri": "https://localhost:8080/",
          "height": 34
        }
      },
      "source": [
        "X = unb1_rand_combined_df[['H_L5_mean', 'MI_dir_L5_mean', 'MI_dir_L3_mean']].copy()\n",
        "\n",
        "Y = unb1_rand_combined_df['label'].values\n",
        "\n",
        "X_train, X_test, Y_train, Y_test = train_test_split(X, Y, test_size=0.3, random_state=1)\n",
        "\n",
        "dt = DecisionTreeClassifier()\n",
        "\n",
        "dt = dt.fit(X_train,Y_train)\n",
        "\n",
        "Y_pred = dt.predict(X_test)\n",
        "\n",
        "dt_acc = dt.score(X_test, Y_test)\n",
        "dt_acc"
      ],
      "execution_count": 0,
      "outputs": [
        {
          "output_type": "execute_result",
          "data": {
            "text/plain": [
              "0.941948693243406"
            ]
          },
          "metadata": {
            "tags": []
          },
          "execution_count": 35
        }
      ]
    },
    {
      "cell_type": "markdown",
      "metadata": {
        "id": "dAi4aW6ol_5r",
        "colab_type": "text"
      },
      "source": [
        "## Unbalanced: Skewed to Attacks"
      ]
    },
    {
      "cell_type": "code",
      "metadata": {
        "id": "vkbt-tO7mEnw",
        "colab_type": "code",
        "colab": {}
      },
      "source": [
        "#Numbers taken from the specificatioons in the paper\n",
        "\n",
        "unb_benign_df = full_benign_df.sample(n=5025)\n",
        "unb_mirai_df = full_mirai_df.sample(n=29351)\n",
        "unb_bashlite_df = full_bashlite_df.sample(n=28382)\n",
        "\n",
        "unb_benign_df = unb_benign_df.drop(columns=['Unnamed: 0'])\n",
        "unb_mirai_df = unb_mirai_df.drop(columns=['Unnamed: 0'])\n",
        "unb_bashlite_df = unb_bashlite_df.drop(columns=['Unnamed: 0'])\n",
        "\n",
        "unb_benign_df['label'] = 0\n",
        "\n",
        "unb_mirai_df['label'] = 1\n",
        "\n",
        "unb_bashlite_df['label'] = 2\n",
        "\n",
        "frames = [unb_benign_df, unb_mirai_df, unb_bashlite_df]\n",
        "unb_combined_df = pd.concat(frames)\n",
        "\n",
        "unb2_rand_combined_df = unb_combined_df.sample(frac=1).reset_index(drop=True)"
      ],
      "execution_count": 0,
      "outputs": []
    },
    {
      "cell_type": "code",
      "metadata": {
        "id": "ntxCNpf0rgTa",
        "colab_type": "code",
        "outputId": "c5cf85bf-99a2-4513-b91a-952f481052ad",
        "colab": {
          "base_uri": "https://localhost:8080/",
          "height": 34
        }
      },
      "source": [
        "X = unb1_rand_combined_df[['H_L5_mean', 'MI_dir_L5_mean', 'MI_dir_L3_mean']].copy()\n",
        "\n",
        "Y = unb1_rand_combined_df['label'].values\n",
        "\n",
        "X_train, X_test, Y_train, Y_test = train_test_split(X, Y, test_size=0.3, random_state=1)\n",
        "\n",
        "dt = DecisionTreeClassifier()\n",
        "\n",
        "dt = dt.fit(X_train,Y_train)\n",
        "\n",
        "Y_pred = dt.predict(X_test)\n",
        "\n",
        "dt_acc = dt.score(X_test, Y_test)\n",
        "dt_acc"
      ],
      "execution_count": 0,
      "outputs": [
        {
          "output_type": "execute_result",
          "data": {
            "text/plain": [
              "0.942370227628568"
            ]
          },
          "metadata": {
            "tags": []
          },
          "execution_count": 37
        }
      ]
    },
    {
      "cell_type": "markdown",
      "metadata": {
        "id": "4ewvHATQmE1H",
        "colab_type": "text"
      },
      "source": [
        "## Balanced"
      ]
    },
    {
      "cell_type": "code",
      "metadata": {
        "id": "XohDxU8smHUa",
        "colab_type": "code",
        "colab": {}
      },
      "source": [
        "#Numbers taken from the specificatioons in the paper\n",
        "\n",
        "unb_benign_df = full_benign_df.sample(n=4000)\n",
        "unb_mirai_df = full_mirai_df.sample(n=4000)\n",
        "unb_bashlite_df = full_bashlite_df.sample(n=4000)\n",
        "\n",
        "unb_benign_df = unb_benign_df.drop(columns=['Unnamed: 0'])\n",
        "unb_mirai_df = unb_mirai_df.drop(columns=['Unnamed: 0'])\n",
        "unb_bashlite_df = unb_bashlite_df.drop(columns=['Unnamed: 0'])\n",
        "\n",
        "unb_benign_df['label'] = 0\n",
        "\n",
        "unb_mirai_df['label'] = 1\n",
        "\n",
        "unb_bashlite_df['label'] = 2\n",
        "\n",
        "frames = [unb_benign_df, unb_mirai_df, unb_bashlite_df]\n",
        "unb_combined_df = pd.concat(frames)\n",
        "\n",
        "unb2_rand_combined_df = unb_combined_df.sample(frac=1).reset_index(drop=True)"
      ],
      "execution_count": 0,
      "outputs": []
    },
    {
      "cell_type": "code",
      "metadata": {
        "id": "XUs9j_9Brtnk",
        "colab_type": "code",
        "outputId": "7b4994c6-4be2-4471-bccc-01960273c397",
        "colab": {
          "base_uri": "https://localhost:8080/",
          "height": 34
        }
      },
      "source": [
        "X = unb1_rand_combined_df[['H_L5_mean', 'MI_dir_L5_mean', 'MI_dir_L3_mean']].copy()\n",
        "\n",
        "Y = unb1_rand_combined_df['label'].values\n",
        "\n",
        "X_train, X_test, Y_train, Y_test = train_test_split(X, Y, test_size=0.3, random_state=1)\n",
        "\n",
        "dt = DecisionTreeClassifier()\n",
        "\n",
        "dt = dt.fit(X_train,Y_train)\n",
        "\n",
        "Y_pred = dt.predict(X_test)\n",
        "\n",
        "dt_acc = dt.score(X_test, Y_test)\n",
        "dt_acc"
      ],
      "execution_count": 0,
      "outputs": [
        {
          "output_type": "execute_result",
          "data": {
            "text/plain": [
              "0.9423100084306877"
            ]
          },
          "metadata": {
            "tags": []
          },
          "execution_count": 39
        }
      ]
    }
  ]
}