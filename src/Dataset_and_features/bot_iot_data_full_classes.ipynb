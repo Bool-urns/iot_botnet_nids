{
  "nbformat": 4,
  "nbformat_minor": 0,
  "metadata": {
    "colab": {
      "name": "bot_iot_data_full_classes.ipynb",
      "version": "0.3.2",
      "provenance": []
    },
    "kernelspec": {
      "name": "python3",
      "display_name": "Python 3"
    }
  },
  "cells": [
    {
      "cell_type": "markdown",
      "metadata": {
        "id": "OE7e2muYl48J",
        "colab_type": "text"
      },
      "source": [
        "# Loading all parts of Dataset"
      ]
    },
    {
      "cell_type": "code",
      "metadata": {
        "id": "B-I4d1HQGcv7",
        "colab_type": "code",
        "colab": {}
      },
      "source": [
        "# data analysis packages\n",
        "import pandas as pd\n",
        "import numpy as np"
      ],
      "execution_count": 0,
      "outputs": []
    },
    {
      "cell_type": "code",
      "metadata": {
        "id": "V25HiJFtGkZ5",
        "colab_type": "code",
        "outputId": "1cfcbe8b-b1af-44a2-c6ee-3e73634e55df",
        "colab": {
          "base_uri": "https://localhost:8080/",
          "height": 34
        }
      },
      "source": [
        "from google.colab import drive\n",
        "drive.mount('/content/drive/')\n",
        "\n",
        "import os\n",
        "os.chdir(\"/content/drive/My Drive/Colab Notebooks/unsw_2018_IoT_botnet_all_feat\") #/EdgeML/tf/sampled_dataset - Colab Notebooks/unsw_2018_IoT_botnet_all_feat"
      ],
      "execution_count": 0,
      "outputs": [
        {
          "output_type": "stream",
          "text": [
            "Drive already mounted at /content/drive/; to attempt to forcibly remount, call drive.mount(\"/content/drive/\", force_remount=True).\n"
          ],
          "name": "stdout"
        }
      ]
    },
    {
      "cell_type": "code",
      "metadata": {
        "id": "5puqX_vgGzAX",
        "colab_type": "code",
        "outputId": "2de7f32e-d9b2-442b-efdc-85c3fa203dcb",
        "colab": {
          "base_uri": "https://localhost:8080/",
          "height": 69
        }
      },
      "source": [
        "full_path1 = './UNSW_2018_IoT_Botnet_Full5pc_1.csv'\n",
        "\n",
        "full_df1 = pd.read_csv(full_path1)\n",
        "full_df1.shape"
      ],
      "execution_count": 0,
      "outputs": [
        {
          "output_type": "stream",
          "text": [
            "/usr/local/lib/python3.6/dist-packages/IPython/core/interactiveshell.py:2718: DtypeWarning: Columns (7,9) have mixed types. Specify dtype option on import or set low_memory=False.\n",
            "  interactivity=interactivity, compiler=compiler, result=result)\n"
          ],
          "name": "stderr"
        },
        {
          "output_type": "execute_result",
          "data": {
            "text/plain": [
              "(1000000, 46)"
            ]
          },
          "metadata": {
            "tags": []
          },
          "execution_count": 3
        }
      ]
    },
    {
      "cell_type": "code",
      "metadata": {
        "id": "fQMaWABVG0fy",
        "colab_type": "code",
        "outputId": "73416efd-8dd5-4404-f138-fd46c1ed5b59",
        "colab": {
          "base_uri": "https://localhost:8080/",
          "height": 69
        }
      },
      "source": [
        "full_path2 = './UNSW_2018_IoT_Botnet_Full5pc_2.csv'\n",
        "\n",
        "full_df2 = pd.read_csv(full_path2)\n",
        "full_df2.shape"
      ],
      "execution_count": 0,
      "outputs": [
        {
          "output_type": "stream",
          "text": [
            "/usr/local/lib/python3.6/dist-packages/IPython/core/interactiveshell.py:2718: DtypeWarning: Columns (7,9) have mixed types. Specify dtype option on import or set low_memory=False.\n",
            "  interactivity=interactivity, compiler=compiler, result=result)\n"
          ],
          "name": "stderr"
        },
        {
          "output_type": "execute_result",
          "data": {
            "text/plain": [
              "(1000000, 46)"
            ]
          },
          "metadata": {
            "tags": []
          },
          "execution_count": 4
        }
      ]
    },
    {
      "cell_type": "code",
      "metadata": {
        "id": "e02TL_2PG1FA",
        "colab_type": "code",
        "outputId": "b12020de-5724-42c2-dba7-877c0d1b1b93",
        "colab": {
          "base_uri": "https://localhost:8080/",
          "height": 69
        }
      },
      "source": [
        "full_path3 = './UNSW_2018_IoT_Botnet_Full5pc_3.csv'\n",
        "\n",
        "full_df3 = pd.read_csv(full_path3)\n",
        "full_df3.shape"
      ],
      "execution_count": 0,
      "outputs": [
        {
          "output_type": "stream",
          "text": [
            "/usr/local/lib/python3.6/dist-packages/IPython/core/interactiveshell.py:2718: DtypeWarning: Columns (7,9) have mixed types. Specify dtype option on import or set low_memory=False.\n",
            "  interactivity=interactivity, compiler=compiler, result=result)\n"
          ],
          "name": "stderr"
        },
        {
          "output_type": "execute_result",
          "data": {
            "text/plain": [
              "(1000000, 46)"
            ]
          },
          "metadata": {
            "tags": []
          },
          "execution_count": 5
        }
      ]
    },
    {
      "cell_type": "code",
      "metadata": {
        "id": "YosAtzCiG2uD",
        "colab_type": "code",
        "outputId": "1bad15f1-db73-4bc9-bd10-a64190ddc00e",
        "colab": {
          "base_uri": "https://localhost:8080/",
          "height": 69
        }
      },
      "source": [
        "full_path4 = './UNSW_2018_IoT_Botnet_Full5pc_4.csv'\n",
        "\n",
        "full_df4 = pd.read_csv(full_path4)\n",
        "full_df4.shape"
      ],
      "execution_count": 0,
      "outputs": [
        {
          "output_type": "stream",
          "text": [
            "/usr/local/lib/python3.6/dist-packages/IPython/core/interactiveshell.py:2718: DtypeWarning: Columns (7,9) have mixed types. Specify dtype option on import or set low_memory=False.\n",
            "  interactivity=interactivity, compiler=compiler, result=result)\n"
          ],
          "name": "stderr"
        },
        {
          "output_type": "execute_result",
          "data": {
            "text/plain": [
              "(668522, 46)"
            ]
          },
          "metadata": {
            "tags": []
          },
          "execution_count": 6
        }
      ]
    },
    {
      "cell_type": "code",
      "metadata": {
        "id": "eHAELWUoG5C0",
        "colab_type": "code",
        "colab": {}
      },
      "source": [
        "#concatinating all datasets into one large one\n",
        "frames = [full_df1, full_df2, full_df3, full_df4]\n",
        "combined_df = pd.concat(frames)\n",
        "\n",
        "#sampling now done in next notebook\n",
        "#combined_df = combined_df.sample(frac =.50)"
      ],
      "execution_count": 0,
      "outputs": []
    },
    {
      "cell_type": "markdown",
      "metadata": {
        "id": "8oDs-byXljbS",
        "colab_type": "text"
      },
      "source": [
        "# Adding all 11 Classes as Label\n"
      ]
    },
    {
      "cell_type": "code",
      "metadata": {
        "id": "BSY57lHtG7pb",
        "colab_type": "code",
        "outputId": "a5198ed7-0922-499c-8df3-0ed0bd5f412a",
        "colab": {
          "base_uri": "https://localhost:8080/",
          "height": 34
        }
      },
      "source": [
        "combined_df['category'].unique()"
      ],
      "execution_count": 0,
      "outputs": [
        {
          "output_type": "execute_result",
          "data": {
            "text/plain": [
              "array(['DoS', 'DDoS', 'Normal', 'Reconnaissance', 'Theft'], dtype=object)"
            ]
          },
          "metadata": {
            "tags": []
          },
          "execution_count": 8
        }
      ]
    },
    {
      "cell_type": "code",
      "metadata": {
        "id": "DcMEhMSLHyWI",
        "colab_type": "code",
        "outputId": "d9914f3b-707f-47cb-8cd0-debc2599f540",
        "colab": {
          "base_uri": "https://localhost:8080/",
          "height": 52
        }
      },
      "source": [
        "combined_df['subcategory'].unique()"
      ],
      "execution_count": 0,
      "outputs": [
        {
          "output_type": "execute_result",
          "data": {
            "text/plain": [
              "array(['HTTP', 'TCP', 'UDP', 'Normal', 'OS_Fingerprint', 'Service_Scan',\n",
              "       'Data_Exfiltration', 'Keylogging'], dtype=object)"
            ]
          },
          "metadata": {
            "tags": []
          },
          "execution_count": 9
        }
      ]
    },
    {
      "cell_type": "code",
      "metadata": {
        "id": "vxbCwsPQH6Bp",
        "colab_type": "code",
        "outputId": "9bd5eeb6-c242-427f-a559-901111797e24",
        "colab": {
          "base_uri": "https://localhost:8080/",
          "height": 121
        }
      },
      "source": [
        "rec = combined_df[combined_df['category'] == 'Reconnaissance']\n",
        "\n",
        "rec_ss_df = rec[rec['subcategory'] == 'Service_Scan']\n",
        "\n",
        "rec_ss_df['subcategory_number'] = 1"
      ],
      "execution_count": 0,
      "outputs": [
        {
          "output_type": "stream",
          "text": [
            "/usr/local/lib/python3.6/dist-packages/ipykernel_launcher.py:5: SettingWithCopyWarning: \n",
            "A value is trying to be set on a copy of a slice from a DataFrame.\n",
            "Try using .loc[row_indexer,col_indexer] = value instead\n",
            "\n",
            "See the caveats in the documentation: http://pandas.pydata.org/pandas-docs/stable/indexing.html#indexing-view-versus-copy\n",
            "  \"\"\"\n"
          ],
          "name": "stderr"
        }
      ]
    },
    {
      "cell_type": "code",
      "metadata": {
        "id": "AWJxRFzOH8CX",
        "colab_type": "code",
        "outputId": "b6bb2f61-801d-403c-feb8-f4aa2e35bac4",
        "colab": {
          "base_uri": "https://localhost:8080/",
          "height": 121
        }
      },
      "source": [
        "rec_osf_df = rec[rec['subcategory'] == 'OS_Fingerprint']\n",
        "\n",
        "rec_osf_df['subcategory_number'] = 2"
      ],
      "execution_count": 0,
      "outputs": [
        {
          "output_type": "stream",
          "text": [
            "/usr/local/lib/python3.6/dist-packages/ipykernel_launcher.py:3: SettingWithCopyWarning: \n",
            "A value is trying to be set on a copy of a slice from a DataFrame.\n",
            "Try using .loc[row_indexer,col_indexer] = value instead\n",
            "\n",
            "See the caveats in the documentation: http://pandas.pydata.org/pandas-docs/stable/indexing.html#indexing-view-versus-copy\n",
            "  This is separate from the ipykernel package so we can avoid doing imports until\n"
          ],
          "name": "stderr"
        }
      ]
    },
    {
      "cell_type": "code",
      "metadata": {
        "id": "SAbWp5t3ItQt",
        "colab_type": "code",
        "outputId": "5207ce82-1fa6-41ac-a764-592c8db595e6",
        "colab": {
          "base_uri": "https://localhost:8080/",
          "height": 121
        }
      },
      "source": [
        "ddos = combined_df[combined_df['category'] == 'DDoS']\n",
        "\n",
        "ddos_tcp_df = ddos[ddos['subcategory'] == 'TCP']\n",
        "\n",
        "ddos_tcp_df['subcategory_number'] = 3"
      ],
      "execution_count": 0,
      "outputs": [
        {
          "output_type": "stream",
          "text": [
            "/usr/local/lib/python3.6/dist-packages/ipykernel_launcher.py:5: SettingWithCopyWarning: \n",
            "A value is trying to be set on a copy of a slice from a DataFrame.\n",
            "Try using .loc[row_indexer,col_indexer] = value instead\n",
            "\n",
            "See the caveats in the documentation: http://pandas.pydata.org/pandas-docs/stable/indexing.html#indexing-view-versus-copy\n",
            "  \"\"\"\n"
          ],
          "name": "stderr"
        }
      ]
    },
    {
      "cell_type": "code",
      "metadata": {
        "id": "RfmmtvXPIvfN",
        "colab_type": "code",
        "outputId": "42ccc383-1854-4aac-84fc-3f3466b2eef2",
        "colab": {
          "base_uri": "https://localhost:8080/",
          "height": 121
        }
      },
      "source": [
        "ddos_udp_df = ddos[ddos['subcategory'] == 'UDP']\n",
        "\n",
        "ddos_udp_df['subcategory_number'] = 4"
      ],
      "execution_count": 0,
      "outputs": [
        {
          "output_type": "stream",
          "text": [
            "/usr/local/lib/python3.6/dist-packages/ipykernel_launcher.py:3: SettingWithCopyWarning: \n",
            "A value is trying to be set on a copy of a slice from a DataFrame.\n",
            "Try using .loc[row_indexer,col_indexer] = value instead\n",
            "\n",
            "See the caveats in the documentation: http://pandas.pydata.org/pandas-docs/stable/indexing.html#indexing-view-versus-copy\n",
            "  This is separate from the ipykernel package so we can avoid doing imports until\n"
          ],
          "name": "stderr"
        }
      ]
    },
    {
      "cell_type": "code",
      "metadata": {
        "id": "4M1vc9-6I3fv",
        "colab_type": "code",
        "outputId": "0ac0598d-92e8-4cb0-9c1e-0adfbf8636f7",
        "colab": {
          "base_uri": "https://localhost:8080/",
          "height": 121
        }
      },
      "source": [
        "ddos_http_df = ddos[ddos['subcategory'] == 'HTTP']\n",
        "\n",
        "ddos_http_df['subcategory_number'] = 5"
      ],
      "execution_count": 0,
      "outputs": [
        {
          "output_type": "stream",
          "text": [
            "/usr/local/lib/python3.6/dist-packages/ipykernel_launcher.py:3: SettingWithCopyWarning: \n",
            "A value is trying to be set on a copy of a slice from a DataFrame.\n",
            "Try using .loc[row_indexer,col_indexer] = value instead\n",
            "\n",
            "See the caveats in the documentation: http://pandas.pydata.org/pandas-docs/stable/indexing.html#indexing-view-versus-copy\n",
            "  This is separate from the ipykernel package so we can avoid doing imports until\n"
          ],
          "name": "stderr"
        }
      ]
    },
    {
      "cell_type": "code",
      "metadata": {
        "id": "JHCz_q4kI4Ln",
        "colab_type": "code",
        "outputId": "34492749-3b81-48ff-980d-e75f202396fb",
        "colab": {
          "base_uri": "https://localhost:8080/",
          "height": 121
        }
      },
      "source": [
        "dos = combined_df[combined_df['category'] == 'DoS']\n",
        "\n",
        "dos_tcp_df = dos[dos['subcategory'] == 'TCP']\n",
        "\n",
        "dos_tcp_df['subcategory_number'] = 6\n"
      ],
      "execution_count": 0,
      "outputs": [
        {
          "output_type": "stream",
          "text": [
            "/usr/local/lib/python3.6/dist-packages/ipykernel_launcher.py:5: SettingWithCopyWarning: \n",
            "A value is trying to be set on a copy of a slice from a DataFrame.\n",
            "Try using .loc[row_indexer,col_indexer] = value instead\n",
            "\n",
            "See the caveats in the documentation: http://pandas.pydata.org/pandas-docs/stable/indexing.html#indexing-view-versus-copy\n",
            "  \"\"\"\n"
          ],
          "name": "stderr"
        }
      ]
    },
    {
      "cell_type": "code",
      "metadata": {
        "id": "c2ExRyJfI9WP",
        "colab_type": "code",
        "outputId": "e489ef4f-0b89-4f21-bc3f-6e3e44570d63",
        "colab": {
          "base_uri": "https://localhost:8080/",
          "height": 121
        }
      },
      "source": [
        "dos_udp_df = dos[dos['subcategory'] == 'UDP']\n",
        "\n",
        "dos_udp_df['subcategory_number'] = 7"
      ],
      "execution_count": 0,
      "outputs": [
        {
          "output_type": "stream",
          "text": [
            "/usr/local/lib/python3.6/dist-packages/ipykernel_launcher.py:3: SettingWithCopyWarning: \n",
            "A value is trying to be set on a copy of a slice from a DataFrame.\n",
            "Try using .loc[row_indexer,col_indexer] = value instead\n",
            "\n",
            "See the caveats in the documentation: http://pandas.pydata.org/pandas-docs/stable/indexing.html#indexing-view-versus-copy\n",
            "  This is separate from the ipykernel package so we can avoid doing imports until\n"
          ],
          "name": "stderr"
        }
      ]
    },
    {
      "cell_type": "code",
      "metadata": {
        "id": "UxLcqKd9I_En",
        "colab_type": "code",
        "outputId": "24514767-452d-4b96-95c4-73fae6b2ed21",
        "colab": {
          "base_uri": "https://localhost:8080/",
          "height": 121
        }
      },
      "source": [
        "dos_http_df = dos[dos['subcategory'] == 'HTTP']\n",
        "\n",
        "dos_http_df['subcategory_number'] = 8"
      ],
      "execution_count": 0,
      "outputs": [
        {
          "output_type": "stream",
          "text": [
            "/usr/local/lib/python3.6/dist-packages/ipykernel_launcher.py:3: SettingWithCopyWarning: \n",
            "A value is trying to be set on a copy of a slice from a DataFrame.\n",
            "Try using .loc[row_indexer,col_indexer] = value instead\n",
            "\n",
            "See the caveats in the documentation: http://pandas.pydata.org/pandas-docs/stable/indexing.html#indexing-view-versus-copy\n",
            "  This is separate from the ipykernel package so we can avoid doing imports until\n"
          ],
          "name": "stderr"
        }
      ]
    },
    {
      "cell_type": "code",
      "metadata": {
        "id": "JXbjsf6YJA8N",
        "colab_type": "code",
        "outputId": "132519be-0f72-4005-c842-7627f381dfcd",
        "colab": {
          "base_uri": "https://localhost:8080/",
          "height": 121
        }
      },
      "source": [
        "norm = combined_df[combined_df['subcategory'] == 'Normal']\n",
        "norm['subcategory_number'] = 9"
      ],
      "execution_count": 0,
      "outputs": [
        {
          "output_type": "stream",
          "text": [
            "/usr/local/lib/python3.6/dist-packages/ipykernel_launcher.py:2: SettingWithCopyWarning: \n",
            "A value is trying to be set on a copy of a slice from a DataFrame.\n",
            "Try using .loc[row_indexer,col_indexer] = value instead\n",
            "\n",
            "See the caveats in the documentation: http://pandas.pydata.org/pandas-docs/stable/indexing.html#indexing-view-versus-copy\n",
            "  \n"
          ],
          "name": "stderr"
        }
      ]
    },
    {
      "cell_type": "code",
      "metadata": {
        "id": "PfsMiRfWJDcQ",
        "colab_type": "code",
        "outputId": "fa0a5927-216f-4760-e06c-110059eff5cb",
        "colab": {
          "base_uri": "https://localhost:8080/",
          "height": 121
        }
      },
      "source": [
        "theft = combined_df[combined_df['category'] == 'Theft']\n",
        "\n",
        "theft_key_df = theft[theft['subcategory'] == 'Keylogging']\n",
        "\n",
        "theft_key_df['subcategory_number'] = 10"
      ],
      "execution_count": 0,
      "outputs": [
        {
          "output_type": "stream",
          "text": [
            "/usr/local/lib/python3.6/dist-packages/ipykernel_launcher.py:5: SettingWithCopyWarning: \n",
            "A value is trying to be set on a copy of a slice from a DataFrame.\n",
            "Try using .loc[row_indexer,col_indexer] = value instead\n",
            "\n",
            "See the caveats in the documentation: http://pandas.pydata.org/pandas-docs/stable/indexing.html#indexing-view-versus-copy\n",
            "  \"\"\"\n"
          ],
          "name": "stderr"
        }
      ]
    },
    {
      "cell_type": "code",
      "metadata": {
        "id": "4o4kE7ajJGh3",
        "colab_type": "code",
        "outputId": "0ed70af8-4147-4370-cddd-0d1c1d0e2e68",
        "colab": {
          "base_uri": "https://localhost:8080/",
          "height": 121
        }
      },
      "source": [
        "theft_de_df = theft[theft['subcategory'] == 'Data_Exfiltration']\n",
        "\n",
        "theft_de_df['subcategory_number'] = 11"
      ],
      "execution_count": 0,
      "outputs": [
        {
          "output_type": "stream",
          "text": [
            "/usr/local/lib/python3.6/dist-packages/ipykernel_launcher.py:3: SettingWithCopyWarning: \n",
            "A value is trying to be set on a copy of a slice from a DataFrame.\n",
            "Try using .loc[row_indexer,col_indexer] = value instead\n",
            "\n",
            "See the caveats in the documentation: http://pandas.pydata.org/pandas-docs/stable/indexing.html#indexing-view-versus-copy\n",
            "  This is separate from the ipykernel package so we can avoid doing imports until\n"
          ],
          "name": "stderr"
        }
      ]
    },
    {
      "cell_type": "code",
      "metadata": {
        "id": "GARfHHpWJIrh",
        "colab_type": "code",
        "colab": {}
      },
      "source": [
        "frames3 = [rec_ss_df, rec_osf_df, ddos_tcp_df, ddos_udp_df, ddos_http_df, dos_tcp_df, dos_udp_df, dos_http_df, norm, theft_key_df, theft_de_df]\n",
        "real_df = pd.concat(frames3)"
      ],
      "execution_count": 0,
      "outputs": []
    },
    {
      "cell_type": "code",
      "metadata": {
        "id": "FMexGdysHhMX",
        "colab_type": "code",
        "outputId": "fea18660-d7ab-4f47-9099-16f77ce8f020",
        "colab": {
          "base_uri": "https://localhost:8080/",
          "height": 226
        }
      },
      "source": [
        "real_df.head()"
      ],
      "execution_count": 0,
      "outputs": [
        {
          "output_type": "execute_result",
          "data": {
            "text/html": [
              "<div>\n",
              "<style scoped>\n",
              "    .dataframe tbody tr th:only-of-type {\n",
              "        vertical-align: middle;\n",
              "    }\n",
              "\n",
              "    .dataframe tbody tr th {\n",
              "        vertical-align: top;\n",
              "    }\n",
              "\n",
              "    .dataframe thead th {\n",
              "        text-align: right;\n",
              "    }\n",
              "</style>\n",
              "<table border=\"1\" class=\"dataframe\">\n",
              "  <thead>\n",
              "    <tr style=\"text-align: right;\">\n",
              "      <th></th>\n",
              "      <th>pkSeqID</th>\n",
              "      <th>stime</th>\n",
              "      <th>flgs</th>\n",
              "      <th>flgs_number</th>\n",
              "      <th>proto</th>\n",
              "      <th>proto_number</th>\n",
              "      <th>saddr</th>\n",
              "      <th>sport</th>\n",
              "      <th>daddr</th>\n",
              "      <th>dport</th>\n",
              "      <th>pkts</th>\n",
              "      <th>bytes</th>\n",
              "      <th>state</th>\n",
              "      <th>state_number</th>\n",
              "      <th>ltime</th>\n",
              "      <th>seq</th>\n",
              "      <th>dur</th>\n",
              "      <th>mean</th>\n",
              "      <th>stddev</th>\n",
              "      <th>sum</th>\n",
              "      <th>min</th>\n",
              "      <th>max</th>\n",
              "      <th>spkts</th>\n",
              "      <th>dpkts</th>\n",
              "      <th>sbytes</th>\n",
              "      <th>dbytes</th>\n",
              "      <th>rate</th>\n",
              "      <th>srate</th>\n",
              "      <th>drate</th>\n",
              "      <th>TnBPSrcIP</th>\n",
              "      <th>TnBPDstIP</th>\n",
              "      <th>TnP_PSrcIP</th>\n",
              "      <th>TnP_PDstIP</th>\n",
              "      <th>TnP_PerProto</th>\n",
              "      <th>TnP_Per_Dport</th>\n",
              "      <th>AR_P_Proto_P_SrcIP</th>\n",
              "      <th>AR_P_Proto_P_DstIP</th>\n",
              "      <th>N_IN_Conn_P_DstIP</th>\n",
              "      <th>N_IN_Conn_P_SrcIP</th>\n",
              "      <th>AR_P_Proto_P_Sport</th>\n",
              "      <th>AR_P_Proto_P_Dport</th>\n",
              "      <th>Pkts_P_State_P_Protocol_P_DestIP</th>\n",
              "      <th>Pkts_P_State_P_Protocol_P_SrcIP</th>\n",
              "      <th>attack</th>\n",
              "      <th>category</th>\n",
              "      <th>subcategory</th>\n",
              "      <th>subcategory_number</th>\n",
              "    </tr>\n",
              "  </thead>\n",
              "  <tbody>\n",
              "    <tr>\n",
              "      <th>595275</th>\n",
              "      <td>3595276</td>\n",
              "      <td>1.526344e+09</td>\n",
              "      <td>e</td>\n",
              "      <td>1</td>\n",
              "      <td>tcp</td>\n",
              "      <td>1</td>\n",
              "      <td>192.168.100.150</td>\n",
              "      <td>36663</td>\n",
              "      <td>192.168.100.3</td>\n",
              "      <td>8080</td>\n",
              "      <td>2</td>\n",
              "      <td>120</td>\n",
              "      <td>RST</td>\n",
              "      <td>1</td>\n",
              "      <td>1.526344e+09</td>\n",
              "      <td>108</td>\n",
              "      <td>0.000108</td>\n",
              "      <td>0.000108</td>\n",
              "      <td>0.0</td>\n",
              "      <td>0.000108</td>\n",
              "      <td>0.000108</td>\n",
              "      <td>0.000108</td>\n",
              "      <td>1</td>\n",
              "      <td>1</td>\n",
              "      <td>60</td>\n",
              "      <td>60</td>\n",
              "      <td>9259.258789</td>\n",
              "      <td>0.00000</td>\n",
              "      <td>0.0</td>\n",
              "      <td>12660</td>\n",
              "      <td>12660</td>\n",
              "      <td>211</td>\n",
              "      <td>211</td>\n",
              "      <td>211</td>\n",
              "      <td>2</td>\n",
              "      <td>27009.7</td>\n",
              "      <td>27009.7</td>\n",
              "      <td>100</td>\n",
              "      <td>100</td>\n",
              "      <td>22099.4</td>\n",
              "      <td>18518.5</td>\n",
              "      <td>211</td>\n",
              "      <td>211</td>\n",
              "      <td>1</td>\n",
              "      <td>Reconnaissance</td>\n",
              "      <td>Service_Scan</td>\n",
              "      <td>1</td>\n",
              "    </tr>\n",
              "    <tr>\n",
              "      <th>595276</th>\n",
              "      <td>3595277</td>\n",
              "      <td>1.526344e+09</td>\n",
              "      <td>e</td>\n",
              "      <td>1</td>\n",
              "      <td>tcp</td>\n",
              "      <td>1</td>\n",
              "      <td>192.168.100.150</td>\n",
              "      <td>36663</td>\n",
              "      <td>192.168.100.3</td>\n",
              "      <td>554</td>\n",
              "      <td>2</td>\n",
              "      <td>120</td>\n",
              "      <td>RST</td>\n",
              "      <td>1</td>\n",
              "      <td>1.526344e+09</td>\n",
              "      <td>109</td>\n",
              "      <td>0.000107</td>\n",
              "      <td>0.000107</td>\n",
              "      <td>0.0</td>\n",
              "      <td>0.000107</td>\n",
              "      <td>0.000107</td>\n",
              "      <td>0.000107</td>\n",
              "      <td>1</td>\n",
              "      <td>1</td>\n",
              "      <td>60</td>\n",
              "      <td>60</td>\n",
              "      <td>9345.793945</td>\n",
              "      <td>0.00000</td>\n",
              "      <td>0.0</td>\n",
              "      <td>12660</td>\n",
              "      <td>12660</td>\n",
              "      <td>211</td>\n",
              "      <td>211</td>\n",
              "      <td>211</td>\n",
              "      <td>2</td>\n",
              "      <td>27009.7</td>\n",
              "      <td>27009.7</td>\n",
              "      <td>100</td>\n",
              "      <td>100</td>\n",
              "      <td>22099.4</td>\n",
              "      <td>18691.6</td>\n",
              "      <td>211</td>\n",
              "      <td>211</td>\n",
              "      <td>1</td>\n",
              "      <td>Reconnaissance</td>\n",
              "      <td>Service_Scan</td>\n",
              "      <td>1</td>\n",
              "    </tr>\n",
              "    <tr>\n",
              "      <th>595277</th>\n",
              "      <td>3595278</td>\n",
              "      <td>1.526344e+09</td>\n",
              "      <td>e</td>\n",
              "      <td>1</td>\n",
              "      <td>tcp</td>\n",
              "      <td>1</td>\n",
              "      <td>192.168.100.150</td>\n",
              "      <td>36663</td>\n",
              "      <td>192.168.100.3</td>\n",
              "      <td>80</td>\n",
              "      <td>3</td>\n",
              "      <td>180</td>\n",
              "      <td>RST</td>\n",
              "      <td>1</td>\n",
              "      <td>1.526344e+09</td>\n",
              "      <td>110</td>\n",
              "      <td>0.000220</td>\n",
              "      <td>0.000220</td>\n",
              "      <td>0.0</td>\n",
              "      <td>0.000220</td>\n",
              "      <td>0.000220</td>\n",
              "      <td>0.000220</td>\n",
              "      <td>2</td>\n",
              "      <td>1</td>\n",
              "      <td>120</td>\n",
              "      <td>60</td>\n",
              "      <td>9090.909180</td>\n",
              "      <td>4545.45459</td>\n",
              "      <td>0.0</td>\n",
              "      <td>12660</td>\n",
              "      <td>12660</td>\n",
              "      <td>211</td>\n",
              "      <td>211</td>\n",
              "      <td>211</td>\n",
              "      <td>3</td>\n",
              "      <td>27009.7</td>\n",
              "      <td>27009.7</td>\n",
              "      <td>100</td>\n",
              "      <td>100</td>\n",
              "      <td>22099.4</td>\n",
              "      <td>13636.4</td>\n",
              "      <td>211</td>\n",
              "      <td>211</td>\n",
              "      <td>1</td>\n",
              "      <td>Reconnaissance</td>\n",
              "      <td>Service_Scan</td>\n",
              "      <td>1</td>\n",
              "    </tr>\n",
              "    <tr>\n",
              "      <th>595278</th>\n",
              "      <td>3595279</td>\n",
              "      <td>1.526344e+09</td>\n",
              "      <td>e</td>\n",
              "      <td>1</td>\n",
              "      <td>tcp</td>\n",
              "      <td>1</td>\n",
              "      <td>192.168.100.150</td>\n",
              "      <td>36663</td>\n",
              "      <td>192.168.100.3</td>\n",
              "      <td>443</td>\n",
              "      <td>2</td>\n",
              "      <td>120</td>\n",
              "      <td>RST</td>\n",
              "      <td>1</td>\n",
              "      <td>1.526344e+09</td>\n",
              "      <td>111</td>\n",
              "      <td>0.000131</td>\n",
              "      <td>0.000131</td>\n",
              "      <td>0.0</td>\n",
              "      <td>0.000131</td>\n",
              "      <td>0.000131</td>\n",
              "      <td>0.000131</td>\n",
              "      <td>1</td>\n",
              "      <td>1</td>\n",
              "      <td>60</td>\n",
              "      <td>60</td>\n",
              "      <td>7633.588379</td>\n",
              "      <td>0.00000</td>\n",
              "      <td>0.0</td>\n",
              "      <td>12660</td>\n",
              "      <td>12660</td>\n",
              "      <td>211</td>\n",
              "      <td>211</td>\n",
              "      <td>211</td>\n",
              "      <td>2</td>\n",
              "      <td>27009.7</td>\n",
              "      <td>27009.7</td>\n",
              "      <td>100</td>\n",
              "      <td>100</td>\n",
              "      <td>22099.4</td>\n",
              "      <td>15267.2</td>\n",
              "      <td>211</td>\n",
              "      <td>211</td>\n",
              "      <td>1</td>\n",
              "      <td>Reconnaissance</td>\n",
              "      <td>Service_Scan</td>\n",
              "      <td>1</td>\n",
              "    </tr>\n",
              "    <tr>\n",
              "      <th>595279</th>\n",
              "      <td>3595280</td>\n",
              "      <td>1.526344e+09</td>\n",
              "      <td>e</td>\n",
              "      <td>1</td>\n",
              "      <td>tcp</td>\n",
              "      <td>1</td>\n",
              "      <td>192.168.100.150</td>\n",
              "      <td>36663</td>\n",
              "      <td>192.168.100.3</td>\n",
              "      <td>111</td>\n",
              "      <td>2</td>\n",
              "      <td>120</td>\n",
              "      <td>RST</td>\n",
              "      <td>1</td>\n",
              "      <td>1.526344e+09</td>\n",
              "      <td>112</td>\n",
              "      <td>0.000130</td>\n",
              "      <td>0.000130</td>\n",
              "      <td>0.0</td>\n",
              "      <td>0.000130</td>\n",
              "      <td>0.000130</td>\n",
              "      <td>0.000130</td>\n",
              "      <td>1</td>\n",
              "      <td>1</td>\n",
              "      <td>60</td>\n",
              "      <td>60</td>\n",
              "      <td>7692.307617</td>\n",
              "      <td>0.00000</td>\n",
              "      <td>0.0</td>\n",
              "      <td>12660</td>\n",
              "      <td>12660</td>\n",
              "      <td>211</td>\n",
              "      <td>211</td>\n",
              "      <td>211</td>\n",
              "      <td>2</td>\n",
              "      <td>27009.7</td>\n",
              "      <td>27009.7</td>\n",
              "      <td>100</td>\n",
              "      <td>100</td>\n",
              "      <td>22099.4</td>\n",
              "      <td>15384.6</td>\n",
              "      <td>211</td>\n",
              "      <td>211</td>\n",
              "      <td>1</td>\n",
              "      <td>Reconnaissance</td>\n",
              "      <td>Service_Scan</td>\n",
              "      <td>1</td>\n",
              "    </tr>\n",
              "  </tbody>\n",
              "</table>\n",
              "</div>"
            ],
            "text/plain": [
              "        pkSeqID         stime  ...   subcategory  subcategory_number\n",
              "595275  3595276  1.526344e+09  ...  Service_Scan                   1\n",
              "595276  3595277  1.526344e+09  ...  Service_Scan                   1\n",
              "595277  3595278  1.526344e+09  ...  Service_Scan                   1\n",
              "595278  3595279  1.526344e+09  ...  Service_Scan                   1\n",
              "595279  3595280  1.526344e+09  ...  Service_Scan                   1\n",
              "\n",
              "[5 rows x 47 columns]"
            ]
          },
          "metadata": {
            "tags": []
          },
          "execution_count": 22
        }
      ]
    },
    {
      "cell_type": "markdown",
      "metadata": {
        "id": "LguLZIOAmMA3",
        "colab_type": "text"
      },
      "source": [
        "# Exporting Full Dataset to Drive"
      ]
    },
    {
      "cell_type": "code",
      "metadata": {
        "id": "YIPChD436Fg0",
        "colab_type": "code",
        "colab": {}
      },
      "source": [
        "real_df.to_csv('botiot_12c_100.csv')"
      ],
      "execution_count": 0,
      "outputs": []
    }
  ]
}