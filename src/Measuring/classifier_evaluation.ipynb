{
  "nbformat": 4,
  "nbformat_minor": 0,
  "metadata": {
    "colab": {
      "name": "classifier_evaluation.ipynb",
      "version": "0.3.2",
      "provenance": []
    },
    "kernelspec": {
      "name": "python3",
      "display_name": "Python 3"
    }
  },
  "cells": [
    {
      "cell_type": "code",
      "metadata": {
        "id": "EJQgnYTmdQZ6",
        "colab_type": "code",
        "colab": {}
      },
      "source": [
        "# data analysis packages\n",
        "import pandas as pd\n",
        "import numpy as np"
      ],
      "execution_count": 0,
      "outputs": []
    },
    {
      "cell_type": "code",
      "metadata": {
        "id": "XfWjn2_UfRR4",
        "colab_type": "code",
        "outputId": "3ae2da95-97d8-4c4c-d2e3-0d17b77d936a",
        "colab": {
          "base_uri": "https://localhost:8080/",
          "height": 34
        }
      },
      "source": [
        "from google.colab import drive\n",
        "drive.mount('/content/drive/')\n",
        "\n",
        "import os\n",
        "os.chdir(\"/content/drive/My Drive/Colab Notebooks/classification_ru\")"
      ],
      "execution_count": 0,
      "outputs": [
        {
          "output_type": "stream",
          "text": [
            "Drive already mounted at /content/drive/; to attempt to forcibly remount, call drive.mount(\"/content/drive/\", force_remount=True).\n"
          ],
          "name": "stdout"
        }
      ]
    },
    {
      "cell_type": "markdown",
      "metadata": {
        "id": "kPFkNIY9nR1r",
        "colab_type": "text"
      },
      "source": [
        "# Accruacy vs Model Size"
      ]
    },
    {
      "cell_type": "code",
      "metadata": {
        "id": "upOpTRLCfqRI",
        "colab_type": "code",
        "colab": {}
      },
      "source": [
        "\n",
        "model_data = [['ProtoNN', 68.6389, 18.720, 343.78], ['Bonsai', 93.0884, 18.921, 341.96], ['SFSVC', 78.2082, 344.432, 23.48], ['XGBoost', 99.4826, 518.424, 384.12], ['Random Forest', 99.9071, 33106.391, 62.87]] \n",
        "  \n",
        "# Create the pandas DataFrame \n",
        "df = pd.DataFrame(model_data, columns = ['Model', 'Accuracy', 'Model Size', 'Training Time']) \n",
        "df = df.sort_values(by=['Accuracy'])"
      ],
      "execution_count": 0,
      "outputs": []
    },
    {
      "cell_type": "code",
      "metadata": {
        "id": "Sl_5PTh_ffBn",
        "colab_type": "code",
        "outputId": "3e48e57f-5488-45dd-9a5d-754f561bf117",
        "colab": {
          "base_uri": "https://localhost:8080/",
          "height": 283
        }
      },
      "source": [
        "from matplotlib import pyplot as plt\n",
        "\n",
        "acc = df['Accuracy'].values\n",
        "ms = df['Model Size'].values\n",
        "\n",
        "models = df['Model']\n",
        "\n",
        "fig = plt.figure()\n",
        "ax = fig.add_subplot(111)\n",
        "\n",
        "plt.plot(ms, acc, 'o')\n",
        "for i, txt in enumerate(models):\n",
        "  ax.annotate(txt, (ms[i], acc[i]))\n",
        "\n",
        "plt.ylabel('Accuracy (%)')\n",
        "plt.xlabel('Model Size (KBytes)')\n",
        "plt.grid()\n",
        "plt.show()\n"
      ],
      "execution_count": 0,
      "outputs": [
        {
          "output_type": "display_data",
          "data": {
            "image/png": "[encoded data removed]",
            "text/plain": [
              "<Figure size 432x288 with 1 Axes>"
            ]
          },
          "metadata": {
            "tags": []
          }
        }
      ]
    },
    {
      "cell_type": "code",
      "metadata": {
        "id": "DG8mOuiomXIQ",
        "colab_type": "code",
        "colab": {}
      },
      "source": [
        "model_data = [['ProtoNN', 68.6389, 18.720, 343.78], ['Bonsai', 93.0884, 18.921, 341.96], ['SFSVC', 78.2082, 344.432, 23.48], ['XGBoost', 99.4826, 518.424, 384.12]] \n",
        "  \n",
        "# Create the pandas DataFrame \n",
        "df = pd.DataFrame(model_data, columns = ['Model', 'Accuracy', 'Model Size', 'Training Time']) \n",
        "df = df.sort_values(by=['Model Size'])"
      ],
      "execution_count": 0,
      "outputs": []
    },
    {
      "cell_type": "code",
      "metadata": {
        "id": "p1efCJ9cl_tR",
        "colab_type": "code",
        "outputId": "6f2a6eec-aafc-473c-9f01-1e7efeed64fc",
        "colab": {
          "base_uri": "https://localhost:8080/",
          "height": 283
        }
      },
      "source": [
        "\n",
        "from matplotlib import pyplot as plt\n",
        "\n",
        "acc = df['Accuracy'].values\n",
        "ms = df['Model Size'].values\n",
        "\n",
        "models = df['Model']\n",
        "\n",
        "fig = plt.figure()\n",
        "ax = fig.add_subplot(111)\n",
        "\n",
        "plt.plot(ms, acc)\n",
        "for i, txt in enumerate(models):\n",
        "  ax.annotate(txt, (ms[i], acc[i]))\n",
        "\n",
        "plt.ylabel('Accuracy (%)')\n",
        "plt.xlabel('Model Size (KBytes)')\n",
        "plt.grid()\n",
        "plt.show()"
      ],
      "execution_count": 0,
      "outputs": [
        {
          "output_type": "display_data",
          "data": {
            "image/png": "[encoded data removed]",
            "text/plain": [
              "<Figure size 432x288 with 1 Axes>"
            ]
          },
          "metadata": {
            "tags": []
          }
        }
      ]
    },
    {
      "cell_type": "markdown",
      "metadata": {
        "id": "GnUtkFYTD6p6",
        "colab_type": "text"
      },
      "source": [
        "# Resource Usage"
      ]
    },
    {
      "cell_type": "markdown",
      "metadata": {
        "id": "rkbzW6cEOdI0",
        "colab_type": "text"
      },
      "source": [
        "## CPU Utilisation"
      ]
    },
    {
      "cell_type": "code",
      "metadata": {
        "id": "w4sFZZpyD9ED",
        "colab_type": "code",
        "outputId": "fedca674-9653-45a1-cc85-2c85e3e1717d",
        "colab": {
          "base_uri": "https://localhost:8080/",
          "height": 34
        }
      },
      "source": [
        "full_path = './xgb/1_cpu_usage.csv'\n",
        "\n",
        "df = pd.read_csv(full_path)\n",
        "df.shape"
      ],
      "execution_count": 0,
      "outputs": [
        {
          "output_type": "execute_result",
          "data": {
            "text/plain": [
              "(9, 6)"
            ]
          },
          "metadata": {
            "tags": []
          },
          "execution_count": 55
        }
      ]
    },
    {
      "cell_type": "code",
      "metadata": {
        "id": "b0-zx8ksGx6E",
        "colab_type": "code",
        "colab": {}
      },
      "source": [
        "total_cpu1 = df['total_cpu'].values\n",
        "time_cpu1 = df[' time'].values"
      ],
      "execution_count": 0,
      "outputs": []
    },
    {
      "cell_type": "code",
      "metadata": {
        "colab_type": "code",
        "outputId": "ff1bd8fe-519e-4e8c-edf2-aa35a5ff8e12",
        "id": "EYLw7_lrJsTs",
        "colab": {
          "base_uri": "https://localhost:8080/",
          "height": 34
        }
      },
      "source": [
        "full_path = './xgb/2_cpu_usage.csv'\n",
        "\n",
        "df = pd.read_csv(full_path)\n",
        "df.shape"
      ],
      "execution_count": 0,
      "outputs": [
        {
          "output_type": "execute_result",
          "data": {
            "text/plain": [
              "(9, 6)"
            ]
          },
          "metadata": {
            "tags": []
          },
          "execution_count": 57
        }
      ]
    },
    {
      "cell_type": "code",
      "metadata": {
        "id": "wp07k0acJ487",
        "colab_type": "code",
        "colab": {}
      },
      "source": [
        "total_cpu2 = df['total_cpu'].values\n",
        "time_cpu2 = df[' time'].values"
      ],
      "execution_count": 0,
      "outputs": []
    },
    {
      "cell_type": "code",
      "metadata": {
        "colab_type": "code",
        "outputId": "380c4471-9890-462d-ab19-97ac0559e8cc",
        "id": "S9ho02m0Jsmh",
        "colab": {
          "base_uri": "https://localhost:8080/",
          "height": 34
        }
      },
      "source": [
        "full_path = './xgb/3_cpu_usage.csv'\n",
        "\n",
        "df = pd.read_csv(full_path)\n",
        "df.shape"
      ],
      "execution_count": 0,
      "outputs": [
        {
          "output_type": "execute_result",
          "data": {
            "text/plain": [
              "(9, 6)"
            ]
          },
          "metadata": {
            "tags": []
          },
          "execution_count": 59
        }
      ]
    },
    {
      "cell_type": "code",
      "metadata": {
        "colab_type": "code",
        "id": "d2ki80GKJs8Q",
        "colab": {}
      },
      "source": [
        "total_cpu3 = df['total_cpu'].values\n",
        "time_cpu3 = df[' time'].values"
      ],
      "execution_count": 0,
      "outputs": []
    },
    {
      "cell_type": "code",
      "metadata": {
        "colab_type": "code",
        "outputId": "71968e5a-2534-4d87-cd6d-5bd2e5987afc",
        "id": "mXS-axmjJsxy",
        "colab": {
          "base_uri": "https://localhost:8080/",
          "height": 34
        }
      },
      "source": [
        "full_path = './xgb/4_cpu_usage.csv'\n",
        "\n",
        "df = pd.read_csv(full_path)\n",
        "df.shape"
      ],
      "execution_count": 0,
      "outputs": [
        {
          "output_type": "execute_result",
          "data": {
            "text/plain": [
              "(9, 6)"
            ]
          },
          "metadata": {
            "tags": []
          },
          "execution_count": 61
        }
      ]
    },
    {
      "cell_type": "code",
      "metadata": {
        "colab_type": "code",
        "id": "rp4ZCmBHJsx7",
        "colab": {}
      },
      "source": [
        "total_cpu4 = df['total_cpu'].values\n",
        "time_cpu4 = df[' time'].values"
      ],
      "execution_count": 0,
      "outputs": []
    },
    {
      "cell_type": "code",
      "metadata": {
        "colab_type": "code",
        "outputId": "86525ab7-0eef-41f4-cb5d-23683684c498",
        "id": "p6OiuBhZJs8K",
        "colab": {
          "base_uri": "https://localhost:8080/",
          "height": 34
        }
      },
      "source": [
        "full_path = './xgb/5_cpu_usage.csv'\n",
        "\n",
        "df = pd.read_csv(full_path)\n",
        "df.shape"
      ],
      "execution_count": 0,
      "outputs": [
        {
          "output_type": "execute_result",
          "data": {
            "text/plain": [
              "(9, 6)"
            ]
          },
          "metadata": {
            "tags": []
          },
          "execution_count": 63
        }
      ]
    },
    {
      "cell_type": "code",
      "metadata": {
        "colab_type": "code",
        "id": "eh66QlZiJsUJ",
        "colab": {}
      },
      "source": [
        "total_cpu5 = df['total_cpu'].values\n",
        "time_cpu5 = df[' time'].values"
      ],
      "execution_count": 0,
      "outputs": []
    },
    {
      "cell_type": "code",
      "metadata": {
        "id": "XmveeBx3JWbq",
        "colab_type": "code",
        "outputId": "7638cc9e-ed7a-4d96-f7d6-0778361878ca",
        "colab": {
          "base_uri": "https://localhost:8080/",
          "height": 283
        }
      },
      "source": [
        "from matplotlib import pyplot as plt\n",
        "\n",
        "plt.plot(time_cpu1, total_cpu1)\n",
        "plt.plot(time_cpu2, total_cpu2)\n",
        "plt.plot(time_cpu3, total_cpu3)\n",
        "plt.plot(time_cpu4, total_cpu4)\n",
        "plt.plot(time_cpu5, total_cpu5)\n",
        "\n",
        "plt.ylabel('cpu usage (%)')\n",
        "plt.xlabel('time (s)')\n",
        "plt.show()"
      ],
      "execution_count": 0,
      "outputs": [
        {
          "output_type": "display_data",
          "data": {
            "image/png": "[encoded data removed]",
            "text/plain": [
              "<Figure size 432x288 with 1 Axes>"
            ]
          },
          "metadata": {
            "tags": []
          }
        }
      ]
    },
    {
      "cell_type": "code",
      "metadata": {
        "id": "Ye-CE1yaL5k2",
        "colab_type": "code",
        "outputId": "fd1a7ea9-a30a-4d77-993f-a6bbd6651421",
        "colab": {
          "base_uri": "https://localhost:8080/",
          "height": 34
        }
      },
      "source": [
        "means = np.array([\n",
        "total_cpu1.mean(),\n",
        "total_cpu2.mean(),\n",
        "total_cpu3.mean(),\n",
        "total_cpu4.mean(),\n",
        "total_cpu5.mean()])\n",
        "means.mean()"
      ],
      "execution_count": 0,
      "outputs": [
        {
          "output_type": "execute_result",
          "data": {
            "text/plain": [
              "49.87085333333333"
            ]
          },
          "metadata": {
            "tags": []
          },
          "execution_count": 66
        }
      ]
    },
    {
      "cell_type": "markdown",
      "metadata": {
        "id": "SnlPT_vSOf2t",
        "colab_type": "text"
      },
      "source": [
        "## Memory Utilisation"
      ]
    },
    {
      "cell_type": "code",
      "metadata": {
        "colab_type": "code",
        "outputId": "fb50369d-f5ab-44d1-f410-17e8bf79f390",
        "id": "iJeUUoR-Ojcd",
        "colab": {
          "base_uri": "https://localhost:8080/",
          "height": 34
        }
      },
      "source": [
        "full_path = './rf/1_mem_usage.csv'\n",
        "\n",
        "df = pd.read_csv(full_path)\n",
        "df.shape"
      ],
      "execution_count": 0,
      "outputs": [
        {
          "output_type": "execute_result",
          "data": {
            "text/plain": [
              "(11, 3)"
            ]
          },
          "metadata": {
            "tags": []
          },
          "execution_count": 118
        }
      ]
    },
    {
      "cell_type": "code",
      "metadata": {
        "colab_type": "code",
        "id": "-yXK6l1uOjc3",
        "colab": {}
      },
      "source": [
        "total_mem1 = df['mem_used%'].values\n",
        "time_mem1 = df['time'].values"
      ],
      "execution_count": 0,
      "outputs": []
    },
    {
      "cell_type": "code",
      "metadata": {
        "colab_type": "code",
        "outputId": "aa0c6ffa-b85f-4ca4-f6e6-109955ccac4f",
        "id": "dKnjMyWkOjdC",
        "colab": {
          "base_uri": "https://localhost:8080/",
          "height": 34
        }
      },
      "source": [
        "full_path = './rf/2_mem_usage.csv'\n",
        "\n",
        "df = pd.read_csv(full_path)\n",
        "df.shape"
      ],
      "execution_count": 0,
      "outputs": [
        {
          "output_type": "execute_result",
          "data": {
            "text/plain": [
              "(11, 3)"
            ]
          },
          "metadata": {
            "tags": []
          },
          "execution_count": 120
        }
      ]
    },
    {
      "cell_type": "code",
      "metadata": {
        "colab_type": "code",
        "id": "SSRVGMyHOjdK",
        "colab": {}
      },
      "source": [
        "total_mem2 = df['mem_used%'].values\n",
        "time_mem2 = df['time'].values"
      ],
      "execution_count": 0,
      "outputs": []
    },
    {
      "cell_type": "code",
      "metadata": {
        "colab_type": "code",
        "outputId": "45f3d678-7360-4bc6-8ded-604b640965f4",
        "id": "-0TNADMMOjdQ",
        "colab": {
          "base_uri": "https://localhost:8080/",
          "height": 34
        }
      },
      "source": [
        "full_path = './rf/3_mem_usage.csv'\n",
        "\n",
        "df = pd.read_csv(full_path)\n",
        "df.shape"
      ],
      "execution_count": 0,
      "outputs": [
        {
          "output_type": "execute_result",
          "data": {
            "text/plain": [
              "(12, 3)"
            ]
          },
          "metadata": {
            "tags": []
          },
          "execution_count": 122
        }
      ]
    },
    {
      "cell_type": "code",
      "metadata": {
        "colab_type": "code",
        "id": "MwvhLtzcOjdW",
        "colab": {}
      },
      "source": [
        "total_mem3 = df['mem_used%'].values\n",
        "time_mem3 = df['time'].values"
      ],
      "execution_count": 0,
      "outputs": []
    },
    {
      "cell_type": "code",
      "metadata": {
        "colab_type": "code",
        "outputId": "5bdcc45f-3799-4efd-c116-08a2af332732",
        "id": "kI7NwU_UOjdd",
        "colab": {
          "base_uri": "https://localhost:8080/",
          "height": 34
        }
      },
      "source": [
        "full_path = './rf/4_mem_usage (1).csv'\n",
        "\n",
        "df = pd.read_csv(full_path)\n",
        "df.shape"
      ],
      "execution_count": 0,
      "outputs": [
        {
          "output_type": "execute_result",
          "data": {
            "text/plain": [
              "(12, 3)"
            ]
          },
          "metadata": {
            "tags": []
          },
          "execution_count": 124
        }
      ]
    },
    {
      "cell_type": "code",
      "metadata": {
        "colab_type": "code",
        "id": "n7rALu7zOjdj",
        "colab": {}
      },
      "source": [
        "total_mem4 = df['mem_used%'].values\n",
        "time_mem4 = df['time'].values"
      ],
      "execution_count": 0,
      "outputs": []
    },
    {
      "cell_type": "code",
      "metadata": {
        "colab_type": "code",
        "outputId": "bd196eb0-afec-49ea-e4f5-c888bfcc8dfe",
        "id": "wtoikVxwOjdn",
        "colab": {
          "base_uri": "https://localhost:8080/",
          "height": 34
        }
      },
      "source": [
        "full_path = './rf/5_mem_usage.csv'\n",
        "\n",
        "df = pd.read_csv(full_path)\n",
        "df.shape"
      ],
      "execution_count": 0,
      "outputs": [
        {
          "output_type": "execute_result",
          "data": {
            "text/plain": [
              "(11, 3)"
            ]
          },
          "metadata": {
            "tags": []
          },
          "execution_count": 126
        }
      ]
    },
    {
      "cell_type": "code",
      "metadata": {
        "colab_type": "code",
        "id": "Idr8aV9NOjdu",
        "colab": {}
      },
      "source": [
        "total_mem5 = df['mem_used%'].values\n",
        "time_mem5 = df['time'].values"
      ],
      "execution_count": 0,
      "outputs": []
    },
    {
      "cell_type": "code",
      "metadata": {
        "colab_type": "code",
        "outputId": "a031e9d4-246f-471c-80ab-462524f7d64f",
        "id": "6sWSNE1aOjd0",
        "colab": {
          "base_uri": "https://localhost:8080/",
          "height": 283
        }
      },
      "source": [
        "from matplotlib import pyplot as plt\n",
        "\n",
        "plt.plot(time_mem1, total_mem1)\n",
        "plt.plot(time_mem2, total_mem2)\n",
        "plt.plot(time_mem3, total_mem3)\n",
        "plt.plot(time_mem4, total_mem4)\n",
        "plt.plot(time_mem5, total_mem5)\n",
        "\n",
        "plt.ylabel('Memory usage (%)')\n",
        "plt.xlabel('time (s)')\n",
        "plt.show()"
      ],
      "execution_count": 0,
      "outputs": [
        {
          "output_type": "display_data",
          "data": {
            "image/png": "[encoded data removed]",
            "text/plain": [
              "<Figure size 432x288 with 1 Axes>"
            ]
          },
          "metadata": {
            "tags": []
          }
        }
      ]
    },
    {
      "cell_type": "code",
      "metadata": {
        "colab_type": "code",
        "outputId": "fd6e0e44-4740-4d48-8251-ecbccf26d70b",
        "id": "0J1RT4m-Ojd-",
        "colab": {
          "base_uri": "https://localhost:8080/",
          "height": 34
        }
      },
      "source": [
        "means = np.array([\n",
        "total_mem1.mean(),\n",
        "total_mem2.mean(),\n",
        "total_mem3.mean(),\n",
        "total_mem4.mean(),\n",
        "total_mem5.mean()])\n",
        "means.mean()"
      ],
      "execution_count": 0,
      "outputs": [
        {
          "output_type": "execute_result",
          "data": {
            "text/plain": [
              "26.99420696969697"
            ]
          },
          "metadata": {
            "tags": []
          },
          "execution_count": 129
        }
      ]
    },
    {
      "cell_type": "code",
      "metadata": {
        "id": "ukDLdxVGP3ej",
        "colab_type": "code",
        "outputId": "b831019f-1f87-4650-c6b2-e85f9012e17f",
        "colab": {
          "base_uri": "https://localhost:8080/",
          "height": 34
        }
      },
      "source": [
        "time_mean = np.array([\n",
        "time_mem1.max(),\n",
        "time_mem2.max(),\n",
        "time_mem3.max(),\n",
        "time_mem4.max(),\n",
        "time_mem5.max()])\n",
        "\n",
        "#to account for the two sleep commands in the measurmeent script\n",
        "time_mean.mean() - 6"
      ],
      "execution_count": 0,
      "outputs": [
        {
          "output_type": "execute_result",
          "data": {
            "text/plain": [
              "4.800000000000001"
            ]
          },
          "metadata": {
            "tags": []
          },
          "execution_count": 130
        }
      ]
    },
    {
      "cell_type": "code",
      "metadata": {
        "id": "fztJsFO2RT4c",
        "colab_type": "code",
        "outputId": "b0f01e00-60dd-467b-b717-35ae8d6bdff9",
        "colab": {
          "base_uri": "https://localhost:8080/",
          "height": 69
        }
      },
      "source": [
        "ls rf"
      ],
      "execution_count": 0,
      "outputs": [
        {
          "output_type": "stream",
          "text": [
            " 1_cpu_usage.csv   2_mem_usage.csv   4_cpu_usage.csv        5_mem_usage.csv\n",
            " 1_mem_usage.csv   3_cpu_usage.csv  '4_mem_usage (1).csv'\n",
            " 2_cpu_usage.csv   3_mem_usage.csv   5_cpu_usage.csv\n"
          ],
          "name": "stdout"
        }
      ]
    },
    {
      "cell_type": "markdown",
      "metadata": {
        "id": "9-6jwhdZs69D",
        "colab_type": "text"
      },
      "source": [
        "# Energy Consumption"
      ]
    },
    {
      "cell_type": "code",
      "metadata": {
        "id": "YZtLhxI1s9_T",
        "colab_type": "code",
        "colab": {
          "base_uri": "https://localhost:8080/",
          "height": 34
        },
        "outputId": "bdf4092b-d066-4a44-a34a-c66eefc17a3d"
      },
      "source": [
        "full_path = './ene_xgb/energy_consumption_1.csv'\n",
        "\n",
        "df = pd.read_csv(full_path)\n",
        "df.shape"
      ],
      "execution_count": 152,
      "outputs": [
        {
          "output_type": "execute_result",
          "data": {
            "text/plain": [
              "(29, 7)"
            ]
          },
          "metadata": {
            "tags": []
          },
          "execution_count": 152
        }
      ]
    },
    {
      "cell_type": "code",
      "metadata": {
        "colab_type": "code",
        "id": "LVVsW7CNpazR",
        "colab": {}
      },
      "source": [
        "ene1 = df['Energy()'].values\n",
        "time1 = df['Time(s)'].values"
      ],
      "execution_count": 0,
      "outputs": []
    },
    {
      "cell_type": "code",
      "metadata": {
        "colab_type": "code",
        "outputId": "86f5008d-c090-4593-8388-45aacc5106cf",
        "id": "HfmQPcdMpazb",
        "colab": {
          "base_uri": "https://localhost:8080/",
          "height": 34
        }
      },
      "source": [
        "full_path = './ene_xgb/energy_consumption_2.csv'\n",
        "\n",
        "df = pd.read_csv(full_path)\n",
        "df.shape"
      ],
      "execution_count": 154,
      "outputs": [
        {
          "output_type": "execute_result",
          "data": {
            "text/plain": [
              "(26, 7)"
            ]
          },
          "metadata": {
            "tags": []
          },
          "execution_count": 154
        }
      ]
    },
    {
      "cell_type": "code",
      "metadata": {
        "colab_type": "code",
        "id": "EgpYVTT0pazj",
        "colab": {}
      },
      "source": [
        "ene2 = df['Energy()'].values\n",
        "time2 = df['Time(s)'].values"
      ],
      "execution_count": 0,
      "outputs": []
    },
    {
      "cell_type": "code",
      "metadata": {
        "colab_type": "code",
        "outputId": "12c9661b-a180-4ab8-d715-dd9cf8f3c845",
        "id": "Xm0M0mgSpazp",
        "colab": {
          "base_uri": "https://localhost:8080/",
          "height": 34
        }
      },
      "source": [
        "full_path = './ene_xgb/energy_consumption_3.csv'\n",
        "\n",
        "df = pd.read_csv(full_path)\n",
        "df.shape"
      ],
      "execution_count": 156,
      "outputs": [
        {
          "output_type": "execute_result",
          "data": {
            "text/plain": [
              "(23, 7)"
            ]
          },
          "metadata": {
            "tags": []
          },
          "execution_count": 156
        }
      ]
    },
    {
      "cell_type": "code",
      "metadata": {
        "colab_type": "code",
        "id": "xQLZko5lpazu",
        "colab": {}
      },
      "source": [
        "ene3 = df['Energy()'].values\n",
        "time3 = df['Time(s)'].values"
      ],
      "execution_count": 0,
      "outputs": []
    },
    {
      "cell_type": "code",
      "metadata": {
        "colab_type": "code",
        "outputId": "8099b616-eb0e-4047-feff-5734edccf23c",
        "id": "jxGpHcE0pa0M",
        "colab": {
          "base_uri": "https://localhost:8080/",
          "height": 283
        }
      },
      "source": [
        "from matplotlib import pyplot as plt\n",
        "\n",
        "plt.plot(time1, ene1)\n",
        "plt.plot(time2, ene2)\n",
        "plt.plot(time3, ene3)\n",
        "\n",
        "plt.ylabel('Energy Consumption ()')\n",
        "plt.xlabel('time (s)')\n",
        "plt.show()"
      ],
      "execution_count": 158,
      "outputs": [
        {
          "output_type": "display_data",
          "data": {
            "image/png": "[encoded data removed]",
            "text/plain": [
              "<Figure size 432x288 with 1 Axes>"
            ]
          },
          "metadata": {
            "tags": []
          }
        }
      ]
    },
    {
      "cell_type": "code",
      "metadata": {
        "colab_type": "code",
        "outputId": "4bb97155-63ce-4cb9-ae05-bcdcc64a3f81",
        "id": "MhU2lLptpa0W",
        "colab": {
          "base_uri": "https://localhost:8080/",
          "height": 34
        }
      },
      "source": [
        "means = np.array([\n",
        "ene1.mean(),\n",
        "ene2.mean(),\n",
        "ene3.mean()])\n",
        "means.mean()"
      ],
      "execution_count": 159,
      "outputs": [
        {
          "output_type": "execute_result",
          "data": {
            "text/plain": [
              "18545.643601276282"
            ]
          },
          "metadata": {
            "tags": []
          },
          "execution_count": 159
        }
      ]
    }
  ]
}