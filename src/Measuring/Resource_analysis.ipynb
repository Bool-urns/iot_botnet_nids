{
  "nbformat": 4,
  "nbformat_minor": 0,
  "metadata": {
    "colab": {
      "name": "Resource_analysis.ipynb",
      "version": "0.3.2",
      "provenance": []
    },
    "kernelspec": {
      "name": "python3",
      "display_name": "Python 3"
    }
  },
  "cells": [
    {
      "cell_type": "code",
      "metadata": {
        "id": "SBNmQMfi0TU4",
        "colab_type": "code",
        "colab": {}
      },
      "source": [
        "# data analysis packages\n",
        "import pandas as pd\n",
        "import numpy as np"
      ],
      "execution_count": 0,
      "outputs": []
    },
    {
      "cell_type": "code",
      "metadata": {
        "id": "CbqUrSYj0ng0",
        "colab_type": "code",
        "outputId": "7ea846e4-fbd6-4424-da11-ac8b116ab815",
        "colab": {
          "base_uri": "https://localhost:8080/",
          "height": 34
        }
      },
      "source": [
        "from google.colab import drive\n",
        "drive.mount('/content/drive/')\n",
        "\n",
        "import os\n",
        "os.chdir(\"/content/drive/My Drive/Colab Notebooks/resource_files\")"
      ],
      "execution_count": 60,
      "outputs": [
        {
          "output_type": "stream",
          "text": [
            "Drive already mounted at /content/drive/; to attempt to forcibly remount, call drive.mount(\"/content/drive/\", force_remount=True).\n"
          ],
          "name": "stdout"
        }
      ]
    },
    {
      "cell_type": "code",
      "metadata": {
        "id": "pjm9S6Sd0_JF",
        "colab_type": "code",
        "outputId": "fa0d7fd6-7c72-4999-b13b-ce099ea39612",
        "colab": {
          "base_uri": "https://localhost:8080/",
          "height": 34
        }
      },
      "source": [
        "#07_30_19_14_04_03_cpu_usage.csv\n",
        "#07_30_19_14_36_03_cpu_usage.csv\n",
        "#07_30_19_14_50_21_cpu_usage.csv\n",
        "#07_30_19_14_53_02_cpu_usage.csv\n",
        "\n",
        "full_path = './07_30_19_14_50_21_cpu_usage.csv'\n",
        "\n",
        "cpu_df = pd.read_csv(full_path)\n",
        "cpu_df.shape"
      ],
      "execution_count": 84,
      "outputs": [
        {
          "output_type": "execute_result",
          "data": {
            "text/plain": [
              "(34, 6)"
            ]
          },
          "metadata": {
            "tags": []
          },
          "execution_count": 84
        }
      ]
    },
    {
      "cell_type": "code",
      "metadata": {
        "id": "n1f_faUrDSgP",
        "colab_type": "code",
        "colab": {
          "base_uri": "https://localhost:8080/",
          "height": 34
        },
        "outputId": "32189d65-e039-48f3-be1a-d2c8ce7af50e"
      },
      "source": [
        "#07_30_19_14_04_04_mem_usage.csv\n",
        "#07_30_19_14_36_05_mem_usage.csv\n",
        "#07_30_19_14_50_23_mem_usage.csv\n",
        "\n",
        "full_path = './07_30_19_14_50_23_mem_usage.csv'\n",
        "\n",
        "mem_df = pd.read_csv(full_path)\n",
        "mem_df.shape"
      ],
      "execution_count": 85,
      "outputs": [
        {
          "output_type": "execute_result",
          "data": {
            "text/plain": [
              "(48, 3)"
            ]
          },
          "metadata": {
            "tags": []
          },
          "execution_count": 85
        }
      ]
    },
    {
      "cell_type": "code",
      "metadata": {
        "id": "x6ObveLlG_Ec",
        "colab_type": "code",
        "colab": {
          "base_uri": "https://localhost:8080/",
          "height": 1000
        },
        "outputId": "93ef0050-231e-44ad-8733-d39a5beda6a6"
      },
      "source": [
        "cpu_df"
      ],
      "execution_count": 95,
      "outputs": [
        {
          "output_type": "execute_result",
          "data": {
            "text/html": [
              "<div>\n",
              "<style scoped>\n",
              "    .dataframe tbody tr th:only-of-type {\n",
              "        vertical-align: middle;\n",
              "    }\n",
              "\n",
              "    .dataframe tbody tr th {\n",
              "        vertical-align: top;\n",
              "    }\n",
              "\n",
              "    .dataframe thead th {\n",
              "        text-align: right;\n",
              "    }\n",
              "</style>\n",
              "<table border=\"1\" class=\"dataframe\">\n",
              "  <thead>\n",
              "    <tr style=\"text-align: right;\">\n",
              "      <th></th>\n",
              "      <th>total_cpu</th>\n",
              "      <th>cpu0</th>\n",
              "      <th>cpu1</th>\n",
              "      <th>cpu2</th>\n",
              "      <th>cpu3</th>\n",
              "      <th>time</th>\n",
              "    </tr>\n",
              "  </thead>\n",
              "  <tbody>\n",
              "    <tr>\n",
              "      <th>0</th>\n",
              "      <td>42.8571</td>\n",
              "      <td>0.0000</td>\n",
              "      <td>66.6667</td>\n",
              "      <td>0.0000</td>\n",
              "      <td>33.3333</td>\n",
              "      <td>1</td>\n",
              "    </tr>\n",
              "    <tr>\n",
              "      <th>1</th>\n",
              "      <td>33.3333</td>\n",
              "      <td>0.0000</td>\n",
              "      <td>100.0000</td>\n",
              "      <td>0.0000</td>\n",
              "      <td>NaN</td>\n",
              "      <td>3</td>\n",
              "    </tr>\n",
              "    <tr>\n",
              "      <th>2</th>\n",
              "      <td>37.5000</td>\n",
              "      <td>50.0000</td>\n",
              "      <td>50.0000</td>\n",
              "      <td>50.0000</td>\n",
              "      <td>0.0000</td>\n",
              "      <td>4</td>\n",
              "    </tr>\n",
              "    <tr>\n",
              "      <th>3</th>\n",
              "      <td>28.5714</td>\n",
              "      <td>66.6667</td>\n",
              "      <td>0.0000</td>\n",
              "      <td>0.0000</td>\n",
              "      <td>0.0000</td>\n",
              "      <td>6</td>\n",
              "    </tr>\n",
              "    <tr>\n",
              "      <th>4</th>\n",
              "      <td>37.5000</td>\n",
              "      <td>66.6667</td>\n",
              "      <td>0.0000</td>\n",
              "      <td>33.3333</td>\n",
              "      <td>0.0000</td>\n",
              "      <td>7</td>\n",
              "    </tr>\n",
              "    <tr>\n",
              "      <th>5</th>\n",
              "      <td>66.6667</td>\n",
              "      <td>100.0000</td>\n",
              "      <td>100.0000</td>\n",
              "      <td>0.0000</td>\n",
              "      <td>0.0000</td>\n",
              "      <td>9</td>\n",
              "    </tr>\n",
              "    <tr>\n",
              "      <th>6</th>\n",
              "      <td>50.0000</td>\n",
              "      <td>0.0000</td>\n",
              "      <td>0.0000</td>\n",
              "      <td>100.0000</td>\n",
              "      <td>50.0000</td>\n",
              "      <td>10</td>\n",
              "    </tr>\n",
              "    <tr>\n",
              "      <th>7</th>\n",
              "      <td>60.0000</td>\n",
              "      <td>100.0000</td>\n",
              "      <td>0.0000</td>\n",
              "      <td>100.0000</td>\n",
              "      <td>50.0000</td>\n",
              "      <td>11</td>\n",
              "    </tr>\n",
              "    <tr>\n",
              "      <th>8</th>\n",
              "      <td>75.0000</td>\n",
              "      <td>100.0000</td>\n",
              "      <td>50.0000</td>\n",
              "      <td>0.0000</td>\n",
              "      <td>100.0000</td>\n",
              "      <td>13</td>\n",
              "    </tr>\n",
              "    <tr>\n",
              "      <th>9</th>\n",
              "      <td>44.4444</td>\n",
              "      <td>50.0000</td>\n",
              "      <td>50.0000</td>\n",
              "      <td>50.0000</td>\n",
              "      <td>33.3333</td>\n",
              "      <td>14</td>\n",
              "    </tr>\n",
              "    <tr>\n",
              "      <th>10</th>\n",
              "      <td>37.5000</td>\n",
              "      <td>100.0000</td>\n",
              "      <td>50.0000</td>\n",
              "      <td>0.0000</td>\n",
              "      <td>0.0000</td>\n",
              "      <td>16</td>\n",
              "    </tr>\n",
              "    <tr>\n",
              "      <th>11</th>\n",
              "      <td>50.0000</td>\n",
              "      <td>33.3333</td>\n",
              "      <td>33.3333</td>\n",
              "      <td>66.6667</td>\n",
              "      <td>50.0000</td>\n",
              "      <td>17</td>\n",
              "    </tr>\n",
              "    <tr>\n",
              "      <th>12</th>\n",
              "      <td>42.8571</td>\n",
              "      <td>50.0000</td>\n",
              "      <td>50.0000</td>\n",
              "      <td>0.0000</td>\n",
              "      <td>50.0000</td>\n",
              "      <td>19</td>\n",
              "    </tr>\n",
              "    <tr>\n",
              "      <th>13</th>\n",
              "      <td>28.5714</td>\n",
              "      <td>50.0000</td>\n",
              "      <td>0.0000</td>\n",
              "      <td>0.0000</td>\n",
              "      <td>50.0000</td>\n",
              "      <td>20</td>\n",
              "    </tr>\n",
              "    <tr>\n",
              "      <th>14</th>\n",
              "      <td>25.0000</td>\n",
              "      <td>0.0000</td>\n",
              "      <td>100.0000</td>\n",
              "      <td>0.0000</td>\n",
              "      <td>0.0000</td>\n",
              "      <td>21</td>\n",
              "    </tr>\n",
              "    <tr>\n",
              "      <th>15</th>\n",
              "      <td>28.5714</td>\n",
              "      <td>0.0000</td>\n",
              "      <td>0.0000</td>\n",
              "      <td>50.0000</td>\n",
              "      <td>50.0000</td>\n",
              "      <td>23</td>\n",
              "    </tr>\n",
              "    <tr>\n",
              "      <th>16</th>\n",
              "      <td>28.5714</td>\n",
              "      <td>0.0000</td>\n",
              "      <td>0.0000</td>\n",
              "      <td>0.0000</td>\n",
              "      <td>66.6667</td>\n",
              "      <td>24</td>\n",
              "    </tr>\n",
              "    <tr>\n",
              "      <th>17</th>\n",
              "      <td>33.3333</td>\n",
              "      <td>0.0000</td>\n",
              "      <td>0.0000</td>\n",
              "      <td>0.0000</td>\n",
              "      <td>66.6667</td>\n",
              "      <td>26</td>\n",
              "    </tr>\n",
              "    <tr>\n",
              "      <th>18</th>\n",
              "      <td>37.5000</td>\n",
              "      <td>0.0000</td>\n",
              "      <td>0.0000</td>\n",
              "      <td>33.3333</td>\n",
              "      <td>66.6667</td>\n",
              "      <td>28</td>\n",
              "    </tr>\n",
              "    <tr>\n",
              "      <th>19</th>\n",
              "      <td>33.3333</td>\n",
              "      <td>NaN</td>\n",
              "      <td>0.0000</td>\n",
              "      <td>50.0000</td>\n",
              "      <td>33.3333</td>\n",
              "      <td>29</td>\n",
              "    </tr>\n",
              "    <tr>\n",
              "      <th>20</th>\n",
              "      <td>33.3333</td>\n",
              "      <td>33.3333</td>\n",
              "      <td>0.0000</td>\n",
              "      <td>50.0000</td>\n",
              "      <td>0.0000</td>\n",
              "      <td>31</td>\n",
              "    </tr>\n",
              "    <tr>\n",
              "      <th>21</th>\n",
              "      <td>37.5000</td>\n",
              "      <td>50.0000</td>\n",
              "      <td>0.0000</td>\n",
              "      <td>50.0000</td>\n",
              "      <td>33.3333</td>\n",
              "      <td>32</td>\n",
              "    </tr>\n",
              "    <tr>\n",
              "      <th>22</th>\n",
              "      <td>37.5000</td>\n",
              "      <td>50.0000</td>\n",
              "      <td>0.0000</td>\n",
              "      <td>50.0000</td>\n",
              "      <td>50.0000</td>\n",
              "      <td>34</td>\n",
              "    </tr>\n",
              "    <tr>\n",
              "      <th>23</th>\n",
              "      <td>37.5000</td>\n",
              "      <td>50.0000</td>\n",
              "      <td>50.0000</td>\n",
              "      <td>0.0000</td>\n",
              "      <td>50.0000</td>\n",
              "      <td>35</td>\n",
              "    </tr>\n",
              "    <tr>\n",
              "      <th>24</th>\n",
              "      <td>28.5714</td>\n",
              "      <td>0.0000</td>\n",
              "      <td>50.0000</td>\n",
              "      <td>0.0000</td>\n",
              "      <td>0.0000</td>\n",
              "      <td>37</td>\n",
              "    </tr>\n",
              "    <tr>\n",
              "      <th>25</th>\n",
              "      <td>28.5714</td>\n",
              "      <td>0.0000</td>\n",
              "      <td>66.6667</td>\n",
              "      <td>0.0000</td>\n",
              "      <td>0.0000</td>\n",
              "      <td>38</td>\n",
              "    </tr>\n",
              "    <tr>\n",
              "      <th>26</th>\n",
              "      <td>55.5556</td>\n",
              "      <td>100.0000</td>\n",
              "      <td>100.0000</td>\n",
              "      <td>50.0000</td>\n",
              "      <td>33.3333</td>\n",
              "      <td>40</td>\n",
              "    </tr>\n",
              "    <tr>\n",
              "      <th>27</th>\n",
              "      <td>28.5714</td>\n",
              "      <td>0.0000</td>\n",
              "      <td>0.0000</td>\n",
              "      <td>50.0000</td>\n",
              "      <td>33.3333</td>\n",
              "      <td>41</td>\n",
              "    </tr>\n",
              "    <tr>\n",
              "      <th>28</th>\n",
              "      <td>40.0000</td>\n",
              "      <td>50.0000</td>\n",
              "      <td>0.0000</td>\n",
              "      <td>NaN</td>\n",
              "      <td>50.0000</td>\n",
              "      <td>43</td>\n",
              "    </tr>\n",
              "    <tr>\n",
              "      <th>29</th>\n",
              "      <td>75.0000</td>\n",
              "      <td>66.6667</td>\n",
              "      <td>66.6667</td>\n",
              "      <td>100.0000</td>\n",
              "      <td>50.0000</td>\n",
              "      <td>44</td>\n",
              "    </tr>\n",
              "    <tr>\n",
              "      <th>30</th>\n",
              "      <td>25.0000</td>\n",
              "      <td>0.0000</td>\n",
              "      <td>NaN</td>\n",
              "      <td>100.0000</td>\n",
              "      <td>0.0000</td>\n",
              "      <td>45</td>\n",
              "    </tr>\n",
              "    <tr>\n",
              "      <th>31</th>\n",
              "      <td>62.5000</td>\n",
              "      <td>66.6667</td>\n",
              "      <td>50.0000</td>\n",
              "      <td>0.0000</td>\n",
              "      <td>100.0000</td>\n",
              "      <td>47</td>\n",
              "    </tr>\n",
              "    <tr>\n",
              "      <th>32</th>\n",
              "      <td>37.5000</td>\n",
              "      <td>0.0000</td>\n",
              "      <td>50.0000</td>\n",
              "      <td>50.0000</td>\n",
              "      <td>33.3333</td>\n",
              "      <td>48</td>\n",
              "    </tr>\n",
              "    <tr>\n",
              "      <th>33</th>\n",
              "      <td>37.5000</td>\n",
              "      <td>0.0000</td>\n",
              "      <td>50.0000</td>\n",
              "      <td>50.0000</td>\n",
              "      <td>50.0000</td>\n",
              "      <td>50</td>\n",
              "    </tr>\n",
              "  </tbody>\n",
              "</table>\n",
              "</div>"
            ],
            "text/plain": [
              "    total_cpu      cpu0      cpu1      cpu2      cpu3   time\n",
              "0     42.8571    0.0000   66.6667    0.0000   33.3333      1\n",
              "1     33.3333    0.0000  100.0000    0.0000       NaN      3\n",
              "2     37.5000   50.0000   50.0000   50.0000    0.0000      4\n",
              "3     28.5714   66.6667    0.0000    0.0000    0.0000      6\n",
              "4     37.5000   66.6667    0.0000   33.3333    0.0000      7\n",
              "5     66.6667  100.0000  100.0000    0.0000    0.0000      9\n",
              "6     50.0000    0.0000    0.0000  100.0000   50.0000     10\n",
              "7     60.0000  100.0000    0.0000  100.0000   50.0000     11\n",
              "8     75.0000  100.0000   50.0000    0.0000  100.0000     13\n",
              "9     44.4444   50.0000   50.0000   50.0000   33.3333     14\n",
              "10    37.5000  100.0000   50.0000    0.0000    0.0000     16\n",
              "11    50.0000   33.3333   33.3333   66.6667   50.0000     17\n",
              "12    42.8571   50.0000   50.0000    0.0000   50.0000     19\n",
              "13    28.5714   50.0000    0.0000    0.0000   50.0000     20\n",
              "14    25.0000    0.0000  100.0000    0.0000    0.0000     21\n",
              "15    28.5714    0.0000    0.0000   50.0000   50.0000     23\n",
              "16    28.5714    0.0000    0.0000    0.0000   66.6667     24\n",
              "17    33.3333    0.0000    0.0000    0.0000   66.6667     26\n",
              "18    37.5000    0.0000    0.0000   33.3333   66.6667     28\n",
              "19    33.3333       NaN    0.0000   50.0000   33.3333     29\n",
              "20    33.3333   33.3333    0.0000   50.0000    0.0000     31\n",
              "21    37.5000   50.0000    0.0000   50.0000   33.3333     32\n",
              "22    37.5000   50.0000    0.0000   50.0000   50.0000     34\n",
              "23    37.5000   50.0000   50.0000    0.0000   50.0000     35\n",
              "24    28.5714    0.0000   50.0000    0.0000    0.0000     37\n",
              "25    28.5714    0.0000   66.6667    0.0000    0.0000     38\n",
              "26    55.5556  100.0000  100.0000   50.0000   33.3333     40\n",
              "27    28.5714    0.0000    0.0000   50.0000   33.3333     41\n",
              "28    40.0000   50.0000    0.0000       NaN   50.0000     43\n",
              "29    75.0000   66.6667   66.6667  100.0000   50.0000     44\n",
              "30    25.0000    0.0000       NaN  100.0000    0.0000     45\n",
              "31    62.5000   66.6667   50.0000    0.0000  100.0000     47\n",
              "32    37.5000    0.0000   50.0000   50.0000   33.3333     48\n",
              "33    37.5000    0.0000   50.0000   50.0000   50.0000     50"
            ]
          },
          "metadata": {
            "tags": []
          },
          "execution_count": 95
        }
      ]
    },
    {
      "cell_type": "code",
      "metadata": {
        "id": "0kOD6yktGwr3",
        "colab_type": "code",
        "colab": {}
      },
      "source": [
        "total_cpu = cpu_df['total_cpu'].values\n",
        "time_cpu = cpu_df[' time'].values"
      ],
      "execution_count": 0,
      "outputs": []
    },
    {
      "cell_type": "code",
      "metadata": {
        "id": "WXB1SAfrQPmw",
        "colab_type": "code",
        "colab": {}
      },
      "source": [
        "total_mem = mem_df['mem_in_use%'].values\n",
        "time_mem = mem_df['time'].values"
      ],
      "execution_count": 0,
      "outputs": []
    },
    {
      "cell_type": "code",
      "metadata": {
        "id": "AHphzpJdO0zP",
        "colab_type": "code",
        "colab": {
          "base_uri": "https://localhost:8080/",
          "height": 283
        },
        "outputId": "0b535dfd-a95f-4c20-dc75-f912c72122e5"
      },
      "source": [
        "from matplotlib import pyplot as plt\n",
        "\n",
        "plt.plot(time_cpu, total_cpu)\n",
        "plt.plot(time_mem, total_mem, 'r')\n",
        "plt.axis([0, 46, 0, 100])\n",
        "plt.ylabel('resource usage (%)')\n",
        "plt.xlabel('time (s)')\n",
        "plt.show()"
      ],
      "execution_count": 96,
      "outputs": [
        {
          "output_type": "display_data",
          "data": {
            "image/png": "[encoded data removed]",
            "text/plain": [
              "<Figure size 432x288 with 1 Axes>"
            ]
          },
          "metadata": {
            "tags": []
          }
        }
      ]
    },
    {
      "cell_type": "code",
      "metadata": {
        "id": "uT5itDVaQTqu",
        "colab_type": "code",
        "colab": {
          "base_uri": "https://localhost:8080/",
          "height": 139
        },
        "outputId": "7d8a3e5d-76c7-4825-e8eb-d7d05c750c56"
      },
      "source": [
        "print(\"max cpu:\", total_cpu.max())\n",
        "print(\"min cpu:\", total_cpu.min())\n",
        "print(\"average cpu:\", total_cpu.mean(), \"\\n\")\n",
        "\n",
        "print(\"max mem:\", total_mem.max())\n",
        "print(\"min mem:\", total_mem.min())\n",
        "print(\"average mem:\", total_mem.mean())"
      ],
      "execution_count": 90,
      "outputs": [
        {
          "output_type": "stream",
          "text": [
            "max cpu: 75.0\n",
            "min cpu: 25.0\n",
            "average cpu: 40.7562911764706 \n",
            "\n",
            "max mem: 23.7417\n",
            "min mem: 15.6565\n",
            "average mem: 21.360841666666662\n"
          ],
          "name": "stdout"
        }
      ]
    }
  ]
}