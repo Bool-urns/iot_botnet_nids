{
  "nbformat": 4,
  "nbformat_minor": 0,
  "metadata": {
    "colab": {
      "name": "cap_extract_evaluation.ipynb",
      "version": "0.3.2",
      "provenance": []
    },
    "kernelspec": {
      "name": "python3",
      "display_name": "Python 3"
    }
  },
  "cells": [
    {
      "cell_type": "code",
      "metadata": {
        "id": "bMu6nuy9Fso_",
        "colab_type": "code",
        "colab": {}
      },
      "source": [
        "# data analysis packages\n",
        "import pandas as pd\n",
        "import numpy as np"
      ],
      "execution_count": 0,
      "outputs": []
    },
    {
      "cell_type": "code",
      "metadata": {
        "id": "NgBl6SREFyFK",
        "colab_type": "code",
        "colab": {
          "base_uri": "https://localhost:8080/",
          "height": 34
        },
        "outputId": "07f3778b-72ed-43fe-e46b-613646a297dd"
      },
      "source": [
        "from google.colab import drive\n",
        "drive.mount('/content/drive/')\n",
        "\n",
        "import os\n",
        "os.chdir(\"/content/drive/My Drive/Colab Notebooks/cap_extract_ru\")"
      ],
      "execution_count": 107,
      "outputs": [
        {
          "output_type": "stream",
          "text": [
            "Drive already mounted at /content/drive/; to attempt to forcibly remount, call drive.mount(\"/content/drive/\", force_remount=True).\n"
          ],
          "name": "stdout"
        }
      ]
    },
    {
      "cell_type": "code",
      "metadata": {
        "id": "Em_6BMsmF-sm",
        "colab_type": "code",
        "colab": {
          "base_uri": "https://localhost:8080/",
          "height": 34
        },
        "outputId": "321ac51a-8150-4e7e-a593-fd9835c4b3fb"
      },
      "source": [
        "full_path = './tshark_py_bash/1_cpu_usage.csv'\n",
        "\n",
        "df = pd.read_csv(full_path)\n",
        "df.shape"
      ],
      "execution_count": 80,
      "outputs": [
        {
          "output_type": "execute_result",
          "data": {
            "text/plain": [
              "(29, 6)"
            ]
          },
          "metadata": {
            "tags": []
          },
          "execution_count": 80
        }
      ]
    },
    {
      "cell_type": "code",
      "metadata": {
        "id": "b0-zx8ksGx6E",
        "colab_type": "code",
        "colab": {}
      },
      "source": [
        "total_cpu1 = df['total_cpu'].values\n",
        "time_cpu1 = df[' time'].values"
      ],
      "execution_count": 0,
      "outputs": []
    },
    {
      "cell_type": "code",
      "metadata": {
        "colab_type": "code",
        "outputId": "52cc9ad5-7671-46e8-dd3e-482666fba4b3",
        "id": "EYLw7_lrJsTs",
        "colab": {
          "base_uri": "https://localhost:8080/",
          "height": 34
        }
      },
      "source": [
        "full_path = './tshark_py_bash/2_cpu_usage.csv'\n",
        "\n",
        "df = pd.read_csv(full_path)\n",
        "df.shape"
      ],
      "execution_count": 82,
      "outputs": [
        {
          "output_type": "execute_result",
          "data": {
            "text/plain": [
              "(30, 6)"
            ]
          },
          "metadata": {
            "tags": []
          },
          "execution_count": 82
        }
      ]
    },
    {
      "cell_type": "code",
      "metadata": {
        "id": "wp07k0acJ487",
        "colab_type": "code",
        "colab": {}
      },
      "source": [
        "total_cpu2 = df['total_cpu'].values\n",
        "time_cpu2 = df[' time'].values"
      ],
      "execution_count": 0,
      "outputs": []
    },
    {
      "cell_type": "code",
      "metadata": {
        "colab_type": "code",
        "outputId": "6a307966-43cf-4e37-b7c9-31b56041c940",
        "id": "S9ho02m0Jsmh",
        "colab": {
          "base_uri": "https://localhost:8080/",
          "height": 34
        }
      },
      "source": [
        "full_path = './tshark_py_bash/3_cpu_usage.csv'\n",
        "\n",
        "df = pd.read_csv(full_path)\n",
        "df.shape"
      ],
      "execution_count": 84,
      "outputs": [
        {
          "output_type": "execute_result",
          "data": {
            "text/plain": [
              "(29, 6)"
            ]
          },
          "metadata": {
            "tags": []
          },
          "execution_count": 84
        }
      ]
    },
    {
      "cell_type": "code",
      "metadata": {
        "colab_type": "code",
        "id": "d2ki80GKJs8Q",
        "colab": {}
      },
      "source": [
        "total_cpu3 = df['total_cpu'].values\n",
        "time_cpu3 = df[' time'].values"
      ],
      "execution_count": 0,
      "outputs": []
    },
    {
      "cell_type": "code",
      "metadata": {
        "colab_type": "code",
        "outputId": "0e3927b6-dc1f-4c41-cc57-ee42677f929f",
        "id": "mXS-axmjJsxy",
        "colab": {
          "base_uri": "https://localhost:8080/",
          "height": 34
        }
      },
      "source": [
        "full_path = './tshark_py_bash/4_cpu_usage.csv'\n",
        "\n",
        "df = pd.read_csv(full_path)\n",
        "df.shape"
      ],
      "execution_count": 86,
      "outputs": [
        {
          "output_type": "execute_result",
          "data": {
            "text/plain": [
              "(29, 6)"
            ]
          },
          "metadata": {
            "tags": []
          },
          "execution_count": 86
        }
      ]
    },
    {
      "cell_type": "code",
      "metadata": {
        "colab_type": "code",
        "id": "rp4ZCmBHJsx7",
        "colab": {}
      },
      "source": [
        "total_cpu4 = df['total_cpu'].values\n",
        "time_cpu4 = df[' time'].values"
      ],
      "execution_count": 0,
      "outputs": []
    },
    {
      "cell_type": "code",
      "metadata": {
        "colab_type": "code",
        "outputId": "788322ec-7eac-462a-e832-f9e2cff1093e",
        "id": "p6OiuBhZJs8K",
        "colab": {
          "base_uri": "https://localhost:8080/",
          "height": 34
        }
      },
      "source": [
        "full_path = './tshark_py_bash/5_cpu_usage.csv'\n",
        "\n",
        "df = pd.read_csv(full_path)\n",
        "df.shape"
      ],
      "execution_count": 88,
      "outputs": [
        {
          "output_type": "execute_result",
          "data": {
            "text/plain": [
              "(29, 6)"
            ]
          },
          "metadata": {
            "tags": []
          },
          "execution_count": 88
        }
      ]
    },
    {
      "cell_type": "code",
      "metadata": {
        "colab_type": "code",
        "id": "eh66QlZiJsUJ",
        "colab": {}
      },
      "source": [
        "total_cpu5 = df['total_cpu'].values\n",
        "time_cpu5 = df[' time'].values"
      ],
      "execution_count": 0,
      "outputs": []
    },
    {
      "cell_type": "code",
      "metadata": {
        "id": "XmveeBx3JWbq",
        "colab_type": "code",
        "outputId": "f5d1082c-a962-4f1d-b5c3-64a884f0c263",
        "colab": {
          "base_uri": "https://localhost:8080/",
          "height": 283
        }
      },
      "source": [
        "from matplotlib import pyplot as plt\n",
        "\n",
        "plt.plot(time_cpu1, total_cpu1)\n",
        "plt.plot(time_cpu2, total_cpu2)\n",
        "plt.plot(time_cpu3, total_cpu3)\n",
        "plt.plot(time_cpu4, total_cpu4)\n",
        "plt.plot(time_cpu5, total_cpu5)\n",
        "\n",
        "plt.ylabel('cpu usage (%)')\n",
        "plt.xlabel('time (s)')\n",
        "plt.show()"
      ],
      "execution_count": 90,
      "outputs": [
        {
          "output_type": "display_data",
          "data": {
            "image/png": "[encoded data removed]",
            "text/plain": [
              "<Figure size 432x288 with 1 Axes>"
            ]
          },
          "metadata": {
            "tags": []
          }
        }
      ]
    },
    {
      "cell_type": "code",
      "metadata": {
        "id": "Ye-CE1yaL5k2",
        "colab_type": "code",
        "outputId": "2cdef0cb-b202-4ede-8eb8-c59803814b2a",
        "colab": {
          "base_uri": "https://localhost:8080/",
          "height": 34
        }
      },
      "source": [
        "means = np.array([\n",
        "total_cpu1.mean(),\n",
        "total_cpu2.mean(),\n",
        "total_cpu3.mean(),\n",
        "total_cpu4.mean(),\n",
        "total_cpu5.mean()])\n",
        "means.mean()"
      ],
      "execution_count": 91,
      "outputs": [
        {
          "output_type": "execute_result",
          "data": {
            "text/plain": [
              "40.139470344827586"
            ]
          },
          "metadata": {
            "tags": []
          },
          "execution_count": 91
        }
      ]
    },
    {
      "cell_type": "markdown",
      "metadata": {
        "id": "SnlPT_vSOf2t",
        "colab_type": "text"
      },
      "source": [
        "## Memory Utilisation"
      ]
    },
    {
      "cell_type": "code",
      "metadata": {
        "colab_type": "code",
        "outputId": "0a94c3b7-777f-455e-9ce0-d034e8d989d8",
        "id": "iJeUUoR-Ojcd",
        "colab": {
          "base_uri": "https://localhost:8080/",
          "height": 34
        }
      },
      "source": [
        "full_path = './tshark_py_bash/1_mem_usage.csv'\n",
        "\n",
        "df = pd.read_csv(full_path)\n",
        "df.shape"
      ],
      "execution_count": 92,
      "outputs": [
        {
          "output_type": "execute_result",
          "data": {
            "text/plain": [
              "(41, 3)"
            ]
          },
          "metadata": {
            "tags": []
          },
          "execution_count": 92
        }
      ]
    },
    {
      "cell_type": "code",
      "metadata": {
        "colab_type": "code",
        "id": "-yXK6l1uOjc3",
        "colab": {}
      },
      "source": [
        "total_mem1 = df['mem_used%'].values\n",
        "time_mem1 = df['time'].values"
      ],
      "execution_count": 0,
      "outputs": []
    },
    {
      "cell_type": "code",
      "metadata": {
        "colab_type": "code",
        "outputId": "732c4eaf-7691-473d-b89d-ab9caae99973",
        "id": "dKnjMyWkOjdC",
        "colab": {
          "base_uri": "https://localhost:8080/",
          "height": 34
        }
      },
      "source": [
        "full_path = './tshark_py_bash/2_mem_usage.csv'\n",
        "\n",
        "df = pd.read_csv(full_path)\n",
        "df.shape"
      ],
      "execution_count": 94,
      "outputs": [
        {
          "output_type": "execute_result",
          "data": {
            "text/plain": [
              "(41, 3)"
            ]
          },
          "metadata": {
            "tags": []
          },
          "execution_count": 94
        }
      ]
    },
    {
      "cell_type": "code",
      "metadata": {
        "colab_type": "code",
        "id": "SSRVGMyHOjdK",
        "colab": {}
      },
      "source": [
        "total_mem2 = df['mem_used%'].values\n",
        "time_mem2 = df['time'].values"
      ],
      "execution_count": 0,
      "outputs": []
    },
    {
      "cell_type": "code",
      "metadata": {
        "colab_type": "code",
        "outputId": "06093a00-a8a4-493f-8d23-1908ead29266",
        "id": "-0TNADMMOjdQ",
        "colab": {
          "base_uri": "https://localhost:8080/",
          "height": 34
        }
      },
      "source": [
        "full_path = './tshark_py_bash/3_mem_usage.csv'\n",
        "\n",
        "df = pd.read_csv(full_path)\n",
        "df.shape"
      ],
      "execution_count": 96,
      "outputs": [
        {
          "output_type": "execute_result",
          "data": {
            "text/plain": [
              "(41, 3)"
            ]
          },
          "metadata": {
            "tags": []
          },
          "execution_count": 96
        }
      ]
    },
    {
      "cell_type": "code",
      "metadata": {
        "colab_type": "code",
        "id": "MwvhLtzcOjdW",
        "colab": {}
      },
      "source": [
        "total_mem3 = df['mem_used%'].values\n",
        "time_mem3 = df['time'].values"
      ],
      "execution_count": 0,
      "outputs": []
    },
    {
      "cell_type": "code",
      "metadata": {
        "colab_type": "code",
        "outputId": "09f3426f-40bf-4d82-bd42-9881c2dba0b7",
        "id": "kI7NwU_UOjdd",
        "colab": {
          "base_uri": "https://localhost:8080/",
          "height": 34
        }
      },
      "source": [
        "full_path = './tshark_py_bash/4_mem_usage.csv'\n",
        "\n",
        "df = pd.read_csv(full_path)\n",
        "df.shape"
      ],
      "execution_count": 98,
      "outputs": [
        {
          "output_type": "execute_result",
          "data": {
            "text/plain": [
              "(42, 3)"
            ]
          },
          "metadata": {
            "tags": []
          },
          "execution_count": 98
        }
      ]
    },
    {
      "cell_type": "code",
      "metadata": {
        "colab_type": "code",
        "id": "n7rALu7zOjdj",
        "colab": {}
      },
      "source": [
        "total_mem4 = df['mem_used%'].values\n",
        "time_mem4 = df['time'].values"
      ],
      "execution_count": 0,
      "outputs": []
    },
    {
      "cell_type": "code",
      "metadata": {
        "colab_type": "code",
        "outputId": "5ec7c72d-2754-41fe-d9c0-21e10546a384",
        "id": "wtoikVxwOjdn",
        "colab": {
          "base_uri": "https://localhost:8080/",
          "height": 34
        }
      },
      "source": [
        "full_path = './tshark_py_bash/5_mem_usage.csv'\n",
        "\n",
        "df = pd.read_csv(full_path)\n",
        "df.shape"
      ],
      "execution_count": 100,
      "outputs": [
        {
          "output_type": "execute_result",
          "data": {
            "text/plain": [
              "(41, 3)"
            ]
          },
          "metadata": {
            "tags": []
          },
          "execution_count": 100
        }
      ]
    },
    {
      "cell_type": "code",
      "metadata": {
        "colab_type": "code",
        "id": "Idr8aV9NOjdu",
        "colab": {}
      },
      "source": [
        "total_mem5 = df['mem_used%'].values\n",
        "time_mem5 = df['time'].values"
      ],
      "execution_count": 0,
      "outputs": []
    },
    {
      "cell_type": "code",
      "metadata": {
        "colab_type": "code",
        "outputId": "cb853858-9f25-487f-eded-37c37d08bfd9",
        "id": "6sWSNE1aOjd0",
        "colab": {
          "base_uri": "https://localhost:8080/",
          "height": 283
        }
      },
      "source": [
        "from matplotlib import pyplot as plt\n",
        "\n",
        "plt.plot(time_mem1, total_mem1)\n",
        "plt.plot(time_mem2, total_mem2)\n",
        "plt.plot(time_mem3, total_mem3)\n",
        "plt.plot(time_mem4, total_mem4)\n",
        "plt.plot(time_mem5, total_mem5)\n",
        "\n",
        "plt.ylabel('Memory usage (%)')\n",
        "plt.xlabel('time (s)')\n",
        "plt.show()"
      ],
      "execution_count": 102,
      "outputs": [
        {
          "output_type": "display_data",
          "data": {
            "image/png": "[encoded data removed]",
            "text/plain": [
              "<Figure size 432x288 with 1 Axes>"
            ]
          },
          "metadata": {
            "tags": []
          }
        }
      ]
    },
    {
      "cell_type": "code",
      "metadata": {
        "colab_type": "code",
        "outputId": "2d7cf821-e07a-4cb7-a059-e6fb3f7a17ba",
        "id": "0J1RT4m-Ojd-",
        "colab": {
          "base_uri": "https://localhost:8080/",
          "height": 34
        }
      },
      "source": [
        "means = np.array([\n",
        "total_mem1.mean(),\n",
        "total_mem2.mean(),\n",
        "total_mem3.mean(),\n",
        "total_mem4.mean(),\n",
        "total_mem5.mean()])\n",
        "means.mean()"
      ],
      "execution_count": 103,
      "outputs": [
        {
          "output_type": "execute_result",
          "data": {
            "text/plain": [
              "33.24685320557491"
            ]
          },
          "metadata": {
            "tags": []
          },
          "execution_count": 103
        }
      ]
    },
    {
      "cell_type": "code",
      "metadata": {
        "id": "ukDLdxVGP3ej",
        "colab_type": "code",
        "outputId": "e6af5328-46dc-4526-f383-07e955d4eaab",
        "colab": {
          "base_uri": "https://localhost:8080/",
          "height": 34
        }
      },
      "source": [
        "time_mean = np.array([\n",
        "time_mem1.max(),\n",
        "time_mem2.max(),\n",
        "time_mem3.max(),\n",
        "time_mem4.max(),\n",
        "time_mem5.max()])\n",
        "\n",
        "#to account for the two sleep commands in the measurmeent script\n",
        "time_mean.mean() - 6"
      ],
      "execution_count": 104,
      "outputs": [
        {
          "output_type": "execute_result",
          "data": {
            "text/plain": [
              "36.2"
            ]
          },
          "metadata": {
            "tags": []
          },
          "execution_count": 104
        }
      ]
    },
    {
      "cell_type": "markdown",
      "metadata": {
        "id": "zJQ9Chk4pT7t",
        "colab_type": "text"
      },
      "source": [
        "# Energy Consumption"
      ]
    },
    {
      "cell_type": "code",
      "metadata": {
        "colab_type": "code",
        "outputId": "1939f5e7-7e5f-40cd-ef9a-01bd93c88605",
        "id": "AppO4b2kpayw",
        "colab": {
          "base_uri": "https://localhost:8080/",
          "height": 34
        }
      },
      "source": [
        "full_path = './ene_tcpdump/energy_consumption_1.csv'\n",
        "\n",
        "df = pd.read_csv(full_path)\n",
        "df.shape"
      ],
      "execution_count": 123,
      "outputs": [
        {
          "output_type": "execute_result",
          "data": {
            "text/plain": [
              "(50, 7)"
            ]
          },
          "metadata": {
            "tags": []
          },
          "execution_count": 123
        }
      ]
    },
    {
      "cell_type": "code",
      "metadata": {
        "id": "PbT-fH_IqL6c",
        "colab_type": "code",
        "colab": {
          "base_uri": "https://localhost:8080/",
          "height": 206
        },
        "outputId": "6c46c99e-ea31-427b-9a72-dbb6cd845c98"
      },
      "source": [
        "df.head()"
      ],
      "execution_count": 124,
      "outputs": [
        {
          "output_type": "execute_result",
          "data": {
            "text/html": [
              "<div>\n",
              "<style scoped>\n",
              "    .dataframe tbody tr th:only-of-type {\n",
              "        vertical-align: middle;\n",
              "    }\n",
              "\n",
              "    .dataframe tbody tr th {\n",
              "        vertical-align: top;\n",
              "    }\n",
              "\n",
              "    .dataframe thead th {\n",
              "        text-align: right;\n",
              "    }\n",
              "</style>\n",
              "<table border=\"1\" class=\"dataframe\">\n",
              "  <thead>\n",
              "    <tr style=\"text-align: right;\">\n",
              "      <th></th>\n",
              "      <th>\\xf0Bus_Voltage(V)</th>\n",
              "      <th>Shunt_Voltage(mV)</th>\n",
              "      <th>Load_Voltage(V)</th>\n",
              "      <th>Current(mA)</th>\n",
              "      <th>Power(mW)</th>\n",
              "      <th>Time(s)</th>\n",
              "      <th>Energy()</th>\n",
              "    </tr>\n",
              "  </thead>\n",
              "  <tbody>\n",
              "    <tr>\n",
              "      <th>0</th>\n",
              "      <td>5.10</td>\n",
              "      <td>27.70</td>\n",
              "      <td>5.12</td>\n",
              "      <td>268.2</td>\n",
              "      <td>1376.0</td>\n",
              "      <td>0.0</td>\n",
              "      <td>0.0</td>\n",
              "    </tr>\n",
              "    <tr>\n",
              "      <th>1</th>\n",
              "      <td>5.10</td>\n",
              "      <td>26.49</td>\n",
              "      <td>5.13</td>\n",
              "      <td>271.2</td>\n",
              "      <td>1400.0</td>\n",
              "      <td>1.0</td>\n",
              "      <td>1400.0</td>\n",
              "    </tr>\n",
              "    <tr>\n",
              "      <th>2</th>\n",
              "      <td>5.09</td>\n",
              "      <td>27.43</td>\n",
              "      <td>5.12</td>\n",
              "      <td>275.9</td>\n",
              "      <td>1400.0</td>\n",
              "      <td>2.0</td>\n",
              "      <td>2800.0</td>\n",
              "    </tr>\n",
              "    <tr>\n",
              "      <th>3</th>\n",
              "      <td>5.09</td>\n",
              "      <td>27.38</td>\n",
              "      <td>5.12</td>\n",
              "      <td>276.2</td>\n",
              "      <td>1386.0</td>\n",
              "      <td>3.0</td>\n",
              "      <td>4158.0</td>\n",
              "    </tr>\n",
              "    <tr>\n",
              "      <th>4</th>\n",
              "      <td>5.07</td>\n",
              "      <td>32.22</td>\n",
              "      <td>5.10</td>\n",
              "      <td>318.6</td>\n",
              "      <td>1744.0</td>\n",
              "      <td>4.0</td>\n",
              "      <td>6976.0</td>\n",
              "    </tr>\n",
              "  </tbody>\n",
              "</table>\n",
              "</div>"
            ],
            "text/plain": [
              "   \\xf0Bus_Voltage(V)  Shunt_Voltage(mV)  ...  Time(s)  Energy()\n",
              "0                5.10              27.70  ...      0.0       0.0\n",
              "1                5.10              26.49  ...      1.0    1400.0\n",
              "2                5.09              27.43  ...      2.0    2800.0\n",
              "3                5.09              27.38  ...      3.0    4158.0\n",
              "4                5.07              32.22  ...      4.0    6976.0\n",
              "\n",
              "[5 rows x 7 columns]"
            ]
          },
          "metadata": {
            "tags": []
          },
          "execution_count": 124
        }
      ]
    },
    {
      "cell_type": "code",
      "metadata": {
        "colab_type": "code",
        "id": "LVVsW7CNpazR",
        "colab": {}
      },
      "source": [
        "ene1 = df['Energy()'].values\n",
        "time1 = df['Time(s)'].values"
      ],
      "execution_count": 0,
      "outputs": []
    },
    {
      "cell_type": "code",
      "metadata": {
        "colab_type": "code",
        "outputId": "2b4deef8-3d52-4ae5-8891-fa43170dd0ba",
        "id": "HfmQPcdMpazb",
        "colab": {
          "base_uri": "https://localhost:8080/",
          "height": 34
        }
      },
      "source": [
        "full_path = './ene_tcpdump/energy_consumption_2.csv'\n",
        "\n",
        "df = pd.read_csv(full_path)\n",
        "df.shape"
      ],
      "execution_count": 126,
      "outputs": [
        {
          "output_type": "execute_result",
          "data": {
            "text/plain": [
              "(53, 7)"
            ]
          },
          "metadata": {
            "tags": []
          },
          "execution_count": 126
        }
      ]
    },
    {
      "cell_type": "code",
      "metadata": {
        "colab_type": "code",
        "id": "EgpYVTT0pazj",
        "colab": {}
      },
      "source": [
        "ene2 = df['Energy()'].values\n",
        "time2 = df['Time(s)'].values"
      ],
      "execution_count": 0,
      "outputs": []
    },
    {
      "cell_type": "code",
      "metadata": {
        "colab_type": "code",
        "outputId": "c94e5dd5-9188-4930-cca4-ec8b74087b55",
        "id": "Xm0M0mgSpazp",
        "colab": {
          "base_uri": "https://localhost:8080/",
          "height": 34
        }
      },
      "source": [
        "full_path = './ene_tcpdump/energy_consumption_3.csv'\n",
        "\n",
        "df = pd.read_csv(full_path)\n",
        "df.shape"
      ],
      "execution_count": 128,
      "outputs": [
        {
          "output_type": "execute_result",
          "data": {
            "text/plain": [
              "(53, 7)"
            ]
          },
          "metadata": {
            "tags": []
          },
          "execution_count": 128
        }
      ]
    },
    {
      "cell_type": "code",
      "metadata": {
        "colab_type": "code",
        "id": "xQLZko5lpazu",
        "colab": {}
      },
      "source": [
        "ene3 = df['Energy()'].values\n",
        "time3 = df['Time(s)'].values"
      ],
      "execution_count": 0,
      "outputs": []
    },
    {
      "cell_type": "code",
      "metadata": {
        "colab_type": "code",
        "outputId": "02a00f5d-1ffe-465f-da5a-624b680dc61b",
        "id": "jxGpHcE0pa0M",
        "colab": {
          "base_uri": "https://localhost:8080/",
          "height": 283
        }
      },
      "source": [
        "from matplotlib import pyplot as plt\n",
        "\n",
        "plt.plot(time1, ene1)\n",
        "plt.plot(time2, ene2)\n",
        "plt.plot(time3, ene3)\n",
        "\n",
        "plt.ylabel('Energy Consumption ()')\n",
        "plt.xlabel('time (s)')\n",
        "plt.show()"
      ],
      "execution_count": 130,
      "outputs": [
        {
          "output_type": "display_data",
          "data": {
            "image/png": "[encoded data removed]",
            "text/plain": [
              "<Figure size 432x288 with 1 Axes>"
            ]
          },
          "metadata": {
            "tags": []
          }
        }
      ]
    },
    {
      "cell_type": "code",
      "metadata": {
        "colab_type": "code",
        "outputId": "8737d8aa-cba3-4885-f2f7-7fd59e198be3",
        "id": "MhU2lLptpa0W",
        "colab": {
          "base_uri": "https://localhost:8080/",
          "height": 34
        }
      },
      "source": [
        "means = np.array([\n",
        "ene1.mean(),\n",
        "ene2.mean(),\n",
        "ene3.mean()])\n",
        "means.mean()"
      ],
      "execution_count": 131,
      "outputs": [
        {
          "output_type": "execute_result",
          "data": {
            "text/plain": [
              "36908.49735849057"
            ]
          },
          "metadata": {
            "tags": []
          },
          "execution_count": 131
        }
      ]
    }
  ]
}